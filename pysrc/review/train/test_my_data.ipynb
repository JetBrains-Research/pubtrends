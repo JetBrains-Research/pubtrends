{
 "cells": [
  {
   "cell_type": "markdown",
   "metadata": {},
   "source": [
    "# This notebook loads and evaluates prepared dataset"
   ]
  },
  {
   "cell_type": "code",
   "execution_count": 2,
   "metadata": {},
   "outputs": [
    {
     "name": "stdout",
     "output_type": "stream",
     "text": [
      "Dataset folder /home/student/review/dataset\n"
     ]
    }
   ],
   "source": [
    "import os\n",
    "import pandas as pd\n",
    "import pysrc.review.config as cfg\n",
    "\n",
    "root = os.path.expanduser(cfg.dataset_path)\n",
    "print('Dataset folder', root)"
   ]
  },
  {
   "cell_type": "code",
   "execution_count": 4,
   "metadata": {},
   "outputs": [],
   "source": [
    "abstracts_df = pd.read_csv(os.path.join(root, \"abstracts.csv\"), sep='\\t')"
   ]
  },
  {
   "cell_type": "code",
   "execution_count": 5,
   "metadata": {},
   "outputs": [],
   "source": [
    "sents_df = pd.read_csv(os.path.join(root, \"sentences.csv\"), sep='\\t')"
   ]
  },
  {
   "cell_type": "code",
   "execution_count": 7,
   "metadata": {},
   "outputs": [
    {
     "data": {
      "image/png": "[encoded data removed]",
      "text/plain": [
       "<Figure size 432x288 with 1 Axes>"
      ]
     },
     "metadata": {
      "needs_background": "light"
     },
     "output_type": "display_data"
    }
   ],
   "source": [
    "from tqdm import tqdm\n",
    "import matplotlib.pyplot as plt\n",
    "from collections import Counter\n",
    "\n",
    "res = Counter(list(sents_df['pmid'].values))\n",
    "\n",
    "plt.hist(res.values(), bins=range(-1, 400))\n",
    "plt.title('Length of papers')\n",
    "plt.show()"
   ]
  },
  {
   "cell_type": "code",
   "execution_count": 8,
   "metadata": {},
   "outputs": [
    {
     "name": "stdout",
     "output_type": "stream",
     "text": [
      "18995172 1\n"
     ]
    }
   ],
   "source": [
    "from operator import itemgetter\n",
    "\n",
    "min_key, min_count = min(res.items(), key=itemgetter(1))\n",
    "print(min_key, min_count)"
   ]
  },
  {
   "cell_type": "code",
   "execution_count": 9,
   "metadata": {},
   "outputs": [
    {
     "name": "stdout",
     "output_type": "stream",
     "text": [
      "21994484 5095\n"
     ]
    }
   ],
   "source": [
    "max_key, max_count = max(res.items(), key=itemgetter(1))\n",
    "print(max_key, max_count)"
   ]
  },
  {
   "cell_type": "code",
   "execution_count": 10,
   "metadata": {},
   "outputs": [
    {
     "data": {
      "text/plain": [
       "array(['This special Symposium-in-Print issue of Bioorganic & Medicinal Chemistry Letters commemorates the 2008 Tetrahedron Young Investigator Award in Bioorganic & Medicinal Chemistry awarded to Benjamin F. Cravatt.'],\n",
       "      dtype=object)"
      ]
     },
     "execution_count": 10,
     "metadata": {},
     "output_type": "execute_result"
    }
   ],
   "source": [
    "sents_df[sents_df['pmid'] == 18995172]['sentence'].values"
   ]
  },
  {
   "cell_type": "code",
   "execution_count": 11,
   "metadata": {},
   "outputs": [
    {
     "data": {
      "text/plain": [
       "array(['Hypocrea/Trichoderma is a taxonomically difficult, hyperdiverse genus with an extraordinarily high number of species, similar to Fusarium sensu lato.',\n",
       "       'While in Fusarium the high species number is in part due to a heterogeneous assemblage of species based on the morphologically easily recognisable shape of macroconidia ( xref_bibr_R5 ), and Fusarium sensu stricto is more or less highly specialised to host plants ( xref_bibr_R57 ; xref_bibr_R46 ), the high diversity in Hypocrea/Trichoderma is a result of its hyperparasitic life style on other fungi. xref_bibr_R36 treated several aspects of the genus Hypocrea/Trichoderma, including the taxonomic history of the teleomorph genus Hypocrea and the anamorph genus Trichoderma, the development of the species concept, and important economic and social aspects.',\n",
       "       'He explained the strategy of species identification and recognition followed in the underlying project.',\n",
       "       'The project was designed to study the diversity of Hypocrea/Trichoderma starting from teleomorphs in Europe, because no such monograph was available for any continent including Europe, executed with a modern approach including multigene phylogeny.',\n",
       "       'A survey of 6 years resulted in about 620 specimens representing 75 species of Hypocrea.',\n",
       "       'For all species sequences of ITS, rpb2 and tef1 were obtained, except for the three species H. argillacea, H. splendens and H. strobilina, which could not be recollected despite intense searches. xref_bibr_R36 reported also on difficulties and reliability in ascospore isolation, and sketched the overall ecology of Hypocrea in Europe.',\n",
       "       'A phylogenetic strict consensus tree based on sequences of rpb2 and the tef1 exon of the genus comprising 135 species, showed all species detected in Europe including many from other continents or others that are only known as Trichoderma anamorphs.',\n",
       "       'He explained and defined the morphological traits used in the species descriptions and provided generalised descriptions of phenotypes of the Hypocrea teleomorph and the Trichoderma anamorph.',\n",
       "       'A diagram illustrated the variation of growth rates among the European species of Hypocrea/Trichoderma, excluding most of those known exclusively as anamorphs.',\n",
       "       'In the first part of this treatment xref_bibr_R36 keyed out and described the 19 green-spored species of Hypocrea detected in Europe in detail.',\n",
       "       'This second part serves to describe all 56 hyaline-spored species of Hypocrea currently recognised in Europe.',\n",
       "       'All materials and methods are as described by xref_bibr_R36 . xref_table_T1 lists cultures and GenBank accession numbers of those species numbered as Hypocrea sp. 1, 2, etc. in xref_bibr_R36 .',\n",
       "       'The following methodological issues are emphasised: 1) Colour perception is strongly dependent on lighting conditions and the magnification level.',\n",
       "       'A factor with strong impact on colour reproduction is the characteristics of digital cameras, particularly the mode of white balance.',\n",
       "       'Some images in the colour plates therefore deviate from the natural situation, most notably under-representing yellow hues in images taken through the stereo-microscope. 2) The reaction to 3% KOH has been examined after rehydration of dry stromata overnight by vapour in a wet chamber; it is usually weak or absent in immature stromata, therefore mature stromata have to be used for examinations. 3) The detailed descriptions and illustrations of cultures are based on conditions standardised for growth experiments as defined in xref_bibr_R36 .',\n",
       "       'Deviating conditions including the use of older cultures may cause different results; this may apply in particular to colony development, times and organisation of conidiation; the latter is also affected by the placement and shape of the inoculation plug.',\n",
       "       'Some additional explanations: ‘holomorph’ given in specimen data means that both stromata and closely associated anamorph colonies are present in the specimen; ‘under strong magnification’ used in connection with stromata (surface, ostiolar dots, etc.) means observations at highest magnification levels in the stereo-microscope; the abbreviation ‘t.’ means ‘textura’.',\n",
       "       'Types of teleomorphs and anamorphs were not examined of those recently described species unequivocally identified by gene sequences.',\n",
       "       'As done in the first part of the monograph ( xref_bibr_R36 ), both combinations in Hypocrea and Trichoderma are given for all species, for the following reasons: For species described earlier I want to provide as complete taxonomic and nomenclatorial information as possible, and for new species I also establish names in Trichoderma for those who may need them and to avoid numerous new combinations in future when they may be possibly used as holomorphic names if the ICBN is altered accordingly.',\n",
       "       'Article 59 and the recommendation 59A.3 of the ICBN demand the use of Hypocrea alone for the holomorphs, i.e. the anamorphs should not be named separately.',\n",
       "       'There is, however, increased pressure to use the anamorphic generic name Trichoderma.',\n",
       "       'Editors of certain journals are even trying to force authors to use Trichoderma instead of Hypocrea for naming new holomorphs, because Trichoderma is the older generic name.',\n",
       "       'Such a concept has not reached a consensus among mycologists and is accordingly not implemented in Art. 59.',\n",
       "       'To the contrary, this concept, using the older name in disregard whether it denotes a teleo- or an anamorph genus, aims at the abolishment of Art. 59 of the Code.',\n",
       "       'This is an alarming development, because forcing authors in such a direction is a top-down call to violate consensus-driven procedures and rules, i.e. a call towards non-compliance with the Code.',\n",
       "       'Furthermore this constraint is unfair to authors, because it diminishes the availability of journals for systematic mycologists.',\n",
       "       'In my opinion the disregard of a recommendation is much less severe than violating teleomorph priority that is clearly defined in Art. 59 of the Code.',\n",
       "       'The 56 species of Hypocrea with hyaline ascospores occurring in Europe are described in five separate chapters, predominantly grouped according to their phylogenetic placements and subsidiarily to their stroma shape and size.',\n",
       "       'The detailed descriptions are meant as small databases rather than concise descriptions for those who may study the morphology of these fungi in future.',\n",
       "       'Species are epitypified where appropriate.',\n",
       "       'The chapters are as follows: Hypocrea/Trichoderma section Trichoderma and its European species treats the thirteen species H. atroviridis, H. junci, H. koningii, H. neorufa, H. neorufoides, H. ochroleuca, H. petersenii, H. rogersonii, H. rufa, H. stilbohypoxyli, H. subeffusa, H. valdunensis, and H. viridescens.The pachybasium core group comprises the four species H. alutacea, H. leucopus, H. nybergiana and H. seppoi forming upright, stipitate stromata, i.e. assignable to the former genus Podostroma, and the eight species H. atlantica, H. bavarica, H. minutispora, H. pachybasioides, H. pachypallida, H. parapilulifera, H. pilulifera, and H. placentula with pulvinate stromata, and H. luteffusa that forms effuse stromata.European species of Hypocrea section Hypocreanum and other species forming large effused to subpulvinate stromata, comprises the ten species H. alcalifuscescens, H. austriaca, H. citrina, H. decipiens, H. delicatula, H. parmastoi, H. phellinicola, H. protopulvinata, H. pulvinata, H. sulphurea.The Brevicompactum, Lutea and Psychrophila clades.',\n",
       "       'This chapter treats the three species H. auranteffusa, H. margaretensis and H. rodmanii of the Brevicompactum clade, the two species H. lutea and H. luteocrystallina of the Lutea clade, and the four species H. calamagrostidis, H. crystalligena, H. psychrophila and H. rhododendri of the Psychrophila clade.Miscellaneous species: The eleven residual species H. albolutescens, H. argillacea, H. moravica, H. sambuci, H. schweinitzii, H. silvae-virgineae, H. splendens, H. strobilina, H. subalpina, H. tremelloides and H. voglmayrii are described in detail.',\n",
       "       'A list of dubious and excluded names concludes the work.',\n",
       "       'Hypocrea/Trichoderma section Trichoderma is the central phylogenetic clade of the genus, as it contains the type species H. rufa with its anamorph T. viride, the type species of Trichoderma.',\n",
       "       'Originally ( xref_bibr_R3 ) the section was established to define a group of Trichoderma anamorphs with repeatedly rebranching, narrow and flexuous conidiophores with main axes up to 6 μm wide, paired or verticillate branches, and lageniform to subulate phialides mostly in verticils of two or three.',\n",
       "       'This group contained the ‘T. viride aggregate’ of xref_bibr_R68 , T. atroviride, T. koningii, and T. aureoviride.',\n",
       "       'Conidiophore morphology can be misleading, thus also T. harzianum belonged to the group for some time, but was later removed to ‘section Pachybasium’, and now is considered a clade of its own.',\n",
       "       'Trichoderma aureoviride has conidiophores similar to those of the section, but its teleomorph is green-spored and phylogenetically it forms a sister group to the Chlorospora clade (see xref_fig_F1 ).',\n",
       "       'No species of this section has green ascospores, while all have green or yellow conidia.',\n",
       "       'Conidiophores of the section Trichoderma vary a great deal in morphology, making a definition of typical Trichoderma conidiophores difficult. xref_bibr_R85 presented the ‘T. koningii aggregate species group’ characterised by conidiophores, which can be subsumed as regularly tree-like. xref_bibr_R39 in describing some species around H. rufa, recognised three types of conidiophores in this subgroup.',\n",
       "       'In addition, even some species with typical pachybasium-like conidiophores, viz.',\n",
       "       'T. hamatum, T. pubescens, T. strigosum and others ( xref_bibr_R10 ; xref_bibr_R80 ), are now placed in this section by phylogenetic analyses.',\n",
       "       'Inconveniently, the type of the former section Pachybasium, T. hamatum, belongs to this section, rendering the name ‘section Pachybasium’ obsolete.',\n",
       "       'As in other clades of Trichoderma, phialides generally tend to be more plump with increasing complexity of the conidiation system, i.e. with a lower l/w ratio in pustules than in solitary, effuse conidiophores.',\n",
       "       'However, this is not the case in many species of this section, particularly in H. rufa and H. viridescens.',\n",
       "       'The section conceived here is monophyletic; it is phylogenetically complex and a morphological species delimitation of anamorphs is difficult.',\n",
       "       'Teleomorph morphology is essentially homogeneous.',\n",
       "       'All species are characterised by more or less hairy or velutinous and often subeffuse stromata when young, of mostly small or moderate sizes with few exceptions, and generally inconspicuous ostiolar dots.',\n",
       "       'More distinct or projecting dots may sometimes occur as a consequence of repeated drying and rehydration.',\n",
       "       'It is generally easy with a good hand lens to determine whether stromata belong to the section or not but, due to a high degree of morphological conservation of the teleomorphs, the possibilities of morphological species delimitation are limited.',\n",
       "       'Some teleomorphs, e.g. those of H. neorufa and H. neorufoides, are indistinguishable.',\n",
       "       'In addition, not all traits that may be useful for identification are always present in a colony of stromata.',\n",
       "       'Based on the colour of stromata, two series of species can be recognised: those with orange to orange-brown stromata, largely coinciding with the so-called ‘T. koningii aggregate species group’ (see xref_bibr_R85 ) and those with reddish brown to dark brown stromata mostly with the ‘viride or viridescens clades’ (see xref_bibr_R39 ).',\n",
       "       'However, several species form separate subsectional clades.',\n",
       "       'Due to extensive and thorough investigations by Gary Samuels, many new species have been discovered and described in recent years, but the section Trichoderma has not yet been monographed as a whole.',\n",
       "       'Even from the papers cited above it is obvious that species delimitation on a world-wide scale based on teleomorphs is impossible.',\n",
       "       'Considering species like T. martiale ( xref_bibr_R34 ), which has essentially the T. viride morphology, anamorphs also will eventually not provide sufficient variation for species delimitation and identification.',\n",
       "       'Ecological and biogeographic traits are therefore increasingly gaining importance in the species concept in addition to phylogeny.',\n",
       "       'In Europe currently the following 13 species including four new ones of the section Trichoderma forming teleomorphs are recognised: H. atroviridis, H. junci, H. koningii, H. neorufa, H. neorufoides, H. ochroleuca, H. petersenii, H. rogersonii, H. rufa, H. stilbohypoxyli, H. subeffusa, H. valdunensis, and H. viridescens.',\n",
       "       'They are described below.',\n",
       "       'Species of Hypocrea/Trichoderma section Trichoderma known so far to occur in Europe exclusively as anamorphs, such as T. asperelloides, T. asperellum ( xref_bibr_R87 ), T. gamsii ( xref_bibr_R39 ), and T. koningiopsis ( xref_bibr_R85 ) are beyond the scope of this work.',\n",
       "       'The notes after each species description help to distinguish some species.',\n",
       "       'Most species of this section require culturing.',\n",
       "       'Microscopic examination of conidia of anamorphs that are associated with stromata in nature may sometimes be useful for identification, e.g. globose and coarsely warted conidia in T. viride, subglobose to ellipsoidal and verruculose in T. viridescens, both often forming yellow mycelium, but most species have smooth conidia, i.e. resembling those of other sections.',\n",
       "       'The safest way in species identification within Hypocrea/Trichoderma section Trichoderma is sequencing of ITS and tef1 introns.',\n",
       "       'Hypocrea atroviridis Dodd, Lieckf.',\n",
       "       '& Samuels, Mycologia 95: 36 (2003). xref_fig_F2 Anamorph: Trichoderma atroviride P.',\n",
       "       'Karst., Finl.',\n",
       "       'Mögelsv. p. 21 (1892). xref_fig_F3 Stromata when fresh 0.7–2.5 mm diam, 0.3–1 mm thick, solitary to aggregated in small groups, pulvinate, smooth; ostiolar dots invisible or indistinct; perithecia entirely immersed.',\n",
       "       'Colour typically orange-red to brick-red, 6A6–7, 7A5–6, 8AB5–6.',\n",
       "       'Spore deposits white.',\n",
       "       'Stromata when dry (0.5–)0.7–1.6(–2.3)×(0.4–)0.6–1.3(–1.8) mm, 0.3–0.6(–0.9) mm thick (n=30); pulvinate to semiglobose, broadly (on bark or wood) or narrowly (on ostioles of a fungal host) attached; margin free.',\n",
       "       'Outline circular or oblong.',\n",
       "       'Surface smooth or tubercular, with yellow, rust or light brown hyphae when young.',\n",
       "       'Ostiolar dots (23–)30–46(–63) μm (n=30) diam, only visible after moistening the surface with water, hyaline, plane or convex.',\n",
       "       'Stromata white to ochre when young, brick-red or dark (reddish-)brown, 7EF6–8, 7–8CD7–8 when mature or old, with short rust hairs and sometimes a purple tone.',\n",
       "       'Stromata in 3% KOH after rehydration tubercular and darkening, without a conspicuous colour change.',\n",
       "       'Ostioles (67–)75–110(–117) μm long, plane or projecting to 15(–20) μm, (22–)25–40(–45) μm wide at the apex (n=15), cylindrical or conical, periphysate, with apical palisade of inconspicuous, hyaline, narrowly clavate cells.',\n",
       "       'Perithecia (135–)170–250(–265)×(130–)160–250(–285) μm (n=20), globose.',\n",
       "       'Peridium (12–)15–21(–25) μm thick at the base and sides (n=40).',\n",
       "       'Cortical layer (17–)20–30(–35) μm (n=30) thick, surrounding the entire stroma except the area of attachment, an orange-brown t. angularis of indistinct cells (3–)4–9(–12)×(2.5–)3–7(–11) μm (n=60) in face view and in vertical section, with inhomogeneous pigment distribution; cells more distinct in vertical section.',\n",
       "       'Hairs on mature stroma (7–)10–23(–26)×(2.0–)2.5–3.5(–4.0) μm (n=20), cylindrical, simple or sparsely branched, with narrowly rounded ends.',\n",
       "       'Subcortical tissue a t. intricata reaching to the base of the perithecia, of thin-walled hyphae (2.2–)3.3–5.5(–5.7) μm (n=20) wide, partly appearing as t. globulosa due to variable orientation of hyphae.',\n",
       "       'Subperithecial tissue a t. angularis of hyaline, partly brownish cells (5–)7–18(–23)×(4–)6–14(–20) μm (n=30).',\n",
       "       'Asci (74–)78–89(–94)×(4.8–)5.0–5.8(–6.2) μm, including a (5–)7–13(–16) μm long stipe (n=30).',\n",
       "       'Ascospores hyaline, verrucose, cells dimorphic, but often of similar shape, distal cell (3.4–)3.8–4.5(–5.3)×(3.3–)3.7–4.4(–4.6) μm, l/w 1.0–1.1(–1.2), (sub)globose, proximal cell (3.3–)4.0–5.4(–6.2)×(2.7–)3.0–3.7(–4.2) μm, l/w (1.0–)1.1–1.7(–2.3) (n=30), oblong, plump wedge-shaped or subglobose. optimal growth at 25°C on all media; hyphae dying after short and limited growth at 35°C.',\n",
       "       'On CMD after 72 h 26–29 mm at 15°C, 45–48 mm at 25°C, 38–42 mm at 30°C, <1 mm at 35°C; mycelium covering the plate after 5 days at 25°C.',\n",
       "       'Colony hyaline, thin; mycelium loose, reticulate, denser at the wavy, ill-defined margin; hyphae with little variability in width.',\n",
       "       'Aerial hyphae inconspicuous, becoming fertile.',\n",
       "       'No autolytic excretions, no coilings seen.',\n",
       "       'No pigment noted, odour coconut-like.',\n",
       "       'Chlamydospores noted after 1 days, after 11 days numerous, particularly close to conidiation tufts, (7–)8–10(–11)×7–9(–10) μm, l/w (0.9–)1.0–1.1(–1.3) (n=30), globose or ellipsoidal, mostly terminal, smooth.',\n",
       "       'Conidiation noted after 2 days, grey- to dark green, 26DE4–6, 26F5–8, after 3 days, in fluffy tufts or loose pustules 0.5–2(–4) mm diam with irregular or circular outline, arranged in several indistinctly separated, concentric zones, irregularly confluent to 7 mm.',\n",
       "       'Tufts arising on thick-walled, verrucose 6–19 μm wide stipes, branching asymmetrically into primary branches of similar width, rebranching mostly at right angles.',\n",
       "       'Conidiophores forming long main axes 2–4 μm wide, with long branches at lower levels and sparse, widely spaced, solitary or paired phialides, or short, 1-celled side branches bearing terminal whorls of 2–3 phialides in right angles or slightly inclined or curved upward.',\n",
       "       'Phialides borne on 2–3 μm wide cells; phialides (4–)6–10(–12)×(2.0–)2.3–3.0(–3.3) μm, l/w (1.5–)2.1–3.9(–5.4), (1.4–)1.6–2.2(–2.8) μm wide at the base (n=30), lageniform, less commonly ampulliform, straight or slightly curved upward; widest part mostly median.',\n",
       "       'Conidia formed in minute wet or dry heads <20 μm diam; conidia (2.8–)3.2–4.0(–4.7)×(2.8–)3.0–3.5(–3.8) μm, l/w 1.0–1.2(–1.3) (n=30), dark green (also in microscopic mounts), (sub)globose or oval, smooth, finely multiguttulate when young; scar indistinct.',\n",
       "       'At 15°C conidiation concentrated in large dark green tufts in distal areas of the colony; odour coconut-like; chlamydospores numerous.',\n",
       "       'At 30°C concentric zones of green conidiation tufts well separated, agar turning yellow, 2A3–4, 4A4–5, 4B5–6.',\n",
       "       'Odour pronounced coconut-like due to the formation of 6-pentyl-α-pyrone; chlamydospores numerous.'],\n",
       "      dtype=object)"
      ]
     },
     "execution_count": 11,
     "metadata": {},
     "output_type": "execute_result"
    }
   ],
   "source": [
    "sents_df[sents_df['pmid'] == 21994484]['sentence'].values[:100]"
   ]
  }
 ],
 "metadata": {
  "kernelspec": {
   "display_name": "Python 3",
   "language": "python",
   "name": "python3"
  },
  "language_info": {
   "codemirror_mode": {
    "name": "ipython",
    "version": 3
   },
   "file_extension": ".py",
   "mimetype": "text/x-python",
   "name": "python",
   "nbconvert_exporter": "python",
   "pygments_lexer": "ipython3",
   "version": "3.8.2"
  }
 },
 "nbformat": 4,
 "nbformat_minor": 4
}
