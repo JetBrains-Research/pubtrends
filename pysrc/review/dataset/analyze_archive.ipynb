{
 "cells": [
  {
   "cell_type": "markdown",
   "metadata": {},
   "source": [
    "# Analyze archive\n",
    "\n",
    "This notebook contains the code to analyse content of the PubMedCentral Author Manuscript Collection. \\\n",
    "See: https://www.ncbi.nlm.nih.gov/pmc/about/mscollection/\n",
    "\n",
    "Files can be downloaded here: https://ftp.ncbi.nlm.nih.gov/pub/pmc/manuscript/ \\\n",
    "**Please ensure** that files are downloaded into `pmc_dataset` folder to proceed."
   ]
  },
  {
   "cell_type": "code",
   "execution_count": 1,
   "metadata": {},
   "outputs": [],
   "source": [
    "dict_articles = {}\n",
    "\n",
    "with open(\"pmc_dataset/filelist.txt\", 'r') as f:\n",
    "    for line in f:\n",
    "        filename, pmcid, pmid, mid = line.split()\n",
    "        if filename == 'File':\n",
    "            continue\n",
    "        dict_articles[pmid] = filename"
   ]
  },
  {
   "cell_type": "code",
   "execution_count": 2,
   "metadata": {},
   "outputs": [
    {
     "data": {
      "text/plain": [
       "649546"
      ]
     },
     "execution_count": 2,
     "metadata": {},
     "output_type": "execute_result"
    }
   ],
   "source": [
    "len(dict_articles)"
   ]
  },
  {
   "cell_type": "code",
   "execution_count": 3,
   "metadata": {},
   "outputs": [
    {
     "data": {
      "text/plain": [
       "['PMC0012XXXXX/PMC1249490.xml',\n",
       " 'PMC0012XXXXX/PMC1249491.xml',\n",
       " 'PMC0012XXXXX/PMC1249508.xml',\n",
       " 'PMC0012XXXXX/PMC1266050.xml',\n",
       " 'PMC0012XXXXX/PMC1266051.xml',\n",
       " 'PMC0012XXXXX/PMC1274277.xml',\n",
       " 'PMC0012XXXXX/PMC1282457.xml',\n",
       " 'PMC0012XXXXX/PMC1283128.xml',\n",
       " 'PMC0012XXXXX/PMC1283142.xml',\n",
       " 'PMC0013XXXXX/PMC1314973.xml']"
      ]
     },
     "execution_count": 3,
     "metadata": {},
     "output_type": "execute_result"
    }
   ],
   "source": [
    "list(dict_articles.values())[:10]"
   ]
  },
  {
   "cell_type": "code",
   "execution_count": 14,
   "metadata": {},
   "outputs": [
    {
     "name": "stdout",
     "output_type": "stream",
     "text": [
      "Collecting lxml\n",
      "\u001b[?25l  Downloading https://files.pythonhosted.org/packages/85/9e/93e2c3af278c7c8b6826666bbcb145af2829bd761c3b329e51cd6343836c/lxml-4.5.0-cp37-cp37m-manylinux1_x86_64.whl (5.7MB)\n",
      "\u001b[K     |████████████████████████████████| 5.7MB 738kB/s eta 0:00:01\n",
      "\u001b[?25hInstalling collected packages: lxml\n",
      "Successfully installed lxml-4.5.0\n"
     ]
    }
   ],
   "source": [
    "!pip install lxml"
   ]
  },
  {
   "cell_type": "code",
   "execution_count": 27,
   "metadata": {},
   "outputs": [],
   "source": [
    "from collections import Counter\n",
    "\n",
    "def count_tags(node):\n",
    "    stat = Counter()\n",
    "    def dfs(root):\n",
    "        stat[root.tag] += 1\n",
    "        for child in root.getchildren():\n",
    "            dfs(child)\n",
    "    dfs(node)\n",
    "    return stat"
   ]
  },
  {
   "cell_type": "code",
   "execution_count": 6,
   "metadata": {},
   "outputs": [],
   "source": [
    "from lxml import etree\n",
    "\n",
    "tree = etree.parse(\"pmc_dataset/\" + list(dict_articles.values())[0])"
   ]
  },
  {
   "cell_type": "code",
   "execution_count": 7,
   "metadata": {},
   "outputs": [
    {
     "data": {
      "text/plain": [
       "['__bool__',\n",
       " '__class__',\n",
       " '__contains__',\n",
       " '__copy__',\n",
       " '__deepcopy__',\n",
       " '__delattr__',\n",
       " '__delitem__',\n",
       " '__dir__',\n",
       " '__doc__',\n",
       " '__eq__',\n",
       " '__format__',\n",
       " '__ge__',\n",
       " '__getattribute__',\n",
       " '__getitem__',\n",
       " '__gt__',\n",
       " '__hash__',\n",
       " '__init__',\n",
       " '__init_subclass__',\n",
       " '__iter__',\n",
       " '__le__',\n",
       " '__len__',\n",
       " '__lt__',\n",
       " '__ne__',\n",
       " '__new__',\n",
       " '__reduce__',\n",
       " '__reduce_ex__',\n",
       " '__repr__',\n",
       " '__reversed__',\n",
       " '__setattr__',\n",
       " '__setitem__',\n",
       " '__sizeof__',\n",
       " '__str__',\n",
       " '__subclasshook__',\n",
       " '_init',\n",
       " 'addnext',\n",
       " 'addprevious',\n",
       " 'append',\n",
       " 'attrib',\n",
       " 'base',\n",
       " 'clear',\n",
       " 'cssselect',\n",
       " 'extend',\n",
       " 'find',\n",
       " 'findall',\n",
       " 'findtext',\n",
       " 'get',\n",
       " 'getchildren',\n",
       " 'getiterator',\n",
       " 'getnext',\n",
       " 'getparent',\n",
       " 'getprevious',\n",
       " 'getroottree',\n",
       " 'index',\n",
       " 'insert',\n",
       " 'items',\n",
       " 'iter',\n",
       " 'iterancestors',\n",
       " 'iterchildren',\n",
       " 'iterdescendants',\n",
       " 'iterfind',\n",
       " 'itersiblings',\n",
       " 'itertext',\n",
       " 'keys',\n",
       " 'makeelement',\n",
       " 'nsmap',\n",
       " 'prefix',\n",
       " 'remove',\n",
       " 'replace',\n",
       " 'set',\n",
       " 'sourceline',\n",
       " 'tag',\n",
       " 'tail',\n",
       " 'text',\n",
       " 'values',\n",
       " 'xpath']"
      ]
     },
     "execution_count": 7,
     "metadata": {},
     "output_type": "execute_result"
    }
   ],
   "source": [
    "dir(tree.getroot())"
   ]
  },
  {
   "cell_type": "code",
   "execution_count": 37,
   "metadata": {},
   "outputs": [
    {
     "data": {
      "text/plain": [
       "'Pharmacogenetics in model systems: Defining a common mechanism of action for mood stabilisers'"
      ]
     },
     "execution_count": 37,
     "metadata": {},
     "output_type": "execute_result"
    }
   ],
   "source": [
    "tree.getroot().find(\"front\").find(\"article-meta\").find(\"title-group\").find(\"article-title\").text"
   ]
  },
  {
   "cell_type": "code",
   "execution_count": 54,
   "metadata": {},
   "outputs": [],
   "source": [
    "def get_title(tree):\n",
    "    return etree.tostring(tree.getroot().find(\"front\").find(\"article-meta\").find(\"title-group\").find(\"article-title\"))"
   ]
  },
  {
   "cell_type": "code",
   "execution_count": 59,
   "metadata": {},
   "outputs": [
    {
     "name": "stdout",
     "output_type": "stream",
     "text": [
      "649000"
     ]
    }
   ],
   "source": [
    "review_filenames = set()\n",
    "for i, filename in enumerate(dict_articles.values()):\n",
    "    if i % 1000 == 0:\n",
    "        print(f\"\\r{i}\", end=\"\")\n",
    "    tree = etree.parse(\"pmc_dataset/\" + filename)\n",
    "    title = str(get_title(tree))\n",
    "    if not title:\n",
    "        print(f\"\\r{filename}\")\n",
    "    if \"review\" in title.lower():\n",
    "        review_filenames.add(filename)"
   ]
  },
  {
   "cell_type": "code",
   "execution_count": 60,
   "metadata": {},
   "outputs": [
    {
     "name": "stdout",
     "output_type": "stream",
     "text": [
      "7270\n"
     ]
    }
   ],
   "source": [
    "print(len(review_filenames))"
   ]
  },
  {
   "cell_type": "code",
   "execution_count": 28,
   "metadata": {},
   "outputs": [],
   "source": [
    "stats = count_tags(tree.getroot())"
   ]
  },
  {
   "cell_type": "code",
   "execution_count": 29,
   "metadata": {},
   "outputs": [
    {
     "data": {
      "text/plain": [
       "Counter({'article': 1,\n",
       "         <cyfunction ProcessingInstruction at 0x7f6941982dd0>: 1,\n",
       "         'front': 1,\n",
       "         'journal-meta': 1,\n",
       "         'journal-id': 4,\n",
       "         'journal-title-group': 1,\n",
       "         'journal-title': 1,\n",
       "         'issn': 2,\n",
       "         'article-meta': 1,\n",
       "         'article-id': 4,\n",
       "         'article-categories': 1,\n",
       "         'subj-group': 1,\n",
       "         'subject': 1,\n",
       "         'title-group': 1,\n",
       "         'article-title': 72,\n",
       "         'contrib-group': 1,\n",
       "         'contrib': 1,\n",
       "         'name': 309,\n",
       "         'surname': 309,\n",
       "         'given-names': 309,\n",
       "         'xref': 115,\n",
       "         'aff': 1,\n",
       "         'author-notes': 1,\n",
       "         'corresp': 1,\n",
       "         'italic': 70,\n",
       "         'email': 1,\n",
       "         'pub-date': 3,\n",
       "         'day': 2,\n",
       "         'month': 3,\n",
       "         'year': 74,\n",
       "         'volume': 72,\n",
       "         'issue': 1,\n",
       "         'fpage': 72,\n",
       "         'lpage': 72,\n",
       "         'permissions': 1,\n",
       "         'license': 1,\n",
       "         'license-p': 1,\n",
       "         'abstract': 1,\n",
       "         'p': 35,\n",
       "         'kwd-group': 2,\n",
       "         'kwd': 18,\n",
       "         'title': 9,\n",
       "         'sub': 29,\n",
       "         'funding-group': 1,\n",
       "         'award-group': 1,\n",
       "         'funding-source': 1,\n",
       "         'award-id': 1,\n",
       "         'body': 1,\n",
       "         'sec': 8,\n",
       "         'list': 1,\n",
       "         'list-item': 4,\n",
       "         'back': 1,\n",
       "         'ack': 1,\n",
       "         'ref-list': 1,\n",
       "         'ref': 73,\n",
       "         'element-citation': 71,\n",
       "         'person-group': 71,\n",
       "         'source': 71,\n",
       "         'pub-id': 68,\n",
       "         'mixed-citation': 2,\n",
       "         'suffix': 1,\n",
       "         'floats-group': 1,\n",
       "         'fig': 4,\n",
       "         'label': 4,\n",
       "         'caption': 4,\n",
       "         'graphic': 4})"
      ]
     },
     "execution_count": 29,
     "metadata": {},
     "output_type": "execute_result"
    }
   ],
   "source": [
    "stats"
   ]
  },
  {
   "cell_type": "code",
   "execution_count": 61,
   "metadata": {},
   "outputs": [
    {
     "name": "stdout",
     "output_type": "stream",
     "text": [
      "649000"
     ]
    }
   ],
   "source": [
    "tag_stat = {}\n",
    "tag_stat['review'] = Counter()\n",
    "tag_stat['ordinary'] = Counter()\n",
    "for i, filename in enumerate(dict_articles.values()):\n",
    "    if i % 1000 == 0:\n",
    "        print(f\"\\r{i}\", end=\"\")\n",
    "    tree = etree.parse(\"pmc_dataset/\" + filename)\n",
    "    cur_stat = count_tags(tree.getroot())\n",
    "    if filename in review_filenames:\n",
    "        tag_stat['review'] += cur_stat\n",
    "    else:\n",
    "        tag_stat['ordinary'] += cur_stat"
   ]
  },
  {
   "cell_type": "code",
   "execution_count": 67,
   "metadata": {},
   "outputs": [],
   "source": [
    "for s, cnt in zip(['ordinary', 'review'], [649546 - 7270, 7270]):\n",
    "    with open(f'{s}_tag_stat.txt', 'w') as f:\n",
    "        srt = sorted(tag_stat[s].items(), key=lambda x: x[1])\n",
    "        srt = list(map(lambda x: (x[0], x[1]/cnt), srt))\n",
    "        print(f'Number: {cnt}', file=f)\n",
    "        for val, count in srt:\n",
    "            print(f'{val} {count}', file=f)"
   ]
  },
  {
   "cell_type": "code",
   "execution_count": 68,
   "metadata": {},
   "outputs": [],
   "source": [
    "def tag_depth(node):\n",
    "    def dfs(root):\n",
    "        d = 1\n",
    "        for child in root.getchildren():\n",
    "            d = max(d, dfs(child) + 1)\n",
    "        return d\n",
    "    return dfs(node)"
   ]
  },
  {
   "cell_type": "code",
   "execution_count": 70,
   "metadata": {},
   "outputs": [
    {
     "name": "stdout",
     "output_type": "stream",
     "text": [
      "649000"
     ]
    }
   ],
   "source": [
    "d_stat = {}\n",
    "d_stat['review'] = {}\n",
    "d_stat['ordinary'] = {}\n",
    "for i, filename in enumerate(dict_articles.values()):\n",
    "    if i % 1000 == 0:\n",
    "        print(f\"\\r{i}\", end=\"\")\n",
    "    tree = etree.parse(\"pmc_dataset/\" + filename)\n",
    "    cur_stat = tag_depth(tree.getroot())\n",
    "    if filename in review_filenames:\n",
    "        d_stat['review'][filename] = cur_stat\n",
    "    else:\n",
    "        d_stat['ordinary'][filename] = cur_stat"
   ]
  },
  {
   "cell_type": "code",
   "execution_count": 72,
   "metadata": {},
   "outputs": [
    {
     "name": "stdout",
     "output_type": "stream",
     "text": [
      "[('PMC0014XXXXX/PMC1475922.xml', 8), ('PMC0015XXXXX/PMC1513666.xml', 14), ('PMC0019XXXXX/PMC1948029.xml', 10), ('PMC0020XXXXX/PMC2020839.xml', 8), ('PMC0020XXXXX/PMC2080777.xml', 10), ('PMC0022XXXXX/PMC2230686.xml', 8), ('PMC0022XXXXX/PMC2231514.xml', 8), ('PMC0022XXXXX/PMC2231609.xml', 8), ('PMC0022XXXXX/PMC2231841.xml', 9), ('PMC0025XXXXX/PMC2517215.xml', 8)]\n"
     ]
    }
   ],
   "source": [
    "print(list(d_stat['review'].items())[:10])"
   ]
  },
  {
   "cell_type": "code",
   "execution_count": 74,
   "metadata": {},
   "outputs": [],
   "source": [
    "for s in ['ordinary', 'review']:\n",
    "    with open(f'{s}_tag_depth.txt', 'w') as f:\n",
    "        srt = sorted(d_stat[s].items(), key=lambda x: x[1])\n",
    "        for val, count in srt:\n",
    "            print(f'{val} {count}', file=f)"
   ]
  },
  {
   "cell_type": "code",
   "execution_count": 76,
   "metadata": {},
   "outputs": [
    {
     "name": "stdout",
     "output_type": "stream",
     "text": [
      "Collecting matplotlib\n",
      "\u001b[?25l  Downloading https://files.pythonhosted.org/packages/4c/9b/35ab3469fd1509f7636a344940569ebfd33239673fd2318e80b4700a257c/matplotlib-3.1.3-cp37-cp37m-manylinux1_x86_64.whl (13.1MB)\n",
      "\u001b[K     |████████████████████████████████| 13.1MB 513kB/s eta 0:00:01\n",
      "\u001b[?25hCollecting pyparsing!=2.0.4,!=2.1.2,!=2.1.6,>=2.0.1\n",
      "\u001b[?25l  Downloading https://files.pythonhosted.org/packages/5d/bc/1e58593167fade7b544bfe9502a26dc860940a79ab306e651e7f13be68c2/pyparsing-2.4.6-py2.py3-none-any.whl (67kB)\n",
      "\u001b[K     |████████████████████████████████| 71kB 2.4MB/s  eta 0:00:01\n",
      "\u001b[?25hCollecting kiwisolver>=1.0.1\n",
      "\u001b[?25l  Downloading https://files.pythonhosted.org/packages/93/f8/518fb0bb89860eea6ff1b96483fbd9236d5ee991485d0f3eceff1770f654/kiwisolver-1.1.0-cp37-cp37m-manylinux1_x86_64.whl (90kB)\n",
      "\u001b[K     |████████████████████████████████| 92kB 1.6MB/s  eta 0:00:01\n",
      "\u001b[?25hCollecting numpy>=1.11\n",
      "\u001b[?25l  Downloading https://files.pythonhosted.org/packages/63/0c/0261693cc3ad8e2b66e66dc2d2676a2cc17d3efb1c58a70db73754320e47/numpy-1.18.1-cp37-cp37m-manylinux1_x86_64.whl (20.1MB)\n",
      "\u001b[K     |████████████████████████████████| 20.1MB 365kB/s  eta 0:00:01\n",
      "\u001b[?25hRequirement already satisfied: python-dateutil>=2.1 in ./miniconda3/lib/python3.7/site-packages (from matplotlib) (2.8.1)\n",
      "Collecting cycler>=0.10\n",
      "  Downloading https://files.pythonhosted.org/packages/f7/d2/e07d3ebb2bd7af696440ce7e754c59dd546ffe1bbe732c8ab68b9c834e61/cycler-0.10.0-py2.py3-none-any.whl\n",
      "Requirement already satisfied: setuptools in ./miniconda3/lib/python3.7/site-packages (from kiwisolver>=1.0.1->matplotlib) (41.4.0)\n",
      "Requirement already satisfied: six>=1.5 in ./miniconda3/lib/python3.7/site-packages (from python-dateutil>=2.1->matplotlib) (1.12.0)\n",
      "Installing collected packages: pyparsing, kiwisolver, numpy, cycler, matplotlib\n",
      "Successfully installed cycler-0.10.0 kiwisolver-1.1.0 matplotlib-3.1.3 numpy-1.18.1 pyparsing-2.4.6\n"
     ]
    }
   ],
   "source": [
    "!pip install matplotlib"
   ]
  },
  {
   "cell_type": "code",
   "execution_count": 86,
   "metadata": {},
   "outputs": [
    {
     "data": {
      "image/png": "[encoded data removed]",
      "text/plain": [
       "<Figure size 432x288 with 1 Axes>"
      ]
     },
     "metadata": {
      "needs_background": "light"
     },
     "output_type": "display_data"
    }
   ],
   "source": [
    "import matplotlib.pyplot as plt\n",
    "\n",
    "plt.hist(d_stat['review'].values(), bins=range(5, 20))\n",
    "plt.show()"
   ]
  },
  {
   "cell_type": "code",
   "execution_count": 85,
   "metadata": {},
   "outputs": [
    {
     "data": {
      "image/png": "[encoded data removed]",
      "text/plain": [
       "<Figure size 432x288 with 1 Axes>"
      ]
     },
     "metadata": {
      "needs_background": "light"
     },
     "output_type": "display_data"
    }
   ],
   "source": [
    "plt.hist(d_stat['ordinary'].values(), bins=range(5, 20))\n",
    "plt.show()"
   ]
  },
  {
   "cell_type": "code",
   "execution_count": 6,
   "metadata": {},
   "outputs": [],
   "source": [
    "tree = etree.parse(\"pmc_dataset/\" + list(dict_articles.values())[0])"
   ]
  },
  {
   "cell_type": "code",
   "execution_count": 30,
   "metadata": {},
   "outputs": [],
   "source": [
    "from collections import Counter\n",
    "\n",
    "def get_paragraph_info(root):\n",
    "    num = 0\n",
    "    sum_pos = -1\n",
    "    disc_pos = -1\n",
    "    lens = Counter()\n",
    "    for ch in root.find('body').getchildren():\n",
    "        if ch.tag == 'sec':\n",
    "            num += 1\n",
    "            try:\n",
    "                lens[num] = len(etree.tostring(ch))\n",
    "            except Exception:\n",
    "                lens[num] = 0\n",
    "                print(\"\\n!\")\n",
    "            str_title = str(etree.tostring(ch.find('title'))).lower()\n",
    "            if 'summary' in str_title:\n",
    "                sum_pos = num\n",
    "            if 'discussion' in str_title:\n",
    "                disc_pos = num\n",
    "    return num, sum_pos, disc_pos, lens  "
   ]
  },
  {
   "cell_type": "code",
   "execution_count": 4,
   "metadata": {},
   "outputs": [],
   "source": [
    "review_filenames = set()\n",
    "\n",
    "with open('review_tag_depth.txt', 'r') as f:\n",
    "    for line in f:\n",
    "        filename, _ = line.split()\n",
    "        review_filenames.add(filename)"
   ]
  },
  {
   "cell_type": "code",
   "execution_count": 7,
   "metadata": {},
   "outputs": [],
   "source": [
    "with open(\"dataset_with_refs/review_files.csv\", 'w') as f:\n",
    "    for filename in review_filenames:\n",
    "        for pmid, fname in dict_articles.items():\n",
    "            if fname == filename:\n",
    "                print(f'{pmid}\\t{fname}', file=f)\n",
    "                break"
   ]
  },
  {
   "cell_type": "code",
   "execution_count": 32,
   "metadata": {},
   "outputs": [
    {
     "name": "stdout",
     "output_type": "stream",
     "text": [
      "12000\n",
      "!\n",
      "22000\n",
      "!\n",
      "36000\n",
      "PMC0027XXXXX/PMC2772122.xml\n",
      "49000\n",
      "PMC0028XXXXX/PMC2826148.xml\n",
      "56000\n",
      "!\n",
      "81000\n",
      "PMC0029XXXXX/PMC2939973.xml\n",
      "89000\n",
      "PMC0029XXXXX/PMC2977080.xml\n",
      "97000\n",
      "PMC0030XXXXX/PMC3027064.xml\n",
      "151000\n",
      "PMC0032XXXXX/PMC3272455.xml\n",
      "185000\n",
      "!\n",
      "218000\n",
      "PMC0036XXXXX/PMC3640583.xml\n",
      "243000\n",
      "PMC0037XXXXX/PMC3752889.xml\n",
      "252000\n",
      "PMC0037XXXXX/PMC3795958.xml\n",
      "268000\n",
      "PMC0038XXXXX/PMC3880250.xml\n",
      "272000\n",
      "!\n",
      "280000\n",
      "!\n",
      "295000\n",
      "PMC0040XXXXX/PMC4017663.xml\n",
      "\n",
      "PMC0040XXXXX/PMC4017670.xml\n",
      "321000\n",
      "PMC0041XXXXX/PMC4141783.xml\n",
      "335000\n",
      "PMC0042XXXXX/PMC4215702.xml\n",
      "341000\n",
      "!\n",
      "343000\n",
      "PMC0042XXXXX/PMC4260990.xml\n",
      "355000\n",
      "PMC0043XXXXX/PMC4324758.xml\n",
      "376000\n",
      "PMC0044XXXXX/PMC4435688.xml\n",
      "393000\n",
      "PMC0045XXXXX/PMC4526402.xml\n",
      "399000\n",
      "PMC0045XXXXX/PMC4564300.xml\n",
      "403000\n",
      "PMC0045XXXXX/PMC4589162.xml\n",
      "408000\n",
      "PMC0046XXXXX/PMC4630023.xml\n",
      "412000\n",
      "PMC0046XXXXX/PMC4657549.xml\n",
      "414000\n",
      "!\n",
      "416000\n",
      "PMC0046XXXXX/PMC4681672.xml\n",
      "418000\n",
      "PMC0046XXXXX/PMC4696020.xml\n",
      "422000\n",
      "PMC0047XXXXX/PMC4715672.xml\n",
      "425000\n",
      "PMC0047XXXXX/PMC4740202.xml\n",
      "432000\n",
      "PMC0047XXXXX/PMC4779726.xml\n",
      "\n",
      "PMC0047XXXXX/PMC4780436.xml\n",
      "435000\n",
      "PMC0048XXXXX/PMC4803281.xml\n",
      "\n",
      "PMC0048XXXXX/PMC4803468.xml\n",
      "\n",
      "PMC0048XXXXX/PMC4805464.xml\n",
      "\n",
      "PMC0048XXXXX/PMC4806644.xml\n",
      "440000\n",
      "PMC0048XXXXX/PMC4834697.xml\n",
      "453000\n",
      "!\n",
      "462000\n",
      "PMC0049XXXXX/PMC4976445.xml\n",
      "\n",
      "PMC0049XXXXX/PMC4977093.xml\n",
      "\n",
      "PMC0049XXXXX/PMC4979000.xml\n",
      "467000\n",
      "PMC0050XXXXX/PMC5014707.xml\n",
      "470000\n",
      "PMC0050XXXXX/PMC5040067.xml\n",
      "471000\n",
      "PMC0050XXXXX/PMC5051632.xml\n",
      "473000\n",
      "PMC0050XXXXX/PMC5067956.xml\n",
      "480000\n",
      "PMC0051XXXXX/PMC5127266.xml\n",
      "\n",
      "PMC0051XXXXX/PMC5131840.xml\n",
      "486000\n",
      "PMC0052XXXXX/PMC5218865.xml\n",
      "491000\n",
      "PMC0052XXXXX/PMC5290201.xml\n",
      "500000\n",
      "PMC0053XXXXX/PMC5388063.xml\n",
      "527000\n",
      "PMC0055XXXXX/PMC5583704.xml\n",
      "537000\n",
      "PMC0056XXXXX/PMC5660885.xml\n",
      "545000\n",
      "PMC0057XXXXX/PMC5716866.xml\n",
      "556000\n",
      "PMC0058XXXXX/PMC5802343.xml\n",
      "569000\n",
      "PMC0058XXXXX/PMC5898627.xml\n",
      "577000\n",
      "!\n",
      "578000\n",
      "PMC0059XXXXX/PMC5980759.xml\n",
      "595000\n",
      "PMC0061XXXXX/PMC6157711.xml\n",
      "596000\n",
      "PMC0061XXXXX/PMC6160324.xml\n",
      "601000\n",
      "PMC0062XXXXX/PMC6219388.xml\n",
      "605000\n",
      "PMC0062XXXXX/PMC6263036.xml\n",
      "608000\n",
      "!\n",
      "610000\n",
      "PMC0063XXXXX/PMC6321790.xml\n",
      "617000\n",
      "PMC0063XXXXX/PMC6380510.xml\n",
      "\n",
      "!\n",
      "624000\n",
      "PMC0064XXXXX/PMC6469857.xml\n",
      "630000\n",
      "PMC0065XXXXX/PMC6548551.xml\n",
      "633000\n",
      "PMC0065XXXXX/PMC6599611.xml\n",
      "637000\n",
      "PMC0066XXXXX/PMC6687392.xml\n",
      "642000\n",
      "PMC0067XXXXX/PMC6786789.xml\n",
      "643000\n",
      "PMC0068XXXXX/PMC6816242.xml\n",
      "644000\n",
      "PMC0068XXXXX/PMC6858854.xml\n",
      "649000"
     ]
    }
   ],
   "source": [
    "para_stats = {}\n",
    "para_stats['review'] = {}\n",
    "para_stats['ordinary'] = {}\n",
    "\n",
    "\n",
    "for i, filename in enumerate(dict_articles.values()):\n",
    "    if i % 1000 == 0:\n",
    "        print(f\"\\r{i}\", end=\"\")\n",
    "    tree = etree.parse(\"pmc_dataset/\" + filename)\n",
    "    try:\n",
    "        cur_stat = get_paragraph_info(tree.getroot())\n",
    "    except Exception:\n",
    "        print(f\"\\n{filename}\")\n",
    "        continue\n",
    "    if filename in review_filenames:\n",
    "        para_stats['review'][filename] = cur_stat\n",
    "    else:\n",
    "        para_stats['ordinary'][filename] = cur_stat"
   ]
  },
  {
   "cell_type": "code",
   "execution_count": 34,
   "metadata": {},
   "outputs": [
    {
     "data": {
      "text/plain": [
       "[('PMC0014XXXXX/PMC1475922.xml',\n",
       "  (5, -1, 4, Counter({1: 6617, 2: 1691, 3: 4246, 4: 4367, 5: 2979}))),\n",
       " ('PMC0015XXXXX/PMC1513666.xml',\n",
       "  (5, 5, -1, Counter({1: 3276, 2: 808, 3: 15938, 4: 8318, 5: 836}))),\n",
       " ('PMC0019XXXXX/PMC1948029.xml',\n",
       "  (4, -1, 4, Counter({1: 5388, 2: 1243, 3: 14885, 4: 8199}))),\n",
       " ('PMC0020XXXXX/PMC2020839.xml',\n",
       "  (6,\n",
       "   -1,\n",
       "   -1,\n",
       "   Counter({1: 7656, 2: 698, 3: 6026, 4: 16800, 5: 6978, 6: 4003}))),\n",
       " ('PMC0020XXXXX/PMC2080777.xml',\n",
       "  (6,\n",
       "   -1,\n",
       "   5,\n",
       "   Counter({1: 1223, 2: 2271, 3: 14611, 4: 6086, 5: 12156, 6: 703}))),\n",
       " ('PMC0022XXXXX/PMC2230686.xml',\n",
       "  (5, -1, 4, Counter({1: 5607, 2: 9020, 3: 20241, 4: 9453, 5: 1444}))),\n",
       " ('PMC0022XXXXX/PMC2231514.xml',\n",
       "  (3, -1, -1, Counter({1: 23725, 2: 19212, 3: 8193}))),\n",
       " ('PMC0022XXXXX/PMC2231609.xml',\n",
       "  (5, 5, -1, Counter({1: 7194, 2: 20756, 3: 16506, 4: 7558, 5: 891}))),\n",
       " ('PMC0022XXXXX/PMC2231841.xml',\n",
       "  (7,\n",
       "   -1,\n",
       "   7,\n",
       "   Counter({1: 732, 2: 4316, 3: 1601, 4: 2164, 5: 11186, 6: 6315, 7: 7018}))),\n",
       " ('PMC0025XXXXX/PMC2517215.xml',\n",
       "  (4, -1, 4, Counter({1: 3849, 2: 1669, 3: 3547, 4: 2927})))]"
      ]
     },
     "execution_count": 34,
     "metadata": {},
     "output_type": "execute_result"
    }
   ],
   "source": [
    "list(para_stats['review'].items())[:10]"
   ]
  },
  {
   "cell_type": "code",
   "execution_count": 37,
   "metadata": {},
   "outputs": [
    {
     "name": "stdout",
     "output_type": "stream",
     "text": [
      "[5, 5, 4, 6, 6, 5, 3, 5, 7, 4]\n"
     ]
    },
    {
     "data": {
      "image/png": "[encoded data removed]",
      "text/plain": [
       "<Figure size 432x288 with 1 Axes>"
      ]
     },
     "metadata": {
      "needs_background": "light"
     },
     "output_type": "display_data"
    }
   ],
   "source": [
    "import matplotlib.pyplot as plt\n",
    "\n",
    "para_nums = list(map(lambda x: x[1][0], para_stats['review'].items()))\n",
    "print(para_nums[:10])\n",
    "plt.hist(para_nums, bins=range(1, 20))\n",
    "plt.show()"
   ]
  },
  {
   "cell_type": "code",
   "execution_count": 38,
   "metadata": {},
   "outputs": [
    {
     "name": "stdout",
     "output_type": "stream",
     "text": [
      "[8, 3, 3, 7, 4, 4, 4, 4, 6, 4]\n"
     ]
    },
    {
     "data": {
      "image/png": "[encoded data removed]",
      "text/plain": [
       "<Figure size 432x288 with 1 Axes>"
      ]
     },
     "metadata": {
      "needs_background": "light"
     },
     "output_type": "display_data"
    }
   ],
   "source": [
    "para_nums = list(map(lambda x: x[1][0], para_stats['ordinary'].items()))\n",
    "print(para_nums[:10])\n",
    "plt.hist(para_nums, bins=range(1, 20))\n",
    "plt.show()"
   ]
  },
  {
   "cell_type": "code",
   "execution_count": 41,
   "metadata": {},
   "outputs": [
    {
     "name": "stdout",
     "output_type": "stream",
     "text": [
      "[-1, 5, -1, -1, -1, -1, -1, 5, -1, -1]\n"
     ]
    },
    {
     "data": {
      "image/png": "[encoded data removed]",
      "text/plain": [
       "<Figure size 432x288 with 1 Axes>"
      ]
     },
     "metadata": {
      "needs_background": "light"
     },
     "output_type": "display_data"
    }
   ],
   "source": [
    "sum_stat = list(map(lambda x: x[1][1], para_stats['review'].items()))\n",
    "print(sum_stat[:10])\n",
    "plt.hist(sum_stat, bins=range(1, 20))\n",
    "plt.show()"
   ]
  },
  {
   "cell_type": "code",
   "execution_count": 44,
   "metadata": {},
   "outputs": [
    {
     "name": "stdout",
     "output_type": "stream",
     "text": [
      "[8, -1, -1, -1, -1, -1, -1, -1, -1, -1]\n"
     ]
    },
    {
     "data": {
      "image/png": "[encoded data removed]",
      "text/plain": [
       "<Figure size 432x288 with 1 Axes>"
      ]
     },
     "metadata": {
      "needs_background": "light"
     },
     "output_type": "display_data"
    }
   ],
   "source": [
    "sum_stat = list(map(lambda x: x[1][1], para_stats['ordinary'].items()))\n",
    "print(sum_stat[:10])\n",
    "plt.hist(sum_stat, bins=range(1, 20))\n",
    "plt.show()"
   ]
  },
  {
   "cell_type": "code",
   "execution_count": 46,
   "metadata": {},
   "outputs": [
    {
     "name": "stdout",
     "output_type": "stream",
     "text": [
      "[4, -1, 4, -1, 5, 4, -1, -1, 7, 4]\n"
     ]
    },
    {
     "data": {
      "image/png": "[encoded data removed]",
      "text/plain": [
       "<Figure size 432x288 with 1 Axes>"
      ]
     },
     "metadata": {
      "needs_background": "light"
     },
     "output_type": "display_data"
    }
   ],
   "source": [
    "sum_stat = list(map(lambda x: x[1][2], para_stats['review'].items()))\n",
    "print(sum_stat[:10])\n",
    "plt.hist(sum_stat, bins=range(-1, 20))\n",
    "plt.show()"
   ]
  },
  {
   "cell_type": "code",
   "execution_count": 48,
   "metadata": {},
   "outputs": [
    {
     "name": "stdout",
     "output_type": "stream",
     "text": [
      "[-1, 3, 3, 3, 4, 4, 4, 4, -1, 4]\n"
     ]
    },
    {
     "data": {
      "image/png": "[encoded data removed]",
      "text/plain": [
       "<Figure size 432x288 with 1 Axes>"
      ]
     },
     "metadata": {
      "needs_background": "light"
     },
     "output_type": "display_data"
    }
   ],
   "source": [
    "sum_stat = list(map(lambda x: x[1][2], para_stats['ordinary'].items()))\n",
    "print(sum_stat[:10])\n",
    "plt.hist(sum_stat, bins=range(-1, 20))\n",
    "plt.show()"
   ]
  },
  {
   "cell_type": "code",
   "execution_count": 51,
   "metadata": {},
   "outputs": [],
   "source": [
    "import functools\n",
    "\n",
    "len_stat = functools.reduce(lambda x, y: x + y, map(lambda x: x[1][3], para_stats['review'].items()))"
   ]
  },
  {
   "cell_type": "code",
   "execution_count": 56,
   "metadata": {},
   "outputs": [
    {
     "data": {
      "image/png": "[encoded data removed]",
      "text/plain": [
       "<Figure size 432x288 with 1 Axes>"
      ]
     },
     "metadata": {
      "needs_background": "light"
     },
     "output_type": "display_data"
    }
   ],
   "source": [
    "plt.bar(len_stat.keys(), list(map(lambda x: x / len(para_stats['review'].items()), len_stat.values())))\n",
    "plt.show()"
   ]
  },
  {
   "cell_type": "code",
   "execution_count": 60,
   "metadata": {},
   "outputs": [
    {
     "data": {
      "image/png": "[encoded data removed]",
      "text/plain": [
       "<Figure size 432x288 with 1 Axes>"
      ]
     },
     "metadata": {
      "needs_background": "light"
     },
     "output_type": "display_data"
    }
   ],
   "source": [
    "len_stat = functools.reduce(lambda x, y: x + y, map(lambda x: x[1][3], para_stats['ordinary'].items()))\n",
    "plt.bar(list(map(lambda x: min(35, x), len_stat.keys())), list(map(lambda x: x / len(para_stats['ordinary'].items()), len_stat.values())))\n",
    "plt.show()"
   ]
  },
  {
   "cell_type": "code",
   "execution_count": 62,
   "metadata": {},
   "outputs": [
    {
     "name": "stdout",
     "output_type": "stream",
     "text": [
      "Some example text\n"
     ]
    }
   ],
   "source": [
    "xml = '<tag>Some <a>example</a> text</tag>'\n",
    "tree = etree.fromstring(xml)\n",
    "print(''.join(tree.itertext()))"
   ]
  },
  {
   "cell_type": "code",
   "execution_count": 63,
   "metadata": {},
   "outputs": [
    {
     "data": {
      "text/plain": [
       "[('PMC0013XXXXX/PMC1351280.xml', (1, -1, -1, Counter({1: 4903}))),\n",
       " ('PMC0014XXXXX/PMC1410731.xml', (1, -1, -1, Counter({1: 2751}))),\n",
       " ('PMC0014XXXXX/PMC1482253.xml', (1, -1, -1, Counter({1: 40122}))),\n",
       " ('PMC0016XXXXX/PMC1609190.xml', (1, -1, -1, Counter({1: 812}))),\n",
       " ('PMC0016XXXXX/PMC1613257.xml', (1, -1, -1, Counter({1: 38755}))),\n",
       " ('PMC0017XXXXX/PMC1780257.xml', (1, -1, -1, Counter({1: 5789}))),\n",
       " ('PMC0018XXXXX/PMC1800886.xml', (1, -1, -1, Counter({1: 491}))),\n",
       " ('PMC0018XXXXX/PMC1817751.xml', (1, -1, -1, Counter({1: 30788}))),\n",
       " ('PMC0018XXXXX/PMC1828614.xml', (1, -1, -1, Counter({1: 1560}))),\n",
       " ('PMC0018XXXXX/PMC1855444.xml', (1, -1, -1, Counter({1: 3326})))]"
      ]
     },
     "execution_count": 63,
     "metadata": {},
     "output_type": "execute_result"
    }
   ],
   "source": [
    "list(filter(lambda x: x[1][0] == 1, para_stats['ordinary'].items()))[:10]"
   ]
  },
  {
   "cell_type": "code",
   "execution_count": 7,
   "metadata": {},
   "outputs": [],
   "source": [
    "from collections import Counter\n",
    "\n",
    "def get_conc_info(root):\n",
    "    conc_pos = -1\n",
    "    num = 0\n",
    "    for ch in root.find('body').getchildren():\n",
    "        if ch.tag == 'sec':\n",
    "            num += 1\n",
    "            str_title = str(etree.tostring(ch.find('title'))).lower()\n",
    "            if 'conclusion' in str_title:\n",
    "                conc_pos = num\n",
    "    return conc_pos "
   ]
  },
  {
   "cell_type": "code",
   "execution_count": 8,
   "metadata": {},
   "outputs": [
    {
     "name": "stdout",
     "output_type": "stream",
     "text": [
      "36000\n",
      "PMC0027XXXXX/PMC2772122.xml\n",
      "49000\n",
      "PMC0028XXXXX/PMC2826148.xml\n",
      "81000\n",
      "PMC0029XXXXX/PMC2939973.xml\n",
      "89000\n",
      "PMC0029XXXXX/PMC2977080.xml\n",
      "97000\n",
      "PMC0030XXXXX/PMC3027064.xml\n",
      "151000\n",
      "PMC0032XXXXX/PMC3272455.xml\n",
      "218000\n",
      "PMC0036XXXXX/PMC3640583.xml\n",
      "243000\n",
      "PMC0037XXXXX/PMC3752889.xml\n",
      "252000\n",
      "PMC0037XXXXX/PMC3795958.xml\n",
      "268000\n",
      "PMC0038XXXXX/PMC3880250.xml\n",
      "295000\n",
      "PMC0040XXXXX/PMC4017663.xml\n",
      "\n",
      "PMC0040XXXXX/PMC4017670.xml\n",
      "321000\n",
      "PMC0041XXXXX/PMC4141783.xml\n",
      "335000\n",
      "PMC0042XXXXX/PMC4215702.xml\n",
      "343000\n",
      "PMC0042XXXXX/PMC4260990.xml\n",
      "355000\n",
      "PMC0043XXXXX/PMC4324758.xml\n",
      "376000\n",
      "PMC0044XXXXX/PMC4435688.xml\n",
      "393000\n",
      "PMC0045XXXXX/PMC4526402.xml\n",
      "399000\n",
      "PMC0045XXXXX/PMC4564300.xml\n",
      "403000\n",
      "PMC0045XXXXX/PMC4589162.xml\n",
      "408000\n",
      "PMC0046XXXXX/PMC4630023.xml\n",
      "412000\n",
      "PMC0046XXXXX/PMC4657549.xml\n",
      "416000\n",
      "PMC0046XXXXX/PMC4681672.xml\n",
      "418000\n",
      "PMC0046XXXXX/PMC4696020.xml\n",
      "422000\n",
      "PMC0047XXXXX/PMC4715672.xml\n",
      "425000\n",
      "PMC0047XXXXX/PMC4740202.xml\n",
      "432000\n",
      "PMC0047XXXXX/PMC4779726.xml\n",
      "\n",
      "PMC0047XXXXX/PMC4780436.xml\n",
      "435000\n",
      "PMC0048XXXXX/PMC4803281.xml\n",
      "\n",
      "PMC0048XXXXX/PMC4803468.xml\n",
      "\n",
      "PMC0048XXXXX/PMC4805464.xml\n",
      "\n",
      "PMC0048XXXXX/PMC4806644.xml\n",
      "440000\n",
      "PMC0048XXXXX/PMC4834697.xml\n",
      "462000\n",
      "PMC0049XXXXX/PMC4976445.xml\n",
      "\n",
      "PMC0049XXXXX/PMC4977093.xml\n",
      "\n",
      "PMC0049XXXXX/PMC4979000.xml\n",
      "467000\n",
      "PMC0050XXXXX/PMC5014707.xml\n",
      "470000\n",
      "PMC0050XXXXX/PMC5040067.xml\n",
      "471000\n",
      "PMC0050XXXXX/PMC5051632.xml\n",
      "473000\n",
      "PMC0050XXXXX/PMC5067956.xml\n",
      "480000\n",
      "PMC0051XXXXX/PMC5127266.xml\n",
      "\n",
      "PMC0051XXXXX/PMC5131840.xml\n",
      "486000\n",
      "PMC0052XXXXX/PMC5218865.xml\n",
      "491000\n",
      "PMC0052XXXXX/PMC5290201.xml\n",
      "500000\n",
      "PMC0053XXXXX/PMC5388063.xml\n",
      "527000\n",
      "PMC0055XXXXX/PMC5583704.xml\n",
      "537000\n",
      "PMC0056XXXXX/PMC5660885.xml\n",
      "545000\n",
      "PMC0057XXXXX/PMC5716866.xml\n",
      "556000\n",
      "PMC0058XXXXX/PMC5802343.xml\n",
      "562000"
     ]
    },
    {
     "ename": "KeyboardInterrupt",
     "evalue": "",
     "output_type": "error",
     "traceback": [
      "\u001b[0;31m---------------------------------------------------------------------------\u001b[0m",
      "\u001b[0;31mKeyboardInterrupt\u001b[0m                         Traceback (most recent call last)",
      "\u001b[0;32m<ipython-input-8-82feee80db60>\u001b[0m in \u001b[0;36m<module>\u001b[0;34m\u001b[0m\n\u001b[1;32m      7\u001b[0m     \u001b[0;32mif\u001b[0m \u001b[0mi\u001b[0m \u001b[0;34m%\u001b[0m \u001b[0;36m1000\u001b[0m \u001b[0;34m==\u001b[0m \u001b[0;36m0\u001b[0m\u001b[0;34m:\u001b[0m\u001b[0;34m\u001b[0m\u001b[0;34m\u001b[0m\u001b[0m\n\u001b[1;32m      8\u001b[0m         \u001b[0mprint\u001b[0m\u001b[0;34m(\u001b[0m\u001b[0;34mf\"\\r{i}\"\u001b[0m\u001b[0;34m,\u001b[0m \u001b[0mend\u001b[0m\u001b[0;34m=\u001b[0m\u001b[0;34m\"\"\u001b[0m\u001b[0;34m)\u001b[0m\u001b[0;34m\u001b[0m\u001b[0;34m\u001b[0m\u001b[0m\n\u001b[0;32m----> 9\u001b[0;31m     \u001b[0mtree\u001b[0m \u001b[0;34m=\u001b[0m \u001b[0metree\u001b[0m\u001b[0;34m.\u001b[0m\u001b[0mparse\u001b[0m\u001b[0;34m(\u001b[0m\u001b[0;34m\"pmc_dataset/\"\u001b[0m \u001b[0;34m+\u001b[0m \u001b[0mfilename\u001b[0m\u001b[0;34m)\u001b[0m\u001b[0;34m\u001b[0m\u001b[0;34m\u001b[0m\u001b[0m\n\u001b[0m\u001b[1;32m     10\u001b[0m     \u001b[0;32mtry\u001b[0m\u001b[0;34m:\u001b[0m\u001b[0;34m\u001b[0m\u001b[0;34m\u001b[0m\u001b[0m\n\u001b[1;32m     11\u001b[0m         \u001b[0mcur_stat\u001b[0m \u001b[0;34m=\u001b[0m \u001b[0mget_conc_info\u001b[0m\u001b[0;34m(\u001b[0m\u001b[0mtree\u001b[0m\u001b[0;34m.\u001b[0m\u001b[0mgetroot\u001b[0m\u001b[0;34m(\u001b[0m\u001b[0;34m)\u001b[0m\u001b[0;34m)\u001b[0m\u001b[0;34m\u001b[0m\u001b[0;34m\u001b[0m\u001b[0m\n",
      "\u001b[0;31mKeyboardInterrupt\u001b[0m: "
     ]
    }
   ],
   "source": [
    "conc_stats = {}\n",
    "conc_stats['review'] = {}\n",
    "conc_stats['ordinary'] = {}\n",
    "\n",
    "\n",
    "for i, filename in enumerate(dict_articles.values()):\n",
    "    if i % 1000 == 0:\n",
    "        print(f\"\\r{i}\", end=\"\")\n",
    "    tree = etree.parse(\"pmc_dataset/\" + filename)\n",
    "    try:\n",
    "        cur_stat = get_conc_info(tree.getroot())\n",
    "    except Exception:\n",
    "        print(f\"\\n{filename}\")\n",
    "        continue\n",
    "    if filename in review_filenames:\n",
    "        conc_stats['review'][filename] = cur_stat\n",
    "    else:\n",
    "        conc_stats['ordinary'][filename] = cur_stat"
   ]
  },
  {
   "cell_type": "code",
   "execution_count": 11,
   "metadata": {},
   "outputs": [
    {
     "name": "stdout",
     "output_type": "stream",
     "text": [
      "[5, -1, -1, 6, 6, 5, -1, 5, -1, -1]\n"
     ]
    },
    {
     "data": {
      "image/png": "[encoded data removed]",
      "text/plain": [
       "<Figure size 432x288 with 1 Axes>"
      ]
     },
     "metadata": {
      "needs_background": "light"
     },
     "output_type": "display_data"
    }
   ],
   "source": [
    "import matplotlib.pyplot as plt\n",
    "\n",
    "conc_stat = list(map(lambda x: x[1], conc_stats['review'].items()))\n",
    "print(conc_stat[:10])\n",
    "plt.hist(conc_stat, bins=range(-1, 20))\n",
    "plt.show()"
   ]
  },
  {
   "cell_type": "code",
   "execution_count": 12,
   "metadata": {},
   "outputs": [
    {
     "name": "stdout",
     "output_type": "stream",
     "text": [
      "[-1, -1, -1, -1, -1, -1, -1, -1, 6, -1]\n"
     ]
    },
    {
     "data": {
      "image/png": "[encoded data removed]",
      "text/plain": [
       "<Figure size 432x288 with 1 Axes>"
      ]
     },
     "metadata": {
      "needs_background": "light"
     },
     "output_type": "display_data"
    }
   ],
   "source": [
    "conc_stat = list(map(lambda x: x[1], conc_stats['ordinary'].items()))\n",
    "print(conc_stat[:10])\n",
    "plt.hist(conc_stat, bins=range(-1, 20))\n",
    "plt.show()"
   ]
  },
  {
   "cell_type": "code",
   "execution_count": 12,
   "metadata": {},
   "outputs": [],
   "source": [
    "def get_text(root):\n",
    "    text = root.find('body').itertext()\n",
    "    return ''.join(text)"
   ]
  },
  {
   "cell_type": "code",
   "execution_count": 13,
   "metadata": {},
   "outputs": [],
   "source": [
    "tree = etree.parse(\"pmc_dataset/PMC0013XXXXX/PMC1351280.xml\")"
   ]
  },
  {
   "cell_type": "code",
   "execution_count": 14,
   "metadata": {},
   "outputs": [
    {
     "data": {
      "text/plain": [
       "'\\n    Currently little is known about the site and mechanisms of eye-specific suppression during rivalry. The earliest stage after the retina where differential eye-specific modulation could occur is the LGN, which contains monocular neurons segregated into eye-specific layers7. Although excited only by monocular stimulation, neurons in primate LGN can nevertheless show robust inhibitory binocular interactions8. However, fluctuations in activity associated with changing perception during binocular rivalry have proven inconsistent in cat9,10 and apparently absent in monkey11. There have been no reported investigations of binocular rivalry in the human LGN. Common to all these previous studies is the absence of behavioural measures of perceptual dominance (either because the animals were anaesthetised, or because they were not required to report their perceptual experience). The lack of behavioural measurements for classifying neuronal responses will have significantly lowered the power of such studies to detect any neural signature of rivalry, as perceptual dominance must instead be inferred indirectly.\\n    We therefore set out to investigate whether human LGN showed eye-specific changes in signal in association with behaviorally measured changes in perception during binocular rivalry. First, we functionally identified the LGN independently in each of four participants by contrasting contralateral versus ipsilateral hemifield binocular stimulation (Fig. 1a: see Supplementary Information). Next, we investigated responses of voxels within LGN to purely monocular stimulation with a bilateral stimulus (Fig. 1b & Experimental Procedures). The human LGN comprises six histologically distinct monocular layers each approximately 1mm thick. Although the overall size of the human LGN can vary by a factor of two7, individual layers are still below the spatial resolution of conventional human fMRI. To maximise sensitivity, we therefore used an improved fMRI scanning sequence with twice the spatial resolution of conventional techniques (1.5mm isotropic; see Experimental Procedures). Although this much higher spatial resolution might still be too low to permit direct visualisation of each monocular layer, we hypothesised that the ocular preferences of neuronal populations within the LGN would be revealed through each voxel providing a biased sampling of monocular cells. Such biased sampling arises because a randomly placed voxel will sample an anisotropic distribution of ocular preferences due to the convoluted nature of the laminar structure of the LGN. Similar biases have been demonstrated for orientation preference in human V1, even at the lower spatial resolution of conventional fMRI, and have been used to directly measure orientation selective processing12,13. Confirming our hypothesis of ocular biases in human LGN, voxels within the LGN responded vigorously to stimulation of either eye, but many showed a clear and significant preference or bias towards either right or left eye stimulation (Fig. 1c). For every voxel in every LGN in each participant we independently computed a measure of this ocular bias. The distribution of these biases across all LGN voxels followed an approximately Gaussian distribution (Supplementary Fig. S1). Between 42 and 71% of all LGN voxels in every participant showed a significant (P<0.05) bias towards either ipsilateral or contralateral eye stimulation.\\n    Having established the presence of significant ocular biases within LGN voxels, we could then proceed to test responses within these functionally defined voxels during binocular rivalry. We measured activity in LGN and V1 using high spatial resolution fMRI while our participants now viewed a novel binocular rivalry stimulus (see Fig. 2 and Experimental Procedures) consisting of two co-rotating orthogonal gratings (Fig. 2a). This stimulus was specially devised to ensure relatively long perceptual dominance periods with minimal piecemeal rivalry while strongly driving neuronal activity in LGN and early visual cortex (Fig. 2a). Participants reported which stimulus was dominant by button press. We confirmed that dominance phases formed a gamma distribution14, with a relatively long mean perceptual dominance of 10.7 seconds (Fig. 2b).\\n    We next investigated whether voxels with left or right eye preference showed different responses when the left-eye or right-eye stimulus became dominant. We calculated, for each LGN voxel, the fMRI signal associated with perceptual dominance and suppression of each monocular image. We then used the information about the ocular preference of each voxel (obtained from the participant’s independent eye-localiser session) in order to calculate the fMRI signal associated with perceptual dominance and suppression of the stimulus presented to the preferred eye of each voxel. Signals during dominance of either left or right eye images were calculated separately for all voxels with biases toward either left or right eye. This revealed strong and highly significant increases in LGN signal during rivalry whenever the monocular stimulus corresponding to the independently measured ocular bias of that voxel became dominant, with corresponding decreases when it was suppressed (Fig. 3a). For example, voxels with left-eye preference under monocular viewing conditions (Supplementary Fig. S1) showed relative enhancement of signals under rivalrous viewing when the left eye stimulus became dominant (Fig. 3a, red symbols in right panel). Conversely, voxels with a preference for right eye stimulation showed relative enhancement when the right eye stimulus became perceptually dominant. These monocular signals of eye-specific enhancement and suppression reflecting perceptual dominance during rivalry were replicated independently in every participant (Supplemental Fig. S2). These timecourses also closely followed the independent predictions of a parameter-free “forward model”, obtained from the perceptual timecourses by convolution with a hemodynamic response function (Fig. 3a, solid lines; see Experimental Procedures).\\n    To formally characterize the eye dependence of relative suppression and enhancement, we calculated the difference in activity between periods of perceptual dominance of the left-eye stimulus (red) and the right-eye stimulus (blue) across all voxels dominated by either left eye (Fig. 4; red bars) or right eye (Fig. 4; blue bars). Activity in left-eye dominated voxels was significantly stronger when the left-eye stimulus (red) was dominant than when the right-eye stimulus (blue) was dominant. This is consistent with the notion that binocular rivalry involves differential modulation of eye-specific signals during perceptual dominance and suppression. To estimate the size of this modulation, we compared the signal change associated with eye-specific modulation during rivalry in one representative participant with that evoked by extended monocular viewing of each monocular stimulus (see Supplementary Fig. S3). Although great caution is required in comparing these two very different measures in structures with non-specific monocular inhibitory interactions such as the LGN, eye-specific modulation during rivalry was incomplete compared to purely monocular stimulation (64% modulation; see Experimental Procedures).\\n    Having shown that LGN voxels with a specific ocular preference showed signals related to perceptual dominance of that eye during rivalry, we next determined whether there was a graded relationship between these two independent measures. For every LGN voxel we plotted the difference in activation between perceptual dominance of the preferred-eye and the non-preferred eye stimulus as a function of its ocular preference (Supplemental Fig. S4). There was a monotonic relationship between these two measures, with a modest but statistically significant positive correlation (P<0.05) between the two for every participant. Thus, voxels with relatively strong ocular biases tended to exhibit larger differences in activity during different dominance phases in rivalry. This may arise because signals in voxels with strong ocular biases are dominated by the input mainly to one eye and thus more clearly reflect the difference between rivalry and suppression.\\n    Finally, we used the same methodology to quantify ocular biases and differential activity during perceptual dominance in rivalry in V1 (see Experimental Procedures). As in LGN, there was a very similar relationship between the ocular preference of individual voxels in V1 and the presence of differential signals during perceptual dominance during rivalry (Figs 3 & 4); and eye-specific modulation during rivalry was also incomplete compared to purely monocular stimulation (28% modulation; see Supplemental Fig. S3). Small quantitative differences (for example, smaller overall differential activity; compare ordinate of Fig. 3a and 3b) might reflect differences in baseline BOLD signals, in the width of the hemodynamic point-spread function or in the response gain between LGN and V1 (refs. 15,16).\\n    These findings represent the first positive evidence for a neural signature of rivalry in the LGN of a conscious individual of any species. Rivalry-related signals are thus not confined to early visual cortex17–20, but can also be observed in subcortical structures. In cat and monkey it has proven difficult to establish whether LGN reflects perceptual dominance in rivalry9–11 using single unit electrophysiological recording. These studies used different stimuli (e.g. presented at greater eccentricities11) in different species and did not measure perceptual dominance behaviourally, making it unclear when during recording any perceptual transitions might have occurred. Thus they required a substantially different analytic approach to the present study. For example, a study in monkey11 used power spectral analysis of neural signals, which should in principle allow accumulation of transition-related effects even though their random phase position is unknown. However this is less sensitive than the selective averaging time-locked to known perceptual transitions used here. Our successful demonstration of rivalrous fluctuations in human LGN may in principle reflect any of these major differences. Alternatively, it might reflect differential sensitivity of the fMRI technique to particular aspects of the neuronal signal (e.g. local field potentials rather than spiking activity21).\\n    Our findings indicate that dominance and suppression in rivalry are accompanied by a modulation of signals in eye-specific representations in LGN and V1. This is consistent with previous observations of neural signatures of rivalry in the monocular representation of the blind spot in V1 (ref. 17). However, by demonstrating that individual voxels acquired with high-resolution fMRI exhibit reliable ocular biases we were now able to show that such monocular rivalrous signatures are not specific to the unusual cortical locale of the blind spot but extend throughout V1 and into the LGN (Figs 3 & 4). The suggestion22 that previous findings of rivalry in the blind spot representation17 in V1 might reflect competition between different stimulus preferences in surrounding binocular cells cannot account for our findings in LGN, which has no binocular cells.\\n    While binocular rivalry can prevent conscious perception of a suppressed image, visual sensitivity during suppression is only moderately decreased23,24. Moreover, suppressed images can still cause simple after-effects25,26. This suggests that the eye-specific modulation we observed in human LGN must necessarily be incomplete, consistent with recent reports that higher visual areas show selective responses to suppressed stimuli (F. Fang & S. He, VSS 2005). Similarly, we found that the depth of rivalrous modulation was smaller than the signal evoked by purely monocular stimulation with our stimuli. It is important to note that any differences between monocular stimulation and rivalry are only approximations of modulation depth. Such differences potentially reflect not only rivalry-related signal modulations, but also the absence of non-specific inhibitory interactions under monocular stimulation8. Furthermore differences in degree of suppression between different structures (here, LGN and V1) may be influenced by differences in response gain15,16. These caveats notwithstanding, our findings are consistent with the notion that suppression during rivalry does not result in a complete inhibition of stimulus driven signals, and that sensitivity to input from the suppressed eye is moderately (but not fully) reduced23,24. In contrast, selective adaptation by suppressed images can be of equal magnitude as for dominant images26, suggesting that visual responses may reach early visual areas largely unattenuated; but adaptation is moderately reduced when visual saturation of the adapting stimuli is avoided25.\\n    Responses to flashed stimuli in LGN can exhibit binocular interactions earlier than the first V1 responses8, suggesting such interactions do not require corticofugal feedback. Here, stimuli were presented continuously for several minutes, resulting in a superposition of feed-forward and feedback processing due to the dense reciprocal connections between V1 and LGN27. Thus our data do not distinguish the precise source of the modulatory influence that we observed in LGN. Because our stimuli have rivalling orientations, eye-specific modulations in LGN could potentially reflect a feedback signal from V1, where orientation-selective processing is well established12,13. This is consistent with BOLD signals correlating slightly better with local field potentials than with spikes21. If feedback plays such a role then it must necessarily be eye-specific, thus placing specific constraints on the possible underlying neural circuitry27. Alternatively, LGN modulation may instead arise directly from binocular interactions between LGN layers8,28 through local inhibitory interneurons29. Such local computations should also be visible in the BOLD response21. Note that our findings do not imply that rivalry is exclusively determined by eye-specific representations. Coherence between global stimulus-representations can clearly play a role in resolving rivalry3,5. Such global effects might operate via local eye-based modulation in LGN (or V1), modulated by top-down biases that favour coherent global percepts3. One possible control signal for such modulation could be feedback projections to monocular regions of V1 or even individual eye-specific layers of LGN27. Thus, rivalry may involve dynamic and competitive multilevel interactions at multiple processing stages1.\\n    \\n      EXPERIMENTAL PROCEDURES\\n      \\n        Participants and experimental design\\n        Four healthy volunteers with normal vision (aged 29–34 years) gave written informed consent to participate in the experiment, which was approved by the local ethics committee. One participant was an author, two experienced psychophysical observers and one a naive participant.\\n        The experiment comprised three independent stages. In the first stage we localised left and right LGN in each participant following standard definitions15,30 (see Supplementary Information). The second stage sought to identify any ocular preference for individual LGN voxels. Participants fixated centrally while viewing a large contrast reversing checkerboard stimulus presented bilaterally as two wedges (Fig. 1b), in alternating runs either to the left or right eye alone, while the other eye was covered and thus unstimulated. In the third stage we studied responses in LGN and V1 to rotating binocular rivalry stimuli presented continuously for 296 sec (see Fig. 2a and Supplementary Information). The stimuli yielded very effective rivalry with long phase durations (mean 10.7 s; see Fig. 2b) and very brief transition periods. Piecemeal or patchy rivalry was rare and very brief, and corresponding phases were discarded from the analysis.\\n      \\n      \\n        fMRI acquisition\\n        A 3T Allegra head scanner (Siemens Medical Systems, Erlangen, Germany) with standard transmit-receive head coil was used to acquire functional data with a single-shot gradient echo isotropic high-resolution EPI sequence (matrix size: 128x128; Fov: 192 mm; in-plane resolution: 1.5 mm; 20 slices with interleaved acquisition; slice thickness: 1.5 mm; TE: 30 ms; acquisition time per slice: 102 ms; TR: 2040 ms; echo spacing: 560 μs; receiver bandwidth: 250 kHz; 30% ramp sampling; 2-fold read oversampling to allow for k-space regridding; read gradient amplitude: 34.47 mT/m; read gradient slew rate: 344.7 mT/m/ms). In order to maximise statistical power we used only 20 slices that were optimised to cover the entire LGN, slightly angled to also achieve coverage of the calcarine sulcus.\\n        In the main rivalry experiment, between 7 and 8 runs of 145 functional MRI volumes were acquired per participant. For the LGN localiser we acquired one run with 203 volumes and for the eye localiser we acquired 2 runs of 163 volumes. For each participant a T1-weighted structural image was also acquired and 2–3 retinotopic mapping runs of 165 volumes during which participants viewed standard flickering checkerboard stimuli that stimulated either the horizontal or vertical meridians.\\n      \\n      \\n        fMRI analysis\\n        First each participant’s left and right lateral geniculate nuclei and V1 were identified using standard methods. Then an index of eye-dominance was computed for each voxel in LGN and V1 (see Supplementary Information). To study the effects of rivalry on responses we then investigated whether any significant response differences could be found between left-eye and right-eye dominated voxels during left-eye (red) and right-eye (blue) dominance phases. First we computed event-related responses (Figs. 3a, 3b, and Supplementary Fig. S2) by selectively averaging the BOLD fMRI signal separately for left-eye dominated and right-eye dominated voxels, time-locked to changes in perceptual dominance either from red to blue or from blue to red. Error bars reflect standard errors across participants (Figs. 3a and 3b) or standard errors across all repetitions of one event-type for one participant (Supplemental Fig. S2). A parameter-free forward model of event-related responses was computed by selectively averaging a predicted fMRI timecourse obtained by convolving the perceptual timeseries with a canonical hemodynamic response function provided by SPM2 (solid lines in Fig. 3). For a more formal comparison (Fig. 4) we also modelled responses voxel-wise using a general linear model with a regressor that modelled the difference in response amplitude between the left-eye and right-eye perceptual dominance (see Supplementary Information).\\n      \\n    \\n  '"
      ]
     },
     "execution_count": 14,
     "metadata": {},
     "output_type": "execute_result"
    }
   ],
   "source": [
    "get_text(tree.getroot())"
   ]
  },
  {
   "cell_type": "code",
   "execution_count": 16,
   "metadata": {},
   "outputs": [
    {
     "name": "stdout",
     "output_type": "stream",
     "text": [
      "Collecting nltk\n",
      "\u001b[?25l  Downloading https://files.pythonhosted.org/packages/f6/1d/d925cfb4f324ede997f6d47bea4d9babba51b49e87a767c170b77005889d/nltk-3.4.5.zip (1.5MB)\n",
      "\u001b[K     |████████████████████████████████| 1.5MB 722kB/s eta 0:00:01\n",
      "\u001b[?25hRequirement already satisfied: six in ./miniconda3/lib/python3.7/site-packages (from nltk) (1.12.0)\n",
      "Building wheels for collected packages: nltk\n",
      "  Building wheel for nltk (setup.py) ... \u001b[?25ldone\n",
      "\u001b[?25h  Created wheel for nltk: filename=nltk-3.4.5-cp37-none-any.whl size=1449908 sha256=67c500246ca756bfec25abe16dcc91620e48b5602b63f9c17599968193cc7544\n",
      "  Stored in directory: /home/student/.cache/pip/wheels/96/86/f6/68ab24c23f207c0077381a5e3904b2815136b879538a24b483\n",
      "Successfully built nltk\n",
      "Installing collected packages: nltk\n",
      "Successfully installed nltk-3.4.5\n"
     ]
    }
   ],
   "source": [
    "!pip install nltk"
   ]
  },
  {
   "cell_type": "code",
   "execution_count": 30,
   "metadata": {},
   "outputs": [
    {
     "name": "stderr",
     "output_type": "stream",
     "text": [
      "[nltk_data] Downloading package webtext to /home/student/nltk_data...\n",
      "[nltk_data]   Package webtext is already up-to-date!\n",
      "[nltk_data] Downloading package punkt to /home/student/nltk_data...\n",
      "[nltk_data]   Package punkt is already up-to-date!\n"
     ]
    },
    {
     "data": {
      "text/plain": [
       "True"
      ]
     },
     "execution_count": 30,
     "metadata": {},
     "output_type": "execute_result"
    }
   ],
   "source": [
    "nltk.download('webtext')\n",
    "nltk.download('punkt')"
   ]
  },
  {
   "cell_type": "code",
   "execution_count": 31,
   "metadata": {},
   "outputs": [],
   "source": [
    "import nltk\n",
    "\n",
    "text = nltk.tokenize.sent_tokenize(get_text(tree.getroot()))"
   ]
  },
  {
   "cell_type": "code",
   "execution_count": 32,
   "metadata": {},
   "outputs": [
    {
     "data": {
      "text/plain": [
       "['\\n    Currently little is known about the site and mechanisms of eye-specific suppression during rivalry.',\n",
       " 'The earliest stage after the retina where differential eye-specific modulation could occur is the LGN, which contains monocular neurons segregated into eye-specific layers7.',\n",
       " 'Although excited only by monocular stimulation, neurons in primate LGN can nevertheless show robust inhibitory binocular interactions8.',\n",
       " 'However, fluctuations in activity associated with changing perception during binocular rivalry have proven inconsistent in cat9,10 and apparently absent in monkey11.',\n",
       " 'There have been no reported investigations of binocular rivalry in the human LGN.',\n",
       " 'Common to all these previous studies is the absence of behavioural measures of perceptual dominance (either because the animals were anaesthetised, or because they were not required to report their perceptual experience).',\n",
       " 'The lack of behavioural measurements for classifying neuronal responses will have significantly lowered the power of such studies to detect any neural signature of rivalry, as perceptual dominance must instead be inferred indirectly.',\n",
       " 'We therefore set out to investigate whether human LGN showed eye-specific changes in signal in association with behaviorally measured changes in perception during binocular rivalry.',\n",
       " 'First, we functionally identified the LGN independently in each of four participants by contrasting contralateral versus ipsilateral hemifield binocular stimulation (Fig.',\n",
       " '1a: see Supplementary Information).',\n",
       " 'Next, we investigated responses of voxels within LGN to purely monocular stimulation with a bilateral stimulus (Fig.',\n",
       " '1b & Experimental Procedures).',\n",
       " 'The human LGN comprises six histologically distinct monocular layers each approximately 1mm thick.',\n",
       " 'Although the overall size of the human LGN can vary by a factor of two7, individual layers are still below the spatial resolution of conventional human fMRI.',\n",
       " 'To maximise sensitivity, we therefore used an improved fMRI scanning sequence with twice the spatial resolution of conventional techniques (1.5mm isotropic; see Experimental Procedures).',\n",
       " 'Although this much higher spatial resolution might still be too low to permit direct visualisation of each monocular layer, we hypothesised that the ocular preferences of neuronal populations within the LGN would be revealed through each voxel providing a biased sampling of monocular cells.',\n",
       " 'Such biased sampling arises because a randomly placed voxel will sample an anisotropic distribution of ocular preferences due to the convoluted nature of the laminar structure of the LGN.',\n",
       " 'Similar biases have been demonstrated for orientation preference in human V1, even at the lower spatial resolution of conventional fMRI, and have been used to directly measure orientation selective processing12,13.',\n",
       " 'Confirming our hypothesis of ocular biases in human LGN, voxels within the LGN responded vigorously to stimulation of either eye, but many showed a clear and significant preference or bias towards either right or left eye stimulation (Fig.',\n",
       " '1c).',\n",
       " 'For every voxel in every LGN in each participant we independently computed a measure of this ocular bias.',\n",
       " 'The distribution of these biases across all LGN voxels followed an approximately Gaussian distribution (Supplementary Fig.',\n",
       " 'S1).',\n",
       " 'Between 42 and 71% of all LGN voxels in every participant showed a significant (P<0.05) bias towards either ipsilateral or contralateral eye stimulation.',\n",
       " 'Having established the presence of significant ocular biases within LGN voxels, we could then proceed to test responses within these functionally defined voxels during binocular rivalry.',\n",
       " 'We measured activity in LGN and V1 using high spatial resolution fMRI while our participants now viewed a novel binocular rivalry stimulus (see Fig.',\n",
       " '2 and Experimental Procedures) consisting of two co-rotating orthogonal gratings (Fig.',\n",
       " '2a).',\n",
       " 'This stimulus was specially devised to ensure relatively long perceptual dominance periods with minimal piecemeal rivalry while strongly driving neuronal activity in LGN and early visual cortex (Fig.',\n",
       " '2a).',\n",
       " 'Participants reported which stimulus was dominant by button press.',\n",
       " 'We confirmed that dominance phases formed a gamma distribution14, with a relatively long mean perceptual dominance of 10.7 seconds (Fig.',\n",
       " '2b).',\n",
       " 'We next investigated whether voxels with left or right eye preference showed different responses when the left-eye or right-eye stimulus became dominant.',\n",
       " 'We calculated, for each LGN voxel, the fMRI signal associated with perceptual dominance and suppression of each monocular image.',\n",
       " 'We then used the information about the ocular preference of each voxel (obtained from the participant’s independent eye-localiser session) in order to calculate the fMRI signal associated with perceptual dominance and suppression of the stimulus presented to the preferred eye of each voxel.',\n",
       " 'Signals during dominance of either left or right eye images were calculated separately for all voxels with biases toward either left or right eye.',\n",
       " 'This revealed strong and highly significant increases in LGN signal during rivalry whenever the monocular stimulus corresponding to the independently measured ocular bias of that voxel became dominant, with corresponding decreases when it was suppressed (Fig.',\n",
       " '3a).',\n",
       " 'For example, voxels with left-eye preference under monocular viewing conditions (Supplementary Fig.',\n",
       " 'S1) showed relative enhancement of signals under rivalrous viewing when the left eye stimulus became dominant (Fig.',\n",
       " '3a, red symbols in right panel).',\n",
       " 'Conversely, voxels with a preference for right eye stimulation showed relative enhancement when the right eye stimulus became perceptually dominant.',\n",
       " 'These monocular signals of eye-specific enhancement and suppression reflecting perceptual dominance during rivalry were replicated independently in every participant (Supplemental Fig.',\n",
       " 'S2).',\n",
       " 'These timecourses also closely followed the independent predictions of a parameter-free “forward model”, obtained from the perceptual timecourses by convolution with a hemodynamic response function (Fig.',\n",
       " '3a, solid lines; see Experimental Procedures).',\n",
       " 'To formally characterize the eye dependence of relative suppression and enhancement, we calculated the difference in activity between periods of perceptual dominance of the left-eye stimulus (red) and the right-eye stimulus (blue) across all voxels dominated by either left eye (Fig.',\n",
       " '4; red bars) or right eye (Fig.',\n",
       " '4; blue bars).',\n",
       " 'Activity in left-eye dominated voxels was significantly stronger when the left-eye stimulus (red) was dominant than when the right-eye stimulus (blue) was dominant.',\n",
       " 'This is consistent with the notion that binocular rivalry involves differential modulation of eye-specific signals during perceptual dominance and suppression.',\n",
       " 'To estimate the size of this modulation, we compared the signal change associated with eye-specific modulation during rivalry in one representative participant with that evoked by extended monocular viewing of each monocular stimulus (see Supplementary Fig.',\n",
       " 'S3).',\n",
       " 'Although great caution is required in comparing these two very different measures in structures with non-specific monocular inhibitory interactions such as the LGN, eye-specific modulation during rivalry was incomplete compared to purely monocular stimulation (64% modulation; see Experimental Procedures).',\n",
       " 'Having shown that LGN voxels with a specific ocular preference showed signals related to perceptual dominance of that eye during rivalry, we next determined whether there was a graded relationship between these two independent measures.',\n",
       " 'For every LGN voxel we plotted the difference in activation between perceptual dominance of the preferred-eye and the non-preferred eye stimulus as a function of its ocular preference (Supplemental Fig.',\n",
       " 'S4).',\n",
       " 'There was a monotonic relationship between these two measures, with a modest but statistically significant positive correlation (P<0.05) between the two for every participant.',\n",
       " 'Thus, voxels with relatively strong ocular biases tended to exhibit larger differences in activity during different dominance phases in rivalry.',\n",
       " 'This may arise because signals in voxels with strong ocular biases are dominated by the input mainly to one eye and thus more clearly reflect the difference between rivalry and suppression.',\n",
       " 'Finally, we used the same methodology to quantify ocular biases and differential activity during perceptual dominance in rivalry in V1 (see Experimental Procedures).',\n",
       " 'As in LGN, there was a very similar relationship between the ocular preference of individual voxels in V1 and the presence of differential signals during perceptual dominance during rivalry (Figs 3 & 4); and eye-specific modulation during rivalry was also incomplete compared to purely monocular stimulation (28% modulation; see Supplemental Fig.',\n",
       " 'S3).',\n",
       " 'Small quantitative differences (for example, smaller overall differential activity; compare ordinate of Fig.',\n",
       " '3a and 3b) might reflect differences in baseline BOLD signals, in the width of the hemodynamic point-spread function or in the response gain between LGN and V1 (refs.',\n",
       " '15,16).',\n",
       " 'These findings represent the first positive evidence for a neural signature of rivalry in the LGN of a conscious individual of any species.',\n",
       " 'Rivalry-related signals are thus not confined to early visual cortex17–20, but can also be observed in subcortical structures.',\n",
       " 'In cat and monkey it has proven difficult to establish whether LGN reflects perceptual dominance in rivalry9–11 using single unit electrophysiological recording.',\n",
       " 'These studies used different stimuli (e.g.',\n",
       " 'presented at greater eccentricities11) in different species and did not measure perceptual dominance behaviourally, making it unclear when during recording any perceptual transitions might have occurred.',\n",
       " 'Thus they required a substantially different analytic approach to the present study.',\n",
       " 'For example, a study in monkey11 used power spectral analysis of neural signals, which should in principle allow accumulation of transition-related effects even though their random phase position is unknown.',\n",
       " 'However this is less sensitive than the selective averaging time-locked to known perceptual transitions used here.',\n",
       " 'Our successful demonstration of rivalrous fluctuations in human LGN may in principle reflect any of these major differences.',\n",
       " 'Alternatively, it might reflect differential sensitivity of the fMRI technique to particular aspects of the neuronal signal (e.g.',\n",
       " 'local field potentials rather than spiking activity21).',\n",
       " 'Our findings indicate that dominance and suppression in rivalry are accompanied by a modulation of signals in eye-specific representations in LGN and V1.',\n",
       " 'This is consistent with previous observations of neural signatures of rivalry in the monocular representation of the blind spot in V1 (ref.',\n",
       " '17).',\n",
       " 'However, by demonstrating that individual voxels acquired with high-resolution fMRI exhibit reliable ocular biases we were now able to show that such monocular rivalrous signatures are not specific to the unusual cortical locale of the blind spot but extend throughout V1 and into the LGN (Figs 3 & 4).',\n",
       " 'The suggestion22 that previous findings of rivalry in the blind spot representation17 in V1 might reflect competition between different stimulus preferences in surrounding binocular cells cannot account for our findings in LGN, which has no binocular cells.',\n",
       " 'While binocular rivalry can prevent conscious perception of a suppressed image, visual sensitivity during suppression is only moderately decreased23,24.',\n",
       " 'Moreover, suppressed images can still cause simple after-effects25,26.',\n",
       " 'This suggests that the eye-specific modulation we observed in human LGN must necessarily be incomplete, consistent with recent reports that higher visual areas show selective responses to suppressed stimuli (F. Fang & S. He, VSS 2005).',\n",
       " 'Similarly, we found that the depth of rivalrous modulation was smaller than the signal evoked by purely monocular stimulation with our stimuli.',\n",
       " 'It is important to note that any differences between monocular stimulation and rivalry are only approximations of modulation depth.',\n",
       " 'Such differences potentially reflect not only rivalry-related signal modulations, but also the absence of non-specific inhibitory interactions under monocular stimulation8.',\n",
       " 'Furthermore differences in degree of suppression between different structures (here, LGN and V1) may be influenced by differences in response gain15,16.',\n",
       " 'These caveats notwithstanding, our findings are consistent with the notion that suppression during rivalry does not result in a complete inhibition of stimulus driven signals, and that sensitivity to input from the suppressed eye is moderately (but not fully) reduced23,24.',\n",
       " 'In contrast, selective adaptation by suppressed images can be of equal magnitude as for dominant images26, suggesting that visual responses may reach early visual areas largely unattenuated; but adaptation is moderately reduced when visual saturation of the adapting stimuli is avoided25.',\n",
       " 'Responses to flashed stimuli in LGN can exhibit binocular interactions earlier than the first V1 responses8, suggesting such interactions do not require corticofugal feedback.',\n",
       " 'Here, stimuli were presented continuously for several minutes, resulting in a superposition of feed-forward and feedback processing due to the dense reciprocal connections between V1 and LGN27.',\n",
       " 'Thus our data do not distinguish the precise source of the modulatory influence that we observed in LGN.',\n",
       " 'Because our stimuli have rivalling orientations, eye-specific modulations in LGN could potentially reflect a feedback signal from V1, where orientation-selective processing is well established12,13.',\n",
       " 'This is consistent with BOLD signals correlating slightly better with local field potentials than with spikes21.',\n",
       " 'If feedback plays such a role then it must necessarily be eye-specific, thus placing specific constraints on the possible underlying neural circuitry27.',\n",
       " 'Alternatively, LGN modulation may instead arise directly from binocular interactions between LGN layers8,28 through local inhibitory interneurons29.',\n",
       " 'Such local computations should also be visible in the BOLD response21.',\n",
       " 'Note that our findings do not imply that rivalry is exclusively determined by eye-specific representations.',\n",
       " 'Coherence between global stimulus-representations can clearly play a role in resolving rivalry3,5.',\n",
       " 'Such global effects might operate via local eye-based modulation in LGN (or V1), modulated by top-down biases that favour coherent global percepts3.',\n",
       " 'One possible control signal for such modulation could be feedback projections to monocular regions of V1 or even individual eye-specific layers of LGN27.',\n",
       " 'Thus, rivalry may involve dynamic and competitive multilevel interactions at multiple processing stages1.',\n",
       " 'EXPERIMENTAL PROCEDURES\\n      \\n        Participants and experimental design\\n        Four healthy volunteers with normal vision (aged 29–34 years) gave written informed consent to participate in the experiment, which was approved by the local ethics committee.',\n",
       " 'One participant was an author, two experienced psychophysical observers and one a naive participant.',\n",
       " 'The experiment comprised three independent stages.',\n",
       " 'In the first stage we localised left and right LGN in each participant following standard definitions15,30 (see Supplementary Information).',\n",
       " 'The second stage sought to identify any ocular preference for individual LGN voxels.',\n",
       " 'Participants fixated centrally while viewing a large contrast reversing checkerboard stimulus presented bilaterally as two wedges (Fig.',\n",
       " '1b), in alternating runs either to the left or right eye alone, while the other eye was covered and thus unstimulated.',\n",
       " 'In the third stage we studied responses in LGN and V1 to rotating binocular rivalry stimuli presented continuously for 296 sec (see Fig.',\n",
       " '2a and Supplementary Information).',\n",
       " 'The stimuli yielded very effective rivalry with long phase durations (mean 10.7 s; see Fig.',\n",
       " '2b) and very brief transition periods.',\n",
       " 'Piecemeal or patchy rivalry was rare and very brief, and corresponding phases were discarded from the analysis.',\n",
       " 'fMRI acquisition\\n        A 3T Allegra head scanner (Siemens Medical Systems, Erlangen, Germany) with standard transmit-receive head coil was used to acquire functional data with a single-shot gradient echo isotropic high-resolution EPI sequence (matrix size: 128x128; Fov: 192 mm; in-plane resolution: 1.5 mm; 20 slices with interleaved acquisition; slice thickness: 1.5 mm; TE: 30 ms; acquisition time per slice: 102 ms; TR: 2040 ms; echo spacing: 560 μs; receiver bandwidth: 250 kHz; 30% ramp sampling; 2-fold read oversampling to allow for k-space regridding; read gradient amplitude: 34.47 mT/m; read gradient slew rate: 344.7 mT/m/ms).',\n",
       " 'In order to maximise statistical power we used only 20 slices that were optimised to cover the entire LGN, slightly angled to also achieve coverage of the calcarine sulcus.',\n",
       " 'In the main rivalry experiment, between 7 and 8 runs of 145 functional MRI volumes were acquired per participant.',\n",
       " 'For the LGN localiser we acquired one run with 203 volumes and for the eye localiser we acquired 2 runs of 163 volumes.',\n",
       " 'For each participant a T1-weighted structural image was also acquired and 2–3 retinotopic mapping runs of 165 volumes during which participants viewed standard flickering checkerboard stimuli that stimulated either the horizontal or vertical meridians.',\n",
       " 'fMRI analysis\\n        First each participant’s left and right lateral geniculate nuclei and V1 were identified using standard methods.',\n",
       " 'Then an index of eye-dominance was computed for each voxel in LGN and V1 (see Supplementary Information).',\n",
       " 'To study the effects of rivalry on responses we then investigated whether any significant response differences could be found between left-eye and right-eye dominated voxels during left-eye (red) and right-eye (blue) dominance phases.',\n",
       " 'First we computed event-related responses (Figs.',\n",
       " '3a, 3b, and Supplementary Fig.',\n",
       " 'S2) by selectively averaging the BOLD fMRI signal separately for left-eye dominated and right-eye dominated voxels, time-locked to changes in perceptual dominance either from red to blue or from blue to red.',\n",
       " 'Error bars reflect standard errors across participants (Figs.',\n",
       " '3a and 3b) or standard errors across all repetitions of one event-type for one participant (Supplemental Fig.',\n",
       " 'S2).',\n",
       " 'A parameter-free forward model of event-related responses was computed by selectively averaging a predicted fMRI timecourse obtained by convolving the perceptual timeseries with a canonical hemodynamic response function provided by SPM2 (solid lines in Fig.',\n",
       " '3).',\n",
       " 'For a more formal comparison (Fig.',\n",
       " '4) we also modelled responses voxel-wise using a general linear model with a regressor that modelled the difference in response amplitude between the left-eye and right-eye perceptual dominance (see Supplementary Information).']"
      ]
     },
     "execution_count": 32,
     "metadata": {},
     "output_type": "execute_result"
    }
   ],
   "source": [
    "text"
   ]
  },
  {
   "cell_type": "code",
   "execution_count": null,
   "metadata": {},
   "outputs": [],
   "source": []
  }
 ],
 "metadata": {
  "kernelspec": {
   "display_name": "Python 3",
   "language": "python",
   "name": "python3"
  },
  "language_info": {
   "codemirror_mode": {
    "name": "ipython",
    "version": 3
   },
   "file_extension": ".py",
   "mimetype": "text/x-python",
   "name": "python",
   "nbconvert_exporter": "python",
   "pygments_lexer": "ipython3",
   "version": "3.8.2"
  }
 },
 "nbformat": 4,
 "nbformat_minor": 4
}
