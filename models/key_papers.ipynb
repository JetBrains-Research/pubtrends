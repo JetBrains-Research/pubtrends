{
 "cells": [
  {
   "cell_type": "code",
   "execution_count": 2,
   "metadata": {},
   "outputs": [],
   "source": [
    "import networkx as nx\n",
    "import numpy as np\n",
    "import pandas as pd\n",
    "import psycopg2 as pg_driver\n",
    "\n",
    "from matplotlib import pyplot as plt\n",
    "%matplotlib inline\n",
    "\n",
    "from Bio import Entrez # pip install biopython\n",
    "Entrez.email = 'nikolay.kapralov@gmail.com'"
   ]
  },
  {
   "cell_type": "code",
   "execution_count": 3,
   "metadata": {},
   "outputs": [],
   "source": [
    "def search(*terms):\n",
    "    query=' '.join(terms)\n",
    "    handle = Entrez.esearch(db='pubmed',  \n",
    "                            retmax='100000',\n",
    "                            retmode='xml', \n",
    "                            term=query)\n",
    "    results = Entrez.read(handle)\n",
    "    return results"
   ]
  },
  {
   "cell_type": "code",
   "execution_count": 6,
   "metadata": {},
   "outputs": [
    {
     "name": "stdout",
     "output_type": "stream",
     "text": [
      "290 articles about ['DNA', 'methylation', 'clock']\n"
     ]
    }
   ],
   "source": [
    "terms = ['DNA', 'methylation', 'clock']\n",
    "\n",
    "results = search(*terms)['IdList']\n",
    "print(f'{len(results)} articles about {terms}')"
   ]
  },
  {
   "cell_type": "code",
   "execution_count": 7,
   "metadata": {},
   "outputs": [],
   "source": [
    "conn = pg_driver.connect(dbname='pubmed', user='biolabs', password='pubtrends', host='localhost')\n",
    "cursor = conn.cursor()"
   ]
  },
  {
   "cell_type": "code",
   "execution_count": 8,
   "metadata": {},
   "outputs": [
    {
     "name": "stdout",
     "output_type": "stream",
     "text": [
      "Wall time: 11.8 s\n"
     ]
    }
   ],
   "source": [
    "%%time\n",
    "\n",
    "pmids = [int(pmid) for pmid in results]\n",
    "\n",
    "query = '''\n",
    "SELECT pmid_citing, pmid_cited\n",
    "FROM Citations\n",
    "WHERE pmid_citing = ANY(%s) AND pmid_cited = ANY(%s);\n",
    "'''\n",
    "\n",
    "with conn:\n",
    "    cursor.execute(query, (pmids, pmids,))"
   ]
  },
  {
   "cell_type": "code",
   "execution_count": 10,
   "metadata": {},
   "outputs": [
    {
     "name": "stdout",
     "output_type": "stream",
     "text": [
      "628\n"
     ]
    }
   ],
   "source": [
    "data = []\n",
    "\n",
    "for row in cursor:\n",
    "    data.append(row)\n",
    "    \n",
    "print(len(data))"
   ]
  },
  {
   "cell_type": "code",
   "execution_count": 12,
   "metadata": {},
   "outputs": [],
   "source": [
    "G = nx.DiGraph(data)"
   ]
  },
  {
   "cell_type": "code",
   "execution_count": 32,
   "metadata": {},
   "outputs": [
    {
     "data": {
      "text/plain": [
       "[[26684672, 26678252], [24884411]]"
      ]
     },
     "execution_count": 32,
     "metadata": {},
     "output_type": "execute_result"
    }
   ],
   "source": [
    "list(nx.simple_cycles(G))"
   ]
  },
  {
   "cell_type": "code",
   "execution_count": 34,
   "metadata": {},
   "outputs": [
    {
     "name": "stdout",
     "output_type": "stream",
     "text": [
      "24884411 24884411\n"
     ]
    }
   ],
   "source": [
    "for v, u in G.edges():\n",
    "    if v == 24884411:\n",
    "        print(v, u)"
   ]
  },
  {
   "cell_type": "code",
   "execution_count": 35,
   "metadata": {},
   "outputs": [],
   "source": [
    "nx.write_graphml(G, 'dna-methylation-clock.graphml')"
   ]
  },
  {
   "cell_type": "code",
   "execution_count": 37,
   "metadata": {},
   "outputs": [
    {
     "name": "stdout",
     "output_type": "stream",
     "text": [
      "Wall time: 18min 6s\n"
     ]
    }
   ],
   "source": [
    "%%time\n",
    "\n",
    "pmids = [int(pmid) for pmid in results]\n",
    "\n",
    "query = '''\n",
    "SELECT C1.pmid_citing, C1.pmid_cited, C2.pmid_cited, P.year\n",
    "FROM Citations C1\n",
    "JOIN Citations C2\n",
    "ON C1.pmid_citing = C2.pmid_citing \n",
    "JOIN Publications P\n",
    "ON C1.pmid_citing = P.pmid\n",
    "WHERE C1.pmid_cited = ANY(%s) AND C2.pmid_cited = ANY(%s);\n",
    "'''\n",
    "\n",
    "with conn:\n",
    "    cursor.execute(query, (pmids, pmids,))"
   ]
  },
  {
   "cell_type": "code",
   "execution_count": 38,
   "metadata": {},
   "outputs": [
    {
     "name": "stdout",
     "output_type": "stream",
     "text": [
      "12974\n"
     ]
    }
   ],
   "source": [
    "cocit_data = []\n",
    "\n",
    "for row in cursor:\n",
    "    if row[1] != row[2]:\n",
    "        cocit_data.append(row)\n",
    "    \n",
    "print(len(cocit_data))"
   ]
  },
  {
   "cell_type": "code",
   "execution_count": 42,
   "metadata": {},
   "outputs": [
    {
     "data": {
      "text/plain": [
       "(16457718, 15975143, 16314580, 2006)"
      ]
     },
     "execution_count": 42,
     "metadata": {},
     "output_type": "execute_result"
    }
   ],
   "source": [
    "real_cocit_data[0]"
   ]
  },
  {
   "cell_type": "code",
   "execution_count": 43,
   "metadata": {},
   "outputs": [],
   "source": [
    "df = pd.DataFrame(real_cocit_data, columns=['citing', 'cited_1', 'cited_2', 'year'])"
   ]
  },
  {
   "cell_type": "code",
   "execution_count": 46,
   "metadata": {},
   "outputs": [
    {
     "data": {
      "text/html": [
       "<div>\n",
       "<style scoped>\n",
       "    .dataframe tbody tr th:only-of-type {\n",
       "        vertical-align: middle;\n",
       "    }\n",
       "\n",
       "    .dataframe tbody tr th {\n",
       "        vertical-align: top;\n",
       "    }\n",
       "\n",
       "    .dataframe thead th {\n",
       "        text-align: right;\n",
       "    }\n",
       "</style>\n",
       "<table border=\"1\" class=\"dataframe\">\n",
       "  <thead>\n",
       "    <tr style=\"text-align: right;\">\n",
       "      <th></th>\n",
       "      <th>citing</th>\n",
       "      <th>cited_1</th>\n",
       "      <th>cited_2</th>\n",
       "      <th>year</th>\n",
       "    </tr>\n",
       "  </thead>\n",
       "  <tbody>\n",
       "    <tr>\n",
       "      <th>0</th>\n",
       "      <td>16457718</td>\n",
       "      <td>15975143</td>\n",
       "      <td>16314580</td>\n",
       "      <td>2006.0</td>\n",
       "    </tr>\n",
       "    <tr>\n",
       "      <th>1</th>\n",
       "      <td>16457718</td>\n",
       "      <td>16314580</td>\n",
       "      <td>15975143</td>\n",
       "      <td>2006.0</td>\n",
       "    </tr>\n",
       "    <tr>\n",
       "      <th>2</th>\n",
       "      <td>16760426</td>\n",
       "      <td>1722018</td>\n",
       "      <td>15975143</td>\n",
       "      <td>2006.0</td>\n",
       "    </tr>\n",
       "    <tr>\n",
       "      <th>3</th>\n",
       "      <td>16760426</td>\n",
       "      <td>15975143</td>\n",
       "      <td>1722018</td>\n",
       "      <td>2006.0</td>\n",
       "    </tr>\n",
       "    <tr>\n",
       "      <th>4</th>\n",
       "      <td>17335343</td>\n",
       "      <td>15975143</td>\n",
       "      <td>16314580</td>\n",
       "      <td>2007.0</td>\n",
       "    </tr>\n",
       "  </tbody>\n",
       "</table>\n",
       "</div>"
      ],
      "text/plain": [
       "     citing   cited_1   cited_2    year\n",
       "0  16457718  15975143  16314580  2006.0\n",
       "1  16457718  16314580  15975143  2006.0\n",
       "2  16760426   1722018  15975143  2006.0\n",
       "3  16760426  15975143   1722018  2006.0\n",
       "4  17335343  15975143  16314580  2007.0"
      ]
     },
     "execution_count": 46,
     "metadata": {},
     "output_type": "execute_result"
    }
   ],
   "source": [
    "df.head()"
   ]
  },
  {
   "cell_type": "code",
   "execution_count": 51,
   "metadata": {},
   "outputs": [],
   "source": [
    "# Sort PMIDs of co-cited articles to avoid (a,b) & (b,a) duplication (can be also solved in SQL)\n",
    "df['min_cited'] = df[['cited_1', 'cited_2']].min(axis=1)\n",
    "df['max_cited'] = df[['cited_1', 'cited_2']].max(axis=1)"
   ]
  },
  {
   "cell_type": "code",
   "execution_count": 52,
   "metadata": {},
   "outputs": [
    {
     "data": {
      "text/html": [
       "<div>\n",
       "<style scoped>\n",
       "    .dataframe tbody tr th:only-of-type {\n",
       "        vertical-align: middle;\n",
       "    }\n",
       "\n",
       "    .dataframe tbody tr th {\n",
       "        vertical-align: top;\n",
       "    }\n",
       "\n",
       "    .dataframe thead th {\n",
       "        text-align: right;\n",
       "    }\n",
       "</style>\n",
       "<table border=\"1\" class=\"dataframe\">\n",
       "  <thead>\n",
       "    <tr style=\"text-align: right;\">\n",
       "      <th></th>\n",
       "      <th>citing</th>\n",
       "      <th>cited_1</th>\n",
       "      <th>cited_2</th>\n",
       "      <th>year</th>\n",
       "      <th>min_cited</th>\n",
       "      <th>max_cited</th>\n",
       "    </tr>\n",
       "  </thead>\n",
       "  <tbody>\n",
       "    <tr>\n",
       "      <th>0</th>\n",
       "      <td>16457718</td>\n",
       "      <td>15975143</td>\n",
       "      <td>16314580</td>\n",
       "      <td>2006.0</td>\n",
       "      <td>15975143</td>\n",
       "      <td>16314580</td>\n",
       "    </tr>\n",
       "    <tr>\n",
       "      <th>1</th>\n",
       "      <td>16457718</td>\n",
       "      <td>16314580</td>\n",
       "      <td>15975143</td>\n",
       "      <td>2006.0</td>\n",
       "      <td>15975143</td>\n",
       "      <td>16314580</td>\n",
       "    </tr>\n",
       "    <tr>\n",
       "      <th>2</th>\n",
       "      <td>16760426</td>\n",
       "      <td>1722018</td>\n",
       "      <td>15975143</td>\n",
       "      <td>2006.0</td>\n",
       "      <td>1722018</td>\n",
       "      <td>15975143</td>\n",
       "    </tr>\n",
       "    <tr>\n",
       "      <th>3</th>\n",
       "      <td>16760426</td>\n",
       "      <td>15975143</td>\n",
       "      <td>1722018</td>\n",
       "      <td>2006.0</td>\n",
       "      <td>1722018</td>\n",
       "      <td>15975143</td>\n",
       "    </tr>\n",
       "    <tr>\n",
       "      <th>4</th>\n",
       "      <td>17335343</td>\n",
       "      <td>15975143</td>\n",
       "      <td>16314580</td>\n",
       "      <td>2007.0</td>\n",
       "      <td>15975143</td>\n",
       "      <td>16314580</td>\n",
       "    </tr>\n",
       "  </tbody>\n",
       "</table>\n",
       "</div>"
      ],
      "text/plain": [
       "     citing   cited_1   cited_2    year  min_cited  max_cited\n",
       "0  16457718  15975143  16314580  2006.0   15975143   16314580\n",
       "1  16457718  16314580  15975143  2006.0   15975143   16314580\n",
       "2  16760426   1722018  15975143  2006.0    1722018   15975143\n",
       "3  16760426  15975143   1722018  2006.0    1722018   15975143\n",
       "4  17335343  15975143  16314580  2007.0   15975143   16314580"
      ]
     },
     "execution_count": 52,
     "metadata": {},
     "output_type": "execute_result"
    }
   ],
   "source": [
    "df.head()"
   ]
  },
  {
   "cell_type": "code",
   "execution_count": 55,
   "metadata": {},
   "outputs": [],
   "source": [
    "cocit = df.groupby(['min_cited', 'max_cited']).count()"
   ]
  },
  {
   "cell_type": "code",
   "execution_count": 66,
   "metadata": {},
   "outputs": [],
   "source": [
    "cocit_grouped = []\n",
    "for idx, val in cocit.iteritems():\n",
    "    for i, v in val.iteritems():\n",
    "        cocit_grouped.append((i[0], i[1], v))"
   ]
  },
  {
   "cell_type": "code",
   "execution_count": 68,
   "metadata": {},
   "outputs": [],
   "source": [
    "CG = nx.Graph()\n",
    "for t in cocit_grouped:\n",
    "    CG.add_edge(t[0], t[1], weight=t[2])"
   ]
  },
  {
   "cell_type": "code",
   "execution_count": 70,
   "metadata": {},
   "outputs": [],
   "source": [
    "nx.write_graphml(CG, 'dna-methylation-clock-cocitations.graphml')"
   ]
  },
  {
   "cell_type": "code",
   "execution_count": null,
   "metadata": {},
   "outputs": [],
   "source": []
  }
 ],
 "metadata": {
  "kernelspec": {
   "display_name": "Python 3",
   "language": "python",
   "name": "python3"
  },
  "language_info": {
   "codemirror_mode": {
    "name": "ipython",
    "version": 3
   },
   "file_extension": ".py",
   "mimetype": "text/x-python",
   "name": "python",
   "nbconvert_exporter": "python",
   "pygments_lexer": "ipython3",
   "version": "3.6.4"
  }
 },
 "nbformat": 4,
 "nbformat_minor": 2
}
