{
 "cells": [
  {
   "cell_type": "code",
   "execution_count": 1,
   "metadata": {},
   "outputs": [],
   "source": [
    "import networkx as nx\n",
    "import numpy as np\n",
    "import pandas as pd\n",
    "import psycopg2 as pg_driver\n",
    "\n",
    "from matplotlib import pyplot as plt\n",
    "%matplotlib inline\n",
    "\n",
    "from Bio import Entrez\n",
    "\n",
    "Entrez.email = 'nikolay.kapralov@gmail.com'\n",
    "PUBMED_ARTICLE_BASE_URL = 'https://www.ncbi.nlm.nih.gov/pubmed/?term='"
   ]
  },
  {
   "cell_type": "code",
   "execution_count": 2,
   "metadata": {},
   "outputs": [],
   "source": [
    "def search(*terms):\n",
    "    query=' '.join(terms)\n",
    "    handle = Entrez.esearch(db='pubmed',  \n",
    "                            retmax='100000',\n",
    "                            retmode='xml', \n",
    "                            term=query)\n",
    "    results = Entrez.read(handle)\n",
    "    return results"
   ]
  },
  {
   "cell_type": "code",
   "execution_count": 3,
   "metadata": {},
   "outputs": [
    {
     "name": "stdout",
     "output_type": "stream",
     "text": [
      "290 articles about ['DNA', 'methylation', 'clock']\n"
     ]
    }
   ],
   "source": [
    "terms = ['DNA', 'methylation', 'clock']\n",
    "\n",
    "results = search(*terms)['IdList']\n",
    "print(f'{len(results)} articles about {terms}')"
   ]
  },
  {
   "cell_type": "markdown",
   "metadata": {},
   "source": [
    "A file with citation stats is required to run next cell successfully.\n",
    "The file can be obtained with the following commands if user has access to `pubmed` database (use crawler).\n",
    "\n",
    "1. Run `psql`.\n",
    "2. Run following commands in the `psql` prompt:\n",
    "    * `\\f ','`\n",
    "    * `\\a`\n",
    "    * `\\t`\n",
    "    * `\\o '/path/to/the/file'`\n",
    "    * `SELECT C.pmid_cited AS pmid, P.year, COUNT(1) AS count`\n",
    "    * `FROM Citations C`\n",
    "    * `JOIN Publications P`\n",
    "    * `ON C.pmid_citing = P.pmid`\n",
    "    * `GROUP BY C.pmid_cited, P.year;`\n",
    "    * `\\o`\n",
    "3. Store '/path/to/the/file' in the `CITATION_STATS_FILE` variable in the following cell."
   ]
  },
  {
   "cell_type": "code",
   "execution_count": 4,
   "metadata": {},
   "outputs": [
    {
     "name": "stdout",
     "output_type": "stream",
     "text": [
      "Wall time: 12min 14s\n"
     ]
    }
   ],
   "source": [
    "%%time\n",
    "\n",
    "data = []\n",
    "CITATION_STATS_FILE = '../citations_per_year.csv'\n",
    "with open(CITATION_STATS_FILE, 'r') as f:\n",
    "    for line in f:\n",
    "        pmid, year, count = line[:-1].split(',')\n",
    "        if pmid in results:\n",
    "            data.append([pmid, year, count])"
   ]
  },
  {
   "cell_type": "code",
   "execution_count": 5,
   "metadata": {},
   "outputs": [
    {
     "data": {
      "text/plain": [
       "['1722018', '1994', '2']"
      ]
     },
     "execution_count": 5,
     "metadata": {},
     "output_type": "execute_result"
    }
   ],
   "source": [
    "data[0]"
   ]
  },
  {
   "cell_type": "code",
   "execution_count": 6,
   "metadata": {},
   "outputs": [
    {
     "name": "stdout",
     "output_type": "stream",
     "text": [
      "674\n",
      "         pmid  year  count\n",
      "31    2777259     0      1\n",
      "57   11820819     0      1\n",
      "75   15790588     0      3\n",
      "92   15941485     0      1\n",
      "111  16314580     0      2\n",
      "140  16717091     0      1\n",
      "235  19861541     0      1\n",
      "309  22080730     0      1\n",
      "317  22348461     0      1\n",
      "374  23217262     0      1\n",
      "398  24138928     0      1\n",
      "433  24884411     0      1\n",
      "662\n"
     ]
    }
   ],
   "source": [
    "df = pd.DataFrame(data, columns = ['pmid', 'year', 'count'])\n",
    "for col in df:\n",
    "    df[col] = df[col].astype(str).replace('', 0) # some papers without recognized year -- more tests for parser\n",
    "    df[col] = df[col].astype(int)\n",
    "print(len(df))\n",
    "print(df[df['year'] == 0])\n",
    "df = df[df['year'] > 0]\n",
    "print(len(df))"
   ]
  },
  {
   "cell_type": "code",
   "execution_count": 7,
   "metadata": {},
   "outputs": [],
   "source": [
    "year_min = df['year'].min()\n",
    "year_max = df['year'].max()"
   ]
  },
  {
   "cell_type": "code",
   "execution_count": 36,
   "metadata": {},
   "outputs": [
    {
     "data": {
      "text/html": [
       "<div>\n",
       "<style scoped>\n",
       "    .dataframe tbody tr th:only-of-type {\n",
       "        vertical-align: middle;\n",
       "    }\n",
       "\n",
       "    .dataframe tbody tr th {\n",
       "        vertical-align: top;\n",
       "    }\n",
       "\n",
       "    .dataframe thead th {\n",
       "        text-align: right;\n",
       "    }\n",
       "</style>\n",
       "<table border=\"1\" class=\"dataframe\">\n",
       "  <thead>\n",
       "    <tr style=\"text-align: right;\">\n",
       "      <th></th>\n",
       "      <th>citing</th>\n",
       "      <th>cited_1</th>\n",
       "      <th>cited_2</th>\n",
       "      <th>year</th>\n",
       "      <th>min_cited</th>\n",
       "      <th>max_cited</th>\n",
       "    </tr>\n",
       "  </thead>\n",
       "  <tbody>\n",
       "    <tr>\n",
       "      <th>0</th>\n",
       "      <td>16457718</td>\n",
       "      <td>15975143</td>\n",
       "      <td>16314580</td>\n",
       "      <td>2006.0</td>\n",
       "      <td>15975143</td>\n",
       "      <td>16314580</td>\n",
       "    </tr>\n",
       "    <tr>\n",
       "      <th>1</th>\n",
       "      <td>16457718</td>\n",
       "      <td>16314580</td>\n",
       "      <td>15975143</td>\n",
       "      <td>2006.0</td>\n",
       "      <td>15975143</td>\n",
       "      <td>16314580</td>\n",
       "    </tr>\n",
       "    <tr>\n",
       "      <th>2</th>\n",
       "      <td>16760426</td>\n",
       "      <td>1722018</td>\n",
       "      <td>15975143</td>\n",
       "      <td>2006.0</td>\n",
       "      <td>1722018</td>\n",
       "      <td>15975143</td>\n",
       "    </tr>\n",
       "    <tr>\n",
       "      <th>3</th>\n",
       "      <td>16760426</td>\n",
       "      <td>15975143</td>\n",
       "      <td>1722018</td>\n",
       "      <td>2006.0</td>\n",
       "      <td>1722018</td>\n",
       "      <td>15975143</td>\n",
       "    </tr>\n",
       "    <tr>\n",
       "      <th>4</th>\n",
       "      <td>17335343</td>\n",
       "      <td>15975143</td>\n",
       "      <td>16314580</td>\n",
       "      <td>2007.0</td>\n",
       "      <td>15975143</td>\n",
       "      <td>16314580</td>\n",
       "    </tr>\n",
       "  </tbody>\n",
       "</table>\n",
       "</div>"
      ],
      "text/plain": [
       "     citing   cited_1   cited_2    year  min_cited  max_cited\n",
       "0  16457718  15975143  16314580  2006.0   15975143   16314580\n",
       "1  16457718  16314580  15975143  2006.0   15975143   16314580\n",
       "2  16760426   1722018  15975143  2006.0    1722018   15975143\n",
       "3  16760426  15975143   1722018  2006.0    1722018   15975143\n",
       "4  17335343  15975143  16314580  2007.0   15975143   16314580"
      ]
     },
     "execution_count": 36,
     "metadata": {},
     "output_type": "execute_result"
    }
   ],
   "source": []
  },
  {
   "cell_type": "code",
   "execution_count": 8,
   "metadata": {},
   "outputs": [
    {
     "data": {
      "text/plain": [
       "Text(0,0.5,'Number of citations')"
      ]
     },
     "execution_count": 8,
     "metadata": {},
     "output_type": "execute_result"
    },
    {
     "data": {
      "image/png": "[encoded data removed]",
      "text/plain": [
       "<matplotlib.figure.Figure at 0x22285ebca90>"
      ]
     },
     "metadata": {},
     "output_type": "display_data"
    }
   ],
   "source": [
    "total_citations = df.groupby('pmid')['count'].sum().reset_index().sort_values(by='count', ascending=False)\n",
    "plt.figure(figsize=(10, 5))\n",
    "ax = total_citations['count'].plot.bar()\n",
    "ax.set_xticklabels([])\n",
    "ax.set_xlabel('Articles')\n",
    "ax.set_ylabel('Number of citations')"
   ]
  },
  {
   "cell_type": "code",
   "execution_count": 9,
   "metadata": {
    "scrolled": true
   },
   "outputs": [
    {
     "name": "stdout",
     "output_type": "stream",
     "text": [
      "https://www.ncbi.nlm.nih.gov/pubmed/?term=24138928 436\n",
      "https://www.ncbi.nlm.nih.gov/pubmed/?term=25313081 104\n",
      "https://www.ncbi.nlm.nih.gov/pubmed/?term=15790588 102\n",
      "https://www.ncbi.nlm.nih.gov/pubmed/?term=2777259 101\n",
      "https://www.ncbi.nlm.nih.gov/pubmed/?term=15860628 94\n",
      "https://www.ncbi.nlm.nih.gov/pubmed/?term=22438023 82\n",
      "https://www.ncbi.nlm.nih.gov/pubmed/?term=25617346 74\n",
      "https://www.ncbi.nlm.nih.gov/pubmed/?term=23217262 72\n",
      "https://www.ncbi.nlm.nih.gov/pubmed/?term=25678027 69\n"
     ]
    }
   ],
   "source": [
    "threshold_of_interest = 0.05\n",
    "\n",
    "articles = total_citations.iloc[:round(len(total_citations) * threshold_of_interest), 0].values\n",
    "counts = total_citations.iloc[:round(len(total_citations) * threshold_of_interest), 1].values\n",
    "urls = [PUBMED_ARTICLE_BASE_URL + str(article) for article in articles]\n",
    "for url, count in zip(urls, counts):\n",
    "    print(url, count)"
   ]
  },
  {
   "cell_type": "code",
   "execution_count": 10,
   "metadata": {},
   "outputs": [],
   "source": [
    "def plot_citation_timeline(pmid):\n",
    "    df_sel = df[df['pmid'] == pmid].reset_index()\n",
    "    df_sel.plot('year', 'count', marker='o', figsize=(10, 5))"
   ]
  },
  {
   "cell_type": "code",
   "execution_count": 11,
   "metadata": {},
   "outputs": [
    {
     "data": {
      "image/png": "[encoded data removed]",
      "text/plain": [
       "<matplotlib.figure.Figure at 0x2228706ca20>"
      ]
     },
     "metadata": {},
     "output_type": "display_data"
    }
   ],
   "source": [
    "# DNA methylation age of human tissues and cell types. Horvath S.\n",
    "plot_citation_timeline(24138928)"
   ]
  },
  {
   "cell_type": "code",
   "execution_count": 12,
   "metadata": {},
   "outputs": [
    {
     "data": {
      "image/png": "[encoded data removed]",
      "text/plain": [
       "<matplotlib.figure.Figure at 0x22287178978>"
      ]
     },
     "metadata": {},
     "output_type": "display_data"
    }
   ],
   "source": [
    "# Cytosine methylation and the fate of CpG dinucleotides in vertebrate genomes. Cooper DN1, Krawczak M.\n",
    "plot_citation_timeline(2777259)"
   ]
  },
  {
   "cell_type": "code",
   "execution_count": 13,
   "metadata": {},
   "outputs": [
    {
     "data": {
      "image/png": "[encoded data removed]",
      "text/plain": [
       "<matplotlib.figure.Figure at 0x222873f8908>"
      ]
     },
     "metadata": {},
     "output_type": "display_data"
    }
   ],
   "source": [
    "# Deregulated expression of the PER1, PER2 and PER3 genes in breast cancers. Chen ST1, Choo KB, Hou MF, Yeh KT, Kuo SJ, Chang JG.\n",
    "plot_citation_timeline(15790588)"
   ]
  },
  {
   "cell_type": "code",
   "execution_count": 14,
   "metadata": {},
   "outputs": [
    {
     "data": {
      "text/plain": [
       "<matplotlib.axes._subplots.AxesSubplot at 0x222872d46d8>"
      ]
     },
     "execution_count": 14,
     "metadata": {},
     "output_type": "execute_result"
    },
    {
     "data": {
      "image/png": "[encoded data removed]",
      "text/plain": [
       "<matplotlib.figure.Figure at 0x2228740fb00>"
      ]
     },
     "metadata": {},
     "output_type": "display_data"
    }
   ],
   "source": [
    "max_gain = df.groupby('year')['pmid', 'count'].max().reset_index().sort_values('year')\n",
    "max_gain.plot.bar(['pmid', 'year'], 'count', figsize=(10, 5))"
   ]
  },
  {
   "cell_type": "code",
   "execution_count": 15,
   "metadata": {},
   "outputs": [
    {
     "data": {
      "text/html": [
       "<div>\n",
       "<style scoped>\n",
       "    .dataframe tbody tr th:only-of-type {\n",
       "        vertical-align: middle;\n",
       "    }\n",
       "\n",
       "    .dataframe tbody tr th {\n",
       "        vertical-align: top;\n",
       "    }\n",
       "\n",
       "    .dataframe thead th {\n",
       "        text-align: right;\n",
       "    }\n",
       "</style>\n",
       "<table border=\"1\" class=\"dataframe\">\n",
       "  <thead>\n",
       "    <tr style=\"text-align: right;\">\n",
       "      <th></th>\n",
       "      <th>year</th>\n",
       "      <th>pmid</th>\n",
       "      <th>count</th>\n",
       "    </tr>\n",
       "  </thead>\n",
       "  <tbody>\n",
       "    <tr>\n",
       "      <th>0</th>\n",
       "      <td>1985</td>\n",
       "      <td>2857475</td>\n",
       "      <td>2</td>\n",
       "    </tr>\n",
       "    <tr>\n",
       "      <th>1</th>\n",
       "      <td>1986</td>\n",
       "      <td>2857475</td>\n",
       "      <td>1</td>\n",
       "    </tr>\n",
       "    <tr>\n",
       "      <th>2</th>\n",
       "      <td>1988</td>\n",
       "      <td>2857475</td>\n",
       "      <td>1</td>\n",
       "    </tr>\n",
       "    <tr>\n",
       "      <th>3</th>\n",
       "      <td>1990</td>\n",
       "      <td>2777259</td>\n",
       "      <td>5</td>\n",
       "    </tr>\n",
       "    <tr>\n",
       "      <th>4</th>\n",
       "      <td>1991</td>\n",
       "      <td>2857475</td>\n",
       "      <td>6</td>\n",
       "    </tr>\n",
       "    <tr>\n",
       "      <th>5</th>\n",
       "      <td>1992</td>\n",
       "      <td>2857475</td>\n",
       "      <td>4</td>\n",
       "    </tr>\n",
       "    <tr>\n",
       "      <th>6</th>\n",
       "      <td>1993</td>\n",
       "      <td>2857475</td>\n",
       "      <td>2</td>\n",
       "    </tr>\n",
       "    <tr>\n",
       "      <th>7</th>\n",
       "      <td>1994</td>\n",
       "      <td>2777259</td>\n",
       "      <td>2</td>\n",
       "    </tr>\n",
       "    <tr>\n",
       "      <th>8</th>\n",
       "      <td>1995</td>\n",
       "      <td>25969563</td>\n",
       "      <td>1</td>\n",
       "    </tr>\n",
       "    <tr>\n",
       "      <th>9</th>\n",
       "      <td>1996</td>\n",
       "      <td>2857475</td>\n",
       "      <td>1</td>\n",
       "    </tr>\n",
       "    <tr>\n",
       "      <th>10</th>\n",
       "      <td>1997</td>\n",
       "      <td>2857475</td>\n",
       "      <td>1</td>\n",
       "    </tr>\n",
       "    <tr>\n",
       "      <th>11</th>\n",
       "      <td>1999</td>\n",
       "      <td>2857475</td>\n",
       "      <td>1</td>\n",
       "    </tr>\n",
       "    <tr>\n",
       "      <th>12</th>\n",
       "      <td>2000</td>\n",
       "      <td>2777259</td>\n",
       "      <td>2</td>\n",
       "    </tr>\n",
       "    <tr>\n",
       "      <th>13</th>\n",
       "      <td>2001</td>\n",
       "      <td>2777259</td>\n",
       "      <td>1</td>\n",
       "    </tr>\n",
       "    <tr>\n",
       "      <th>14</th>\n",
       "      <td>2002</td>\n",
       "      <td>2777259</td>\n",
       "      <td>2</td>\n",
       "    </tr>\n",
       "    <tr>\n",
       "      <th>15</th>\n",
       "      <td>2003</td>\n",
       "      <td>2777259</td>\n",
       "      <td>6</td>\n",
       "    </tr>\n",
       "    <tr>\n",
       "      <th>16</th>\n",
       "      <td>2004</td>\n",
       "      <td>2777259</td>\n",
       "      <td>4</td>\n",
       "    </tr>\n",
       "    <tr>\n",
       "      <th>17</th>\n",
       "      <td>2005</td>\n",
       "      <td>15860628</td>\n",
       "      <td>3</td>\n",
       "    </tr>\n",
       "    <tr>\n",
       "      <th>18</th>\n",
       "      <td>2006</td>\n",
       "      <td>16314580</td>\n",
       "      <td>4</td>\n",
       "    </tr>\n",
       "    <tr>\n",
       "      <th>19</th>\n",
       "      <td>2007</td>\n",
       "      <td>17029560</td>\n",
       "      <td>5</td>\n",
       "    </tr>\n",
       "    <tr>\n",
       "      <th>20</th>\n",
       "      <td>2008</td>\n",
       "      <td>18483325</td>\n",
       "      <td>6</td>\n",
       "    </tr>\n",
       "    <tr>\n",
       "      <th>21</th>\n",
       "      <td>2009</td>\n",
       "      <td>18483325</td>\n",
       "      <td>9</td>\n",
       "    </tr>\n",
       "    <tr>\n",
       "      <th>22</th>\n",
       "      <td>2010</td>\n",
       "      <td>20877475</td>\n",
       "      <td>17</td>\n",
       "    </tr>\n",
       "    <tr>\n",
       "      <th>23</th>\n",
       "      <td>2011</td>\n",
       "      <td>21536041</td>\n",
       "      <td>9</td>\n",
       "    </tr>\n",
       "    <tr>\n",
       "      <th>24</th>\n",
       "      <td>2012</td>\n",
       "      <td>22878891</td>\n",
       "      <td>15</td>\n",
       "    </tr>\n",
       "    <tr>\n",
       "      <th>25</th>\n",
       "      <td>2013</td>\n",
       "      <td>23604474</td>\n",
       "      <td>12</td>\n",
       "    </tr>\n",
       "    <tr>\n",
       "      <th>26</th>\n",
       "      <td>2014</td>\n",
       "      <td>25831497</td>\n",
       "      <td>32</td>\n",
       "    </tr>\n",
       "    <tr>\n",
       "      <th>27</th>\n",
       "      <td>2015</td>\n",
       "      <td>26684672</td>\n",
       "      <td>90</td>\n",
       "    </tr>\n",
       "    <tr>\n",
       "      <th>28</th>\n",
       "      <td>2016</td>\n",
       "      <td>27716309</td>\n",
       "      <td>135</td>\n",
       "    </tr>\n",
       "    <tr>\n",
       "      <th>29</th>\n",
       "      <td>2017</td>\n",
       "      <td>28731985</td>\n",
       "      <td>150</td>\n",
       "    </tr>\n",
       "    <tr>\n",
       "      <th>30</th>\n",
       "      <td>2018</td>\n",
       "      <td>30167451</td>\n",
       "      <td>29</td>\n",
       "    </tr>\n",
       "    <tr>\n",
       "      <th>31</th>\n",
       "      <td>2019</td>\n",
       "      <td>27511193</td>\n",
       "      <td>1</td>\n",
       "    </tr>\n",
       "  </tbody>\n",
       "</table>\n",
       "</div>"
      ],
      "text/plain": [
       "    year      pmid  count\n",
       "0   1985   2857475      2\n",
       "1   1986   2857475      1\n",
       "2   1988   2857475      1\n",
       "3   1990   2777259      5\n",
       "4   1991   2857475      6\n",
       "5   1992   2857475      4\n",
       "6   1993   2857475      2\n",
       "7   1994   2777259      2\n",
       "8   1995  25969563      1\n",
       "9   1996   2857475      1\n",
       "10  1997   2857475      1\n",
       "11  1999   2857475      1\n",
       "12  2000   2777259      2\n",
       "13  2001   2777259      1\n",
       "14  2002   2777259      2\n",
       "15  2003   2777259      6\n",
       "16  2004   2777259      4\n",
       "17  2005  15860628      3\n",
       "18  2006  16314580      4\n",
       "19  2007  17029560      5\n",
       "20  2008  18483325      6\n",
       "21  2009  18483325      9\n",
       "22  2010  20877475     17\n",
       "23  2011  21536041      9\n",
       "24  2012  22878891     15\n",
       "25  2013  23604474     12\n",
       "26  2014  25831497     32\n",
       "27  2015  26684672     90\n",
       "28  2016  27716309    135\n",
       "29  2017  28731985    150\n",
       "30  2018  30167451     29\n",
       "31  2019  27511193      1"
      ]
     },
     "execution_count": 15,
     "metadata": {},
     "output_type": "execute_result"
    }
   ],
   "source": [
    "max_gain"
   ]
  },
  {
   "cell_type": "code",
   "execution_count": 16,
   "metadata": {},
   "outputs": [
    {
     "name": "stdout",
     "output_type": "stream",
     "text": [
      "https://www.ncbi.nlm.nih.gov/pubmed/?term=25969563 1995\n",
      "https://www.ncbi.nlm.nih.gov/pubmed/?term=2857475 1999\n",
      "https://www.ncbi.nlm.nih.gov/pubmed/?term=2777259 2004\n",
      "https://www.ncbi.nlm.nih.gov/pubmed/?term=15860628 2005\n",
      "https://www.ncbi.nlm.nih.gov/pubmed/?term=16314580 2006\n",
      "https://www.ncbi.nlm.nih.gov/pubmed/?term=17029560 2007\n",
      "https://www.ncbi.nlm.nih.gov/pubmed/?term=18483325 2009\n",
      "https://www.ncbi.nlm.nih.gov/pubmed/?term=20877475 2010\n",
      "https://www.ncbi.nlm.nih.gov/pubmed/?term=21536041 2011\n",
      "https://www.ncbi.nlm.nih.gov/pubmed/?term=22878891 2012\n",
      "https://www.ncbi.nlm.nih.gov/pubmed/?term=23604474 2013\n",
      "https://www.ncbi.nlm.nih.gov/pubmed/?term=25831497 2014\n",
      "https://www.ncbi.nlm.nih.gov/pubmed/?term=26684672 2015\n",
      "https://www.ncbi.nlm.nih.gov/pubmed/?term=27716309 2016\n",
      "https://www.ncbi.nlm.nih.gov/pubmed/?term=28731985 2017\n",
      "https://www.ncbi.nlm.nih.gov/pubmed/?term=30167451 2018\n",
      "https://www.ncbi.nlm.nih.gov/pubmed/?term=27511193 2019\n"
     ]
    }
   ],
   "source": [
    "max_gain_last_year = max_gain.groupby('pmid')['year'].max().reset_index().sort_values('year')\n",
    "\n",
    "articles_gain = max_gain_last_year.iloc[:, 0].values\n",
    "years = max_gain_last_year.iloc[:, 1].values\n",
    "urls = [PUBMED_ARTICLE_BASE_URL + str(article) for article in articles_gain]\n",
    "for url, year in zip(urls, years):\n",
    "    print(url, year)"
   ]
  },
  {
   "cell_type": "code",
   "execution_count": 17,
   "metadata": {},
   "outputs": [],
   "source": [
    "conn = pg_driver.connect(dbname='pubmed', user='biolabs', password='pubtrends', host='localhost')\n",
    "cursor = conn.cursor()"
   ]
  },
  {
   "cell_type": "code",
   "execution_count": 18,
   "metadata": {},
   "outputs": [
    {
     "name": "stdout",
     "output_type": "stream",
     "text": [
      "Wall time: 9.98 s\n"
     ]
    }
   ],
   "source": [
    "%%time\n",
    "\n",
    "pmids = [int(pmid) for pmid in results]\n",
    "\n",
    "query = '''\n",
    "SELECT pmid_citing, pmid_cited\n",
    "FROM Citations\n",
    "WHERE pmid_citing = ANY(%s) AND pmid_cited = ANY(%s);\n",
    "'''\n",
    "\n",
    "with conn:\n",
    "    cursor.execute(query, (pmids, pmids,))"
   ]
  },
  {
   "cell_type": "code",
   "execution_count": 19,
   "metadata": {},
   "outputs": [
    {
     "name": "stdout",
     "output_type": "stream",
     "text": [
      "628\n"
     ]
    }
   ],
   "source": [
    "data = []\n",
    "\n",
    "for row in cursor:\n",
    "    data.append(row)\n",
    "    \n",
    "print(len(data))"
   ]
  },
  {
   "cell_type": "code",
   "execution_count": 20,
   "metadata": {},
   "outputs": [],
   "source": [
    "G = nx.DiGraph(data)"
   ]
  },
  {
   "cell_type": "code",
   "execution_count": 21,
   "metadata": {},
   "outputs": [
    {
     "data": {
      "text/plain": [
       "151"
      ]
     },
     "execution_count": 21,
     "metadata": {},
     "output_type": "execute_result"
    }
   ],
   "source": [
    "len(G.nodes)"
   ]
  },
  {
   "cell_type": "code",
   "execution_count": 22,
   "metadata": {},
   "outputs": [
    {
     "data": {
      "text/plain": [
       "[[26684672, 26678252], [24884411]]"
      ]
     },
     "execution_count": 22,
     "metadata": {},
     "output_type": "execute_result"
    }
   ],
   "source": [
    "list(nx.simple_cycles(G))"
   ]
  },
  {
   "cell_type": "code",
   "execution_count": 23,
   "metadata": {},
   "outputs": [
    {
     "name": "stdout",
     "output_type": "stream",
     "text": [
      "24884411 24884411\n"
     ]
    }
   ],
   "source": [
    "# Another test for parser -- self-loop\n",
    "for v, u in G.edges():\n",
    "    if v == 24884411:\n",
    "        print(v, u)"
   ]
  },
  {
   "cell_type": "code",
   "execution_count": 24,
   "metadata": {},
   "outputs": [],
   "source": [
    "nx.write_graphml(G, 'dna-methylation-clock.graphml')"
   ]
  },
  {
   "cell_type": "code",
   "execution_count": 25,
   "metadata": {},
   "outputs": [
    {
     "name": "stdout",
     "output_type": "stream",
     "text": [
      "Wall time: 1h 30min 4s\n"
     ]
    }
   ],
   "source": [
    "%%time\n",
    "\n",
    "pmids = [int(pmid) for pmid in results]\n",
    "\n",
    "query = '''\n",
    "SELECT C1.pmid_citing, C1.pmid_cited, C2.pmid_cited, P.year\n",
    "FROM Citations C1\n",
    "JOIN Citations C2\n",
    "ON C1.pmid_citing = C2.pmid_citing \n",
    "JOIN Publications P\n",
    "ON C1.pmid_citing = P.pmid\n",
    "WHERE C1.pmid_cited = ANY(%s) AND C2.pmid_cited = ANY(%s);\n",
    "'''\n",
    "\n",
    "with conn:\n",
    "    cursor.execute(query, (pmids, pmids,))"
   ]
  },
  {
   "cell_type": "code",
   "execution_count": 26,
   "metadata": {},
   "outputs": [
    {
     "name": "stdout",
     "output_type": "stream",
     "text": [
      "9752\n"
     ]
    }
   ],
   "source": [
    "cocit_data = []\n",
    "\n",
    "for row in cursor:\n",
    "    row = list(row)\n",
    "    if row[1] != row[2]:\n",
    "        cocit_data.append(row)\n",
    "    \n",
    "print(len(cocit_data))"
   ]
  },
  {
   "cell_type": "code",
   "execution_count": 27,
   "metadata": {},
   "outputs": [
    {
     "data": {
      "text/plain": [
       "[16457718, 15975143, 16314580, 2006]"
      ]
     },
     "execution_count": 27,
     "metadata": {},
     "output_type": "execute_result"
    }
   ],
   "source": [
    "cocit_data[0]"
   ]
  },
  {
   "cell_type": "code",
   "execution_count": 28,
   "metadata": {},
   "outputs": [],
   "source": [
    "df = pd.DataFrame(cocit_data, columns=['citing', 'cited_1', 'cited_2', 'year'])"
   ]
  },
  {
   "cell_type": "code",
   "execution_count": 29,
   "metadata": {},
   "outputs": [
    {
     "data": {
      "text/html": [
       "<div>\n",
       "<style scoped>\n",
       "    .dataframe tbody tr th:only-of-type {\n",
       "        vertical-align: middle;\n",
       "    }\n",
       "\n",
       "    .dataframe tbody tr th {\n",
       "        vertical-align: top;\n",
       "    }\n",
       "\n",
       "    .dataframe thead th {\n",
       "        text-align: right;\n",
       "    }\n",
       "</style>\n",
       "<table border=\"1\" class=\"dataframe\">\n",
       "  <thead>\n",
       "    <tr style=\"text-align: right;\">\n",
       "      <th></th>\n",
       "      <th>citing</th>\n",
       "      <th>cited_1</th>\n",
       "      <th>cited_2</th>\n",
       "      <th>year</th>\n",
       "    </tr>\n",
       "  </thead>\n",
       "  <tbody>\n",
       "    <tr>\n",
       "      <th>0</th>\n",
       "      <td>16457718</td>\n",
       "      <td>15975143</td>\n",
       "      <td>16314580</td>\n",
       "      <td>2006.0</td>\n",
       "    </tr>\n",
       "    <tr>\n",
       "      <th>1</th>\n",
       "      <td>16457718</td>\n",
       "      <td>16314580</td>\n",
       "      <td>15975143</td>\n",
       "      <td>2006.0</td>\n",
       "    </tr>\n",
       "    <tr>\n",
       "      <th>2</th>\n",
       "      <td>16760426</td>\n",
       "      <td>1722018</td>\n",
       "      <td>15975143</td>\n",
       "      <td>2006.0</td>\n",
       "    </tr>\n",
       "    <tr>\n",
       "      <th>3</th>\n",
       "      <td>16760426</td>\n",
       "      <td>15975143</td>\n",
       "      <td>1722018</td>\n",
       "      <td>2006.0</td>\n",
       "    </tr>\n",
       "    <tr>\n",
       "      <th>4</th>\n",
       "      <td>17335343</td>\n",
       "      <td>15975143</td>\n",
       "      <td>16314580</td>\n",
       "      <td>2007.0</td>\n",
       "    </tr>\n",
       "  </tbody>\n",
       "</table>\n",
       "</div>"
      ],
      "text/plain": [
       "     citing   cited_1   cited_2    year\n",
       "0  16457718  15975143  16314580  2006.0\n",
       "1  16457718  16314580  15975143  2006.0\n",
       "2  16760426   1722018  15975143  2006.0\n",
       "3  16760426  15975143   1722018  2006.0\n",
       "4  17335343  15975143  16314580  2007.0"
      ]
     },
     "execution_count": 29,
     "metadata": {},
     "output_type": "execute_result"
    }
   ],
   "source": [
    "df.head()"
   ]
  },
  {
   "cell_type": "code",
   "execution_count": 30,
   "metadata": {},
   "outputs": [],
   "source": [
    "# Sort PMIDs of co-cited articles to avoid (a,b) & (b,a) duplication (can be also solved in SQL)\n",
    "df['min_cited'] = df[['cited_1', 'cited_2']].min(axis=1)\n",
    "df['max_cited'] = df[['cited_1', 'cited_2']].max(axis=1)"
   ]
  },
  {
   "cell_type": "code",
   "execution_count": 31,
   "metadata": {},
   "outputs": [
    {
     "data": {
      "text/html": [
       "<div>\n",
       "<style scoped>\n",
       "    .dataframe tbody tr th:only-of-type {\n",
       "        vertical-align: middle;\n",
       "    }\n",
       "\n",
       "    .dataframe tbody tr th {\n",
       "        vertical-align: top;\n",
       "    }\n",
       "\n",
       "    .dataframe thead th {\n",
       "        text-align: right;\n",
       "    }\n",
       "</style>\n",
       "<table border=\"1\" class=\"dataframe\">\n",
       "  <thead>\n",
       "    <tr style=\"text-align: right;\">\n",
       "      <th></th>\n",
       "      <th>citing</th>\n",
       "      <th>cited_1</th>\n",
       "      <th>cited_2</th>\n",
       "      <th>year</th>\n",
       "      <th>min_cited</th>\n",
       "      <th>max_cited</th>\n",
       "    </tr>\n",
       "  </thead>\n",
       "  <tbody>\n",
       "    <tr>\n",
       "      <th>0</th>\n",
       "      <td>16457718</td>\n",
       "      <td>15975143</td>\n",
       "      <td>16314580</td>\n",
       "      <td>2006.0</td>\n",
       "      <td>15975143</td>\n",
       "      <td>16314580</td>\n",
       "    </tr>\n",
       "    <tr>\n",
       "      <th>1</th>\n",
       "      <td>16457718</td>\n",
       "      <td>16314580</td>\n",
       "      <td>15975143</td>\n",
       "      <td>2006.0</td>\n",
       "      <td>15975143</td>\n",
       "      <td>16314580</td>\n",
       "    </tr>\n",
       "    <tr>\n",
       "      <th>2</th>\n",
       "      <td>16760426</td>\n",
       "      <td>1722018</td>\n",
       "      <td>15975143</td>\n",
       "      <td>2006.0</td>\n",
       "      <td>1722018</td>\n",
       "      <td>15975143</td>\n",
       "    </tr>\n",
       "    <tr>\n",
       "      <th>3</th>\n",
       "      <td>16760426</td>\n",
       "      <td>15975143</td>\n",
       "      <td>1722018</td>\n",
       "      <td>2006.0</td>\n",
       "      <td>1722018</td>\n",
       "      <td>15975143</td>\n",
       "    </tr>\n",
       "    <tr>\n",
       "      <th>4</th>\n",
       "      <td>17335343</td>\n",
       "      <td>15975143</td>\n",
       "      <td>16314580</td>\n",
       "      <td>2007.0</td>\n",
       "      <td>15975143</td>\n",
       "      <td>16314580</td>\n",
       "    </tr>\n",
       "  </tbody>\n",
       "</table>\n",
       "</div>"
      ],
      "text/plain": [
       "     citing   cited_1   cited_2    year  min_cited  max_cited\n",
       "0  16457718  15975143  16314580  2006.0   15975143   16314580\n",
       "1  16457718  16314580  15975143  2006.0   15975143   16314580\n",
       "2  16760426   1722018  15975143  2006.0    1722018   15975143\n",
       "3  16760426  15975143   1722018  2006.0    1722018   15975143\n",
       "4  17335343  15975143  16314580  2007.0   15975143   16314580"
      ]
     },
     "execution_count": 31,
     "metadata": {},
     "output_type": "execute_result"
    }
   ],
   "source": [
    "df.head()"
   ]
  },
  {
   "cell_type": "code",
   "execution_count": 32,
   "metadata": {},
   "outputs": [],
   "source": [
    "cocit = df.groupby(['min_cited', 'max_cited']).count()"
   ]
  },
  {
   "cell_type": "code",
   "execution_count": 33,
   "metadata": {},
   "outputs": [],
   "source": [
    "cocit_grouped = []\n",
    "for idx, val in cocit.iteritems():\n",
    "    for i, v in val.iteritems():\n",
    "        cocit_grouped.append((i[0], i[1], v))"
   ]
  },
  {
   "cell_type": "code",
   "execution_count": 34,
   "metadata": {},
   "outputs": [],
   "source": [
    "CG = nx.Graph()\n",
    "for t in cocit_grouped:\n",
    "    CG.add_edge(t[0], t[1], weight=t[2])"
   ]
  },
  {
   "cell_type": "code",
   "execution_count": 35,
   "metadata": {},
   "outputs": [
    {
     "data": {
      "text/plain": [
       "138"
      ]
     },
     "execution_count": 35,
     "metadata": {},
     "output_type": "execute_result"
    }
   ],
   "source": [
    "len(CG.nodes)"
   ]
  },
  {
   "cell_type": "code",
   "execution_count": 37,
   "metadata": {},
   "outputs": [
    {
     "data": {
      "text/plain": [
       "True"
      ]
     },
     "execution_count": 37,
     "metadata": {},
     "output_type": "execute_result"
    }
   ],
   "source": [
    "nx.is_connected(CG)"
   ]
  },
  {
   "cell_type": "code",
   "execution_count": 38,
   "metadata": {},
   "outputs": [],
   "source": [
    "nx.write_graphml(CG, 'dna-methylation-clock-cocitations.graphml')"
   ]
  },
  {
   "cell_type": "code",
   "execution_count": 39,
   "metadata": {},
   "outputs": [],
   "source": [
    "cocit_weights = [el[2] for el in list(CG.edges.data('weight'))]"
   ]
  },
  {
   "cell_type": "code",
   "execution_count": 40,
   "metadata": {},
   "outputs": [
    {
     "data": {
      "text/plain": [
       "Text(0,0.5,'Number of occurences')"
      ]
     },
     "execution_count": 40,
     "metadata": {},
     "output_type": "execute_result"
    },
    {
     "data": {
      "image/png": "[encoded data removed]",
      "text/plain": [
       "<matplotlib.figure.Figure at 0x2228773cf60>"
      ]
     },
     "metadata": {},
     "output_type": "display_data"
    }
   ],
   "source": [
    "h = plt.hist(cocit_weights, bins=np.linspace(0, 160, 81))\n",
    "plt.xlim([0, 160])\n",
    "plt.grid(True)\n",
    "plt.xlabel('Number of cocitations')\n",
    "plt.ylabel('Number of occurences')"
   ]
  },
  {
   "cell_type": "code",
   "execution_count": 41,
   "metadata": {},
   "outputs": [],
   "source": [
    "threshold_cocitation = 10\n",
    "edges_of_interest = []\n",
    "\n",
    "for a, b, data in sorted(CG.edges(data=True), key=lambda x: x[2]['weight'], reverse=True):\n",
    "    if data['weight'] >= threshold_cocitation:\n",
    "        edges_of_interest.append((a, b))"
   ]
  },
  {
   "cell_type": "code",
   "execution_count": 42,
   "metadata": {},
   "outputs": [],
   "source": [
    "for a, b, data in sorted(CG.edges(data=True), key=lambda x: x[2]['weight'], reverse=True):\n",
    "    w = data['weight']\n",
    "#     print(f'{a} {b} {w}')"
   ]
  },
  {
   "cell_type": "code",
   "execution_count": 43,
   "metadata": {},
   "outputs": [],
   "source": [
    "CG_sel = CG.edge_subgraph(edges_of_interest)"
   ]
  },
  {
   "cell_type": "code",
   "execution_count": 44,
   "metadata": {},
   "outputs": [
    {
     "data": {
      "text/plain": [
       "False"
      ]
     },
     "execution_count": 44,
     "metadata": {},
     "output_type": "execute_result"
    }
   ],
   "source": [
    "nx.is_connected(CG_sel)"
   ]
  },
  {
   "cell_type": "code",
   "execution_count": 45,
   "metadata": {},
   "outputs": [
    {
     "data": {
      "image/png": "[encoded data removed]",
      "text/plain": [
       "<matplotlib.figure.Figure at 0x22287939c50>"
      ]
     },
     "metadata": {},
     "output_type": "display_data"
    }
   ],
   "source": [
    "nx.draw(CG_sel)"
   ]
  },
  {
   "cell_type": "code",
   "execution_count": 95,
   "metadata": {},
   "outputs": [],
   "source": [
    "def get_title(pmid):\n",
    "    handle = Entrez.efetch(db='pubmed', id=pmid, retmode='xml')\n",
    "    results = Entrez.read(handle)\n",
    "    return results['PubmedArticle'][0]['MedlineCitation']['Article']['ArticleTitle']"
   ]
  },
  {
   "cell_type": "code",
   "execution_count": 281,
   "metadata": {},
   "outputs": [
    {
     "name": "stdout",
     "output_type": "stream",
     "text": [
      "Component #1\n",
      "https://www.ncbi.nlm.nih.gov/pubmed/?term=26684672 Epigenetic age of the pre-frontal cortex is associated with neuritic plaques, amyloid load, and Alzheimer's disease related cognitive functioning.\n",
      "https://www.ncbi.nlm.nih.gov/pubmed/?term=27457926 Menopause accelerates biological aging.\n",
      "https://www.ncbi.nlm.nih.gov/pubmed/?term=27479945 Huntington's disease accelerates epigenetic aging of human brain and disrupts DNA methylation levels.\n",
      "https://www.ncbi.nlm.nih.gov/pubmed/?term=27274774 Epigenetic age acceleration predicts cancer, cardiovascular, and all-cause mortality in a German case cohort.\n",
      "https://www.ncbi.nlm.nih.gov/pubmed/?term=27717399 An epigenetic clock for gestational age at birth based on blood methylation data.\n",
      "https://www.ncbi.nlm.nih.gov/pubmed/?term=27511193 An epigenetic clock analysis of race/ethnicity, sex, and coronary heart disease.\n",
      "https://www.ncbi.nlm.nih.gov/pubmed/?term=27690265 DNA methylation-based measures of biological age: meta-analysis predicting time to death.\n",
      "https://www.ncbi.nlm.nih.gov/pubmed/?term=25969563 HIV-1 Infection Accelerates Age According to the Epigenetic Clock.\n",
      "https://www.ncbi.nlm.nih.gov/pubmed/?term=26411804 DNA methylation age of blood predicts future onset of lung cancer in the women's health initiative.\n",
      "https://www.ncbi.nlm.nih.gov/pubmed/?term=27276709 Relationship of tobacco smoking and smoking-related DNA methylation with epigenetic age acceleration.\n",
      "https://www.ncbi.nlm.nih.gov/pubmed/?term=28198702 Epigenetic clock analysis of diet, exercise, education, and lifestyle factors.\n",
      "https://www.ncbi.nlm.nih.gov/pubmed/?term=24138928 DNA methylation age of human tissues and cell types.\n",
      "https://www.ncbi.nlm.nih.gov/pubmed/?term=26830004 Genetic variants near MLST8 and DHX57 affect the epigenetic age of the cerebellum.\n",
      "https://www.ncbi.nlm.nih.gov/pubmed/?term=24717494 Biomarkers and ageing: The clock-watcher.\n",
      "https://www.ncbi.nlm.nih.gov/pubmed/?term=26655927 Increased epigenetic age and granulocyte counts in the blood of Parkinson's disease patients.\n",
      "https://www.ncbi.nlm.nih.gov/pubmed/?term=25313081 Obesity accelerates epigenetic aging of human liver.\n",
      "https://www.ncbi.nlm.nih.gov/pubmed/?term=27075770 The epigenetic clock and telomere length are independently associated with chronological age and mortality.\n",
      "https://www.ncbi.nlm.nih.gov/pubmed/?term=25617346 The epigenetic clock is correlated with physical and cognitive fitness in the Lothian Birth Cohort 1936.\n",
      "https://www.ncbi.nlm.nih.gov/pubmed/?term=28399939 Multi-tissue DNA methylation age predictor in mouse.\n",
      "https://www.ncbi.nlm.nih.gov/pubmed/?term=28259012 DNA methylome analysis identifies accelerated epigenetic ageing associated with postmenopausal breast cancer susceptibility.\n",
      "https://www.ncbi.nlm.nih.gov/pubmed/?term=26861258 Aging-associated DNA methylation changes in middle-aged individuals: the Young Finns study.\n",
      "https://www.ncbi.nlm.nih.gov/pubmed/?term=25678027 Accelerated epigenetic aging in Down syndrome.\n",
      "https://www.ncbi.nlm.nih.gov/pubmed/?term=26000617 The cerebellum ages slowly according to the epigenetic clock.\n",
      "https://www.ncbi.nlm.nih.gov/pubmed/?term=26678252 Decreased epigenetic age of PBMCs from Italian semi-supercentenarians and their offspring.\n",
      "https://www.ncbi.nlm.nih.gov/pubmed/?term=25913071 DNA methylation and healthy human aging.\n",
      "https://www.ncbi.nlm.nih.gov/pubmed/?term=26594032 DNA methylation age is associated with mortality in a longitudinal Danish twin study.\n",
      "https://www.ncbi.nlm.nih.gov/pubmed/?term=26925173 Frailty is associated with the epigenetic clock but not with telomere length in a German cohort.\n",
      "https://www.ncbi.nlm.nih.gov/pubmed/?term=26680699 Family-centered prevention ameliorates the longitudinal association between risky family processes and epigenetic aging.\n",
      "https://www.ncbi.nlm.nih.gov/pubmed/?term=26885756 Epigenetic clock analyses of cellular senescence and ageing.\n",
      "https://www.ncbi.nlm.nih.gov/pubmed/?term=25991677 Epigenetic age analysis of children who seem to evade aging.\n",
      "https://www.ncbi.nlm.nih.gov/pubmed/?term=26673150 Lifetime stress accelerates epigenetic aging in an urban, African American cohort: relevance of glucocorticoid signaling.\n",
      "\n",
      "Component #2\n",
      "https://www.ncbi.nlm.nih.gov/pubmed/?term=24413057 Temporal orchestration of repressive chromatin modifiers by circadian clock Period complexes.\n",
      "https://www.ncbi.nlm.nih.gov/pubmed/?term=16717091 The polycomb group protein EZH2 is required for mammalian circadian clock function.\n",
      "https://www.ncbi.nlm.nih.gov/pubmed/?term=19861541 Epigenetic inactivation of the circadian clock gene BMAL1 in hematologic malignancies.\n",
      "https://www.ncbi.nlm.nih.gov/pubmed/?term=23319591 Methylation of histone H3 on lysine 4 by the lysine methyltransferase SET1 protein is needed for normal clock gene expression.\n",
      "https://www.ncbi.nlm.nih.gov/pubmed/?term=25831497 The frequency natural antisense transcript first promotes, then represses, frequency gene expression via facultative heterochromatin.\n",
      "https://www.ncbi.nlm.nih.gov/pubmed/?term=16999817 Downregulation of circadian clock genes in chronic myeloid leukemia: alternative methylation pattern of hPER3.\n",
      "https://www.ncbi.nlm.nih.gov/pubmed/?term=24531307 Circadian behavior is light-reprogrammed by plastic DNA methylation.\n",
      "https://www.ncbi.nlm.nih.gov/pubmed/?term=22847467 Diurnal expression of Dnmt3b mRNA in mouse liver is regulated by feeding and hepatic clockwork.\n",
      "https://www.ncbi.nlm.nih.gov/pubmed/?term=16683245 Promoter methylation in circadian genes of endometrial cancers detected by methylation-specific PCR.\n",
      "https://www.ncbi.nlm.nih.gov/pubmed/?term=23217262 Circadian oscillations of protein-coding and regulatory RNAs in a highly dynamic mammalian liver epigenome.\n",
      "https://www.ncbi.nlm.nih.gov/pubmed/?term=15860628 PERIOD1-associated proteins modulate the negative limb of the mammalian circadian oscillator.\n",
      "https://www.ncbi.nlm.nih.gov/pubmed/?term=21811413 CHD1 remodels chromatin and influences transient DNA methylation at the clock gene frequency.\n",
      "https://www.ncbi.nlm.nih.gov/pubmed/?term=22080730 Epigenetic impact of long-term shiftwork: pilot evidence from circadian genes and whole-genome methylation analysis.\n",
      "https://www.ncbi.nlm.nih.gov/pubmed/?term=15790588 Deregulated expression of the PER1, PER2 and PER3 genes in breast cancers.\n",
      "https://www.ncbi.nlm.nih.gov/pubmed/?term=19296127 Disturbance of circadian gene expression in breast cancer.\n",
      "\n",
      "Component #3\n",
      "https://www.ncbi.nlm.nih.gov/pubmed/?term=24894042 A Role for CHH Methylation in the Parent-of-Origin Effect on Altered Circadian Rhythms and Biomass Heterosis in Arabidopsis Intraspecific Hybrids.\n",
      "https://www.ncbi.nlm.nih.gov/pubmed/?term=22438023 Genome-wide analysis of DNA methylation and gene expression changes in two Arabidopsis ecotypes and their reciprocal hybrids.\n",
      "\n",
      "Component #4\n",
      "https://www.ncbi.nlm.nih.gov/pubmed/?term=23128602 Circadian clock regulates dynamic chromatin modifications associated with Arabidopsis CCA1/LHY and TOC1 transcriptional rhythms.\n",
      "https://www.ncbi.nlm.nih.gov/pubmed/?term=22878891 Rhythmic oscillation of histone acetylation and methylation at the Arabidopsis central clock loci.\n",
      "https://www.ncbi.nlm.nih.gov/pubmed/?term=21139085 The Jumonji C domain-containing protein JMJ30 regulates period length in the Arabidopsis circadian clock.\n",
      "\n",
      "Component #5\n",
      "https://www.ncbi.nlm.nih.gov/pubmed/?term=16582617 Counting divisions in a human somatic cell tree: how, what and why?\n",
      "https://www.ncbi.nlm.nih.gov/pubmed/?term=16314580 Counting human somatic cell replications: methylation mirrors endometrial stem cell divisions.\n",
      "https://www.ncbi.nlm.nih.gov/pubmed/?term=15975143 Age-related human small intestine methylation: evidence for stem cell niches.\n",
      "\n"
     ]
    }
   ],
   "source": [
    "comps = nx.connected_components(CG_sel)\n",
    "for i, c in enumerate(comps):\n",
    "    print(f'Component #{i + 1}')\n",
    "    for v in c:\n",
    "        print(PUBMED_ARTICLE_BASE_URL + str(v), get_title(v))\n",
    "    print()"
   ]
  },
  {
   "cell_type": "code",
   "execution_count": 111,
   "metadata": {},
   "outputs": [
    {
     "name": "stdout",
     "output_type": "stream",
     "text": [
      "[nltk_data] Downloading package stopwords to\n",
      "[nltk_data]     C:\\Users\\nikol\\AppData\\Roaming\\nltk_data...\n",
      "[nltk_data]   Unzipping corpora\\stopwords.zip.\n"
     ]
    },
    {
     "data": {
      "text/plain": [
       "True"
      ]
     },
     "execution_count": 111,
     "metadata": {},
     "output_type": "execute_result"
    }
   ],
   "source": [
    "import nltk\n",
    "nltk.download('stopwords')"
   ]
  },
  {
   "cell_type": "code",
   "execution_count": 119,
   "metadata": {},
   "outputs": [],
   "source": [
    "from nltk.corpus import stopwords \n",
    "from nltk.tokenize import word_tokenize \n",
    "\n",
    "def get_ngrams(string):\n",
    "    stop_words = set(stopwords.words('english')) \n",
    "    tokens = list(filter(lambda s: any(c.isalpha() for c in s), string.lower().replace(',', '').replace('.', '').split(' ')))\n",
    "    tokens = [t for t in tokens if t not in stop_words and t not in terms]\n",
    "    ngrams = list(tokens)\n",
    "    for t1, t2 in zip(tokens[:-1], tokens[1:]):\n",
    "        ngrams.append(t1 + ' ' + t2)\n",
    "    for t1, t2, t3 in zip(tokens[:-2], tokens[1:-1], tokens[2:]):\n",
    "        ngrams.append(t1 + ' ' + t2 + ' ' + t3)\n",
    "    return ngrams"
   ]
  },
  {
   "cell_type": "code",
   "execution_count": 136,
   "metadata": {},
   "outputs": [
    {
     "name": "stdout",
     "output_type": "stream",
     "text": [
      "Component #1\n",
      "31 items - {26684672, 27457926, 27479945, 27274774, 27717399, 27511193, 27690265, 25969563, 26411804, 27276709, 28198702, 24138928, 26830004, 24717494, 26655927, 25313081, 27075770, 25617346, 28399939, 28259012, 26861258, 25678027, 26000617, 26678252, 25913071, 26594032, 26925173, 26680699, 26885756, 25991677, 26673150}\n",
      "618 ngrams - [('epigenetic', 0.7096774193548387), ('epigenetic age', 0.22580645161290322)]\n",
      "\n",
      "Component #2\n",
      "15 items - {24413057, 16717091, 19861541, 23319591, 25831497, 16999817, 24531307, 22847467, 16683245, 23217262, 15860628, 21811413, 22080730, 15790588, 19296127}\n",
      "342 ngrams - [('circadian', 0.6666666666666666), ('gene expression', 0.2), ('circadian genes', 0.2)]\n",
      "\n",
      "Wall time: 43.6 s\n"
     ]
    }
   ],
   "source": [
    "%%time\n",
    "\n",
    "# TODO: add threshold for ratio of occurences\n",
    "\n",
    "from collections import Counter\n",
    "\n",
    "item_amount = 5\n",
    "ngram_amount = 5\n",
    "ratio = [0.6, 0.2, 0.1]\n",
    "\n",
    "comps = nx.connected_components(CG_sel)\n",
    "for i, c in enumerate(comps):\n",
    "    if len(c) >= item_amount:\n",
    "        ngrams = []\n",
    "        for v in c:\n",
    "            title = get_title(v)\n",
    "            ngrams.extend(get_ngrams(title))\n",
    "        most_common = []\n",
    "        for w, cnt in Counter(ngrams).most_common():\n",
    "            if cnt / len(c) >= ratio[len(w.split(' ')) - 1]:\n",
    "                most_common.append((w, cnt / len(c)))\n",
    "            if len(most_common) == ngram_amount:\n",
    "                break\n",
    "        print(f'Component #{i + 1}\\n{len(c)} items - {c}\\n{len(ngrams)} ngrams - {most_common}\\n')"
   ]
  },
  {
   "cell_type": "code",
   "execution_count": null,
   "metadata": {},
   "outputs": [],
   "source": []
  }
 ],
 "metadata": {
  "kernelspec": {
   "display_name": "Python 3",
   "language": "python",
   "name": "python3"
  },
  "language_info": {
   "codemirror_mode": {
    "name": "ipython",
    "version": 3
   },
   "file_extension": ".py",
   "mimetype": "text/x-python",
   "name": "python",
   "nbconvert_exporter": "python",
   "pygments_lexer": "ipython3",
   "version": "3.6.4"
  }
 },
 "nbformat": 4,
 "nbformat_minor": 2
}
