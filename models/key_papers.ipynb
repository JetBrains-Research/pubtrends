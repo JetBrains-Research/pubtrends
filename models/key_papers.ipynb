{
 "cells": [
  {
   "cell_type": "markdown",
   "metadata": {},
   "source": [
    "# Key papers\n",
    "\n",
    "**TOPICS OF INTEREST** - from the meeting in January\n",
    "\n",
    "* inflammation aging chronic (2004) - 13k papers\n",
    "* genome editing / manipulation, CRISPR - 13k papers\n",
    "* induced stem cells - 73k papers - 3h for calculating co-citations\n",
    "* single-cell sequencing (2012) - 3k papers\n",
    "* ATAC-seq (2015) - 276 papers\n",
    "* immunomodulation cancer - 71k papers\n",
    "* Telomere Theories of Aging - ??\n",
    "* mTOR pathway - 14255\n",
    "* autophagy - ??\n",
    "* Calorie restriction - 3933\n",
    "\n",
    "Complement Factor H + Age-Related Mascular Degeneration - investigate"
   ]
  },
  {
   "cell_type": "markdown",
   "metadata": {},
   "source": [
    "**Issues**:\n",
    "\n",
    "1. Some information in tooltips with long titles may occur out of plot bounds.\n",
    "2. How should I place articles with the same year? (currently y-axis position is random in [0,1]...)\n",
    "3. Some research on clustering algorithms is needed! (also `networkx.algorithms.community`)"
   ]
  },
  {
   "cell_type": "markdown",
   "metadata": {},
   "source": [
    "**Functions**:\n",
    "\n",
    "1. Subtopic Analysis based on co-citation graph clustering\n",
    "2. Top Cited Papers detection (overall and for certain year)\n",
    "3. Citation Dynamics for a certain article"
   ]
  },
  {
   "cell_type": "markdown",
   "metadata": {},
   "source": [
    "## Search Terms"
   ]
  },
  {
   "cell_type": "code",
   "execution_count": 1,
   "metadata": {
    "ExecuteTime": {
     "end_time": "2019-05-05T21:12:59.647675Z",
     "start_time": "2019-05-05T21:12:59.642685Z"
    }
   },
   "outputs": [],
   "source": [
    "SEARCH_TERMS = ['DNA', 'methylation', 'clock']"
   ]
  },
  {
   "cell_type": "code",
   "execution_count": 2,
   "metadata": {
    "ExecuteTime": {
     "end_time": "2019-05-05T21:13:38.409442Z",
     "start_time": "2019-05-05T21:12:59.660667Z"
    }
   },
   "outputs": [],
   "source": [
    "# from importlib import reload\n",
    "import logging\n",
    "# reload(logging)\n",
    "\n",
    "import re\n",
    "import gc\n",
    "import ipywidgets as widgets\n",
    "import math\n",
    "import networkx as nx\n",
    "import numpy as np\n",
    "import pandas as pd\n",
    "\n",
    "from bokeh.io import push_notebook\n",
    "from bokeh.models import ColumnDataSource, LabelSet, OpenURL, CustomJS\n",
    "from bokeh.plotting import figure, show, output_notebook\n",
    "from bokeh.transform import factor_cmap\n",
    "from bokeh.core.properties import value\n",
    "from bokeh.colors import Color, RGB\n",
    "from bokeh.io import show\n",
    "from bokeh.models import Plot, Range1d, MultiLine, Circle\n",
    "# Tools used: hover,pan,tap,wheel_zoom,box_zoom,reset,save\n",
    "from bokeh.models import HoverTool, PanTool, TapTool, WheelZoomTool, BoxZoomTool, ResetTool, SaveTool\n",
    "from bokeh.models.graphs import from_networkx\n",
    "\n",
    "from IPython.display import display\n",
    "from matplotlib import pyplot as plt\n",
    "%matplotlib inline"
   ]
  },
  {
   "cell_type": "code",
   "execution_count": 3,
   "metadata": {
    "ExecuteTime": {
     "end_time": "2019-05-05T21:14:02.660635Z",
     "start_time": "2019-05-05T21:13:38.419402Z"
    }
   },
   "outputs": [
    {
     "name": "stdout",
     "output_type": "stream",
     "text": [
      "[nltk_data] Downloading package stopwords to\n",
      "[nltk_data]     C:\\Users\\nikol\\AppData\\Roaming\\nltk_data...\n",
      "[nltk_data]   Package stopwords is already up-to-date!\n"
     ]
    },
    {
     "data": {
      "text/html": [
       "\n",
       "    <div class=\"bk-root\">\n",
       "        <a href=\"https://bokeh.pydata.org\" target=\"_blank\" class=\"bk-logo bk-logo-small bk-logo-notebook\"></a>\n",
       "        <span id=\"1001\">Loading BokehJS ...</span>\n",
       "    </div>"
      ]
     },
     "metadata": {},
     "output_type": "display_data"
    },
    {
     "data": {
      "application/javascript": [
       "\n",
       "(function(root) {\n",
       "  function now() {\n",
       "    return new Date();\n",
       "  }\n",
       "\n",
       "  var force = true;\n",
       "\n",
       "  if (typeof root._bokeh_onload_callbacks === \"undefined\" || force === true) {\n",
       "    root._bokeh_onload_callbacks = [];\n",
       "    root._bokeh_is_loading = undefined;\n",
       "  }\n",
       "\n",
       "  var JS_MIME_TYPE = 'application/javascript';\n",
       "  var HTML_MIME_TYPE = 'text/html';\n",
       "  var EXEC_MIME_TYPE = 'application/vnd.bokehjs_exec.v0+json';\n",
       "  var CLASS_NAME = 'output_bokeh rendered_html';\n",
       "\n",
       "  /**\n",
       "   * Render data to the DOM node\n",
       "   */\n",
       "  function render(props, node) {\n",
       "    var script = document.createElement(\"script\");\n",
       "    node.appendChild(script);\n",
       "  }\n",
       "\n",
       "  /**\n",
       "   * Handle when an output is cleared or removed\n",
       "   */\n",
       "  function handleClearOutput(event, handle) {\n",
       "    var cell = handle.cell;\n",
       "\n",
       "    var id = cell.output_area._bokeh_element_id;\n",
       "    var server_id = cell.output_area._bokeh_server_id;\n",
       "    // Clean up Bokeh references\n",
       "    if (id != null && id in Bokeh.index) {\n",
       "      Bokeh.index[id].model.document.clear();\n",
       "      delete Bokeh.index[id];\n",
       "    }\n",
       "\n",
       "    if (server_id !== undefined) {\n",
       "      // Clean up Bokeh references\n",
       "      var cmd = \"from bokeh.io.state import curstate; print(curstate().uuid_to_server['\" + server_id + \"'].get_sessions()[0].document.roots[0]._id)\";\n",
       "      cell.notebook.kernel.execute(cmd, {\n",
       "        iopub: {\n",
       "          output: function(msg) {\n",
       "            var id = msg.content.text.trim();\n",
       "            if (id in Bokeh.index) {\n",
       "              Bokeh.index[id].model.document.clear();\n",
       "              delete Bokeh.index[id];\n",
       "            }\n",
       "          }\n",
       "        }\n",
       "      });\n",
       "      // Destroy server and session\n",
       "      var cmd = \"import bokeh.io.notebook as ion; ion.destroy_server('\" + server_id + \"')\";\n",
       "      cell.notebook.kernel.execute(cmd);\n",
       "    }\n",
       "  }\n",
       "\n",
       "  /**\n",
       "   * Handle when a new output is added\n",
       "   */\n",
       "  function handleAddOutput(event, handle) {\n",
       "    var output_area = handle.output_area;\n",
       "    var output = handle.output;\n",
       "\n",
       "    // limit handleAddOutput to display_data with EXEC_MIME_TYPE content only\n",
       "    if ((output.output_type != \"display_data\") || (!output.data.hasOwnProperty(EXEC_MIME_TYPE))) {\n",
       "      return\n",
       "    }\n",
       "\n",
       "    var toinsert = output_area.element.find(\".\" + CLASS_NAME.split(' ')[0]);\n",
       "\n",
       "    if (output.metadata[EXEC_MIME_TYPE][\"id\"] !== undefined) {\n",
       "      toinsert[toinsert.length - 1].firstChild.textContent = output.data[JS_MIME_TYPE];\n",
       "      // store reference to embed id on output_area\n",
       "      output_area._bokeh_element_id = output.metadata[EXEC_MIME_TYPE][\"id\"];\n",
       "    }\n",
       "    if (output.metadata[EXEC_MIME_TYPE][\"server_id\"] !== undefined) {\n",
       "      var bk_div = document.createElement(\"div\");\n",
       "      bk_div.innerHTML = output.data[HTML_MIME_TYPE];\n",
       "      var script_attrs = bk_div.children[0].attributes;\n",
       "      for (var i = 0; i < script_attrs.length; i++) {\n",
       "        toinsert[toinsert.length - 1].firstChild.setAttribute(script_attrs[i].name, script_attrs[i].value);\n",
       "      }\n",
       "      // store reference to server id on output_area\n",
       "      output_area._bokeh_server_id = output.metadata[EXEC_MIME_TYPE][\"server_id\"];\n",
       "    }\n",
       "  }\n",
       "\n",
       "  function register_renderer(events, OutputArea) {\n",
       "\n",
       "    function append_mime(data, metadata, element) {\n",
       "      // create a DOM node to render to\n",
       "      var toinsert = this.create_output_subarea(\n",
       "        metadata,\n",
       "        CLASS_NAME,\n",
       "        EXEC_MIME_TYPE\n",
       "      );\n",
       "      this.keyboard_manager.register_events(toinsert);\n",
       "      // Render to node\n",
       "      var props = {data: data, metadata: metadata[EXEC_MIME_TYPE]};\n",
       "      render(props, toinsert[toinsert.length - 1]);\n",
       "      element.append(toinsert);\n",
       "      return toinsert\n",
       "    }\n",
       "\n",
       "    /* Handle when an output is cleared or removed */\n",
       "    events.on('clear_output.CodeCell', handleClearOutput);\n",
       "    events.on('delete.Cell', handleClearOutput);\n",
       "\n",
       "    /* Handle when a new output is added */\n",
       "    events.on('output_added.OutputArea', handleAddOutput);\n",
       "\n",
       "    /**\n",
       "     * Register the mime type and append_mime function with output_area\n",
       "     */\n",
       "    OutputArea.prototype.register_mime_type(EXEC_MIME_TYPE, append_mime, {\n",
       "      /* Is output safe? */\n",
       "      safe: true,\n",
       "      /* Index of renderer in `output_area.display_order` */\n",
       "      index: 0\n",
       "    });\n",
       "  }\n",
       "\n",
       "  // register the mime type if in Jupyter Notebook environment and previously unregistered\n",
       "  if (root.Jupyter !== undefined) {\n",
       "    var events = require('base/js/events');\n",
       "    var OutputArea = require('notebook/js/outputarea').OutputArea;\n",
       "\n",
       "    if (OutputArea.prototype.mime_types().indexOf(EXEC_MIME_TYPE) == -1) {\n",
       "      register_renderer(events, OutputArea);\n",
       "    }\n",
       "  }\n",
       "\n",
       "  \n",
       "  if (typeof (root._bokeh_timeout) === \"undefined\" || force === true) {\n",
       "    root._bokeh_timeout = Date.now() + 5000;\n",
       "    root._bokeh_failed_load = false;\n",
       "  }\n",
       "\n",
       "  var NB_LOAD_WARNING = {'data': {'text/html':\n",
       "     \"<div style='background-color: #fdd'>\\n\"+\n",
       "     \"<p>\\n\"+\n",
       "     \"BokehJS does not appear to have successfully loaded. If loading BokehJS from CDN, this \\n\"+\n",
       "     \"may be due to a slow or bad network connection. Possible fixes:\\n\"+\n",
       "     \"</p>\\n\"+\n",
       "     \"<ul>\\n\"+\n",
       "     \"<li>re-rerun `output_notebook()` to attempt to load from CDN again, or</li>\\n\"+\n",
       "     \"<li>use INLINE resources instead, as so:</li>\\n\"+\n",
       "     \"</ul>\\n\"+\n",
       "     \"<code>\\n\"+\n",
       "     \"from bokeh.resources import INLINE\\n\"+\n",
       "     \"output_notebook(resources=INLINE)\\n\"+\n",
       "     \"</code>\\n\"+\n",
       "     \"</div>\"}};\n",
       "\n",
       "  function display_loaded() {\n",
       "    var el = document.getElementById(\"1001\");\n",
       "    if (el != null) {\n",
       "      el.textContent = \"BokehJS is loading...\";\n",
       "    }\n",
       "    if (root.Bokeh !== undefined) {\n",
       "      if (el != null) {\n",
       "        el.textContent = \"BokehJS \" + root.Bokeh.version + \" successfully loaded.\";\n",
       "      }\n",
       "    } else if (Date.now() < root._bokeh_timeout) {\n",
       "      setTimeout(display_loaded, 100)\n",
       "    }\n",
       "  }\n",
       "\n",
       "\n",
       "  function run_callbacks() {\n",
       "    try {\n",
       "      root._bokeh_onload_callbacks.forEach(function(callback) {\n",
       "        if (callback != null)\n",
       "          callback();\n",
       "      });\n",
       "    } finally {\n",
       "      delete root._bokeh_onload_callbacks\n",
       "    }\n",
       "    console.debug(\"Bokeh: all callbacks have finished\");\n",
       "  }\n",
       "\n",
       "  function load_libs(css_urls, js_urls, callback) {\n",
       "    if (css_urls == null) css_urls = [];\n",
       "    if (js_urls == null) js_urls = [];\n",
       "\n",
       "    root._bokeh_onload_callbacks.push(callback);\n",
       "    if (root._bokeh_is_loading > 0) {\n",
       "      console.debug(\"Bokeh: BokehJS is being loaded, scheduling callback at\", now());\n",
       "      return null;\n",
       "    }\n",
       "    if (js_urls == null || js_urls.length === 0) {\n",
       "      run_callbacks();\n",
       "      return null;\n",
       "    }\n",
       "    console.debug(\"Bokeh: BokehJS not loaded, scheduling load and callback at\", now());\n",
       "    root._bokeh_is_loading = css_urls.length + js_urls.length;\n",
       "\n",
       "    function on_load() {\n",
       "      root._bokeh_is_loading--;\n",
       "      if (root._bokeh_is_loading === 0) {\n",
       "        console.debug(\"Bokeh: all BokehJS libraries/stylesheets loaded\");\n",
       "        run_callbacks()\n",
       "      }\n",
       "    }\n",
       "\n",
       "    function on_error() {\n",
       "      console.error(\"failed to load \" + url);\n",
       "    }\n",
       "\n",
       "    for (var i = 0; i < css_urls.length; i++) {\n",
       "      var url = css_urls[i];\n",
       "      const element = document.createElement(\"link\");\n",
       "      element.onload = on_load;\n",
       "      element.onerror = on_error;\n",
       "      element.rel = \"stylesheet\";\n",
       "      element.type = \"text/css\";\n",
       "      element.href = url;\n",
       "      console.debug(\"Bokeh: injecting link tag for BokehJS stylesheet: \", url);\n",
       "      document.body.appendChild(element);\n",
       "    }\n",
       "\n",
       "    for (var i = 0; i < js_urls.length; i++) {\n",
       "      var url = js_urls[i];\n",
       "      var element = document.createElement('script');\n",
       "      element.onload = on_load;\n",
       "      element.onerror = on_error;\n",
       "      element.async = false;\n",
       "      element.src = url;\n",
       "      console.debug(\"Bokeh: injecting script tag for BokehJS library: \", url);\n",
       "      document.head.appendChild(element);\n",
       "    }\n",
       "  };var element = document.getElementById(\"1001\");\n",
       "  if (element == null) {\n",
       "    console.error(\"Bokeh: ERROR: autoload.js configured with elementid '1001' but no matching script tag was found. \")\n",
       "    return false;\n",
       "  }\n",
       "\n",
       "  function inject_raw_css(css) {\n",
       "    const element = document.createElement(\"style\");\n",
       "    element.appendChild(document.createTextNode(css));\n",
       "    document.body.appendChild(element);\n",
       "  }\n",
       "\n",
       "  var js_urls = [\"https://cdn.pydata.org/bokeh/release/bokeh-1.1.0.min.js\", \"https://cdn.pydata.org/bokeh/release/bokeh-widgets-1.1.0.min.js\", \"https://cdn.pydata.org/bokeh/release/bokeh-tables-1.1.0.min.js\", \"https://cdn.pydata.org/bokeh/release/bokeh-gl-1.1.0.min.js\"];\n",
       "  var css_urls = [\"https://cdn.pydata.org/bokeh/release/bokeh-1.1.0.min.css\", \"https://cdn.pydata.org/bokeh/release/bokeh-widgets-1.1.0.min.css\", \"https://cdn.pydata.org/bokeh/release/bokeh-tables-1.1.0.min.css\"];\n",
       "\n",
       "  var inline_js = [\n",
       "    function(Bokeh) {\n",
       "      Bokeh.set_log_level(\"info\");\n",
       "    },\n",
       "    \n",
       "    function(Bokeh) {\n",
       "      \n",
       "    },\n",
       "    function(Bokeh) {} // ensure no trailing comma for IE\n",
       "  ];\n",
       "\n",
       "  function run_inline_js() {\n",
       "    \n",
       "    if ((root.Bokeh !== undefined) || (force === true)) {\n",
       "      for (var i = 0; i < inline_js.length; i++) {\n",
       "        inline_js[i].call(root, root.Bokeh);\n",
       "      }if (force === true) {\n",
       "        display_loaded();\n",
       "      }} else if (Date.now() < root._bokeh_timeout) {\n",
       "      setTimeout(run_inline_js, 100);\n",
       "    } else if (!root._bokeh_failed_load) {\n",
       "      console.log(\"Bokeh: BokehJS failed to load within specified timeout.\");\n",
       "      root._bokeh_failed_load = true;\n",
       "    } else if (force !== true) {\n",
       "      var cell = $(document.getElementById(\"1001\")).parents('.cell').data().cell;\n",
       "      cell.output_area.append_execute_result(NB_LOAD_WARNING)\n",
       "    }\n",
       "\n",
       "  }\n",
       "\n",
       "  if (root._bokeh_is_loading === 0) {\n",
       "    console.debug(\"Bokeh: BokehJS loaded, going straight to plotting\");\n",
       "    run_inline_js();\n",
       "  } else {\n",
       "    load_libs(css_urls, js_urls, function() {\n",
       "      console.debug(\"Bokeh: BokehJS plotting callback run at\", now());\n",
       "      run_inline_js();\n",
       "    });\n",
       "  }\n",
       "}(window));"
      ],
      "application/vnd.bokehjs_load.v0+json": "\n(function(root) {\n  function now() {\n    return new Date();\n  }\n\n  var force = true;\n\n  if (typeof root._bokeh_onload_callbacks === \"undefined\" || force === true) {\n    root._bokeh_onload_callbacks = [];\n    root._bokeh_is_loading = undefined;\n  }\n\n  \n\n  \n  if (typeof (root._bokeh_timeout) === \"undefined\" || force === true) {\n    root._bokeh_timeout = Date.now() + 5000;\n    root._bokeh_failed_load = false;\n  }\n\n  var NB_LOAD_WARNING = {'data': {'text/html':\n     \"<div style='background-color: #fdd'>\\n\"+\n     \"<p>\\n\"+\n     \"BokehJS does not appear to have successfully loaded. If loading BokehJS from CDN, this \\n\"+\n     \"may be due to a slow or bad network connection. Possible fixes:\\n\"+\n     \"</p>\\n\"+\n     \"<ul>\\n\"+\n     \"<li>re-rerun `output_notebook()` to attempt to load from CDN again, or</li>\\n\"+\n     \"<li>use INLINE resources instead, as so:</li>\\n\"+\n     \"</ul>\\n\"+\n     \"<code>\\n\"+\n     \"from bokeh.resources import INLINE\\n\"+\n     \"output_notebook(resources=INLINE)\\n\"+\n     \"</code>\\n\"+\n     \"</div>\"}};\n\n  function display_loaded() {\n    var el = document.getElementById(\"1001\");\n    if (el != null) {\n      el.textContent = \"BokehJS is loading...\";\n    }\n    if (root.Bokeh !== undefined) {\n      if (el != null) {\n        el.textContent = \"BokehJS \" + root.Bokeh.version + \" successfully loaded.\";\n      }\n    } else if (Date.now() < root._bokeh_timeout) {\n      setTimeout(display_loaded, 100)\n    }\n  }\n\n\n  function run_callbacks() {\n    try {\n      root._bokeh_onload_callbacks.forEach(function(callback) {\n        if (callback != null)\n          callback();\n      });\n    } finally {\n      delete root._bokeh_onload_callbacks\n    }\n    console.debug(\"Bokeh: all callbacks have finished\");\n  }\n\n  function load_libs(css_urls, js_urls, callback) {\n    if (css_urls == null) css_urls = [];\n    if (js_urls == null) js_urls = [];\n\n    root._bokeh_onload_callbacks.push(callback);\n    if (root._bokeh_is_loading > 0) {\n      console.debug(\"Bokeh: BokehJS is being loaded, scheduling callback at\", now());\n      return null;\n    }\n    if (js_urls == null || js_urls.length === 0) {\n      run_callbacks();\n      return null;\n    }\n    console.debug(\"Bokeh: BokehJS not loaded, scheduling load and callback at\", now());\n    root._bokeh_is_loading = css_urls.length + js_urls.length;\n\n    function on_load() {\n      root._bokeh_is_loading--;\n      if (root._bokeh_is_loading === 0) {\n        console.debug(\"Bokeh: all BokehJS libraries/stylesheets loaded\");\n        run_callbacks()\n      }\n    }\n\n    function on_error() {\n      console.error(\"failed to load \" + url);\n    }\n\n    for (var i = 0; i < css_urls.length; i++) {\n      var url = css_urls[i];\n      const element = document.createElement(\"link\");\n      element.onload = on_load;\n      element.onerror = on_error;\n      element.rel = \"stylesheet\";\n      element.type = \"text/css\";\n      element.href = url;\n      console.debug(\"Bokeh: injecting link tag for BokehJS stylesheet: \", url);\n      document.body.appendChild(element);\n    }\n\n    for (var i = 0; i < js_urls.length; i++) {\n      var url = js_urls[i];\n      var element = document.createElement('script');\n      element.onload = on_load;\n      element.onerror = on_error;\n      element.async = false;\n      element.src = url;\n      console.debug(\"Bokeh: injecting script tag for BokehJS library: \", url);\n      document.head.appendChild(element);\n    }\n  };var element = document.getElementById(\"1001\");\n  if (element == null) {\n    console.error(\"Bokeh: ERROR: autoload.js configured with elementid '1001' but no matching script tag was found. \")\n    return false;\n  }\n\n  function inject_raw_css(css) {\n    const element = document.createElement(\"style\");\n    element.appendChild(document.createTextNode(css));\n    document.body.appendChild(element);\n  }\n\n  var js_urls = [\"https://cdn.pydata.org/bokeh/release/bokeh-1.1.0.min.js\", \"https://cdn.pydata.org/bokeh/release/bokeh-widgets-1.1.0.min.js\", \"https://cdn.pydata.org/bokeh/release/bokeh-tables-1.1.0.min.js\", \"https://cdn.pydata.org/bokeh/release/bokeh-gl-1.1.0.min.js\"];\n  var css_urls = [\"https://cdn.pydata.org/bokeh/release/bokeh-1.1.0.min.css\", \"https://cdn.pydata.org/bokeh/release/bokeh-widgets-1.1.0.min.css\", \"https://cdn.pydata.org/bokeh/release/bokeh-tables-1.1.0.min.css\"];\n\n  var inline_js = [\n    function(Bokeh) {\n      Bokeh.set_log_level(\"info\");\n    },\n    \n    function(Bokeh) {\n      \n    },\n    function(Bokeh) {} // ensure no trailing comma for IE\n  ];\n\n  function run_inline_js() {\n    \n    if ((root.Bokeh !== undefined) || (force === true)) {\n      for (var i = 0; i < inline_js.length; i++) {\n        inline_js[i].call(root, root.Bokeh);\n      }if (force === true) {\n        display_loaded();\n      }} else if (Date.now() < root._bokeh_timeout) {\n      setTimeout(run_inline_js, 100);\n    } else if (!root._bokeh_failed_load) {\n      console.log(\"Bokeh: BokehJS failed to load within specified timeout.\");\n      root._bokeh_failed_load = true;\n    } else if (force !== true) {\n      var cell = $(document.getElementById(\"1001\")).parents('.cell').data().cell;\n      cell.output_area.append_execute_result(NB_LOAD_WARNING)\n    }\n\n  }\n\n  if (root._bokeh_is_loading === 0) {\n    console.debug(\"Bokeh: BokehJS loaded, going straight to plotting\");\n    run_inline_js();\n  } else {\n    load_libs(css_urls, js_urls, function() {\n      console.debug(\"Bokeh: BokehJS plotting callback run at\", now());\n      run_inline_js();\n    });\n  }\n}(window));"
     },
     "metadata": {},
     "output_type": "display_data"
    }
   ],
   "source": [
    "from keypaper.analysis import KeyPaperAnalyzer\n",
    "from keypaper.visualization import build_data_source, serve_scatter_article_layout, serve_citation_dynamics_layout\n",
    "from keypaper.utils import get_most_common_ngrams\n",
    "\n",
    "%matplotlib inline\n",
    "output_notebook()"
   ]
  },
  {
   "cell_type": "code",
   "execution_count": 4,
   "metadata": {
    "ExecuteTime": {
     "end_time": "2019-05-05T21:14:07.168838Z",
     "start_time": "2019-05-05T21:14:02.667632Z"
    }
   },
   "outputs": [
    {
     "name": "stdout",
     "output_type": "stream",
     "text": [
      "TODO: handle queries which return more than 1000000 items\n",
      "TODO: use local database instead of PubMed API\n"
     ]
    },
    {
     "name": "stderr",
     "output_type": "stream",
     "text": [
      "2019-05-06 00:14:03,766 INFO: Found 295 articles about ('DNA', 'methylation', 'clock')\n",
      "2019-05-06 00:14:03,769 INFO: Loading publication data\n",
      "2019-05-06 00:14:06,833 INFO: Found 223 publications in the local database\n"
     ]
    },
    {
     "data": {
      "text/html": [
       "<div>\n",
       "<style scoped>\n",
       "    .dataframe tbody tr th:only-of-type {\n",
       "        vertical-align: middle;\n",
       "    }\n",
       "\n",
       "    .dataframe tbody tr th {\n",
       "        vertical-align: top;\n",
       "    }\n",
       "\n",
       "    .dataframe thead th {\n",
       "        text-align: right;\n",
       "    }\n",
       "</style>\n",
       "<table border=\"1\" class=\"dataframe\">\n",
       "  <thead>\n",
       "    <tr style=\"text-align: right;\">\n",
       "      <th></th>\n",
       "      <th>pmid</th>\n",
       "      <th>title</th>\n",
       "      <th>year</th>\n",
       "    </tr>\n",
       "  </thead>\n",
       "  <tbody>\n",
       "    <tr>\n",
       "      <th>0</th>\n",
       "      <td>1722018</td>\n",
       "      <td>DNA methylation and cellular ageing.</td>\n",
       "      <td>1991.0</td>\n",
       "    </tr>\n",
       "    <tr>\n",
       "      <th>1</th>\n",
       "      <td>1943146</td>\n",
       "      <td>Quantitative genetic variation and development...</td>\n",
       "      <td>1991.0</td>\n",
       "    </tr>\n",
       "    <tr>\n",
       "      <th>2</th>\n",
       "      <td>2777259</td>\n",
       "      <td>Cytosine methylation and the fate of CpG dinuc...</td>\n",
       "      <td>1989.0</td>\n",
       "    </tr>\n",
       "    <tr>\n",
       "      <th>3</th>\n",
       "      <td>2857475</td>\n",
       "      <td>Control of haemoglobin switching by a developm...</td>\n",
       "      <td>1985.0</td>\n",
       "    </tr>\n",
       "    <tr>\n",
       "      <th>4</th>\n",
       "      <td>11032969</td>\n",
       "      <td>Crisis periods and apoptotic commitment: death...</td>\n",
       "      <td>2000.0</td>\n",
       "    </tr>\n",
       "  </tbody>\n",
       "</table>\n",
       "</div>"
      ],
      "text/plain": [
       "       pmid                                              title    year\n",
       "0   1722018               DNA methylation and cellular ageing.  1991.0\n",
       "1   1943146  Quantitative genetic variation and development...  1991.0\n",
       "2   2777259  Cytosine methylation and the fate of CpG dinuc...  1989.0\n",
       "3   2857475  Control of haemoglobin switching by a developm...  1985.0\n",
       "4  11032969  Crisis periods and apoptotic commitment: death...  2000.0"
      ]
     },
     "execution_count": 4,
     "metadata": {},
     "output_type": "execute_result"
    }
   ],
   "source": [
    "analyzer = KeyPaperAnalyzer('nikolay.kapralov@gmail.com')\n",
    "analyzer.search(*SEARCH_TERMS)\n",
    "analyzer.load_publications()\n",
    "analyzer.pub_df.head()"
   ]
  },
  {
   "cell_type": "code",
   "execution_count": 5,
   "metadata": {
    "ExecuteTime": {
     "end_time": "2019-05-05T21:14:08.517294Z",
     "start_time": "2019-05-05T21:14:07.176812Z"
    }
   },
   "outputs": [
    {
     "name": "stderr",
     "output_type": "stream",
     "text": [
      "2019-05-06 00:14:07,182 INFO: Calculating co-citations for selected articles\n",
      "2019-05-06 00:14:08,441 INFO: Found 4876 co-cited pairs of articles\n",
      "2019-05-06 00:14:08,443 INFO: Building co-citations graph\n",
      "2019-05-06 00:14:08,499 INFO: Co-citations graph nodes 138 edges 1131\n"
     ]
    },
    {
     "data": {
      "text/html": [
       "<div>\n",
       "<style scoped>\n",
       "    .dataframe tbody tr th:only-of-type {\n",
       "        vertical-align: middle;\n",
       "    }\n",
       "\n",
       "    .dataframe tbody tr th {\n",
       "        vertical-align: top;\n",
       "    }\n",
       "\n",
       "    .dataframe thead th {\n",
       "        text-align: right;\n",
       "    }\n",
       "</style>\n",
       "<table border=\"1\" class=\"dataframe\">\n",
       "  <thead>\n",
       "    <tr style=\"text-align: right;\">\n",
       "      <th></th>\n",
       "      <th>citing</th>\n",
       "      <th>cited_1</th>\n",
       "      <th>cited_2</th>\n",
       "      <th>year</th>\n",
       "    </tr>\n",
       "  </thead>\n",
       "  <tbody>\n",
       "    <tr>\n",
       "      <th>0</th>\n",
       "      <td>16760426</td>\n",
       "      <td>1722018</td>\n",
       "      <td>15975143</td>\n",
       "      <td>2006.0</td>\n",
       "    </tr>\n",
       "    <tr>\n",
       "      <th>1</th>\n",
       "      <td>18535014</td>\n",
       "      <td>2777259</td>\n",
       "      <td>15941485</td>\n",
       "      <td>2008.0</td>\n",
       "    </tr>\n",
       "    <tr>\n",
       "      <th>2</th>\n",
       "      <td>18662928</td>\n",
       "      <td>2777259</td>\n",
       "      <td>17029560</td>\n",
       "      <td>2008.0</td>\n",
       "    </tr>\n",
       "    <tr>\n",
       "      <th>3</th>\n",
       "      <td>25261778</td>\n",
       "      <td>2777259</td>\n",
       "      <td>17029560</td>\n",
       "      <td>2014.0</td>\n",
       "    </tr>\n",
       "    <tr>\n",
       "      <th>4</th>\n",
       "      <td>25788985</td>\n",
       "      <td>2777259</td>\n",
       "      <td>25313081</td>\n",
       "      <td>2015.0</td>\n",
       "    </tr>\n",
       "  </tbody>\n",
       "</table>\n",
       "</div>"
      ],
      "text/plain": [
       "     citing  cited_1   cited_2    year\n",
       "0  16760426  1722018  15975143  2006.0\n",
       "1  18535014  2777259  15941485  2008.0\n",
       "2  18662928  2777259  17029560  2008.0\n",
       "3  25261778  2777259  17029560  2014.0\n",
       "4  25788985  2777259  25313081  2015.0"
      ]
     },
     "execution_count": 5,
     "metadata": {},
     "output_type": "execute_result"
    }
   ],
   "source": [
    "# In case this command is too long, you can stop and start DB\n",
    "# pg_ctl -D /usr/local/var/postgres stop -s -m fast\n",
    "# pg_ctl -D /usr/local/var/postgres -l /usr/local/var/postgres/server.log start\n",
    "analyzer.load_cocitations()\n",
    "analyzer.cocit_df.head()"
   ]
  },
  {
   "cell_type": "code",
   "execution_count": 6,
   "metadata": {
    "ExecuteTime": {
     "end_time": "2019-05-05T21:14:08.814113Z",
     "start_time": "2019-05-05T21:14:08.523288Z"
    }
   },
   "outputs": [
    {
     "name": "stderr",
     "output_type": "stream",
     "text": [
      "2019-05-06 00:14:08,527 INFO: Started loading citation stats\n",
      "2019-05-06 00:14:08,718 INFO: Done loading citation stats\n",
      "2019-05-06 00:14:08,734 INFO: Filtering top 1000 or 50% of all the papers\n",
      "2019-05-06 00:14:08,736 INFO: Done aggregation\n",
      "2019-05-06 00:14:08,738 INFO: Loaded citation stats for 87 of 295 articles. Others may either have zero citations or be absent in the local database.\n"
     ]
    },
    {
     "data": {
      "text/html": [
       "<div>\n",
       "<style scoped>\n",
       "    .dataframe tbody tr th:only-of-type {\n",
       "        vertical-align: middle;\n",
       "    }\n",
       "\n",
       "    .dataframe tbody tr th {\n",
       "        vertical-align: top;\n",
       "    }\n",
       "\n",
       "    .dataframe thead th {\n",
       "        text-align: right;\n",
       "    }\n",
       "</style>\n",
       "<table border=\"1\" class=\"dataframe\">\n",
       "  <thead>\n",
       "    <tr style=\"text-align: right;\">\n",
       "      <th>year</th>\n",
       "      <th>pmid</th>\n",
       "      <th>1985</th>\n",
       "      <th>1986</th>\n",
       "      <th>1988</th>\n",
       "      <th>1990</th>\n",
       "      <th>1991</th>\n",
       "      <th>1992</th>\n",
       "      <th>1993</th>\n",
       "      <th>1994</th>\n",
       "      <th>1995</th>\n",
       "      <th>...</th>\n",
       "      <th>2011</th>\n",
       "      <th>2012</th>\n",
       "      <th>2013</th>\n",
       "      <th>2014</th>\n",
       "      <th>2015</th>\n",
       "      <th>2016</th>\n",
       "      <th>2017</th>\n",
       "      <th>2018</th>\n",
       "      <th>2019</th>\n",
       "      <th>total</th>\n",
       "    </tr>\n",
       "  </thead>\n",
       "  <tbody>\n",
       "    <tr>\n",
       "      <th>59</th>\n",
       "      <td>24138928</td>\n",
       "      <td>0.0</td>\n",
       "      <td>0.0</td>\n",
       "      <td>0.0</td>\n",
       "      <td>0.0</td>\n",
       "      <td>0.0</td>\n",
       "      <td>0.0</td>\n",
       "      <td>0.0</td>\n",
       "      <td>0.0</td>\n",
       "      <td>0.0</td>\n",
       "      <td>...</td>\n",
       "      <td>0.0</td>\n",
       "      <td>0.0</td>\n",
       "      <td>0.0</td>\n",
       "      <td>32.0</td>\n",
       "      <td>90.0</td>\n",
       "      <td>135.0</td>\n",
       "      <td>150.0</td>\n",
       "      <td>29.0</td>\n",
       "      <td>0.0</td>\n",
       "      <td>436.0</td>\n",
       "    </tr>\n",
       "    <tr>\n",
       "      <th>72</th>\n",
       "      <td>25313081</td>\n",
       "      <td>0.0</td>\n",
       "      <td>0.0</td>\n",
       "      <td>0.0</td>\n",
       "      <td>0.0</td>\n",
       "      <td>0.0</td>\n",
       "      <td>0.0</td>\n",
       "      <td>0.0</td>\n",
       "      <td>0.0</td>\n",
       "      <td>0.0</td>\n",
       "      <td>...</td>\n",
       "      <td>0.0</td>\n",
       "      <td>0.0</td>\n",
       "      <td>0.0</td>\n",
       "      <td>0.0</td>\n",
       "      <td>25.0</td>\n",
       "      <td>37.0</td>\n",
       "      <td>38.0</td>\n",
       "      <td>4.0</td>\n",
       "      <td>0.0</td>\n",
       "      <td>104.0</td>\n",
       "    </tr>\n",
       "    <tr>\n",
       "      <th>2</th>\n",
       "      <td>2777259</td>\n",
       "      <td>0.0</td>\n",
       "      <td>0.0</td>\n",
       "      <td>0.0</td>\n",
       "      <td>5.0</td>\n",
       "      <td>6.0</td>\n",
       "      <td>5.0</td>\n",
       "      <td>2.0</td>\n",
       "      <td>1.0</td>\n",
       "      <td>0.0</td>\n",
       "      <td>...</td>\n",
       "      <td>9.0</td>\n",
       "      <td>5.0</td>\n",
       "      <td>7.0</td>\n",
       "      <td>7.0</td>\n",
       "      <td>5.0</td>\n",
       "      <td>9.0</td>\n",
       "      <td>2.0</td>\n",
       "      <td>0.0</td>\n",
       "      <td>0.0</td>\n",
       "      <td>102.0</td>\n",
       "    </tr>\n",
       "    <tr>\n",
       "      <th>6</th>\n",
       "      <td>15790588</td>\n",
       "      <td>0.0</td>\n",
       "      <td>0.0</td>\n",
       "      <td>0.0</td>\n",
       "      <td>0.0</td>\n",
       "      <td>0.0</td>\n",
       "      <td>0.0</td>\n",
       "      <td>0.0</td>\n",
       "      <td>0.0</td>\n",
       "      <td>0.0</td>\n",
       "      <td>...</td>\n",
       "      <td>5.0</td>\n",
       "      <td>10.0</td>\n",
       "      <td>11.0</td>\n",
       "      <td>13.0</td>\n",
       "      <td>7.0</td>\n",
       "      <td>7.0</td>\n",
       "      <td>9.0</td>\n",
       "      <td>2.0</td>\n",
       "      <td>0.0</td>\n",
       "      <td>102.0</td>\n",
       "    </tr>\n",
       "    <tr>\n",
       "      <th>7</th>\n",
       "      <td>15860628</td>\n",
       "      <td>0.0</td>\n",
       "      <td>0.0</td>\n",
       "      <td>0.0</td>\n",
       "      <td>0.0</td>\n",
       "      <td>0.0</td>\n",
       "      <td>0.0</td>\n",
       "      <td>0.0</td>\n",
       "      <td>0.0</td>\n",
       "      <td>0.0</td>\n",
       "      <td>...</td>\n",
       "      <td>4.0</td>\n",
       "      <td>15.0</td>\n",
       "      <td>12.0</td>\n",
       "      <td>9.0</td>\n",
       "      <td>8.0</td>\n",
       "      <td>6.0</td>\n",
       "      <td>8.0</td>\n",
       "      <td>1.0</td>\n",
       "      <td>0.0</td>\n",
       "      <td>94.0</td>\n",
       "    </tr>\n",
       "  </tbody>\n",
       "</table>\n",
       "<p>5 rows × 34 columns</p>\n",
       "</div>"
      ],
      "text/plain": [
       "year      pmid  1985  1986  1988  1990  1991  1992  1993  1994  1995  ...    \\\n",
       "59    24138928   0.0   0.0   0.0   0.0   0.0   0.0   0.0   0.0   0.0  ...     \n",
       "72    25313081   0.0   0.0   0.0   0.0   0.0   0.0   0.0   0.0   0.0  ...     \n",
       "2      2777259   0.0   0.0   0.0   5.0   6.0   5.0   2.0   1.0   0.0  ...     \n",
       "6     15790588   0.0   0.0   0.0   0.0   0.0   0.0   0.0   0.0   0.0  ...     \n",
       "7     15860628   0.0   0.0   0.0   0.0   0.0   0.0   0.0   0.0   0.0  ...     \n",
       "\n",
       "year  2011  2012  2013  2014  2015   2016   2017  2018  2019  total  \n",
       "59     0.0   0.0   0.0  32.0  90.0  135.0  150.0  29.0   0.0  436.0  \n",
       "72     0.0   0.0   0.0   0.0  25.0   37.0   38.0   4.0   0.0  104.0  \n",
       "2      9.0   5.0   7.0   7.0   5.0    9.0    2.0   0.0   0.0  102.0  \n",
       "6      5.0  10.0  11.0  13.0   7.0    7.0    9.0   2.0   0.0  102.0  \n",
       "7      4.0  15.0  12.0   9.0   8.0    6.0    8.0   1.0   0.0   94.0  \n",
       "\n",
       "[5 rows x 34 columns]"
      ]
     },
     "execution_count": 6,
     "metadata": {},
     "output_type": "execute_result"
    }
   ],
   "source": [
    "analyzer.load_citation_stats()\n",
    "analyzer.cit_df.head()"
   ]
  },
  {
   "cell_type": "markdown",
   "metadata": {},
   "source": [
    "## Subtopic Analysis"
   ]
  },
  {
   "cell_type": "code",
   "execution_count": 7,
   "metadata": {
    "ExecuteTime": {
     "end_time": "2019-05-05T21:22:53.848551Z",
     "start_time": "2019-05-05T21:22:53.601700Z"
    },
    "scrolled": false
   },
   "outputs": [
    {
     "name": "stderr",
     "output_type": "stream",
     "text": [
      "2019-05-06 00:22:53,603 INFO: Louvain community clustering of co-citation graph\n",
      "2019-05-06 00:22:53,756 INFO: Found 4 components\n",
      "2019-05-06 00:22:53,758 INFO: Merging components smaller than 0.01 to \"Other\" component\n",
      "2019-05-06 00:22:53,759 INFO: 0: 55 (39%)\n",
      "1: 54 (39%)\n",
      "2: 15 (10%)\n",
      "3: 14 (10%)\n"
     ]
    }
   ],
   "source": [
    "analyzer.subtopic_analysis()"
   ]
  },
  {
   "cell_type": "code",
   "execution_count": 8,
   "metadata": {
    "ExecuteTime": {
     "end_time": "2019-05-05T21:26:43.243778Z",
     "start_time": "2019-05-05T21:26:43.182820Z"
    }
   },
   "outputs": [
    {
     "data": {
      "text/html": [
       "<div>\n",
       "<style scoped>\n",
       "    .dataframe tbody tr th:only-of-type {\n",
       "        vertical-align: middle;\n",
       "    }\n",
       "\n",
       "    .dataframe tbody tr th {\n",
       "        vertical-align: top;\n",
       "    }\n",
       "\n",
       "    .dataframe thead th {\n",
       "        text-align: right;\n",
       "    }\n",
       "</style>\n",
       "<table border=\"1\" class=\"dataframe\">\n",
       "  <thead>\n",
       "    <tr style=\"text-align: right;\">\n",
       "      <th></th>\n",
       "      <th>pmid</th>\n",
       "      <th>title</th>\n",
       "      <th>year</th>\n",
       "      <th>1985</th>\n",
       "      <th>1986</th>\n",
       "      <th>1988</th>\n",
       "      <th>1990</th>\n",
       "      <th>1991</th>\n",
       "      <th>1992</th>\n",
       "      <th>1993</th>\n",
       "      <th>...</th>\n",
       "      <th>2012</th>\n",
       "      <th>2013</th>\n",
       "      <th>2014</th>\n",
       "      <th>2015</th>\n",
       "      <th>2016</th>\n",
       "      <th>2017</th>\n",
       "      <th>2018</th>\n",
       "      <th>2019</th>\n",
       "      <th>total</th>\n",
       "      <th>comp</th>\n",
       "    </tr>\n",
       "  </thead>\n",
       "  <tbody>\n",
       "    <tr>\n",
       "      <th>0</th>\n",
       "      <td>2777259</td>\n",
       "      <td>Cytosine methylation and the fate of CpG dinuc...</td>\n",
       "      <td>1989.0</td>\n",
       "      <td>0.0</td>\n",
       "      <td>0.0</td>\n",
       "      <td>0.0</td>\n",
       "      <td>5.0</td>\n",
       "      <td>6.0</td>\n",
       "      <td>5.0</td>\n",
       "      <td>2.0</td>\n",
       "      <td>...</td>\n",
       "      <td>5.0</td>\n",
       "      <td>7.0</td>\n",
       "      <td>7.0</td>\n",
       "      <td>5.0</td>\n",
       "      <td>9.0</td>\n",
       "      <td>2.0</td>\n",
       "      <td>0.0</td>\n",
       "      <td>0.0</td>\n",
       "      <td>102.0</td>\n",
       "      <td>2</td>\n",
       "    </tr>\n",
       "    <tr>\n",
       "      <th>1</th>\n",
       "      <td>15790588</td>\n",
       "      <td>Deregulated expression of the PER1, PER2 and P...</td>\n",
       "      <td>2005.0</td>\n",
       "      <td>0.0</td>\n",
       "      <td>0.0</td>\n",
       "      <td>0.0</td>\n",
       "      <td>0.0</td>\n",
       "      <td>0.0</td>\n",
       "      <td>0.0</td>\n",
       "      <td>0.0</td>\n",
       "      <td>...</td>\n",
       "      <td>10.0</td>\n",
       "      <td>11.0</td>\n",
       "      <td>13.0</td>\n",
       "      <td>7.0</td>\n",
       "      <td>7.0</td>\n",
       "      <td>9.0</td>\n",
       "      <td>2.0</td>\n",
       "      <td>0.0</td>\n",
       "      <td>102.0</td>\n",
       "      <td>1</td>\n",
       "    </tr>\n",
       "    <tr>\n",
       "      <th>2</th>\n",
       "      <td>15860628</td>\n",
       "      <td>PERIOD1-associated proteins modulate the negat...</td>\n",
       "      <td>2005.0</td>\n",
       "      <td>0.0</td>\n",
       "      <td>0.0</td>\n",
       "      <td>0.0</td>\n",
       "      <td>0.0</td>\n",
       "      <td>0.0</td>\n",
       "      <td>0.0</td>\n",
       "      <td>0.0</td>\n",
       "      <td>...</td>\n",
       "      <td>15.0</td>\n",
       "      <td>12.0</td>\n",
       "      <td>9.0</td>\n",
       "      <td>8.0</td>\n",
       "      <td>6.0</td>\n",
       "      <td>8.0</td>\n",
       "      <td>1.0</td>\n",
       "      <td>0.0</td>\n",
       "      <td>94.0</td>\n",
       "      <td>1</td>\n",
       "    </tr>\n",
       "    <tr>\n",
       "      <th>3</th>\n",
       "      <td>15975143</td>\n",
       "      <td>Age-related human small intestine methylation:...</td>\n",
       "      <td>2005.0</td>\n",
       "      <td>0.0</td>\n",
       "      <td>0.0</td>\n",
       "      <td>0.0</td>\n",
       "      <td>0.0</td>\n",
       "      <td>0.0</td>\n",
       "      <td>0.0</td>\n",
       "      <td>0.0</td>\n",
       "      <td>...</td>\n",
       "      <td>1.0</td>\n",
       "      <td>0.0</td>\n",
       "      <td>0.0</td>\n",
       "      <td>1.0</td>\n",
       "      <td>0.0</td>\n",
       "      <td>0.0</td>\n",
       "      <td>0.0</td>\n",
       "      <td>0.0</td>\n",
       "      <td>21.0</td>\n",
       "      <td>2</td>\n",
       "    </tr>\n",
       "    <tr>\n",
       "      <th>4</th>\n",
       "      <td>16314580</td>\n",
       "      <td>Counting human somatic cell replications: meth...</td>\n",
       "      <td>2005.0</td>\n",
       "      <td>0.0</td>\n",
       "      <td>0.0</td>\n",
       "      <td>0.0</td>\n",
       "      <td>0.0</td>\n",
       "      <td>0.0</td>\n",
       "      <td>0.0</td>\n",
       "      <td>0.0</td>\n",
       "      <td>...</td>\n",
       "      <td>1.0</td>\n",
       "      <td>1.0</td>\n",
       "      <td>0.0</td>\n",
       "      <td>1.0</td>\n",
       "      <td>1.0</td>\n",
       "      <td>0.0</td>\n",
       "      <td>0.0</td>\n",
       "      <td>0.0</td>\n",
       "      <td>23.0</td>\n",
       "      <td>2</td>\n",
       "    </tr>\n",
       "  </tbody>\n",
       "</table>\n",
       "<p>5 rows × 37 columns</p>\n",
       "</div>"
      ],
      "text/plain": [
       "       pmid                                              title    year  1985  \\\n",
       "0   2777259  Cytosine methylation and the fate of CpG dinuc...  1989.0   0.0   \n",
       "1  15790588  Deregulated expression of the PER1, PER2 and P...  2005.0   0.0   \n",
       "2  15860628  PERIOD1-associated proteins modulate the negat...  2005.0   0.0   \n",
       "3  15975143  Age-related human small intestine methylation:...  2005.0   0.0   \n",
       "4  16314580  Counting human somatic cell replications: meth...  2005.0   0.0   \n",
       "\n",
       "   1986  1988  1990  1991  1992  1993  ...   2012  2013  2014  2015  2016  \\\n",
       "0   0.0   0.0   5.0   6.0   5.0   2.0  ...    5.0   7.0   7.0   5.0   9.0   \n",
       "1   0.0   0.0   0.0   0.0   0.0   0.0  ...   10.0  11.0  13.0   7.0   7.0   \n",
       "2   0.0   0.0   0.0   0.0   0.0   0.0  ...   15.0  12.0   9.0   8.0   6.0   \n",
       "3   0.0   0.0   0.0   0.0   0.0   0.0  ...    1.0   0.0   0.0   1.0   0.0   \n",
       "4   0.0   0.0   0.0   0.0   0.0   0.0  ...    1.0   1.0   0.0   1.0   1.0   \n",
       "\n",
       "   2017  2018  2019  total  comp  \n",
       "0   2.0   0.0   0.0  102.0     2  \n",
       "1   9.0   2.0   0.0  102.0     1  \n",
       "2   8.0   1.0   0.0   94.0     1  \n",
       "3   0.0   0.0   0.0   21.0     2  \n",
       "4   0.0   0.0   0.0   23.0     2  \n",
       "\n",
       "[5 rows x 37 columns]"
      ]
     },
     "execution_count": 8,
     "metadata": {},
     "output_type": "execute_result"
    }
   ],
   "source": [
    "analyzer.pubcit_df.head()"
   ]
  },
  {
   "cell_type": "code",
   "execution_count": 9,
   "metadata": {
    "ExecuteTime": {
     "end_time": "2019-05-05T21:27:09.719360Z",
     "start_time": "2019-05-05T21:27:07.357815Z"
    },
    "scrolled": false
   },
   "outputs": [
    {
     "name": "stderr",
     "output_type": "stream",
     "text": [
      "2019-05-06 00:27:07,451 INFO: Visualize components\n"
     ]
    },
    {
     "ename": "NameError",
     "evalue": "name 'pm' is not defined",
     "output_type": "error",
     "traceback": [
      "\u001b[1;31m---------------------------------------------------------------------------\u001b[0m",
      "\u001b[1;31mNameError\u001b[0m                                 Traceback (most recent call last)",
      "\u001b[1;32m<ipython-input-9-264ccce0baa0>\u001b[0m in \u001b[0;36m<module>\u001b[1;34m()\u001b[0m\n\u001b[0;32m      3\u001b[0m \u001b[0mG\u001b[0m \u001b[1;33m=\u001b[0m \u001b[0manalyzer\u001b[0m\u001b[1;33m.\u001b[0m\u001b[0mCG\u001b[0m\u001b[1;33m.\u001b[0m\u001b[0mcopy\u001b[0m\u001b[1;33m(\u001b[0m\u001b[1;33m)\u001b[0m\u001b[1;33m\u001b[0m\u001b[0m\n\u001b[0;32m      4\u001b[0m \u001b[1;33m\u001b[0m\u001b[0m\n\u001b[1;32m----> 5\u001b[1;33m \u001b[0mcmap\u001b[0m \u001b[1;33m=\u001b[0m \u001b[0mplt\u001b[0m\u001b[1;33m.\u001b[0m\u001b[0mcm\u001b[0m\u001b[1;33m.\u001b[0m\u001b[0mget_cmap\u001b[0m\u001b[1;33m(\u001b[0m\u001b[1;34m'nipy_spectral'\u001b[0m\u001b[1;33m,\u001b[0m \u001b[0mlen\u001b[0m\u001b[1;33m(\u001b[0m\u001b[0mset\u001b[0m\u001b[1;33m(\u001b[0m\u001b[0mpm\u001b[0m\u001b[1;33m.\u001b[0m\u001b[0mvalues\u001b[0m\u001b[1;33m(\u001b[0m\u001b[1;33m)\u001b[0m\u001b[1;33m)\u001b[0m\u001b[1;33m)\u001b[0m\u001b[1;33m)\u001b[0m\u001b[1;33m\u001b[0m\u001b[0m\n\u001b[0m\u001b[0;32m      6\u001b[0m \u001b[0mcomp_palette\u001b[0m \u001b[1;33m=\u001b[0m \u001b[1;33m[\u001b[0m\u001b[0mRGB\u001b[0m\u001b[1;33m(\u001b[0m\u001b[1;33m*\u001b[0m\u001b[1;33m[\u001b[0m\u001b[0mround\u001b[0m\u001b[1;33m(\u001b[0m\u001b[0mc\u001b[0m\u001b[1;33m*\u001b[0m\u001b[1;36m255\u001b[0m\u001b[1;33m)\u001b[0m \u001b[1;32mfor\u001b[0m \u001b[0mc\u001b[0m \u001b[1;32min\u001b[0m \u001b[0mcmap\u001b[0m\u001b[1;33m(\u001b[0m\u001b[0mi\u001b[0m\u001b[1;33m)\u001b[0m\u001b[1;33m[\u001b[0m\u001b[1;33m:\u001b[0m\u001b[1;36m3\u001b[0m\u001b[1;33m]\u001b[0m\u001b[1;33m]\u001b[0m\u001b[1;33m)\u001b[0m \u001b[1;32mfor\u001b[0m \u001b[0mi\u001b[0m \u001b[1;32min\u001b[0m \u001b[0mrange\u001b[0m\u001b[1;33m(\u001b[0m\u001b[0mlen\u001b[0m\u001b[1;33m(\u001b[0m\u001b[0mset\u001b[0m\u001b[1;33m(\u001b[0m\u001b[0mpm\u001b[0m\u001b[1;33m.\u001b[0m\u001b[0mvalues\u001b[0m\u001b[1;33m(\u001b[0m\u001b[1;33m)\u001b[0m\u001b[1;33m)\u001b[0m\u001b[1;33m)\u001b[0m\u001b[1;33m)\u001b[0m\u001b[1;33m]\u001b[0m\u001b[1;33m\u001b[0m\u001b[0m\n\u001b[0;32m      7\u001b[0m \u001b[1;33m\u001b[0m\u001b[0m\n",
      "\u001b[1;31mNameError\u001b[0m: name 'pm' is not defined"
     ]
    }
   ],
   "source": [
    "logging.info('Visualize components')\n",
    "\n",
    "G = analyzer.CG.copy()\n",
    "\n",
    "cmap = plt.cm.get_cmap('nipy_spectral', len(set(pm.values())))\n",
    "comp_palette = [RGB(*[round(c*255) for c in cmap(i)[:3]]) for i in range(len(set(pm.values())))]\n",
    "\n",
    "# set node attributes\n",
    "node_color = {node: comp_palette[pm[node]] for node in G.nodes()}\n",
    "nx.set_node_attributes(G, node_color, 'colors')\n",
    "\n",
    "# Show with Bokeh\n",
    "plot = Plot(plot_width=400, plot_height=400, x_range=Range1d(-1.1, 1.1), y_range=Range1d(-1.1, 1.1))\n",
    "plot.title.text = 'Components visualization'\n",
    "\n",
    "graph = from_networkx(G, nx.spring_layout, scale=1, center=(0, 0))\n",
    "graph.node_renderer.glyph = Circle(size=10, fill_color='colors')\n",
    "\n",
    "# add data for rendering\n",
    "graph.node_renderer.data_source.data['id'] = list(G.nodes())\n",
    "\n",
    "# add tools to the plot\n",
    "# hover,pan,tap,wheel_zoom,box_zoom,reset,save\n",
    "plot.add_tools(HoverTool(tooltips=[(\"PMID\", \"@id\")]), \n",
    "               PanTool(), WheelZoomTool(), BoxZoomTool(), ResetTool(), SaveTool())\n",
    "\n",
    "plot.renderers.append(graph)\n",
    "\n",
    "show(plot)"
   ]
  },
  {
   "cell_type": "code",
   "execution_count": 11,
   "metadata": {
    "ExecuteTime": {
     "end_time": "2019-05-05T21:27:46.473403Z",
     "start_time": "2019-05-05T21:27:46.465407Z"
    }
   },
   "outputs": [],
   "source": [
    "years = analyzer.pubcit_df.columns.values[3:-2].astype(int)\n",
    "min_year, max_year = np.min(years), np.max(years)"
   ]
  },
  {
   "cell_type": "code",
   "execution_count": 12,
   "metadata": {
    "ExecuteTime": {
     "end_time": "2019-05-05T21:28:09.258374Z",
     "start_time": "2019-05-05T21:28:08.769815Z"
    },
    "scrolled": false
   },
   "outputs": [
    {
     "name": "stderr",
     "output_type": "stream",
     "text": [
      "2019-05-06 00:28:08,862 INFO: Summary component detailed info visualization\n"
     ]
    },
    {
     "data": {
      "text/html": [
       "\n",
       "\n",
       "\n",
       "\n",
       "\n",
       "\n",
       "  <div class=\"bk-root\" id=\"aefb6108-2d6b-4fe9-a899-f3832fed3b8f\" data-root-id=\"1002\"></div>\n"
      ]
     },
     "metadata": {},
     "output_type": "display_data"
    },
    {
     "data": {
      "application/javascript": [
       "(function(root) {\n",
       "  function embed_document(root) {\n",
       "    \n",
       "  var docs_json = {\"580bc5ec-f2c8-40c9-a566-f583075a8440\":{\"roots\":{\"references\":[{\"attributes\":{\"below\":[{\"id\":\"1013\",\"type\":\"CategoricalAxis\"}],\"center\":[{\"id\":\"1016\",\"type\":\"Grid\"},{\"id\":\"1021\",\"type\":\"Grid\"},{\"id\":\"1042\",\"type\":\"Legend\"}],\"left\":[{\"id\":\"1017\",\"type\":\"LinearAxis\"}],\"outline_line_color\":{\"value\":null},\"plot_height\":300,\"plot_width\":960,\"renderers\":[{\"id\":\"1035\",\"type\":\"GlyphRenderer\"},{\"id\":\"1048\",\"type\":\"GlyphRenderer\"},{\"id\":\"1062\",\"type\":\"GlyphRenderer\"}],\"title\":{\"id\":\"1003\",\"type\":\"Title\"},\"toolbar\":{\"id\":\"1023\",\"type\":\"Toolbar\"},\"toolbar_location\":null,\"x_range\":{\"id\":\"1005\",\"type\":\"FactorRange\"},\"x_scale\":{\"id\":\"1009\",\"type\":\"CategoricalScale\"},\"y_range\":{\"id\":\"1007\",\"type\":\"DataRange1d\"},\"y_scale\":{\"id\":\"1011\",\"type\":\"LinearScale\"}},\"id\":\"1002\",\"subtype\":\"Figure\",\"type\":\"Plot\"},{\"attributes\":{},\"id\":\"1056\",\"type\":\"UnionRenderers\"},{\"attributes\":{\"fields\":[\"0\",\"1\"]},\"id\":\"1029\",\"type\":\"Stack\"},{\"attributes\":{},\"id\":\"1083\",\"type\":\"Selection\"},{\"attributes\":{\"text\":\"Components by Year\"},\"id\":\"1003\",\"type\":\"Title\"},{\"attributes\":{\"label\":{\"value\":\"1\"},\"renderers\":[{\"id\":\"1048\",\"type\":\"GlyphRenderer\"}]},\"id\":\"1057\",\"type\":\"LegendItem\"},{\"attributes\":{\"fields\":[\"0\",\"1\",\"2\"]},\"id\":\"1030\",\"type\":\"Stack\"},{\"attributes\":{\"callback\":null,\"factors\":[\"1985\",\"1986\",\"1987\",\"1988\",\"1989\",\"1990\",\"1991\",\"1992\",\"1993\",\"1994\",\"1995\",\"1996\",\"1997\",\"1998\",\"1999\",\"2000\",\"2001\",\"2002\",\"2003\",\"2004\",\"2005\",\"2006\",\"2007\",\"2008\",\"2009\",\"2010\",\"2011\",\"2012\",\"2013\",\"2014\",\"2015\",\"2016\",\"2017\",\"2018\"],\"range_padding\":0.1},\"id\":\"1005\",\"type\":\"FactorRange\"},{\"attributes\":{\"callback\":null,\"data\":{\"0\":[0,0,0,0,0,0,0,0,0,0,0,0,0,0,0,0,0,0,0,0,0,0,0,0,0,0,0,1,2,1,11,15,1,0],\"1\":[0,0,0,0,0,0,0,0,0,0,0,0,0,0,0,0,0,0,0,0,2,3,0,2,2,0,6,10,2,5,5,0,0,0],\"2\":[0,0,0,0,1,0,0,0,0,0,0,0,0,0,0,0,0,0,0,0,2,2,1,1,1,0,0,0,0,0,0,0,0,0],\"years\":[\"1985\",\"1986\",\"1987\",\"1988\",\"1989\",\"1990\",\"1991\",\"1992\",\"1993\",\"1994\",\"1995\",\"1996\",\"1997\",\"1998\",\"1999\",\"2000\",\"2001\",\"2002\",\"2003\",\"2004\",\"2005\",\"2006\",\"2007\",\"2008\",\"2009\",\"2010\",\"2011\",\"2012\",\"2013\",\"2014\",\"2015\",\"2016\",\"2017\",\"2018\"]},\"selected\":{\"id\":\"1083\",\"type\":\"Selection\"},\"selection_policy\":{\"id\":\"1084\",\"type\":\"UnionRenderers\"}},\"id\":\"1058\",\"type\":\"ColumnDataSource\"},{\"attributes\":{\"callback\":null,\"data\":{\"0\":[0,0,0,0,0,0,0,0,0,0,0,0,0,0,0,0,0,0,0,0,0,0,0,0,0,0,0,1,2,1,11,15,1,0],\"1\":[0,0,0,0,0,0,0,0,0,0,0,0,0,0,0,0,0,0,0,0,2,3,0,2,2,0,6,10,2,5,5,0,0,0],\"2\":[0,0,0,0,1,0,0,0,0,0,0,0,0,0,0,0,0,0,0,0,2,2,1,1,1,0,0,0,0,0,0,0,0,0],\"years\":[\"1985\",\"1986\",\"1987\",\"1988\",\"1989\",\"1990\",\"1991\",\"1992\",\"1993\",\"1994\",\"1995\",\"1996\",\"1997\",\"1998\",\"1999\",\"2000\",\"2001\",\"2002\",\"2003\",\"2004\",\"2005\",\"2006\",\"2007\",\"2008\",\"2009\",\"2010\",\"2011\",\"2012\",\"2013\",\"2014\",\"2015\",\"2016\",\"2017\",\"2018\"]},\"selected\":{\"id\":\"1055\",\"type\":\"Selection\"},\"selection_policy\":{\"id\":\"1056\",\"type\":\"UnionRenderers\"}},\"id\":\"1031\",\"type\":\"ColumnDataSource\"},{\"attributes\":{\"callback\":null,\"start\":0},\"id\":\"1007\",\"type\":\"DataRange1d\"},{\"attributes\":{},\"id\":\"1009\",\"type\":\"CategoricalScale\"},{\"attributes\":{},\"id\":\"1041\",\"type\":\"CategoricalTickFormatter\"},{\"attributes\":{\"bottom\":{\"expr\":{\"id\":\"1029\",\"type\":\"Stack\"}},\"fill_alpha\":{\"value\":0.5},\"fill_color\":\"rgb(204, 204, 204)\",\"line_alpha\":{\"value\":0.5},\"line_color\":\"rgb(204, 204, 204)\",\"top\":{\"expr\":{\"id\":\"1030\",\"type\":\"Stack\"}},\"width\":{\"value\":0.9},\"x\":{\"field\":\"years\"}},\"id\":\"1060\",\"type\":\"VBar\"},{\"attributes\":{\"bottom\":{\"expr\":{\"id\":\"1025\",\"type\":\"Stack\"}},\"fill_alpha\":{\"value\":0.5},\"fill_color\":\"rgb(0, 0, 0)\",\"line_alpha\":{\"value\":0.5},\"line_color\":\"rgb(0, 0, 0)\",\"top\":{\"expr\":{\"id\":\"1026\",\"type\":\"Stack\"}},\"width\":{\"value\":0.9},\"x\":{\"field\":\"years\"}},\"id\":\"1033\",\"type\":\"VBar\"},{\"attributes\":{},\"id\":\"1011\",\"type\":\"LinearScale\"},{\"attributes\":{\"bottom\":{\"expr\":{\"id\":\"1029\",\"type\":\"Stack\"}},\"fill_alpha\":{\"value\":0.1},\"fill_color\":{\"value\":\"#1f77b4\"},\"line_alpha\":{\"value\":0.1},\"line_color\":{\"value\":\"#1f77b4\"},\"top\":{\"expr\":{\"id\":\"1030\",\"type\":\"Stack\"}},\"width\":{\"value\":0.9},\"x\":{\"field\":\"years\"}},\"id\":\"1061\",\"type\":\"VBar\"},{\"attributes\":{\"fields\":[\"0\",\"1\"]},\"id\":\"1028\",\"type\":\"Stack\"},{\"attributes\":{\"bottom\":{\"expr\":{\"id\":\"1025\",\"type\":\"Stack\"}},\"fill_alpha\":{\"value\":0.1},\"fill_color\":{\"value\":\"#1f77b4\"},\"line_alpha\":{\"value\":0.1},\"line_color\":{\"value\":\"#1f77b4\"},\"top\":{\"expr\":{\"id\":\"1026\",\"type\":\"Stack\"}},\"width\":{\"value\":0.9},\"x\":{\"field\":\"years\"}},\"id\":\"1034\",\"type\":\"VBar\"},{\"attributes\":{\"formatter\":{\"id\":\"1041\",\"type\":\"CategoricalTickFormatter\"},\"minor_tick_line_color\":{\"value\":null},\"ticker\":{\"id\":\"1014\",\"type\":\"CategoricalTicker\"}},\"id\":\"1013\",\"type\":\"CategoricalAxis\"},{\"attributes\":{\"data_source\":{\"id\":\"1058\",\"type\":\"ColumnDataSource\"},\"glyph\":{\"id\":\"1060\",\"type\":\"VBar\"},\"hover_glyph\":null,\"muted_glyph\":null,\"name\":\"2\",\"nonselection_glyph\":{\"id\":\"1061\",\"type\":\"VBar\"},\"selection_glyph\":null,\"view\":{\"id\":\"1063\",\"type\":\"CDSView\"}},\"id\":\"1062\",\"type\":\"GlyphRenderer\"},{\"attributes\":{\"data_source\":{\"id\":\"1031\",\"type\":\"ColumnDataSource\"},\"glyph\":{\"id\":\"1033\",\"type\":\"VBar\"},\"hover_glyph\":null,\"muted_glyph\":null,\"name\":\"0\",\"nonselection_glyph\":{\"id\":\"1034\",\"type\":\"VBar\"},\"selection_glyph\":null,\"view\":{\"id\":\"1036\",\"type\":\"CDSView\"}},\"id\":\"1035\",\"type\":\"GlyphRenderer\"},{\"attributes\":{},\"id\":\"1014\",\"type\":\"CategoricalTicker\"},{\"attributes\":{\"source\":{\"id\":\"1058\",\"type\":\"ColumnDataSource\"}},\"id\":\"1063\",\"type\":\"CDSView\"},{\"attributes\":{\"source\":{\"id\":\"1031\",\"type\":\"ColumnDataSource\"}},\"id\":\"1036\",\"type\":\"CDSView\"},{\"attributes\":{\"grid_line_color\":{\"value\":null},\"ticker\":{\"id\":\"1014\",\"type\":\"CategoricalTicker\"}},\"id\":\"1016\",\"type\":\"Grid\"},{\"attributes\":{},\"id\":\"1071\",\"type\":\"Selection\"},{\"attributes\":{},\"id\":\"1039\",\"type\":\"BasicTickFormatter\"},{\"attributes\":{\"formatter\":{\"id\":\"1039\",\"type\":\"BasicTickFormatter\"},\"minor_tick_line_color\":{\"value\":null},\"ticker\":{\"id\":\"1018\",\"type\":\"BasicTicker\"}},\"id\":\"1017\",\"type\":\"LinearAxis\"},{\"attributes\":{},\"id\":\"1072\",\"type\":\"UnionRenderers\"},{\"attributes\":{\"items\":[{\"id\":\"1043\",\"type\":\"LegendItem\"},{\"id\":\"1057\",\"type\":\"LegendItem\"},{\"id\":\"1073\",\"type\":\"LegendItem\"}],\"location\":\"top_left\",\"orientation\":\"horizontal\"},\"id\":\"1042\",\"type\":\"Legend\"},{\"attributes\":{},\"id\":\"1018\",\"type\":\"BasicTicker\"},{\"attributes\":{\"label\":{\"value\":\"2\"},\"renderers\":[{\"id\":\"1062\",\"type\":\"GlyphRenderer\"}]},\"id\":\"1073\",\"type\":\"LegendItem\"},{\"attributes\":{\"label\":{\"value\":\"0\"},\"renderers\":[{\"id\":\"1035\",\"type\":\"GlyphRenderer\"}]},\"id\":\"1043\",\"type\":\"LegendItem\"},{\"attributes\":{\"dimension\":1,\"ticker\":{\"id\":\"1018\",\"type\":\"BasicTicker\"}},\"id\":\"1021\",\"type\":\"Grid\"},{\"attributes\":{\"callback\":null,\"data\":{\"0\":[0,0,0,0,0,0,0,0,0,0,0,0,0,0,0,0,0,0,0,0,0,0,0,0,0,0,0,1,2,1,11,15,1,0],\"1\":[0,0,0,0,0,0,0,0,0,0,0,0,0,0,0,0,0,0,0,0,2,3,0,2,2,0,6,10,2,5,5,0,0,0],\"2\":[0,0,0,0,1,0,0,0,0,0,0,0,0,0,0,0,0,0,0,0,2,2,1,1,1,0,0,0,0,0,0,0,0,0],\"years\":[\"1985\",\"1986\",\"1987\",\"1988\",\"1989\",\"1990\",\"1991\",\"1992\",\"1993\",\"1994\",\"1995\",\"1996\",\"1997\",\"1998\",\"1999\",\"2000\",\"2001\",\"2002\",\"2003\",\"2004\",\"2005\",\"2006\",\"2007\",\"2008\",\"2009\",\"2010\",\"2011\",\"2012\",\"2013\",\"2014\",\"2015\",\"2016\",\"2017\",\"2018\"]},\"selected\":{\"id\":\"1071\",\"type\":\"Selection\"},\"selection_policy\":{\"id\":\"1072\",\"type\":\"UnionRenderers\"}},\"id\":\"1044\",\"type\":\"ColumnDataSource\"},{\"attributes\":{},\"id\":\"1084\",\"type\":\"UnionRenderers\"},{\"attributes\":{\"callback\":null,\"tooltips\":\"$name @components: @$name\"},\"id\":\"1022\",\"type\":\"HoverTool\"},{\"attributes\":{\"active_drag\":\"auto\",\"active_inspect\":\"auto\",\"active_multi\":null,\"active_scroll\":\"auto\",\"active_tap\":\"auto\",\"tools\":[{\"id\":\"1022\",\"type\":\"HoverTool\"}]},\"id\":\"1023\",\"type\":\"Toolbar\"},{\"attributes\":{\"bottom\":{\"expr\":{\"id\":\"1027\",\"type\":\"Stack\"}},\"fill_alpha\":{\"value\":0.5},\"fill_color\":\"rgb(0, 187, 0)\",\"line_alpha\":{\"value\":0.5},\"line_color\":\"rgb(0, 187, 0)\",\"top\":{\"expr\":{\"id\":\"1028\",\"type\":\"Stack\"}},\"width\":{\"value\":0.9},\"x\":{\"field\":\"years\"}},\"id\":\"1046\",\"type\":\"VBar\"},{\"attributes\":{\"fields\":[]},\"id\":\"1025\",\"type\":\"Stack\"},{\"attributes\":{\"bottom\":{\"expr\":{\"id\":\"1027\",\"type\":\"Stack\"}},\"fill_alpha\":{\"value\":0.1},\"fill_color\":{\"value\":\"#1f77b4\"},\"line_alpha\":{\"value\":0.1},\"line_color\":{\"value\":\"#1f77b4\"},\"top\":{\"expr\":{\"id\":\"1028\",\"type\":\"Stack\"}},\"width\":{\"value\":0.9},\"x\":{\"field\":\"years\"}},\"id\":\"1047\",\"type\":\"VBar\"},{\"attributes\":{\"fields\":[\"0\"]},\"id\":\"1026\",\"type\":\"Stack\"},{\"attributes\":{\"data_source\":{\"id\":\"1044\",\"type\":\"ColumnDataSource\"},\"glyph\":{\"id\":\"1046\",\"type\":\"VBar\"},\"hover_glyph\":null,\"muted_glyph\":null,\"name\":\"1\",\"nonselection_glyph\":{\"id\":\"1047\",\"type\":\"VBar\"},\"selection_glyph\":null,\"view\":{\"id\":\"1049\",\"type\":\"CDSView\"}},\"id\":\"1048\",\"type\":\"GlyphRenderer\"},{\"attributes\":{\"fields\":[\"0\"]},\"id\":\"1027\",\"type\":\"Stack\"},{\"attributes\":{\"source\":{\"id\":\"1044\",\"type\":\"ColumnDataSource\"}},\"id\":\"1049\",\"type\":\"CDSView\"},{\"attributes\":{},\"id\":\"1055\",\"type\":\"Selection\"}],\"root_ids\":[\"1002\"]},\"title\":\"Bokeh Application\",\"version\":\"1.1.0\"}};\n",
       "  var render_items = [{\"docid\":\"580bc5ec-f2c8-40c9-a566-f583075a8440\",\"roots\":{\"1002\":\"aefb6108-2d6b-4fe9-a899-f3832fed3b8f\"}}];\n",
       "  root.Bokeh.embed.embed_items_notebook(docs_json, render_items);\n",
       "\n",
       "  }\n",
       "  if (root.Bokeh !== undefined) {\n",
       "    embed_document(root);\n",
       "  } else {\n",
       "    var attempts = 0;\n",
       "    var timer = setInterval(function(root) {\n",
       "      if (root.Bokeh !== undefined) {\n",
       "        embed_document(root);\n",
       "        clearInterval(timer);\n",
       "      }\n",
       "      attempts++;\n",
       "      if (attempts > 100) {\n",
       "        console.log(\"Bokeh: ERROR: Unable to run BokehJS code because BokehJS library is missing\");\n",
       "        clearInterval(timer);\n",
       "      }\n",
       "    }, 10, root)\n",
       "  }\n",
       "})(window);"
      ],
      "application/vnd.bokehjs_exec.v0+json": ""
     },
     "metadata": {
      "application/vnd.bokehjs_exec.v0+json": {
       "id": "1002"
      }
     },
     "output_type": "display_data"
    }
   ],
   "source": [
    "logging.info('Summary component detailed info visualization')\n",
    "\n",
    "n_comps = analyzer.pubcit_df['comp'].nunique()\n",
    "cmap = plt.cm.get_cmap('nipy_spectral', n_comps)\n",
    "palette = [RGB(*[round(c*255) for c in cmap(i)[:3]]) for i in range(n_comps)]\n",
    "\n",
    "components = [str(i) for i in range(n_comps)]\n",
    "years = [str(y) for y in range(min_year, max_year)]\n",
    "data = {'years': years}\n",
    "for c in range(n_comps):\n",
    "    data[str(c)] = [len(analyzer.pubcit_df[np.logical_and(analyzer.pubcit_df['comp'] == c, analyzer.pubcit_df['year'] == y)]) \\\n",
    "                    for y in range(min_year, max_year)]\n",
    "\n",
    "p = figure(x_range=years, plot_width=960, plot_height=300, title=\"Components by Year\",\n",
    "           toolbar_location=None, tools=\"hover\", tooltips=\"$name @components: @$name\")\n",
    "\n",
    "p.vbar_stack(components, x='years', width=0.9, color=palette, source=data, alpha=0.5,\n",
    "             legend=[value(c) for c in components])\n",
    "\n",
    "p.y_range.start = 0\n",
    "p.x_range.range_padding = 0.1\n",
    "p.xgrid.grid_line_color = None\n",
    "p.axis.minor_tick_line_color = None\n",
    "p.outline_line_color = None\n",
    "p.legend.location = \"top_left\"\n",
    "p.legend.orientation = \"horizontal\"\n",
    "\n",
    "show(p)"
   ]
  },
  {
   "cell_type": "code",
   "execution_count": 14,
   "metadata": {
    "ExecuteTime": {
     "end_time": "2019-05-05T21:28:35.062465Z",
     "start_time": "2019-05-05T21:28:34.992508Z"
    },
    "scrolled": false
   },
   "outputs": [
    {
     "name": "stderr",
     "output_type": "stream",
     "text": [
      "2019-05-06 00:28:35,020 INFO: Per component detailed info visualization\n"
     ]
    },
    {
     "ename": "NameError",
     "evalue": "name 'np' is not defined",
     "output_type": "error",
     "traceback": [
      "\u001b[1;31m---------------------------------------------------------------------------\u001b[0m",
      "\u001b[1;31mNameError\u001b[0m                                 Traceback (most recent call last)",
      "\u001b[1;32m<ipython-input-14-8e0c877641e4>\u001b[0m in \u001b[0;36m<module>\u001b[1;34m()\u001b[0m\n\u001b[0;32m      6\u001b[0m \u001b[0mcmap\u001b[0m \u001b[1;33m=\u001b[0m \u001b[0mplt\u001b[0m\u001b[1;33m.\u001b[0m\u001b[0mcm\u001b[0m\u001b[1;33m.\u001b[0m\u001b[0mget_cmap\u001b[0m\u001b[1;33m(\u001b[0m\u001b[1;34m'nipy_spectral'\u001b[0m\u001b[1;33m,\u001b[0m \u001b[0mn_comps\u001b[0m\u001b[1;33m)\u001b[0m\u001b[1;33m\u001b[0m\u001b[0m\n\u001b[0;32m      7\u001b[0m \u001b[1;32mfor\u001b[0m \u001b[0mc\u001b[0m \u001b[1;32min\u001b[0m \u001b[0mrange\u001b[0m\u001b[1;33m(\u001b[0m\u001b[0mn_comps\u001b[0m\u001b[1;33m)\u001b[0m\u001b[1;33m:\u001b[0m\u001b[1;33m\u001b[0m\u001b[0m\n\u001b[1;32m----> 8\u001b[1;33m     \u001b[0mds\u001b[0m\u001b[1;33m[\u001b[0m\u001b[0mc\u001b[0m\u001b[1;33m]\u001b[0m \u001b[1;33m=\u001b[0m \u001b[0mbuild_data_source\u001b[0m\u001b[1;33m(\u001b[0m\u001b[0manalyzer\u001b[0m\u001b[1;33m.\u001b[0m\u001b[0mpubcit_df\u001b[0m\u001b[1;33m[\u001b[0m\u001b[0manalyzer\u001b[0m\u001b[1;33m.\u001b[0m\u001b[0mpubcit_df\u001b[0m\u001b[1;33m[\u001b[0m\u001b[1;34m'comp'\u001b[0m\u001b[1;33m]\u001b[0m \u001b[1;33m==\u001b[0m \u001b[0mc\u001b[0m\u001b[1;33m]\u001b[0m\u001b[1;33m)\u001b[0m\u001b[1;33m\u001b[0m\u001b[0m\n\u001b[0m\u001b[0;32m      9\u001b[0m     \u001b[0mmost_common\u001b[0m\u001b[1;33m[\u001b[0m\u001b[0mc\u001b[0m\u001b[1;33m]\u001b[0m \u001b[1;33m=\u001b[0m \u001b[0mdict\u001b[0m\u001b[1;33m(\u001b[0m\u001b[0mget_most_common_ngrams\u001b[0m\u001b[1;33m(\u001b[0m\u001b[0mdf_all\u001b[0m\u001b[1;33m[\u001b[0m\u001b[0mdf_all\u001b[0m\u001b[1;33m[\u001b[0m\u001b[1;34m'comp'\u001b[0m\u001b[1;33m]\u001b[0m \u001b[1;33m==\u001b[0m \u001b[0mc\u001b[0m\u001b[1;33m]\u001b[0m\u001b[1;33m[\u001b[0m\u001b[1;34m'title'\u001b[0m\u001b[1;33m]\u001b[0m\u001b[1;33m.\u001b[0m\u001b[0mvalues\u001b[0m\u001b[1;33m,\u001b[0m \u001b[1;36m5\u001b[0m\u001b[1;33m)\u001b[0m\u001b[1;33m)\u001b[0m\u001b[1;33m\u001b[0m\u001b[0m\n\u001b[0;32m     10\u001b[0m     \u001b[0mkwd\u001b[0m \u001b[1;33m=\u001b[0m \u001b[1;34m', '\u001b[0m\u001b[1;33m.\u001b[0m\u001b[0mjoin\u001b[0m\u001b[1;33m(\u001b[0m\u001b[1;33m[\u001b[0m\u001b[1;34mf'{k} ({v:.2f})'\u001b[0m \u001b[1;32mfor\u001b[0m \u001b[0mk\u001b[0m\u001b[1;33m,\u001b[0m \u001b[0mv\u001b[0m \u001b[1;32min\u001b[0m \u001b[0mmost_common\u001b[0m\u001b[1;33m[\u001b[0m\u001b[0mc\u001b[0m\u001b[1;33m]\u001b[0m\u001b[1;33m.\u001b[0m\u001b[0mitems\u001b[0m\u001b[1;33m(\u001b[0m\u001b[1;33m)\u001b[0m\u001b[1;33m]\u001b[0m\u001b[1;33m)\u001b[0m\u001b[1;33m\u001b[0m\u001b[0m\n",
      "\u001b[1;32mC:\\WORK\\CSC\\Internships\\BioLabs\\pubtrends\\models\\keypaper\\visualization.py\u001b[0m in \u001b[0;36mbuild_data_source\u001b[1;34m(df)\u001b[0m\n\u001b[0;32m     19\u001b[0m     \u001b[1;31m# TODO: use d = ColumnDataSource(df)\u001b[0m\u001b[1;33m\u001b[0m\u001b[1;33m\u001b[0m\u001b[0m\n\u001b[0;32m     20\u001b[0m     d = ColumnDataSource(data=dict(pmid=df['pmid'], title=df['title'], year=df['year'], total=df['total'],\n\u001b[1;32m---> 21\u001b[1;33m                                    size=np.log(df['total']) / 10, pos=np.random.random(size=len(df))))\n\u001b[0m\u001b[0;32m     22\u001b[0m     \u001b[1;32mreturn\u001b[0m \u001b[0md\u001b[0m\u001b[1;33m\u001b[0m\u001b[0m\n\u001b[0;32m     23\u001b[0m \u001b[1;33m\u001b[0m\u001b[0m\n",
      "\u001b[1;31mNameError\u001b[0m: name 'np' is not defined"
     ]
    }
   ],
   "source": [
    "logging.info('Per component detailed info visualization')\n",
    "n_comps = analyzer.pubcit_df['comp'].nunique()\n",
    "ds = [None] * n_comps\n",
    "layouts = [None] * n_comps\n",
    "most_common = [None] * n_comps\n",
    "cmap = plt.cm.get_cmap('nipy_spectral', n_comps)\n",
    "for c in range(n_comps):\n",
    "    ds[c] = build_data_source(analyzer.pubcit_df[analyzer.pubcit_df['comp'] == c])\n",
    "    most_common[c] = dict(get_most_common_ngrams(df_all[df_all['comp'] == c]['title'].values, 5))\n",
    "    kwd = ', '.join([f'{k} ({v:.2f})' for k, v in most_common[c].items()])\n",
    "    title = f'Subtopic #{c}: {kwd}'\n",
    "    layouts[c] = serve_scatter_article_layout(ds[c], title, year_range=[min_year, max_year], \n",
    "                                              color=RGB(*[round(ch*255) for ch in cmap(c)[:3]]))\n",
    "    show(layouts[c])"
   ]
  },
  {
   "cell_type": "markdown",
   "metadata": {},
   "source": [
    "## Top Cited Papers Overall"
   ]
  },
  {
   "cell_type": "code",
   "execution_count": 49,
   "metadata": {
    "ExecuteTime": {
     "end_time": "2019-05-05T20:18:52.720846Z",
     "start_time": "2019-05-05T20:18:52.708849Z"
    }
   },
   "outputs": [],
   "source": [
    "df_all = df_all.sort_values(by='total', ascending=False)"
   ]
  },
  {
   "cell_type": "code",
   "execution_count": 50,
   "metadata": {
    "ExecuteTime": {
     "end_time": "2019-05-05T20:18:53.164569Z",
     "start_time": "2019-05-05T20:18:52.725839Z"
    }
   },
   "outputs": [],
   "source": [
    "THRESHOLD = 0.1 # 10 %\n",
    "MAX_PAPERS = 100"
   ]
  },
  {
   "cell_type": "code",
   "execution_count": 51,
   "metadata": {
    "ExecuteTime": {
     "end_time": "2019-05-05T20:18:53.677388Z",
     "start_time": "2019-05-05T20:18:53.168567Z"
    }
   },
   "outputs": [
    {
     "name": "stdout",
     "output_type": "stream",
     "text": [
      "TODO: color me by components colors\n"
     ]
    },
    {
     "data": {
      "text/html": [
       "\n",
       "\n",
       "\n",
       "\n",
       "\n",
       "\n",
       "  <div class=\"bk-root\" id=\"2ad20035-5070-4108-b125-50fb571b5fb9\" data-root-id=\"3990\"></div>\n"
      ]
     },
     "metadata": {},
     "output_type": "display_data"
    },
    {
     "data": {
      "application/javascript": [
       "(function(root) {\n",
       "  function embed_document(root) {\n",
       "    \n",
       "  var docs_json = {\"40893d5f-ce08-4bdf-a1bf-00c1415b35c2\":{\"roots\":{\"references\":[{\"attributes\":{\"below\":[{\"id\":\"4001\",\"type\":\"LinearAxis\"}],\"center\":[{\"id\":\"4005\",\"type\":\"Grid\"},{\"id\":\"4010\",\"type\":\"Grid\"}],\"js_event_callbacks\":{\"tap\":[{\"id\":\"3989\",\"type\":\"CustomJS\"}]},\"left\":[{\"id\":\"4006\",\"type\":\"LinearAxis\"}],\"plot_height\":400,\"plot_width\":960,\"renderers\":[{\"id\":\"4030\",\"type\":\"GlyphRenderer\"}],\"title\":{\"id\":\"3991\",\"type\":\"Title\"},\"toolbar\":{\"id\":\"4018\",\"type\":\"Toolbar\"},\"toolbar_location\":\"above\",\"x_range\":{\"id\":\"3993\",\"type\":\"Range1d\"},\"x_scale\":{\"id\":\"3997\",\"type\":\"LinearScale\"},\"y_range\":{\"id\":\"3995\",\"type\":\"DataRange1d\"},\"y_scale\":{\"id\":\"3999\",\"type\":\"LinearScale\"}},\"id\":\"3990\",\"subtype\":\"Figure\",\"type\":\"Plot\"},{\"attributes\":{\"axis_label\":\"Year\",\"formatter\":{\"id\":\"4187\",\"type\":\"BasicTickFormatter\"},\"ticker\":{\"id\":\"4002\",\"type\":\"BasicTicker\"}},\"id\":\"4001\",\"type\":\"LinearAxis\"},{\"attributes\":{\"fill_alpha\":{\"value\":0.1},\"fill_color\":{\"value\":\"#1f77b4\"},\"line_alpha\":{\"value\":0.1},\"line_color\":{\"value\":\"#1f77b4\"},\"radius\":{\"field\":\"size\",\"units\":\"data\"},\"x\":{\"field\":\"year\"},\"y\":{\"field\":\"pos\"}},\"id\":\"4029\",\"type\":\"Circle\"},{\"attributes\":{\"formatter\":{\"id\":\"4185\",\"type\":\"BasicTickFormatter\"},\"ticker\":{\"id\":\"4007\",\"type\":\"BasicTicker\"}},\"id\":\"4006\",\"type\":\"LinearAxis\"},{\"attributes\":{\"text\":\"Top cited papers\"},\"id\":\"3991\",\"type\":\"Title\"},{\"attributes\":{\"source\":{\"id\":\"3988\",\"type\":\"ColumnDataSource\"}},\"id\":\"4031\",\"type\":\"CDSView\"},{\"attributes\":{},\"id\":\"4189\",\"type\":\"Selection\"},{\"attributes\":{},\"id\":\"4014\",\"type\":\"WheelZoomTool\"},{\"attributes\":{\"callback\":null,\"end\":2019,\"start\":1985},\"id\":\"3993\",\"type\":\"Range1d\"},{\"attributes\":{},\"id\":\"3999\",\"type\":\"LinearScale\"},{\"attributes\":{},\"id\":\"4190\",\"type\":\"UnionRenderers\"},{\"attributes\":{\"args\":{\"base\":\"https://www.ncbi.nlm.nih.gov/pubmed/?term=\",\"source\":{\"id\":\"3988\",\"type\":\"ColumnDataSource\"}},\"code\":\"\\n        var data = source.data, selected = source.selected.indices;\\n        if (selected.length == 1) {\\n            // only consider case where one glyph is selected by user\\n            selected_id = data['pmid'][selected[0]]\\n            for (var i = 0; i < data['pmid'].length; ++i){\\n                if(data['pmid'][i] == selected_id){\\n                    window.open(base + data['pmid'][i], '_blank');\\n                }\\n            }\\n        }\\n    \"},\"id\":\"3989\",\"type\":\"CustomJS\"},{\"attributes\":{\"active_drag\":\"auto\",\"active_inspect\":\"auto\",\"active_multi\":null,\"active_scroll\":\"auto\",\"active_tap\":\"auto\",\"tools\":[{\"id\":\"4011\",\"type\":\"HoverTool\"},{\"id\":\"4012\",\"type\":\"PanTool\"},{\"id\":\"4013\",\"type\":\"TapTool\"},{\"id\":\"4014\",\"type\":\"WheelZoomTool\"},{\"id\":\"4015\",\"type\":\"BoxZoomTool\"},{\"id\":\"4016\",\"type\":\"ResetTool\"},{\"id\":\"4017\",\"type\":\"SaveTool\"}]},\"id\":\"4018\",\"type\":\"Toolbar\"},{\"attributes\":{},\"id\":\"4002\",\"type\":\"BasicTicker\"},{\"attributes\":{},\"id\":\"3997\",\"type\":\"LinearScale\"},{\"attributes\":{\"callback\":null,\"tooltips\":[[\"PMID\",\"@pmid\"],[\"Title\",\"@title\"],[\"Year\",\"@year\"],[\"Cited by\",\"@total paper(s) total\"]]},\"id\":\"4011\",\"type\":\"HoverTool\"},{\"attributes\":{\"callback\":null,\"data\":{\"pmid\":[24138928,25313081,2777259,15790588,15860628,22438023,25617346,23217262,25678027],\"pos\":{\"__ndarray__\":\"6CQwawGu3D/3FJ0d163hP3HxfcNlZeM/5X+P8VEQ4D/cluBOulXXP0ru7OUk+d4/E0yeHiU16j+UIoSQLSvVP2z5B/c5esE/\",\"dtype\":\"float64\",\"shape\":[9]},\"size\":{\"__ndarray__\":\"m09m9c1y4z8Dk4q7XrndPy7ZcjKOmd0/LtlyMo6Z3T9b/6XyuxPdP6LIPQT4M9w/yBFhvseL2z9lWO3H417bP8UqIPwoGds/\",\"dtype\":\"float64\",\"shape\":[9]},\"title\":[\"DNA methylation age of human tissues and cell types.\",\"Obesity accelerates epigenetic aging of human liver.\",\"Cytosine methylation and the fate of CpG dinucleotides in vertebrate genomes.\",\"Deregulated expression of the PER1, PER2 and PER3 genes in breast cancers.\",\"PERIOD1-associated proteins modulate the negative limb of the mammalian circadian oscillator.\",\"Genome-wide analysis of DNA methylation and gene expression changes in two Arabidopsis ecotypes and their reciprocal hybrids.\",\"The epigenetic clock is correlated with physical and cognitive fitness in the Lothian Birth Cohort 1936.\",\"Circadian oscillations of protein-coding and regulatory RNAs in a highly dynamic mammalian liver epigenome.\",\"Accelerated epigenetic aging in Down syndrome.\"],\"total\":{\"__ndarray__\":\"AAAAAABAe0AAAAAAAABaQAAAAAAAgFlAAAAAAACAWUAAAAAAAIBXQAAAAAAAgFRAAAAAAACAUkAAAAAAAABSQAAAAAAAQFFA\",\"dtype\":\"float64\",\"shape\":[9]},\"year\":{\"__ndarray__\":\"AAAAAAB0n0AAAAAAAHifQAAAAAAAFJ9AAAAAAABUn0AAAAAAAFSfQAAAAAAAcJ9AAAAAAAB8n0AAAAAAAHCfQAAAAAAAfJ9A\",\"dtype\":\"float64\",\"shape\":[9]}},\"selected\":{\"id\":\"4189\",\"type\":\"Selection\"},\"selection_policy\":{\"id\":\"4190\",\"type\":\"UnionRenderers\"}},\"id\":\"3988\",\"type\":\"ColumnDataSource\"},{\"attributes\":{},\"id\":\"4017\",\"type\":\"SaveTool\"},{\"attributes\":{\"callback\":null},\"id\":\"4013\",\"type\":\"TapTool\"},{\"attributes\":{\"bottom_units\":\"screen\",\"fill_alpha\":{\"value\":0.5},\"fill_color\":{\"value\":\"lightgrey\"},\"left_units\":\"screen\",\"level\":\"overlay\",\"line_alpha\":{\"value\":1.0},\"line_color\":{\"value\":\"black\"},\"line_dash\":[4,4],\"line_width\":{\"value\":2},\"render_mode\":\"css\",\"right_units\":\"screen\",\"top_units\":\"screen\"},\"id\":\"4191\",\"type\":\"BoxAnnotation\"},{\"attributes\":{},\"id\":\"4012\",\"type\":\"PanTool\"},{\"attributes\":{},\"id\":\"4185\",\"type\":\"BasicTickFormatter\"},{\"attributes\":{\"overlay\":{\"id\":\"4191\",\"type\":\"BoxAnnotation\"}},\"id\":\"4015\",\"type\":\"BoxZoomTool\"},{\"attributes\":{\"data_source\":{\"id\":\"3988\",\"type\":\"ColumnDataSource\"},\"glyph\":{\"id\":\"4028\",\"type\":\"Circle\"},\"hover_glyph\":null,\"muted_glyph\":null,\"nonselection_glyph\":{\"id\":\"4029\",\"type\":\"Circle\"},\"selection_glyph\":null,\"view\":{\"id\":\"4031\",\"type\":\"CDSView\"}},\"id\":\"4030\",\"type\":\"GlyphRenderer\"},{\"attributes\":{},\"id\":\"4016\",\"type\":\"ResetTool\"},{\"attributes\":{},\"id\":\"4007\",\"type\":\"BasicTicker\"},{\"attributes\":{\"callback\":null},\"id\":\"3995\",\"type\":\"DataRange1d\"},{\"attributes\":{\"fill_alpha\":{\"value\":0.5},\"fill_color\":{\"value\":\"blue\"},\"line_color\":{\"value\":\"blue\"},\"radius\":{\"field\":\"size\",\"units\":\"data\"},\"x\":{\"field\":\"year\"},\"y\":{\"field\":\"pos\"}},\"id\":\"4028\",\"type\":\"Circle\"},{\"attributes\":{\"dimension\":1,\"ticker\":{\"id\":\"4007\",\"type\":\"BasicTicker\"}},\"id\":\"4010\",\"type\":\"Grid\"},{\"attributes\":{\"ticker\":{\"id\":\"4002\",\"type\":\"BasicTicker\"}},\"id\":\"4005\",\"type\":\"Grid\"},{\"attributes\":{},\"id\":\"4187\",\"type\":\"BasicTickFormatter\"}],\"root_ids\":[\"3990\"]},\"title\":\"Bokeh Application\",\"version\":\"1.1.0\"}};\n",
       "  var render_items = [{\"docid\":\"40893d5f-ce08-4bdf-a1bf-00c1415b35c2\",\"roots\":{\"3990\":\"2ad20035-5070-4108-b125-50fb571b5fb9\"}}];\n",
       "  root.Bokeh.embed.embed_items_notebook(docs_json, render_items);\n",
       "\n",
       "  }\n",
       "  if (root.Bokeh !== undefined) {\n",
       "    embed_document(root);\n",
       "  } else {\n",
       "    var attempts = 0;\n",
       "    var timer = setInterval(function(root) {\n",
       "      if (root.Bokeh !== undefined) {\n",
       "        embed_document(root);\n",
       "        clearInterval(timer);\n",
       "      }\n",
       "      attempts++;\n",
       "      if (attempts > 100) {\n",
       "        console.log(\"Bokeh: ERROR: Unable to run BokehJS code because BokehJS library is missing\");\n",
       "        clearInterval(timer);\n",
       "      }\n",
       "    }, 10, root)\n",
       "  }\n",
       "})(window);"
      ],
      "application/vnd.bokehjs_exec.v0+json": ""
     },
     "metadata": {
      "application/vnd.bokehjs_exec.v0+json": {
       "id": "3990"
      }
     },
     "output_type": "display_data"
    }
   ],
   "source": [
    "print('TODO: color me by components colors')\n",
    "papers_to_show = min(MAX_PAPERS, round(len(analyzer.cit_df) * THRESHOLD))\n",
    "ds_top = build_data_source(df_all.iloc[:papers_to_show, :])\n",
    "layout_top = serve_scatter_article_layout(ds_top, 'Top cited papers', year_range=[min_year, max_year])\n",
    "show(layout_top)"
   ]
  },
  {
   "cell_type": "markdown",
   "metadata": {},
   "source": [
    "## Top Cited Papers for Each Year"
   ]
  },
  {
   "cell_type": "code",
   "execution_count": 52,
   "metadata": {
    "ExecuteTime": {
     "end_time": "2019-05-05T20:18:54.085136Z",
     "start_time": "2019-05-05T20:18:53.685383Z"
    },
    "scrolled": false
   },
   "outputs": [
    {
     "data": {
      "text/html": [
       "\n",
       "\n",
       "\n",
       "\n",
       "\n",
       "\n",
       "  <div class=\"bk-root\" id=\"34214a7f-7997-4b24-8e57-b588c41d5c39\" data-root-id=\"4242\"></div>\n"
      ]
     },
     "metadata": {},
     "output_type": "display_data"
    },
    {
     "data": {
      "application/javascript": [
       "(function(root) {\n",
       "  function embed_document(root) {\n",
       "    \n",
       "  var docs_json = {\"96ca0034-42a9-4ac7-a4ac-28402d083dc5\":{\"roots\":{\"references\":[{\"attributes\":{\"below\":[{\"id\":\"4253\",\"type\":\"LinearAxis\"}],\"center\":[{\"id\":\"4257\",\"type\":\"Grid\"},{\"id\":\"4262\",\"type\":\"Grid\"}],\"left\":[{\"id\":\"4258\",\"type\":\"LinearAxis\"}],\"plot_height\":300,\"plot_width\":960,\"renderers\":[{\"id\":\"4282\",\"type\":\"GlyphRenderer\"}],\"title\":{\"id\":\"4243\",\"type\":\"Title\"},\"toolbar\":{\"id\":\"4270\",\"type\":\"Toolbar\"},\"toolbar_location\":\"above\",\"x_range\":{\"id\":\"4245\",\"type\":\"Range1d\"},\"x_scale\":{\"id\":\"4249\",\"type\":\"LinearScale\"},\"y_range\":{\"id\":\"4247\",\"type\":\"DataRange1d\"},\"y_scale\":{\"id\":\"4251\",\"type\":\"LinearScale\"}},\"id\":\"4242\",\"subtype\":\"Figure\",\"type\":\"Plot\"},{\"attributes\":{\"text\":\"Max gain\"},\"id\":\"4243\",\"type\":\"Title\"},{\"attributes\":{},\"id\":\"4264\",\"type\":\"PanTool\"},{\"attributes\":{},\"id\":\"4251\",\"type\":\"LinearScale\"},{\"attributes\":{\"callback\":null},\"id\":\"4265\",\"type\":\"TapTool\"},{\"attributes\":{},\"id\":\"4445\",\"type\":\"BasicTickFormatter\"},{\"attributes\":{},\"id\":\"4266\",\"type\":\"WheelZoomTool\"},{\"attributes\":{\"overlay\":{\"id\":\"4451\",\"type\":\"BoxAnnotation\"}},\"id\":\"4267\",\"type\":\"BoxZoomTool\"},{\"attributes\":{},\"id\":\"4268\",\"type\":\"ResetTool\"},{\"attributes\":{},\"id\":\"4269\",\"type\":\"SaveTool\"},{\"attributes\":{\"callback\":null},\"id\":\"4247\",\"type\":\"DataRange1d\"},{\"attributes\":{\"active_drag\":\"auto\",\"active_inspect\":\"auto\",\"active_multi\":null,\"active_scroll\":\"auto\",\"active_tap\":\"auto\",\"tools\":[{\"id\":\"4263\",\"type\":\"HoverTool\"},{\"id\":\"4264\",\"type\":\"PanTool\"},{\"id\":\"4265\",\"type\":\"TapTool\"},{\"id\":\"4266\",\"type\":\"WheelZoomTool\"},{\"id\":\"4267\",\"type\":\"BoxZoomTool\"},{\"id\":\"4268\",\"type\":\"ResetTool\"},{\"id\":\"4269\",\"type\":\"SaveTool\"}]},\"id\":\"4270\",\"type\":\"Toolbar\"},{\"attributes\":{},\"id\":\"4249\",\"type\":\"LinearScale\"},{\"attributes\":{\"source\":{\"id\":\"4240\",\"type\":\"ColumnDataSource\"}},\"id\":\"4283\",\"type\":\"CDSView\"},{\"attributes\":{\"axis_label\":\"Year\",\"formatter\":{\"id\":\"4447\",\"type\":\"BasicTickFormatter\"},\"ticker\":{\"id\":\"4254\",\"type\":\"BasicTicker\"}},\"id\":\"4253\",\"type\":\"LinearAxis\"},{\"attributes\":{},\"id\":\"4254\",\"type\":\"BasicTicker\"},{\"attributes\":{\"ticker\":{\"id\":\"4254\",\"type\":\"BasicTicker\"}},\"id\":\"4257\",\"type\":\"Grid\"},{\"attributes\":{\"axis_label\":\"Number of citations\",\"formatter\":{\"id\":\"4445\",\"type\":\"BasicTickFormatter\"},\"ticker\":{\"id\":\"4259\",\"type\":\"BasicTicker\"}},\"id\":\"4258\",\"type\":\"LinearAxis\"},{\"attributes\":{},\"id\":\"4259\",\"type\":\"BasicTicker\"},{\"attributes\":{\"dimension\":1,\"ticker\":{\"id\":\"4259\",\"type\":\"BasicTicker\"}},\"id\":\"4262\",\"type\":\"Grid\"},{\"attributes\":{},\"id\":\"4447\",\"type\":\"BasicTickFormatter\"},{\"attributes\":{\"fill_alpha\":{\"value\":0.1},\"fill_color\":{\"value\":\"#1f77b4\"},\"line_alpha\":{\"value\":0.1},\"line_color\":{\"value\":\"#1f77b4\"},\"top\":{\"field\":\"count\"},\"width\":{\"value\":0.8},\"x\":{\"field\":\"year\"}},\"id\":\"4281\",\"type\":\"VBar\"},{\"attributes\":{\"callback\":null,\"data\":{\"count\":[5,6,5,2,1,1,1,2,1,2,6,4,3,4,5,6,9,17,9,15,12,32,90,135,150,29,1],\"pmid\":[\"2777259\",\"2777259\",\"2777259\",\"2777259\",\"2777259\",\"25969563\",\"2777259\",\"2777259\",\"2777259\",\"2777259\",\"2777259\",\"2777259\",\"2777259\",\"15975143\",\"15790588\",\"2777259\",\"15860628\",\"15790588\",\"2777259\",\"15860628\",\"15860628\",\"24138928\",\"24138928\",\"24138928\",\"24138928\",\"24138928\",\"27511193\"],\"title\":[\"Cytosine methylation and the fate of CpG dinucleotides in vertebrate genomes.\",\"Cytosine methylation and the fate of CpG dinucleotides in vertebrate genomes.\",\"Cytosine methylation and the fate of CpG dinucleotides in vertebrate genomes.\",\"Cytosine methylation and the fate of CpG dinucleotides in vertebrate genomes.\",\"Cytosine methylation and the fate of CpG dinucleotides in vertebrate genomes.\",\"HIV-1 Infection Accelerates Age According to the Epigenetic Clock.\",\"Cytosine methylation and the fate of CpG dinucleotides in vertebrate genomes.\",\"Cytosine methylation and the fate of CpG dinucleotides in vertebrate genomes.\",\"Cytosine methylation and the fate of CpG dinucleotides in vertebrate genomes.\",\"Cytosine methylation and the fate of CpG dinucleotides in vertebrate genomes.\",\"Cytosine methylation and the fate of CpG dinucleotides in vertebrate genomes.\",\"Cytosine methylation and the fate of CpG dinucleotides in vertebrate genomes.\",\"Cytosine methylation and the fate of CpG dinucleotides in vertebrate genomes.\",\"Age-related human small intestine methylation: evidence for stem cell niches.\",\"Deregulated expression of the PER1, PER2 and PER3 genes in breast cancers.\",\"Cytosine methylation and the fate of CpG dinucleotides in vertebrate genomes.\",\"PERIOD1-associated proteins modulate the negative limb of the mammalian circadian oscillator.\",\"Deregulated expression of the PER1, PER2 and PER3 genes in breast cancers.\",\"Cytosine methylation and the fate of CpG dinucleotides in vertebrate genomes.\",\"PERIOD1-associated proteins modulate the negative limb of the mammalian circadian oscillator.\",\"PERIOD1-associated proteins modulate the negative limb of the mammalian circadian oscillator.\",\"DNA methylation age of human tissues and cell types.\",\"DNA methylation age of human tissues and cell types.\",\"DNA methylation age of human tissues and cell types.\",\"DNA methylation age of human tissues and cell types.\",\"DNA methylation age of human tissues and cell types.\",\"An epigenetic clock analysis of race/ethnicity, sex, and coronary heart disease.\"],\"year\":[1990,1991,1992,1993,1994,1995,1997,2000,2001,2002,2003,2004,2005,2006,2007,2008,2009,2010,2011,2012,2013,2014,2015,2016,2017,2018,2019]},\"selected\":{\"id\":\"4449\",\"type\":\"Selection\"},\"selection_policy\":{\"id\":\"4450\",\"type\":\"UnionRenderers\"}},\"id\":\"4240\",\"type\":\"ColumnDataSource\"},{\"attributes\":{},\"id\":\"4449\",\"type\":\"Selection\"},{\"attributes\":{\"fill_alpha\":{\"value\":0.5},\"fill_color\":{\"field\":\"pmid\",\"transform\":{\"id\":\"4241\",\"type\":\"CategoricalColorMapper\"}},\"line_color\":{\"field\":\"pmid\",\"transform\":{\"id\":\"4241\",\"type\":\"CategoricalColorMapper\"}},\"top\":{\"field\":\"count\"},\"width\":{\"value\":0.8},\"x\":{\"field\":\"year\"}},\"id\":\"4280\",\"type\":\"VBar\"},{\"attributes\":{},\"id\":\"4450\",\"type\":\"UnionRenderers\"},{\"attributes\":{\"factors\":[\"2777259\",\"25969563\",\"15975143\",\"15790588\",\"15860628\",\"24138928\",\"27511193\"],\"palette\":[\"rgb(0, 0, 0)\",\"rgb(0, 0, 187)\",\"rgb(0, 164, 187)\",\"rgb(0, 187, 0)\",\"rgb(204, 249, 0)\",\"rgb(255, 51, 0)\",\"rgb(204, 204, 204)\"]},\"id\":\"4241\",\"type\":\"CategoricalColorMapper\"},{\"attributes\":{\"bottom_units\":\"screen\",\"fill_alpha\":{\"value\":0.5},\"fill_color\":{\"value\":\"lightgrey\"},\"left_units\":\"screen\",\"level\":\"overlay\",\"line_alpha\":{\"value\":1.0},\"line_color\":{\"value\":\"black\"},\"line_dash\":[4,4],\"line_width\":{\"value\":2},\"render_mode\":\"css\",\"right_units\":\"screen\",\"top_units\":\"screen\"},\"id\":\"4451\",\"type\":\"BoxAnnotation\"},{\"attributes\":{\"data_source\":{\"id\":\"4240\",\"type\":\"ColumnDataSource\"},\"glyph\":{\"id\":\"4280\",\"type\":\"VBar\"},\"hover_glyph\":null,\"muted_glyph\":null,\"nonselection_glyph\":{\"id\":\"4281\",\"type\":\"VBar\"},\"selection_glyph\":null,\"view\":{\"id\":\"4283\",\"type\":\"CDSView\"}},\"id\":\"4282\",\"type\":\"GlyphRenderer\"},{\"attributes\":{\"callback\":null,\"end\":2019,\"start\":1985},\"id\":\"4245\",\"type\":\"Range1d\"},{\"attributes\":{\"callback\":null,\"tooltips\":[[\"PMID\",\"@pmid\"],[\"Title\",\"@title\"],[\"Year\",\"@year\"],[\"Cited by\",\"@count papers in @year\"]]},\"id\":\"4263\",\"type\":\"HoverTool\"}],\"root_ids\":[\"4242\"]},\"title\":\"Bokeh Application\",\"version\":\"1.1.0\"}};\n",
       "  var render_items = [{\"docid\":\"96ca0034-42a9-4ac7-a4ac-28402d083dc5\",\"roots\":{\"4242\":\"34214a7f-7997-4b24-8e57-b588c41d5c39\"}}];\n",
       "  root.Bokeh.embed.embed_items_notebook(docs_json, render_items);\n",
       "\n",
       "  }\n",
       "  if (root.Bokeh !== undefined) {\n",
       "    embed_document(root);\n",
       "  } else {\n",
       "    var attempts = 0;\n",
       "    var timer = setInterval(function(root) {\n",
       "      if (root.Bokeh !== undefined) {\n",
       "        embed_document(root);\n",
       "        clearInterval(timer);\n",
       "      }\n",
       "      attempts++;\n",
       "      if (attempts > 100) {\n",
       "        console.log(\"Bokeh: ERROR: Unable to run BokehJS code because BokehJS library is missing\");\n",
       "        clearInterval(timer);\n",
       "      }\n",
       "    }, 10, root)\n",
       "  }\n",
       "})(window);"
      ],
      "application/vnd.bokehjs_exec.v0+json": ""
     },
     "metadata": {
      "application/vnd.bokehjs_exec.v0+json": {
       "id": "4242"
      }
     },
     "output_type": "display_data"
    }
   ],
   "source": [
    "max_gain_data = []\n",
    "cols = df_all.columns[3:-2]\n",
    "for i in range(len(cols)):\n",
    "    max_gain = df_all[cols[i]].astype(int).max()\n",
    "    if max_gain > 0:\n",
    "        sel = df_all[df_all[cols[i]] == max_gain]\n",
    "        max_gain_data.append([cols[i], sel['pmid'].values[0], \n",
    "                              sel['title'].values[0], max_gain])\n",
    "        \n",
    "max_gain_df = pd.DataFrame(max_gain_data, columns=['year', 'pmid', 'title', 'count'])\n",
    "max_gain_df.head(20)\n",
    "\n",
    "ds_max = ColumnDataSource(data=dict(year=max_gain_df['year'], pmid=max_gain_df['pmid'].astype(str),\n",
    "                                   title=max_gain_df['title'], count=max_gain_df['count']))\n",
    "factors=max_gain_df['pmid'].astype(str).unique()\n",
    "cmap = plt.cm.get_cmap('nipy_spectral', len(factors))\n",
    "palette = [RGB(*[round(c*255) for c in cmap(i)[:3]]) for i in range(len(factors))]\n",
    "colors = factor_cmap('pmid', palette=palette, factors=factors)\n",
    "\n",
    "year_range = [min_year, max_year]\n",
    "p = figure(tools=TOOLS, toolbar_location=\"above\", \n",
    "           plot_width=960, plot_height=300, x_range=year_range, title='Max gain')\n",
    "p.xaxis.axis_label = 'Year'\n",
    "p.yaxis.axis_label = 'Number of citations'\n",
    "p.hover.tooltips = [\n",
    "    (\"PMID\", '@pmid'),\n",
    "    (\"Title\", '@title'),\n",
    "    (\"Year\", '@year'),\n",
    "    (\"Cited by\", '@count papers in @year')\n",
    "]\n",
    "\n",
    "p.vbar(x='year', width=0.8, top='count', fill_alpha=0.5, source=ds_max, fill_color=colors, line_color=colors)\n",
    "\n",
    "show(p)"
   ]
  },
  {
   "cell_type": "markdown",
   "metadata": {},
   "source": [
    "## Citation per Year Dynamics"
   ]
  },
  {
   "cell_type": "code",
   "execution_count": 53,
   "metadata": {
    "ExecuteTime": {
     "end_time": "2019-05-05T20:18:54.386951Z",
     "start_time": "2019-05-05T20:18:54.092129Z"
    }
   },
   "outputs": [
    {
     "data": {
      "application/vnd.jupyter.widget-view+json": {
       "model_id": "15047ea5a7fa4f71a6267ffb93638ba6",
       "version_major": 2,
       "version_minor": 0
      },
      "text/html": [
       "<p>Failed to display Jupyter Widget of type <code>HBox</code>.</p>\n",
       "<p>\n",
       "  If you're reading this message in the Jupyter Notebook or JupyterLab Notebook, it may mean\n",
       "  that the widgets JavaScript is still loading. If this message persists, it\n",
       "  likely means that the widgets JavaScript library is either not installed or\n",
       "  not enabled. See the <a href=\"https://ipywidgets.readthedocs.io/en/stable/user_install.html\">Jupyter\n",
       "  Widgets Documentation</a> for setup instructions.\n",
       "</p>\n",
       "<p>\n",
       "  If you're reading this message in another frontend (for example, a static\n",
       "  rendering on GitHub or <a href=\"https://nbviewer.jupyter.org/\">NBViewer</a>),\n",
       "  it may mean that your frontend doesn't currently support widgets.\n",
       "</p>\n"
      ],
      "text/plain": [
       "HBox(children=(Text(value='', description='PMID:', placeholder='Enter PMID'), Button(button_style='info', description='Show', style=ButtonStyle(), tooltip='Show')))"
      ]
     },
     "metadata": {},
     "output_type": "display_data"
    },
    {
     "data": {
      "text/html": [
       "\n",
       "\n",
       "\n",
       "\n",
       "\n",
       "\n",
       "  <div class=\"bk-root\" id=\"a03391eb-9791-4f9a-8815-9c05e4156b5e\" data-root-id=\"4500\"></div>\n"
      ]
     },
     "metadata": {},
     "output_type": "display_data"
    },
    {
     "data": {
      "application/javascript": [
       "(function(root) {\n",
       "  function embed_document(root) {\n",
       "    \n",
       "  var docs_json = {\"bc6ebefc-ef8e-4108-855d-dfc51d4e6fd3\":{\"roots\":{\"references\":[{\"attributes\":{\"below\":[{\"id\":\"4511\",\"type\":\"LinearAxis\"}],\"center\":[{\"id\":\"4515\",\"type\":\"Grid\"},{\"id\":\"4520\",\"type\":\"Grid\"}],\"left\":[{\"id\":\"4516\",\"type\":\"LinearAxis\"}],\"plot_height\":300,\"plot_width\":960,\"renderers\":[{\"id\":\"4541\",\"type\":\"GlyphRenderer\"}],\"title\":{\"id\":\"4501\",\"type\":\"Title\"},\"toolbar\":{\"id\":\"4528\",\"type\":\"Toolbar\"},\"toolbar_location\":\"above\",\"x_range\":{\"id\":\"4503\",\"type\":\"DataRange1d\"},\"x_scale\":{\"id\":\"4507\",\"type\":\"LinearScale\"},\"y_range\":{\"id\":\"4505\",\"type\":\"DataRange1d\"},\"y_scale\":{\"id\":\"4509\",\"type\":\"LinearScale\"}},\"id\":\"4500\",\"subtype\":\"Figure\",\"type\":\"Plot\"},{\"attributes\":{\"ticker\":{\"id\":\"4512\",\"type\":\"BasicTicker\"}},\"id\":\"4515\",\"type\":\"Grid\"},{\"attributes\":{},\"id\":\"4522\",\"type\":\"PanTool\"},{\"attributes\":{},\"id\":\"4517\",\"type\":\"BasicTicker\"},{\"attributes\":{},\"id\":\"4524\",\"type\":\"WheelZoomTool\"},{\"attributes\":{\"callback\":null},\"id\":\"4523\",\"type\":\"TapTool\"},{\"attributes\":{\"callback\":null,\"tooltips\":[[\"Year\",\"@x\"],[\"Cited by\",\"@y paper(s) in @x\"]]},\"id\":\"4521\",\"type\":\"HoverTool\"},{\"attributes\":{},\"id\":\"4526\",\"type\":\"ResetTool\"},{\"attributes\":{\"data_source\":{\"id\":\"4537\",\"type\":\"ColumnDataSource\"},\"glyph\":{\"id\":\"4539\",\"type\":\"VBar\"},\"hover_glyph\":null,\"muted_glyph\":null,\"nonselection_glyph\":{\"id\":\"4540\",\"type\":\"VBar\"},\"selection_glyph\":null,\"view\":{\"id\":\"4542\",\"type\":\"CDSView\"}},\"id\":\"4541\",\"type\":\"GlyphRenderer\"},{\"attributes\":{\"bottom_units\":\"screen\",\"fill_alpha\":{\"value\":0.5},\"fill_color\":{\"value\":\"lightgrey\"},\"left_units\":\"screen\",\"level\":\"overlay\",\"line_alpha\":{\"value\":1.0},\"line_color\":{\"value\":\"black\"},\"line_dash\":[4,4],\"line_width\":{\"value\":2},\"render_mode\":\"css\",\"right_units\":\"screen\",\"top_units\":\"screen\"},\"id\":\"4718\",\"type\":\"BoxAnnotation\"},{\"attributes\":{\"callback\":null},\"id\":\"4505\",\"type\":\"DataRange1d\"},{\"attributes\":{\"axis_label\":\"Number of citations\",\"formatter\":{\"id\":\"4712\",\"type\":\"BasicTickFormatter\"},\"ticker\":{\"id\":\"4517\",\"type\":\"BasicTicker\"}},\"id\":\"4516\",\"type\":\"LinearAxis\"},{\"attributes\":{\"overlay\":{\"id\":\"4718\",\"type\":\"BoxAnnotation\"}},\"id\":\"4525\",\"type\":\"BoxZoomTool\"},{\"attributes\":{\"callback\":null,\"data\":{\"x\":[],\"y\":[]},\"selected\":{\"id\":\"4716\",\"type\":\"Selection\"},\"selection_policy\":{\"id\":\"4717\",\"type\":\"UnionRenderers\"}},\"id\":\"4537\",\"type\":\"ColumnDataSource\"},{\"attributes\":{},\"id\":\"4717\",\"type\":\"UnionRenderers\"},{\"attributes\":{\"dimension\":1,\"ticker\":{\"id\":\"4517\",\"type\":\"BasicTicker\"}},\"id\":\"4520\",\"type\":\"Grid\"},{\"attributes\":{},\"id\":\"4509\",\"type\":\"LinearScale\"},{\"attributes\":{\"source\":{\"id\":\"4537\",\"type\":\"ColumnDataSource\"}},\"id\":\"4542\",\"type\":\"CDSView\"},{\"attributes\":{\"text\":\"Number of Citations per Year\"},\"id\":\"4501\",\"type\":\"Title\"},{\"attributes\":{\"axis_label\":\"Year\",\"formatter\":{\"id\":\"4714\",\"type\":\"BasicTickFormatter\"},\"ticker\":{\"id\":\"4512\",\"type\":\"BasicTicker\"}},\"id\":\"4511\",\"type\":\"LinearAxis\"},{\"attributes\":{\"fill_alpha\":{\"value\":0.1},\"fill_color\":{\"value\":\"#1f77b4\"},\"line_alpha\":{\"value\":0.1},\"line_color\":{\"value\":\"#1f77b4\"},\"line_width\":{\"value\":3},\"top\":{\"field\":\"y\"},\"width\":{\"value\":0.8},\"x\":{\"field\":\"x\"}},\"id\":\"4540\",\"type\":\"VBar\"},{\"attributes\":{},\"id\":\"4527\",\"type\":\"SaveTool\"},{\"attributes\":{},\"id\":\"4716\",\"type\":\"Selection\"},{\"attributes\":{\"active_drag\":\"auto\",\"active_inspect\":\"auto\",\"active_multi\":null,\"active_scroll\":\"auto\",\"active_tap\":\"auto\",\"tools\":[{\"id\":\"4521\",\"type\":\"HoverTool\"},{\"id\":\"4522\",\"type\":\"PanTool\"},{\"id\":\"4523\",\"type\":\"TapTool\"},{\"id\":\"4524\",\"type\":\"WheelZoomTool\"},{\"id\":\"4525\",\"type\":\"BoxZoomTool\"},{\"id\":\"4526\",\"type\":\"ResetTool\"},{\"id\":\"4527\",\"type\":\"SaveTool\"}]},\"id\":\"4528\",\"type\":\"Toolbar\"},{\"attributes\":{},\"id\":\"4712\",\"type\":\"BasicTickFormatter\"},{\"attributes\":{},\"id\":\"4507\",\"type\":\"LinearScale\"},{\"attributes\":{\"fill_color\":{\"value\":\"#A6CEE3\"},\"line_color\":{\"value\":\"#A6CEE3\"},\"line_width\":{\"value\":3},\"top\":{\"field\":\"y\"},\"width\":{\"value\":0.8},\"x\":{\"field\":\"x\"}},\"id\":\"4539\",\"type\":\"VBar\"},{\"attributes\":{},\"id\":\"4512\",\"type\":\"BasicTicker\"},{\"attributes\":{},\"id\":\"4714\",\"type\":\"BasicTickFormatter\"},{\"attributes\":{\"callback\":null},\"id\":\"4503\",\"type\":\"DataRange1d\"}],\"root_ids\":[\"4500\"]},\"title\":\"Bokeh Application\",\"version\":\"1.1.0\"}};\n",
       "  var render_items = [{\"docid\":\"bc6ebefc-ef8e-4108-855d-dfc51d4e6fd3\",\"notebook_comms_target\":\"4719\",\"roots\":{\"4500\":\"a03391eb-9791-4f9a-8815-9c05e4156b5e\"}}];\n",
       "  root.Bokeh.embed.embed_items_notebook(docs_json, render_items);\n",
       "\n",
       "  }\n",
       "  if (root.Bokeh !== undefined) {\n",
       "    embed_document(root);\n",
       "  } else {\n",
       "    var attempts = 0;\n",
       "    var timer = setInterval(function(root) {\n",
       "      if (root.Bokeh !== undefined) {\n",
       "        embed_document(root);\n",
       "        clearInterval(timer);\n",
       "      }\n",
       "      attempts++;\n",
       "      if (attempts > 100) {\n",
       "        console.log(\"Bokeh: ERROR: Unable to run BokehJS code because BokehJS library is missing\");\n",
       "        clearInterval(timer);\n",
       "      }\n",
       "    }, 10, root)\n",
       "  }\n",
       "})(window);"
      ],
      "application/vnd.bokehjs_exec.v0+json": ""
     },
     "metadata": {
      "application/vnd.bokehjs_exec.v0+json": {
       "id": "4500"
      }
     },
     "output_type": "display_data"
    }
   ],
   "source": [
    "p, h, panel = serve_citation_dynamics_layout()"
   ]
  },
  {
   "cell_type": "code",
   "execution_count": null,
   "metadata": {},
   "outputs": [],
   "source": []
  }
 ],
 "metadata": {
  "kernelspec": {
   "display_name": "Python 3",
   "language": "python",
   "name": "python3"
  },
  "language_info": {
   "codemirror_mode": {
    "name": "ipython",
    "version": 3
   },
   "file_extension": ".py",
   "mimetype": "text/x-python",
   "name": "python",
   "nbconvert_exporter": "python",
   "pygments_lexer": "ipython3",
   "version": "3.6.4"
  },
  "toc": {
   "base_numbering": 1,
   "nav_menu": {
    "height": "150px",
    "width": "399px"
   },
   "number_sections": true,
   "sideBar": true,
   "skip_h1_title": false,
   "title_cell": "Table of Contents",
   "title_sidebar": "Contents",
   "toc_cell": false,
   "toc_position": {},
   "toc_section_display": true,
   "toc_window_display": false
  }
 },
 "nbformat": 4,
 "nbformat_minor": 2
}
