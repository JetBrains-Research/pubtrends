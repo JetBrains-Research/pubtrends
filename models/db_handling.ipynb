{
 "cells": [
  {
   "cell_type": "markdown",
   "metadata": {},
   "source": [
    "#### Database structure:\n",
    "\n",
    "Publications(pmid, year, title, abstract, ta_search) - 28M records, ta_search is a `tsvector` for full text search in both title and abstract\n",
    "\n",
    "Citations(pmid_citing, pmid_cited) - approx. 60M records\n",
    "\n",
    "CitationsCount(pmid, count) - can be created in 30+ minutes"
   ]
  },
  {
   "cell_type": "code",
   "execution_count": 2,
   "metadata": {},
   "outputs": [],
   "source": [
    "import psycopg2 as pg_driver"
   ]
  },
  {
   "cell_type": "code",
   "execution_count": 3,
   "metadata": {},
   "outputs": [],
   "source": [
    "class PubmedDatabaseHandler:  \n",
    "    def __init__(self):\n",
    "        self.fields = ['pmid', 'year', 'title', 'abstract']\n",
    "        self.conn = pg_driver.connect(dbname='pubmed', user='biolabs', password='pubtrends', host='localhost')\n",
    "        self.cursor = self.conn.cursor()\n",
    "        \n",
    "    def size(self):\n",
    "        self.cursor.execute('SELECT COUNT(1) FROM Publications;')\n",
    "        result = []\n",
    "        \n",
    "        for row in self.cursor:\n",
    "            result.append(row)\n",
    "            \n",
    "        return result[0]\n",
    "    \n",
    "    def create_citation_count_table(self):\n",
    "        query = f'SELECT pmid_cited AS pmid, COUNT(1) INTO CitationsCount FROM Citations GROUP BY pmid_cited'\n",
    "        with self.conn:\n",
    "            self.cursor.execute(query)\n",
    "        \n",
    "    def get_paper_by_id(self, pmid):\n",
    "        query = f'SELECT {\",\".join(self.fields)} FROM Publications WHERE pmid={pmid};'\n",
    "        result = []\n",
    "        \n",
    "        self.cursor.execute(query)\n",
    "        for row in self.cursor:\n",
    "            result.append(row)\n",
    "            \n",
    "        # No duplicate PMIDs should exist, otherwise there is a problem with data storage\n",
    "        assert len(result) == 1\n",
    "        \n",
    "        return result[0]\n",
    "    \n",
    "    def get_top_cited_papers(self, year_min=None, year_max=None, limit=10):\n",
    "        # TODO: use year range\n",
    "        query = f'SELECT pmid, count FROM CitationsCount ORDER BY count DESC LIMIT {limit}';\n",
    "        result = []\n",
    "        \n",
    "        self.cursor.execute(query)\n",
    "        for row in self.cursor:\n",
    "            result.append(row)\n",
    "            \n",
    "        assert len(result) == limit\n",
    "        \n",
    "        return result\n",
    "    \n",
    "    def get_papers_by_keywords(self, *keywords):\n",
    "        # Drop previous subset\n",
    "        with self.conn:\n",
    "            self.cursor.execute('DROP TABLE IF EXISTS PublicationsSubset;')\n",
    "            \n",
    "        # Make subset for new keywords\n",
    "        tsquery = ' & '.join(keywords)\n",
    "        query = f\"SELECT * INTO PublicationsSubset FROM Publications WHERE ta_search @@ to_tsquery('{tsquery}');\"\n",
    "        print(query)\n",
    "        with self.conn:\n",
    "            self.cursor.execute(query)\n",
    "    \n",
    "    def close():\n",
    "        self.conn.close()"
   ]
  },
  {
   "cell_type": "code",
   "execution_count": 4,
   "metadata": {},
   "outputs": [],
   "source": [
    "db_handler = PubmedDatabaseHandler()"
   ]
  },
  {
   "cell_type": "markdown",
   "metadata": {},
   "source": [
    "#### Number of publications"
   ]
  },
  {
   "cell_type": "code",
   "execution_count": 12,
   "metadata": {},
   "outputs": [
    {
     "name": "stdout",
     "output_type": "stream",
     "text": [
      "(28026506,)\n",
      "Wall time: 31min 56s\n"
     ]
    }
   ],
   "source": [
    "%time print(db_handler.size())"
   ]
  },
  {
   "cell_type": "markdown",
   "metadata": {},
   "source": [
    "#### Get paper by PMID"
   ]
  },
  {
   "cell_type": "code",
   "execution_count": 13,
   "metadata": {},
   "outputs": [
    {
     "name": "stdout",
     "output_type": "stream",
     "text": [
      "(20545324, 2010, 'The N-terminal integrity is critical for the stability and biological functions of endostatin.', 'Endostatin is an endogenous angiogenesis inhibitor, and amino acid residues H1, H3, H11, and D76 at its N-terminus coordinate with one zinc ion. Recombinant endostatin suffering from N-terminal truncations during Pichia pastoris expression was widely used in previous studies and generated inconsistent antitumor results. However, little attention was paid to the possible alteration on the stability and activity of endostatin caused by N-terminal truncations. In this study, N-terminally truncated forms of endostatin expressed by P. pastoris are identified as N-1, N-3, and N-4, in which one or two of the four zinc-binding residues are lost. The N-terminal truncation of the first amino acid residue (H) does not result in a significant change in the conformation, zinc-binding capacity, thermodynamic stability, or biological activity, while truncations of the first three amino acid residues (HSH) or the first four amino acid residues (HSHR) dramatically decrease the thermodynamic stability measured by urea-induced unfolding and biological activities of endostatin both in vitro and in vivo. Intriguingly, ZBP-endostatin with a short extra zinc-binding peptide (ZBP) engineered at the N-terminus exhibits a more tightly packed tertiary structure and increased thermodynamic stability and cooperativity against urea, with more potent antiendothelial and antitumor activities than the wild-type endostatin. These findings demonstrate that the N-terminal integrity is essential for the stability and biological functions of endostatin, which provides fundamental explanations for the inconsistent antitumor activities of endostatin in a variety of studies, including the different therapeutic efficacies of endostatin and ZBP-endostatin in clinical trials.')\n",
      "Wall time: 1.55 s\n"
     ]
    }
   ],
   "source": [
    "%time print(db_handler.get_paper_by_id(20545324))"
   ]
  },
  {
   "cell_type": "markdown",
   "metadata": {},
   "source": [
    "#### Top cited papers"
   ]
  },
  {
   "cell_type": "code",
   "execution_count": 6,
   "metadata": {},
   "outputs": [
    {
     "name": "stdout",
     "output_type": "stream",
     "text": [
      "PMID, Number of citations\n",
      "5432063, 50648\n",
      "14907713, 49773\n",
      "942051, 37654\n",
      "11846609, 27085\n",
      "18156677, 26109\n",
      "271968, 21827\n",
      "2231712, 20059\n",
      "9254694, 19635\n",
      "7984417, 14356\n",
      "1202204, 12854\n"
     ]
    }
   ],
   "source": [
    "papers = db_handler.get_top_cited_papers()\n",
    "print('PMID, Number of citations')\n",
    "for paper in papers:\n",
    "    print(paper[0], paper[1], sep=', ')"
   ]
  },
  {
   "cell_type": "markdown",
   "metadata": {},
   "source": [
    "#### TODO: Full text search in title and abstract"
   ]
  },
  {
   "cell_type": "code",
   "execution_count": 53,
   "metadata": {},
   "outputs": [
    {
     "name": "stdout",
     "output_type": "stream",
     "text": [
      "SELECT * INTO PublicationsSubset FROM Publications WHERE ta_search @@ to_tsquery('dna & methylation & clock')\n"
     ]
    }
   ],
   "source": [
    "db_handler.get_papers_by_keywords('dna', 'methylation', 'clock')"
   ]
  }
 ],
 "metadata": {
  "kernelspec": {
   "display_name": "Python 3",
   "language": "python",
   "name": "python3"
  },
  "language_info": {
   "codemirror_mode": {
    "name": "ipython",
    "version": 3
   },
   "file_extension": ".py",
   "mimetype": "text/x-python",
   "name": "python",
   "nbconvert_exporter": "python",
   "pygments_lexer": "ipython3",
   "version": "3.6.4"
  }
 },
 "nbformat": 4,
 "nbformat_minor": 2
}
