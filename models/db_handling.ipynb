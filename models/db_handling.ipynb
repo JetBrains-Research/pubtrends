{
 "cells": [
  {
   "cell_type": "markdown",
   "metadata": {},
   "source": [
    "#### Database structure:\n",
    "\n",
    "Publications(pmid, year, title, abstract, ta_search) - 28M records, ta_search is a `tsvector` for full text search in both title and abstract\n",
    "\n",
    "Citations(pmid_citing, pmid_cited) - approx. 60M records\n",
    "\n",
    "CitationsCount(pmid, count) - can be created in 30+ minutes"
   ]
  },
  {
   "cell_type": "code",
   "execution_count": 5,
   "metadata": {},
   "outputs": [],
   "source": [
    "import networkx as nx\n",
    "import pandas as pd\n",
    "import psycopg2 as pg_driver\n",
    "\n",
    "from Bio import Entrez\n",
    "Entrez.email = 'nikolay.kapralov@gmail.com'"
   ]
  },
  {
   "cell_type": "code",
   "execution_count": 6,
   "metadata": {},
   "outputs": [],
   "source": [
    "def search(*terms):\n",
    "    query=' '.join(terms)\n",
    "    handle = Entrez.esearch(db='pubmed',  \n",
    "                            retmax='100000',\n",
    "                            retmode='xml', \n",
    "                            term=query)\n",
    "    results = Entrez.read(handle)\n",
    "    return results"
   ]
  },
  {
   "cell_type": "code",
   "execution_count": 16,
   "metadata": {},
   "outputs": [],
   "source": [
    "class PubmedDatabaseHandler:  \n",
    "    def __init__(self):\n",
    "        self.fields = ['pmid', 'year', 'title', 'abstract']\n",
    "        self.conn = pg_driver.connect(dbname='pubmed', user='biolabs', password='pubtrends', host='localhost')\n",
    "        self.cursor = self.conn.cursor()\n",
    "        \n",
    "    def size(self):\n",
    "        self.cursor.execute('SELECT COUNT(1) FROM Publications;')\n",
    "        result = []\n",
    "        \n",
    "        for row in self.cursor:\n",
    "            result.append(row)\n",
    "            \n",
    "        return result[0]\n",
    "    \n",
    "    def create_citation_count_table(self):\n",
    "        query = f'SELECT pmid_cited AS pmid, COUNT(1) INTO CitationsCount FROM Citations GROUP BY pmid_cited'\n",
    "        with self.conn:\n",
    "            self.cursor.execute(query)\n",
    "        \n",
    "    def get_paper_by_id(self, pmid):\n",
    "        query = f'SELECT {\",\".join(self.fields)} FROM Publications WHERE pmid={pmid}'\n",
    "        result = []\n",
    "        \n",
    "        self.cursor.execute(query)\n",
    "        for row in self.cursor:\n",
    "            result.append(row)\n",
    "            \n",
    "        # No duplicate PMIDs should exist, otherwise there is a problem with data storage\n",
    "        assert len(result) == 1\n",
    "        \n",
    "        return result[0]\n",
    "    \n",
    "    def get_top_cited_papers(self, year_min=None, year_max=None, limit=10):\n",
    "        # TODO: use year range\n",
    "        query = f'SELECT pmid, count FROM CitationsCount ORDER BY count DESC LIMIT {limit}';\n",
    "        result = []\n",
    "        \n",
    "        self.cursor.execute(query)\n",
    "        for row in self.cursor:\n",
    "            result.append(row)\n",
    "            \n",
    "        assert len(result) == limit\n",
    "        \n",
    "        return result\n",
    "    \n",
    "    def get_papers_by_keywords(self, *keywords):\n",
    "        return self.get_papers_by_keywords_pubmed(*keywords)\n",
    "    \n",
    "    # TODO: decrease execution time \n",
    "    def get_papers_by_keywords_local(self, *keywords):\n",
    "        # Drop previous subset\n",
    "        with self.conn:\n",
    "            self.cursor.execute('DROP TABLE IF EXISTS PublicationsSubset;')\n",
    "            \n",
    "        # Make subset for new keywords\n",
    "        tsquery = ' & '.join(keywords)\n",
    "        query = f\"SELECT * INTO PublicationsSubset FROM Publications WHERE ta_search @@ to_tsquery('{tsquery}');\"\n",
    "        print(query)\n",
    "        with self.conn:\n",
    "            self.cursor.execute(query)\n",
    "            \n",
    "    def get_papers_by_keywords_pubmed(self, *keywords):\n",
    "        results = search(*keywords)\n",
    "        pmids = [int(pmid) for pmid in results['IdList']]\n",
    "        \n",
    "        with self.conn:\n",
    "            self.cursor.execute('SELECT pmid, year, title FROM Publications WHERE pmid = ANY(%s)', (pmids,))\n",
    "            \n",
    "        data = []\n",
    "        for row in db_handler.cursor:\n",
    "            data.append(list(row))\n",
    "            \n",
    "        return data\n",
    "    \n",
    "    def get_citation_timeline(self, pmid):\n",
    "        query = 'SELECT P.pmid, P.year FROM Citations C JOIN Publications P ON P.pmid = C.pmid_citing WHERE C.pmid_cited=%s'\n",
    "\n",
    "        with self.conn:\n",
    "            self.cursor.execute(query, (pmid,))\n",
    "\n",
    "        data = []\n",
    "        for row in db_handler.cursor:\n",
    "            data.append(list(row))\n",
    "\n",
    "        return data\n",
    "  \n",
    "#     def build_citation_graph(self, size):\n",
    "#         dg = nx.DiGraph()\n",
    "# #         self.cursor.execute('SELECT pmid_citing, pmid_cited FROM Citations;')\n",
    "        \n",
    "#         edges = []\n",
    "# #         for row in self.cursor:\n",
    "# #             assert len(row) == 2\n",
    "# #             assert isinstance(row[0], int)\n",
    "# #             assert isinstance(row[1], int)\n",
    "# #             edges.append(row)\n",
    "        \n",
    "#         for i in range(size):\n",
    "#             edges.append((i+1, i+2))\n",
    "#         return len(edges)\n",
    "    \n",
    "    def close():\n",
    "        self.conn.close()"
   ]
  },
  {
   "cell_type": "code",
   "execution_count": 17,
   "metadata": {},
   "outputs": [],
   "source": [
    "db_handler = PubmedDatabaseHandler()"
   ]
  },
  {
   "cell_type": "markdown",
   "metadata": {},
   "source": [
    "#### Number of publications"
   ]
  },
  {
   "cell_type": "code",
   "execution_count": null,
   "metadata": {},
   "outputs": [],
   "source": [
    "%time print(db_handler.size())"
   ]
  },
  {
   "cell_type": "markdown",
   "metadata": {},
   "source": [
    "#### Get paper by PMID"
   ]
  },
  {
   "cell_type": "code",
   "execution_count": null,
   "metadata": {},
   "outputs": [],
   "source": [
    "%time print(db_handler.get_paper_by_id(20545324))"
   ]
  },
  {
   "cell_type": "markdown",
   "metadata": {},
   "source": [
    "#### Top cited papers"
   ]
  },
  {
   "cell_type": "code",
   "execution_count": null,
   "metadata": {},
   "outputs": [],
   "source": [
    "papers = db_handler.get_top_cited_papers()\n",
    "print('PMID, Number of citations')\n",
    "for paper in papers:\n",
    "    print(paper[0], paper[1], sep=', ')"
   ]
  },
  {
   "cell_type": "markdown",
   "metadata": {},
   "source": [
    "#### TODO: Full text search in title and abstract"
   ]
  },
  {
   "cell_type": "code",
   "execution_count": 53,
   "metadata": {},
   "outputs": [
    {
     "name": "stdout",
     "output_type": "stream",
     "text": [
      "SELECT * INTO PublicationsSubset FROM Publications WHERE ta_search @@ to_tsquery('dna & methylation & clock')\n"
     ]
    }
   ],
   "source": [
    "db_handler.get_papers_by_keywords('dna', 'methylation', 'clock')"
   ]
  },
  {
   "cell_type": "markdown",
   "metadata": {},
   "source": [
    "**Search terms via PubMed API**"
   ]
  },
  {
   "cell_type": "code",
   "execution_count": 14,
   "metadata": {},
   "outputs": [],
   "source": [
    "data = db_handler.get_papers_by_keywords('dna', 'methylation', 'clock')\n",
    "df = pd.DataFrame(data, columns = ['pmid', 'year', 'title'])"
   ]
  },
  {
   "cell_type": "code",
   "execution_count": 15,
   "metadata": {},
   "outputs": [
    {
     "data": {
      "text/plain": [
       "Text(0,0.5,'Number of papers')"
      ]
     },
     "execution_count": 15,
     "metadata": {},
     "output_type": "execute_result"
    },
    {
     "data": {
      "image/png": "[encoded data removed]",
      "text/plain": [
       "<matplotlib.figure.Figure at 0x2a07acb6668>"
      ]
     },
     "metadata": {},
     "output_type": "display_data"
    }
   ],
   "source": [
    "import matplotlib.pyplot as plt\n",
    "%matplotlib inline\n",
    "\n",
    "min_year = int(df['year'].min())\n",
    "max_year = int(df['year'].max())\n",
    "df['year'].hist(bins=max_year-min_year, range=(min_year, max_year+1))\n",
    "plt.title('dna methylation clock')\n",
    "plt.xlabel('Year')\n",
    "plt.ylabel('Number of papers')"
   ]
  },
  {
   "cell_type": "markdown",
   "metadata": {},
   "source": [
    "**Timeline of citations for one paper**"
   ]
  },
  {
   "cell_type": "code",
   "execution_count": 115,
   "metadata": {},
   "outputs": [],
   "source": [
    "pmid = 1202204\n",
    "data = db_handler.get_citation_timeline(pmid)\n",
    "df = pd.DataFrame(data, columns=['pmid', 'year'])"
   ]
  },
  {
   "cell_type": "code",
   "execution_count": 117,
   "metadata": {},
   "outputs": [
    {
     "data": {
      "text/plain": [
       "<matplotlib.axes._subplots.AxesSubplot at 0x1caeb1cdef0>"
      ]
     },
     "execution_count": 117,
     "metadata": {},
     "output_type": "execute_result"
    },
    {
     "data": {
      "image/png": "[encoded data removed]",
      "text/plain": [
       "<matplotlib.figure.Figure at 0x1caeaf690f0>"
      ]
     },
     "metadata": {},
     "output_type": "display_data"
    }
   ],
   "source": [
    "min_year = int(df['year'].min())\n",
    "max_year = int(df['year'].max())\n",
    "df['year'].hist(cumulative=True, bins=max_year-min_year, range=(min_year, max_year+1))"
   ]
  },
  {
   "cell_type": "code",
   "execution_count": 118,
   "metadata": {},
   "outputs": [
    {
     "data": {
      "text/plain": [
       "<matplotlib.axes._subplots.AxesSubplot at 0x1caeaf3add8>"
      ]
     },
     "execution_count": 118,
     "metadata": {},
     "output_type": "execute_result"
    },
    {
     "data": {
      "image/png": "[encoded data removed]",
      "text/plain": [
       "<matplotlib.figure.Figure at 0x1caeb2a3358>"
      ]
     },
     "metadata": {},
     "output_type": "display_data"
    }
   ],
   "source": [
    "min_year = int(df['year'].min())\n",
    "max_year = int(df['year'].max())\n",
    "df['year'].hist(bins=max_year-min_year, range=(min_year, max_year+1))"
   ]
  },
  {
   "cell_type": "code",
   "execution_count": null,
   "metadata": {},
   "outputs": [],
   "source": []
  }
 ],
 "metadata": {
  "kernelspec": {
   "display_name": "Python 3",
   "language": "python",
   "name": "python3"
  },
  "language_info": {
   "codemirror_mode": {
    "name": "ipython",
    "version": 3
   },
   "file_extension": ".py",
   "mimetype": "text/x-python",
   "name": "python",
   "nbconvert_exporter": "python",
   "pygments_lexer": "ipython3",
   "version": "3.6.4"
  }
 },
 "nbformat": 4,
 "nbformat_minor": 2
}
