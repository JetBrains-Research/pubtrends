{
 "cells": [
  {
   "cell_type": "markdown",
   "metadata": {
    "pycharm": {
     "name": "#%% md\n"
    }
   },
   "source": [
    "# Dump by years"
   ]
  },
  {
   "cell_type": "code",
   "execution_count": 7,
   "metadata": {
    "pycharm": {
     "name": "#%%\n"
    }
   },
   "outputs": [],
   "source": [
    "import logging\n",
    "import pandas as pd\n",
    "from tqdm.auto import tqdm\n",
    "import os\n",
    "import psycopg2\n",
    "\n",
    "logging.basicConfig(level=logging.INFO, format='%(asctime)s %(levelname)s: %(message)s')\n",
    "logger = logging.getLogger('notebook')\n",
    "\n",
    "%matplotlib inline\n",
    "%config InlineBackend.figure_format='retina'"
   ]
  },
  {
   "cell_type": "code",
   "execution_count": 8,
   "metadata": {},
   "outputs": [],
   "source": [
    "postgres_host = 'localhost'\n",
    "postgres_port = 5432\n",
    "postgres_database = 'pubtrends'\n",
    "postgres_username = 'biolabs'\n",
    "postgres_password = 'mysecretpassword'"
   ]
  },
  {
   "cell_type": "code",
   "execution_count": 9,
   "metadata": {},
   "outputs": [
    {
     "data": {
      "application/vnd.jupyter.widget-view+json": {
       "model_id": "205a67d8cd624f3895bfafa9903d9b87",
       "version_major": 2,
       "version_minor": 0
      },
      "text/plain": [
       "  0%|          | 0/56 [00:00<?, ?it/s]"
      ]
     },
     "metadata": {},
     "output_type": "display_data"
    },
    {
     "name": "stdout",
     "output_type": "stream",
     "text": [
      "Processing year 2025\n",
      "Processing year 2024\n",
      "Processing year 2023\n",
      "Processing year 2022\n",
      "Processing year 2021\n",
      "Processing year 2020\n",
      "Processing year 2019\n",
      "Processing year 2018\n",
      "Processing year 2017\n",
      "Processing year 2016\n",
      "Processing year 2015\n",
      "Processing year 2014\n",
      "Processing year 2013\n",
      "Processing year 2012\n",
      "Processing year 2011\n",
      "Processing year 2010\n",
      "Processing year 2009\n",
      "Processing year 2008\n",
      "Processing year 2007\n",
      "Processing year 2006\n",
      "Processing year 2005\n",
      "Processing year 2004\n",
      "Processing year 2003\n",
      "Processing year 2002\n",
      "Processing year 2001\n",
      "Processing year 2000\n",
      "Processing year 1999\n",
      "Processing year 1998\n",
      "Processing year 1997\n",
      "Processing year 1996\n",
      "Processing year 1995\n",
      "Processing year 1994\n",
      "Processing year 1993\n",
      "Processing year 1992\n",
      "Processing year 1991\n",
      "Processing year 1990\n",
      "Processing year 1989\n",
      "Processing year 1988\n",
      "Processing year 1987\n",
      "Processing year 1986\n",
      "Processing year 1985\n",
      "Processing year 1984\n",
      "Processing year 1983\n",
      "Processing year 1982\n",
      "Processing year 1981\n",
      "Processing year 1980\n",
      "Processing year 1979\n",
      "Processing year 1978\n",
      "Processing year 1977\n",
      "Processing year 1976\n",
      "Processing year 1975\n",
      "Processing year 1974\n",
      "Processing year 1973\n",
      "Processing year 1972\n",
      "Processing year 1971\n",
      "Processing year 1970\n"
     ]
    }
   ],
   "source": [
    "! mkdir -p ~/pubtrends_dump_tsv\n",
    "for year in tqdm(range(2025, 1969, -1)):\n",
    "    print(f'Processing year {year}')\n",
    "    filename = os.path.expanduser(f'~/pubtrends_dump_tsv/{year}.tsv.gz')\n",
    "    if os.path.exists(filename):\n",
    "        continue\n",
    "    connection_string = f\"\"\"\n",
    "                    host={postgres_host} \\\n",
    "                    port={postgres_port} \\\n",
    "                    dbname={postgres_database} \\\n",
    "                    user={postgres_username} \\\n",
    "                    password={postgres_password}\n",
    "                \"\"\".strip()\n",
    "    with psycopg2.connect(connection_string) as connection:\n",
    "        connection.set_session(readonly=True)\n",
    "        query = f'''\n",
    "                SELECT P.pmid as id, title, abstract\n",
    "                FROM PMPublications P\n",
    "                WHERE year = {year};\n",
    "                '''\n",
    "        with connection.cursor() as cursor:\n",
    "            cursor.execute(query)\n",
    "            df = pd.DataFrame(cursor.fetchall(),\n",
    "                              columns=['id', 'title', 'abstract'],\n",
    "                              dtype=object)\n",
    "            print(len(df))\n",
    "            df.to_csv(filename, index=None, sep='\\t', compression='gzip')"
   ]
  },
  {
   "cell_type": "markdown",
   "metadata": {},
   "source": [
    "# Most cited Nature review papers"
   ]
  },
  {
   "cell_type": "code",
   "execution_count": 13,
   "metadata": {},
   "outputs": [],
   "source": [
    "# Find most cited Nature review papers\n",
    "with psycopg2.connect(connection_string) as connection:\n",
    "    connection.set_session(readonly=True)\n",
    "    query = '''\n",
    "    WITH X AS\n",
    "         (SELECT pmid as pmid, title, abstract, year\n",
    "          FROM PMPublications P\n",
    "          WHERE type = 'Review' AND\n",
    "                aux -> 'journal' @> '{\"name\": \"Nature\"}' AND\n",
    "                year >= 2015\n",
    "          ORDER BY random()\n",
    "          LIMIT 1000000)\n",
    "    SELECT X.pmid as pmid, X.year, count, X.title, X.abstract\n",
    "    FROM X\n",
    "         LEFT JOIN matview_pmcitations C\n",
    "                   ON X.pmid = C.pmid\n",
    "    ORDER BY count DESC NULLS LAST, X.pmid\n",
    "    LIMIT 100;\n",
    "                '''\n",
    "    with connection.cursor() as cursor:\n",
    "        cursor.execute(query)\n",
    "        df = pd.DataFrame(cursor.fetchall(),\n",
    "                          columns=['id', 'year', 'cited', 'title', 'abstract'],\n",
    "                          dtype=object)\n",
    "        df.to_csv(os.path.expanduser('~/Desktop/most_cited_nature_review_papers_after_2015.tsv'), index=None, sep='\\t')"
   ]
  },
  {
   "cell_type": "code",
   "execution_count": null,
   "metadata": {},
   "outputs": [],
   "source": []
  }
 ],
 "metadata": {
  "kernelspec": {
   "display_name": "Python 3 (ipykernel)",
   "language": "python",
   "name": "python3"
  },
  "language_info": {
   "codemirror_mode": {
    "name": "ipython",
    "version": 3
   },
   "file_extension": ".py",
   "mimetype": "text/x-python",
   "name": "python",
   "nbconvert_exporter": "python",
   "pygments_lexer": "ipython3",
   "version": "3.10.16"
  },
  "toc": {
   "base_numbering": 1,
   "nav_menu": {},
   "number_sections": true,
   "sideBar": true,
   "skip_h1_title": false,
   "title_cell": "Table of Contents",
   "title_sidebar": "Contents",
   "toc_cell": false,
   "toc_position": {},
   "toc_section_display": true,
   "toc_window_display": false
  }
 },
 "nbformat": 4,
 "nbformat_minor": 4
}
