{
 "cells": [
  {
   "cell_type": "markdown",
   "metadata": {
    "pycharm": {
     "name": "#%% md\n"
    }
   },
   "source": [
    "# Semantic Scholar loading time analysis\n",
    "\n",
    "This is the notebook used to analyse Semantic Scholar loading time from log file."
   ]
  },
  {
   "cell_type": "code",
   "execution_count": null,
   "metadata": {
    "pycharm": {
     "name": "#%%\n"
    }
   },
   "outputs": [],
   "source": [
    "import logging\n",
    "\n",
    "import pandas as pd\n",
    "\n",
    "logging.basicConfig(level=logging.INFO, format='%(asctime)s %(levelname)s: %(message)s')\n",
    "% matplotlib inline\n",
    "% config InlineBackend.figure_format = 'retina'"
   ]
  },
  {
   "cell_type": "code",
   "execution_count": null,
   "metadata": {
    "pycharm": {
     "name": "#%%\n"
    }
   },
   "outputs": [],
   "source": [
    "import os\n",
    "import re\n",
    "import datetime\n",
    "\n",
    "store_batch_times = []\n",
    "insert_papers_times = []\n",
    "update_tsv_times = []\n",
    "insert_citations_times = []\n",
    "\n",
    "with open(os.path.expanduser('~/Desktop/ss_update.txt')) as f:\n",
    "    for line in f.readlines():\n",
    "        if 'INFO' not in line:\n",
    "            continue\n",
    "        search_date = re.search('[\\\\d-]+ [\\\\d:]+,\\\\d+', line)\n",
    "        if search_date is None:\n",
    "            continue\n",
    "        date = datetime.datetime.strptime(search_date.group(0), '%Y-%m-%d %H:%M:%S,%f')\n",
    "\n",
    "        if 'Store batch transaction started' in line:\n",
    "            store_batch_start = date\n",
    "        elif 'Batch insert articles' in line:\n",
    "            insert_papers_start = date\n",
    "        elif 'Update TSV vector' in line:\n",
    "            insert_papers_times.append(date - insert_papers_start)\n",
    "            insert_papers_start = None\n",
    "            update_tsv_start = date\n",
    "        elif 'Batch insert citations list' in line:\n",
    "            update_tsv_times.append(date - update_tsv_start)\n",
    "            update_tsv_start = None\n",
    "            insert_citations_start = date\n",
    "        elif 'Store batch transaction finished' in line:\n",
    "            insert_citations_times.append(date - insert_citations_start)\n",
    "            insert_citations_start = None\n",
    "            store_batch_times.append(date - store_batch_start)\n",
    "            store_batch_start = None"
   ]
  },
  {
   "cell_type": "code",
   "execution_count": null,
   "outputs": [],
   "source": [
    "df = pd.DataFrame(dict(batch=store_batch_times, papers=insert_papers_times, tsv=update_tsv_times, citations=insert_citations_times))\n",
    "df"
   ],
   "metadata": {
    "collapsed": false,
    "pycharm": {
     "name": "#%%\n"
    }
   }
  },
  {
   "cell_type": "code",
   "execution_count": null,
   "outputs": [],
   "source": [
    "dfm = pd.melt(df, id_vars=[], value_vars =['batch', 'papers', 'tsv', 'citations'])\n",
    "dfm['value'] = [t.seconds for t in dfm['value']]\n",
    "dfm.rename(dict(variable='operation', value='time'), axis=1, inplace=True)"
   ],
   "metadata": {
    "collapsed": false,
    "pycharm": {
     "name": "#%%\n"
    }
   }
  },
  {
   "cell_type": "code",
   "execution_count": null,
   "outputs": [],
   "source": [
    "import seaborn as sns\n",
    "import matplotlib.pyplot as plt\n",
    "\n",
    "sns.boxplot(x=dfm['operation'], y=dfm['time'])\n",
    "plt.show()"
   ],
   "metadata": {
    "collapsed": false,
    "pycharm": {
     "name": "#%%\n"
    }
   }
  },
  {
   "cell_type": "code",
   "execution_count": null,
   "outputs": [],
   "source": [],
   "metadata": {
    "collapsed": false,
    "pycharm": {
     "name": "#%%\n"
    }
   }
  }
 ],
 "metadata": {
  "kernelspec": {
   "display_name": "Python 3",
   "language": "python",
   "name": "python3"
  },
  "language_info": {
   "codemirror_mode": {
    "name": "ipython",
    "version": 3
   },
   "file_extension": ".py",
   "mimetype": "text/x-python",
   "name": "python",
   "nbconvert_exporter": "python",
   "pygments_lexer": "ipython3",
   "version": "3.8.2"
  },
  "widgets": {
   "application/vnd.jupyter.widget-state+json": {
    "state": {},
    "version_major": 2,
    "version_minor": 0
   }
  }
 },
 "nbformat": 4,
 "nbformat_minor": 2
}