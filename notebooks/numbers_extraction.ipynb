{
 "cells": [
  {
   "cell_type": "markdown",
   "metadata": {
    "pycharm": {
     "name": "#%% md\n"
    }
   },
   "source": [
    "# Numbers Extraction\n",
    "\n",
    "### Requirements\n",
    "\n",
    "1. Spacy: `conda install -c conda-forge spacy`\n",
    "2. English corpus for spacy: `python -m spacy download en_core_web_sm`\n",
    "3. text2num: `pip install text2num`\n"
   ]
  },
  {
   "cell_type": "markdown",
   "metadata": {
    "pycharm": {
     "name": "#%% md\n"
    }
   },
   "source": [
    "## Load Publication Data"
   ]
  },
  {
   "cell_type": "code",
   "execution_count": null,
   "metadata": {
    "ExecuteTime": {
     "end_time": "2019-05-20T11:13:45.558630Z",
     "start_time": "2019-05-20T11:13:20.941831Z"
    },
    "pycharm": {
     "name": "#%%\n"
    }
   },
   "outputs": [],
   "source": [
    "from bokeh.plotting import output_notebook\n",
    "import logging\n",
    "import numpy as np\n",
    "import pandas as pd\n",
    "\n",
    "pd.set_option('display.max_colwidth', None)\n",
    "\n",
    "from pysrc.papers.config import PubtrendsConfig\n",
    "from pysrc.papers.db.loaders import Loaders\n",
    "from pysrc.papers.utils import SORT_MOST_CITED\n",
    "\n",
    "logging.basicConfig(level=logging.INFO, format='%(asctime)s %(levelname)s: %(message)s')\n",
    "output_notebook()\n",
    "% matplotlib inline\n",
    "\n",
    "SEARCH_QUERY = 'human aging'\n",
    "SEARCH_SORT = SORT_MOST_CITED\n",
    "SEARCH_PAPERS = 1000"
   ]
  },
  {
   "cell_type": "code",
   "execution_count": null,
   "metadata": {
    "ExecuteTime": {
     "end_time": "2019-05-20T12:00:33.794284Z",
     "start_time": "2019-05-20T11:13:45.591588Z"
    },
    "scrolled": false,
    "pycharm": {
     "name": "#%%\n"
    }
   },
   "outputs": [],
   "source": [
    "config = PubtrendsConfig(test=False)\n",
    "loader = Loaders.get_loader('Pubmed', config)\n",
    "try:\n",
    "    logging.info('Searching')\n",
    "    ids = loader.search(SEARCH_QUERY, limit=SEARCH_PAPERS, sort=SEARCH_SORT, noreviews=True)\n",
    "    pub_df = loader.load_publications(ids)\n",
    "finally:\n",
    "    loader.close_connection()\n",
    "    logging.info('Done')"
   ]
  },
  {
   "cell_type": "markdown",
   "metadata": {
    "pycharm": {
     "name": "#%% md\n"
    }
   },
   "source": [
    "## Core Function for Metric Extraction"
   ]
  },
  {
   "cell_type": "code",
   "execution_count": null,
   "metadata": {
    "pycharm": {
     "name": "#%%\n"
    }
   },
   "outputs": [],
   "source": [
    "import re\n",
    "import spacy\n",
    "\n",
    "from collections import Counter\n",
    "\n",
    "NUMBER = re.compile(r'-?[\\d]+([\\.,][\\d]+)?([eE][+-]?\\d+)?')\n",
    "spacy_en = spacy.load('en_core_web_sm')"
   ]
  },
  {
   "cell_type": "markdown",
   "metadata": {
    "pycharm": {
     "name": "#%% md\n"
    }
   },
   "source": [
    "### Demo `extract_metrics`"
   ]
  },
  {
   "cell_type": "code",
   "execution_count": null,
   "metadata": {
    "scrolled": false,
    "pycharm": {
     "name": "#%%\n"
    }
   },
   "outputs": [],
   "source": [
    "from pysrc.papers.analysis.numbers import extract_metrics\n",
    "\n",
    "TEXT = \"\"\"\n",
    "No specific antiviral drug has been proven effective for treatment of patients with \n",
    " severe coronavirus disease 2019 (COVID-19).\n",
    "\n",
    "Over brief training periods of 3-24 min, four patients then used these signals \n",
    " to master closed-loop control and to achieve success rates of 74-100% in a \n",
    " one-dimensional binary task.\n",
    "\n",
    "We performed a weighted multivariate analysis of urinary creatinine concentrations in \n",
    " 22,245 participants of the third National Health and Nutrition Examination Survey (1988-1994) \n",
    " and established reference ranges (10th-90th percentiles) for each demographic and age category.\n",
    "\n",
    "Longitudinal descriptive analyses of the 1032 participants in the 1991-2007 \n",
    " National Institute of Child Health and Human Development Study of Early Child Care and \n",
    " Youth Development birth cohort from 10 study sites who had accelerometer-determined minutes of MVPA \n",
    " at ages 9 (year 2000), 11 (2002), 12 (2003), and 15 (2006) years.\n",
    " \n",
    "Hookworm infection occurs in almost half of ssa's poorest people, including 40-50 million school-aged \n",
    "children and 70 million pregnant women in whom it is a leading cause of anemia.\n",
    "\n",
    "For the 2 most mutagenic regimens: 4 x 1 hr in 3 mm enu and 6 x 1', 5: 'hr in 3 mm enu'.\n",
    "\"\"\"\n",
    "\n",
    "metrics, _ = extract_metrics(TEXT, visualize_dependencies=True)\n",
    "for word, occasions in metrics.items():\n",
    "    print(f\"{word}: {occasions}\")"
   ]
  },
  {
   "cell_type": "markdown",
   "metadata": {
    "pycharm": {
     "name": "#%% md\n"
    }
   },
   "source": [
    "## Let's apply metric extraction to Pubmed papers!"
   ]
  },
  {
   "cell_type": "markdown",
   "metadata": {
    "pycharm": {
     "name": "#%% md\n"
    }
   },
   "source": [
    "### Exclude papers with unwanted terms"
   ]
  },
  {
   "cell_type": "code",
   "execution_count": null,
   "metadata": {
    "pycharm": {
     "name": "#%%\n"
    }
   },
   "outputs": [],
   "source": [
    "EXCLUDE = ['\\becog', 'electrocorticograph', '\\bhybrid', 'fNIRS', '\\bSSVEP']\n",
    "\n",
    "if len(EXCLUDE) > 0:\n",
    "    EXCLUDE_REGEX = '|'.join(EXCLUDE)\n",
    "    EXCLUDE_MASK = np.logical_not(pub_df.abstract.str.contains(EXCLUDE_REGEX, flags=re.IGNORECASE, regex=True))\n",
    "    processed_pub_df = pub_df[EXCLUDE_MASK]\n",
    "else:\n",
    "    processed_pub_df = pub_df"
   ]
  },
  {
   "cell_type": "code",
   "execution_count": null,
   "metadata": {
    "pycharm": {
     "name": "#%%\n"
    }
   },
   "outputs": [],
   "source": [
    "original_ids = set(pub_df['id'])\n",
    "processed_ids = set(processed_pub_df['id'])\n",
    "diff = original_ids - processed_ids"
   ]
  },
  {
   "cell_type": "markdown",
   "metadata": {
    "pycharm": {
     "name": "#%% md\n"
    }
   },
   "source": [
    "See the list of excluded papers below."
   ]
  },
  {
   "cell_type": "code",
   "execution_count": null,
   "metadata": {
    "pycharm": {
     "name": "#%%\n"
    }
   },
   "outputs": [],
   "source": [
    "pub_df[pub_df['id'].isin(diff)][['id', 'abstract']]"
   ]
  },
  {
   "cell_type": "markdown",
   "metadata": {
    "pycharm": {
     "name": "#%% md\n"
    }
   },
   "source": [
    "## Run Metric Extraction"
   ]
  },
  {
   "cell_type": "code",
   "execution_count": null,
   "metadata": {
    "scrolled": true,
    "pycharm": {
     "name": "#%%\n"
    }
   },
   "outputs": [],
   "source": [
    "from tqdm.auto import tqdm\n",
    "\n",
    "# Slow, currently moved out of the class to speed up fixing & rerunning the code of MetricExtractor\n",
    "metrics_data = []\n",
    "for _, data in tqdm(processed_pub_df.iterrows()):\n",
    "    paper_metrics_data = [data['id'], *extract_metrics(data['abstract'])]\n",
    "    metrics_data.append(paper_metrics_data)"
   ]
  },
  {
   "cell_type": "code",
   "execution_count": null,
   "metadata": {
    "pycharm": {
     "name": "#%%\n"
    }
   },
   "outputs": [],
   "source": [
    "class MetricExtractor:\n",
    "    def __init__(self, metrics_data):\n",
    "        self.metrics_df = pd.DataFrame(metrics_data, columns=['ID', 'Metrics', 'Sentences'])\n",
    "\n",
    "    def get_top_metrics(self, number=20):\n",
    "        metrics_counter = Counter()\n",
    "        for metric_dict in self.metrics_df['Metrics']:\n",
    "            for metric, occasions in metric_dict.items():\n",
    "                metrics_counter[metric] += len(occasions)\n",
    "        return metrics_counter.most_common(number)\n",
    "\n",
    "    def get_metric_values(self, *metrics, min_value=None, max_value=None, detailed=False):\n",
    "        values = []\n",
    "        for _, data in self.metrics_df.iterrows():\n",
    "            metric_dict = data['Metrics']\n",
    "            sentences = data['Sentences']\n",
    "\n",
    "            for metric in metrics:\n",
    "                if metric in metric_dict:\n",
    "                    for value, sentence_number in metric_dict[metric]:\n",
    "                        if min_value and value < min_value or max_value and value > max_value:\n",
    "                            continue\n",
    "                        if detailed:\n",
    "                            sentence = sentences[sentence_number]\n",
    "                            values.append([data['ID'], value, sentence])\n",
    "                        else:\n",
    "                            values.append(value)\n",
    "        if detailed:\n",
    "            return pd.DataFrame(values, columns=['PMID', ', '.join(metrics), 'Sentence'])\n",
    "        return values\n",
    "\n",
    "    def filter_papers(self, metrics):\n",
    "        \"\"\"\n",
    "        :param metrics - list of tuples ([list of keywords], min_value, max_value)\n",
    "               e.g. (['subjects', 'participants'], 5, None)\n",
    "        :return list of PMIDs\n",
    "        \"\"\"\n",
    "        selection = []\n",
    "        for _, data in self.metrics_df.iterrows():\n",
    "            suitable = True\n",
    "            metric_dict = data['Metrics']\n",
    "\n",
    "            for metric in metrics:\n",
    "                metric_suitable = False\n",
    "                words, min_value, max_value = metric\n",
    "\n",
    "                for word in words:\n",
    "                    if word in metric_dict:\n",
    "                        for value, _ in metric_dict[word]:\n",
    "                            if min_value and value < min_value or max_value and value > max_value:\n",
    "                                continue\n",
    "                            metric_suitable = True\n",
    "                    if metric_suitable:\n",
    "                        break\n",
    "\n",
    "                suitable &= metric_suitable\n",
    "\n",
    "            if suitable:\n",
    "                selection.append(data['ID'])\n",
    "        return selection"
   ]
  },
  {
   "cell_type": "code",
   "execution_count": null,
   "metadata": {
    "pycharm": {
     "name": "#%%\n"
    }
   },
   "outputs": [],
   "source": [
    "me = MetricExtractor(metrics_data)"
   ]
  },
  {
   "cell_type": "markdown",
   "metadata": {
    "pycharm": {
     "name": "#%% md\n"
    }
   },
   "source": [
    "### See an example of extraction result below."
   ]
  },
  {
   "cell_type": "code",
   "execution_count": null,
   "metadata": {
    "pycharm": {
     "name": "#%%\n"
    }
   },
   "outputs": [],
   "source": [
    "me.metrics_df.head(3)"
   ]
  },
  {
   "cell_type": "code",
   "execution_count": null,
   "metadata": {
    "pycharm": {
     "name": "#%%\n"
    }
   },
   "outputs": [],
   "source": [
    "result = pd.merge(left=me.metrics_df, left_on='ID', right=pub_df[['id', 'title']], right_on='id')\n",
    "result = result[['ID', 'title', 'Metrics', 'Sentences']]\n",
    "result.to_csv(f'metrics_{SEARCH_QUERY.replace(\" \", \"_\").lower()}.csv', sep=',', index=False)"
   ]
  },
  {
   "cell_type": "markdown",
   "metadata": {
    "pycharm": {
     "name": "#%% md\n"
    }
   },
   "source": [
    "### Most Frequent Metrics"
   ]
  },
  {
   "cell_type": "code",
   "execution_count": null,
   "metadata": {
    "pycharm": {
     "name": "#%%\n"
    }
   },
   "outputs": [],
   "source": [
    "print(me.get_top_metrics(50))"
   ]
  },
  {
   "cell_type": "markdown",
   "metadata": {
    "pycharm": {
     "name": "#%% md\n"
    }
   },
   "source": [
    "### Select a metric to show distribution and abstract fragments where it was mentioned.\n",
    "\n",
    "Currently synonyms are not processed, so feel free to use a tuple of words that correspond to the same metric."
   ]
  },
  {
   "cell_type": "code",
   "execution_count": null,
   "metadata": {
    "pycharm": {
     "name": "#%%\n"
    }
   },
   "outputs": [],
   "source": [
    "METRIC = ('subject', 'patient', 'role', 'participant', 'volunteer', 'people', 'donor',\n",
    "          'man', 'woman', 'male', 'female')\n",
    "METRIC_TEXT = ', '.join(METRIC)"
   ]
  },
  {
   "cell_type": "markdown",
   "metadata": {
    "pycharm": {
     "name": "#%% md\n"
    }
   },
   "source": [
    "### Distribution of selected `METRIC`"
   ]
  },
  {
   "cell_type": "code",
   "execution_count": null,
   "metadata": {
    "pycharm": {
     "name": "#%%\n"
    }
   },
   "outputs": [],
   "source": [
    "import matplotlib.pyplot as plt\n",
    "\n",
    "num_subjects = me.get_metric_values(*METRIC)\n",
    "plt.hist(num_subjects)\n",
    "plt.xlabel(METRIC_TEXT)\n",
    "plt.ylabel('Number of papers')"
   ]
  },
  {
   "cell_type": "markdown",
   "metadata": {
    "pycharm": {
     "name": "#%% md\n"
    }
   },
   "source": [
    "### Example Mentions "
   ]
  },
  {
   "cell_type": "code",
   "execution_count": null,
   "metadata": {
    "pycharm": {
     "name": "#%%\n"
    }
   },
   "outputs": [],
   "source": [
    "me.get_metric_values(*METRIC, detailed=True).sort_values(METRIC_TEXT, ascending=False).head(20)"
   ]
  },
  {
   "cell_type": "markdown",
   "metadata": {
    "pycharm": {
     "name": "#%% md\n"
    }
   },
   "source": [
    "### Filter papers based on desired metric values"
   ]
  },
  {
   "cell_type": "code",
   "execution_count": null,
   "metadata": {
    "pycharm": {
     "name": "#%%\n"
    }
   },
   "outputs": [],
   "source": [
    "METRICS = [\n",
    "    (['subjects', 'patients', 'participants', 'volunteers'], 10, None),\n",
    "    (['accuracy'], 65, None),\n",
    "]\n",
    "\n",
    "selection = me.filter_papers(METRICS)"
   ]
  },
  {
   "cell_type": "code",
   "execution_count": null,
   "metadata": {
    "pycharm": {
     "name": "#%%\n"
    }
   },
   "outputs": [],
   "source": [
    "pub_df[pub_df.id.isin(selection)][['id', 'abstract']]"
   ]
  },
  {
   "cell_type": "markdown",
   "metadata": {
    "pycharm": {
     "name": "#%% md\n"
    }
   },
   "source": [
    "## Work with synonims"
   ]
  },
  {
   "cell_type": "code",
   "execution_count": null,
   "metadata": {
    "pycharm": {
     "name": "#%%\n"
    }
   },
   "outputs": [],
   "source": [
    "from itertools import chain\n",
    "from nltk.corpus import wordnet\n",
    "\n",
    "synonyms = wordnet.synsets('patient')\n",
    "set(chain.from_iterable([word.lemma_names() for word in synonyms]))"
   ]
  },
  {
   "cell_type": "markdown",
   "metadata": {
    "pycharm": {
     "name": "#%% md\n"
    }
   },
   "source": [
    "## Development\n",
    "\n",
    "Other libraries for extraction of metrics/quantities: quantulum, grobid-quantities.\n",
    "\n",
    "Dependencies:\n",
    "  * `pip install quantulum3`"
   ]
  },
  {
   "cell_type": "code",
   "execution_count": null,
   "metadata": {
    "pycharm": {
     "name": "#%%\n"
    }
   },
   "outputs": [],
   "source": [
    "from quantulum3 import parser\n",
    "\n",
    "parser.parse(\"\"\"No specific antiviral drug has been proven effective for treatment of patients with\n",
    " severe coronavirus disease 2019 (COVID-19).\"\"\")"
   ]
  },
  {
   "cell_type": "code",
   "execution_count": null,
   "metadata": {
    "pycharm": {
     "name": "#%%\n"
    }
   },
   "outputs": [],
   "source": []
  }
 ],
 "metadata": {
  "kernelspec": {
   "display_name": "Python 3",
   "language": "python",
   "name": "python3"
  },
  "language_info": {
   "codemirror_mode": {
    "name": "ipython",
    "version": 3
   },
   "file_extension": ".py",
   "mimetype": "text/x-python",
   "name": "python",
   "nbconvert_exporter": "python",
   "pygments_lexer": "ipython3",
   "version": "3.8.2"
  }
 },
 "nbformat": 4,
 "nbformat_minor": 4
}