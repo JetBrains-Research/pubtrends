{
 "cells": [
  {
   "cell_type": "markdown",
   "metadata": {
    "pycharm": {
     "name": "#%% md\n"
    }
   },
   "source": [
    "# Pubtrends-experimental\n",
    "\n",
    "Experimental notebook for hypothesis testing and development purposes."
   ]
  },
  {
   "cell_type": "markdown",
   "metadata": {
    "pycharm": {
     "name": "#%% md\n"
    }
   },
   "source": [
    "# Config"
   ]
  },
  {
   "cell_type": "code",
   "execution_count": 1,
   "metadata": {
    "pycharm": {
     "name": "#%%\n"
    }
   },
   "outputs": [
    {
     "data": {
      "text/html": [
       "    <style>\n",
       "        .bk-notebook-logo {\n",
       "            display: block;\n",
       "            width: 20px;\n",
       "            height: 20px;\n",
       "            background-image: url(data:image/png;base64,iVBORw0KGgoAAAANSUhEUgAAABQAAAAUCAYAAACNiR0NAAAABHNCSVQICAgIfAhkiAAAAAlwSFlzAAALEgAACxIB0t1+/AAAABx0RVh0U29mdHdhcmUAQWRvYmUgRmlyZXdvcmtzIENTNui8sowAAAOkSURBVDiNjZRtaJVlGMd/1/08zzln5zjP1LWcU9N0NkN8m2CYjpgQYQXqSs0I84OLIC0hkEKoPtiH3gmKoiJDU7QpLgoLjLIQCpEsNJ1vqUOdO7ppbuec5+V+rj4ctwzd8IIbbi6u+8f1539dt3A78eXC7QizUF7gyV1fD1Yqg4JWz84yffhm0qkFqBogB9rM8tZdtwVsPUhWhGcFJngGeWrPzHm5oaMmkfEg1usvLFyc8jLRqDOMru7AyC8saQr7GG7f5fvDeH7Ej8CM66nIF+8yngt6HWaKh7k49Soy9nXurCi1o3qUbS3zWfrYeQDTB/Qj6kX6Ybhw4B+bOYoLKCC9H3Nu/leUTZ1JdRWkkn2ldcCamzrcf47KKXdAJllSlxAOkRgyHsGC/zRday5Qld9DyoM4/q/rUoy/CXh3jzOu3bHUVZeU+DEn8FInkPBFlu3+nW3Nw0mk6vCDiWg8CeJaxEwuHS3+z5RgY+YBR6V1Z1nxSOfoaPa4LASWxxdNp+VWTk7+4vzaou8v8PN+xo+KY2xsw6une2frhw05CTYOmQvsEhjhWjn0bmXPjpE1+kplmmkP3suftwTubK9Vq22qKmrBhpY4jvd5afdRA3wGjFAgcnTK2s4hY0/GPNIb0nErGMCRxWOOX64Z8RAC4oCXdklmEvcL8o0BfkNK4lUg9HTl+oPlQxdNo3Mg4Nv175e/1LDGzZen30MEjRUtmXSfiTVu1kK8W4txyV6BMKlbgk3lMwYCiusNy9fVfvvwMxv8Ynl6vxoByANLTWplvuj/nF9m2+PDtt1eiHPBr1oIfhCChQMBw6Aw0UulqTKZdfVvfG7VcfIqLG9bcldL/+pdWTLxLUy8Qq38heUIjh4XlzZxzQm19lLFlr8vdQ97rjZVOLf8nclzckbcD4wxXMidpX30sFd37Fv/GtwwhzhxGVAprjbg0gCAEeIgwCZyTV2Z1REEW8O4py0wsjeloKoMr6iCY6dP92H6Vw/oTyICIthibxjm/DfN9lVz8IqtqKYLUXfoKVMVQVVJOElGjrnnUt9T9wbgp8AyYKaGlqingHZU/uG2NTZSVqwHQTWkx9hxjkpWDaCg6Ckj5qebgBVbT3V3NNXMSiWSDdGV3hrtzla7J+duwPOToIg42ChPQOQjspnSlp1V+Gjdged7+8UN5CRAV7a5EdFNwCjEaBR27b3W890TE7g24NAP/mMDXRWrGoFPQI9ls/MWO2dWFAar/xcOIImbbpA3zgAAAABJRU5ErkJggg==);\n",
       "        }\n",
       "    </style>\n",
       "    <div>\n",
       "        <a href=\"https://bokeh.org\" target=\"_blank\" class=\"bk-notebook-logo\"></a>\n",
       "        <span id=\"e2c19471-e04e-4a79-bfb4-e24d1661fd9a\">Loading BokehJS ...</span>\n",
       "    </div>\n"
      ]
     },
     "metadata": {},
     "output_type": "display_data"
    },
    {
     "data": {
      "application/javascript": [
       "'use strict';\n",
       "(function(root) {\n",
       "  function now() {\n",
       "    return new Date();\n",
       "  }\n",
       "\n",
       "  const force = true;\n",
       "\n",
       "  if (typeof root._bokeh_onload_callbacks === \"undefined\" || force === true) {\n",
       "    root._bokeh_onload_callbacks = [];\n",
       "    root._bokeh_is_loading = undefined;\n",
       "  }\n",
       "\n",
       "const JS_MIME_TYPE = 'application/javascript';\n",
       "  const HTML_MIME_TYPE = 'text/html';\n",
       "  const EXEC_MIME_TYPE = 'application/vnd.bokehjs_exec.v0+json';\n",
       "  const CLASS_NAME = 'output_bokeh rendered_html';\n",
       "\n",
       "  /**\n",
       "   * Render data to the DOM node\n",
       "   */\n",
       "  function render(props, node) {\n",
       "    const script = document.createElement(\"script\");\n",
       "    node.appendChild(script);\n",
       "  }\n",
       "\n",
       "  /**\n",
       "   * Handle when an output is cleared or removed\n",
       "   */\n",
       "  function handleClearOutput(event, handle) {\n",
       "    function drop(id) {\n",
       "      const view = Bokeh.index.get_by_id(id)\n",
       "      if (view != null) {\n",
       "        view.model.document.clear()\n",
       "        Bokeh.index.delete(view)\n",
       "      }\n",
       "    }\n",
       "\n",
       "    const cell = handle.cell;\n",
       "\n",
       "    const id = cell.output_area._bokeh_element_id;\n",
       "    const server_id = cell.output_area._bokeh_server_id;\n",
       "\n",
       "    // Clean up Bokeh references\n",
       "    if (id != null) {\n",
       "      drop(id)\n",
       "    }\n",
       "\n",
       "    if (server_id !== undefined) {\n",
       "      // Clean up Bokeh references\n",
       "      const cmd_clean = \"from bokeh.io.state import curstate; print(curstate().uuid_to_server['\" + server_id + \"'].get_sessions()[0].document.roots[0]._id)\";\n",
       "      cell.notebook.kernel.execute(cmd_clean, {\n",
       "        iopub: {\n",
       "          output: function(msg) {\n",
       "            const id = msg.content.text.trim()\n",
       "            drop(id)\n",
       "          }\n",
       "        }\n",
       "      });\n",
       "      // Destroy server and session\n",
       "      const cmd_destroy = \"import bokeh.io.notebook as ion; ion.destroy_server('\" + server_id + \"')\";\n",
       "      cell.notebook.kernel.execute(cmd_destroy);\n",
       "    }\n",
       "  }\n",
       "\n",
       "  /**\n",
       "   * Handle when a new output is added\n",
       "   */\n",
       "  function handleAddOutput(event, handle) {\n",
       "    const output_area = handle.output_area;\n",
       "    const output = handle.output;\n",
       "\n",
       "    // limit handleAddOutput to display_data with EXEC_MIME_TYPE content only\n",
       "    if ((output.output_type != \"display_data\") || (!Object.prototype.hasOwnProperty.call(output.data, EXEC_MIME_TYPE))) {\n",
       "      return\n",
       "    }\n",
       "\n",
       "    const toinsert = output_area.element.find(\".\" + CLASS_NAME.split(' ')[0]);\n",
       "\n",
       "    if (output.metadata[EXEC_MIME_TYPE][\"id\"] !== undefined) {\n",
       "      toinsert[toinsert.length - 1].firstChild.textContent = output.data[JS_MIME_TYPE];\n",
       "      // store reference to embed id on output_area\n",
       "      output_area._bokeh_element_id = output.metadata[EXEC_MIME_TYPE][\"id\"];\n",
       "    }\n",
       "    if (output.metadata[EXEC_MIME_TYPE][\"server_id\"] !== undefined) {\n",
       "      const bk_div = document.createElement(\"div\");\n",
       "      bk_div.innerHTML = output.data[HTML_MIME_TYPE];\n",
       "      const script_attrs = bk_div.children[0].attributes;\n",
       "      for (let i = 0; i < script_attrs.length; i++) {\n",
       "        toinsert[toinsert.length - 1].firstChild.setAttribute(script_attrs[i].name, script_attrs[i].value);\n",
       "        toinsert[toinsert.length - 1].firstChild.textContent = bk_div.children[0].textContent\n",
       "      }\n",
       "      // store reference to server id on output_area\n",
       "      output_area._bokeh_server_id = output.metadata[EXEC_MIME_TYPE][\"server_id\"];\n",
       "    }\n",
       "  }\n",
       "\n",
       "  function register_renderer(events, OutputArea) {\n",
       "\n",
       "    function append_mime(data, metadata, element) {\n",
       "      // create a DOM node to render to\n",
       "      const toinsert = this.create_output_subarea(\n",
       "        metadata,\n",
       "        CLASS_NAME,\n",
       "        EXEC_MIME_TYPE\n",
       "      );\n",
       "      this.keyboard_manager.register_events(toinsert);\n",
       "      // Render to node\n",
       "      const props = {data: data, metadata: metadata[EXEC_MIME_TYPE]};\n",
       "      render(props, toinsert[toinsert.length - 1]);\n",
       "      element.append(toinsert);\n",
       "      return toinsert\n",
       "    }\n",
       "\n",
       "    /* Handle when an output is cleared or removed */\n",
       "    events.on('clear_output.CodeCell', handleClearOutput);\n",
       "    events.on('delete.Cell', handleClearOutput);\n",
       "\n",
       "    /* Handle when a new output is added */\n",
       "    events.on('output_added.OutputArea', handleAddOutput);\n",
       "\n",
       "    /**\n",
       "     * Register the mime type and append_mime function with output_area\n",
       "     */\n",
       "    OutputArea.prototype.register_mime_type(EXEC_MIME_TYPE, append_mime, {\n",
       "      /* Is output safe? */\n",
       "      safe: true,\n",
       "      /* Index of renderer in `output_area.display_order` */\n",
       "      index: 0\n",
       "    });\n",
       "  }\n",
       "\n",
       "  // register the mime type if in Jupyter Notebook environment and previously unregistered\n",
       "  if (root.Jupyter !== undefined) {\n",
       "    const events = require('base/js/events');\n",
       "    const OutputArea = require('notebook/js/outputarea').OutputArea;\n",
       "\n",
       "    if (OutputArea.prototype.mime_types().indexOf(EXEC_MIME_TYPE) == -1) {\n",
       "      register_renderer(events, OutputArea);\n",
       "    }\n",
       "  }\n",
       "  if (typeof (root._bokeh_timeout) === \"undefined\" || force === true) {\n",
       "    root._bokeh_timeout = Date.now() + 5000;\n",
       "    root._bokeh_failed_load = false;\n",
       "  }\n",
       "\n",
       "  const NB_LOAD_WARNING = {'data': {'text/html':\n",
       "     \"<div style='background-color: #fdd'>\\n\"+\n",
       "     \"<p>\\n\"+\n",
       "     \"BokehJS does not appear to have successfully loaded. If loading BokehJS from CDN, this \\n\"+\n",
       "     \"may be due to a slow or bad network connection. Possible fixes:\\n\"+\n",
       "     \"</p>\\n\"+\n",
       "     \"<ul>\\n\"+\n",
       "     \"<li>re-rerun `output_notebook()` to attempt to load from CDN again, or</li>\\n\"+\n",
       "     \"<li>use INLINE resources instead, as so:</li>\\n\"+\n",
       "     \"</ul>\\n\"+\n",
       "     \"<code>\\n\"+\n",
       "     \"from bokeh.resources import INLINE\\n\"+\n",
       "     \"output_notebook(resources=INLINE)\\n\"+\n",
       "     \"</code>\\n\"+\n",
       "     \"</div>\"}};\n",
       "\n",
       "  function display_loaded(error = null) {\n",
       "    const el = document.getElementById(\"e2c19471-e04e-4a79-bfb4-e24d1661fd9a\");\n",
       "    if (el != null) {\n",
       "      const html = (() => {\n",
       "        if (typeof root.Bokeh === \"undefined\") {\n",
       "          if (error == null) {\n",
       "            return \"BokehJS is loading ...\";\n",
       "          } else {\n",
       "            return \"BokehJS failed to load.\";\n",
       "          }\n",
       "        } else {\n",
       "          const prefix = `BokehJS ${root.Bokeh.version}`;\n",
       "          if (error == null) {\n",
       "            return `${prefix} successfully loaded.`;\n",
       "          } else {\n",
       "            return `${prefix} <b>encountered errors</b> while loading and may not function as expected.`;\n",
       "          }\n",
       "        }\n",
       "      })();\n",
       "      el.innerHTML = html;\n",
       "\n",
       "      if (error != null) {\n",
       "        const wrapper = document.createElement(\"div\");\n",
       "        wrapper.style.overflow = \"auto\";\n",
       "        wrapper.style.height = \"5em\";\n",
       "        wrapper.style.resize = \"vertical\";\n",
       "        const content = document.createElement(\"div\");\n",
       "        content.style.fontFamily = \"monospace\";\n",
       "        content.style.whiteSpace = \"pre-wrap\";\n",
       "        content.style.backgroundColor = \"rgb(255, 221, 221)\";\n",
       "        content.textContent = error.stack ?? error.toString();\n",
       "        wrapper.append(content);\n",
       "        el.append(wrapper);\n",
       "      }\n",
       "    } else if (Date.now() < root._bokeh_timeout) {\n",
       "      setTimeout(() => display_loaded(error), 100);\n",
       "    }\n",
       "  }\n",
       "\n",
       "  function run_callbacks() {\n",
       "    try {\n",
       "      root._bokeh_onload_callbacks.forEach(function(callback) {\n",
       "        if (callback != null)\n",
       "          callback();\n",
       "      });\n",
       "    } finally {\n",
       "      delete root._bokeh_onload_callbacks\n",
       "    }\n",
       "    console.debug(\"Bokeh: all callbacks have finished\");\n",
       "  }\n",
       "\n",
       "  function load_libs(css_urls, js_urls, callback) {\n",
       "    if (css_urls == null) css_urls = [];\n",
       "    if (js_urls == null) js_urls = [];\n",
       "\n",
       "    root._bokeh_onload_callbacks.push(callback);\n",
       "    if (root._bokeh_is_loading > 0) {\n",
       "      console.debug(\"Bokeh: BokehJS is being loaded, scheduling callback at\", now());\n",
       "      return null;\n",
       "    }\n",
       "    if (js_urls == null || js_urls.length === 0) {\n",
       "      run_callbacks();\n",
       "      return null;\n",
       "    }\n",
       "    console.debug(\"Bokeh: BokehJS not loaded, scheduling load and callback at\", now());\n",
       "    root._bokeh_is_loading = css_urls.length + js_urls.length;\n",
       "\n",
       "    function on_load() {\n",
       "      root._bokeh_is_loading--;\n",
       "      if (root._bokeh_is_loading === 0) {\n",
       "        console.debug(\"Bokeh: all BokehJS libraries/stylesheets loaded\");\n",
       "        run_callbacks()\n",
       "      }\n",
       "    }\n",
       "\n",
       "    function on_error(url) {\n",
       "      console.error(\"failed to load \" + url);\n",
       "    }\n",
       "\n",
       "    for (let i = 0; i < css_urls.length; i++) {\n",
       "      const url = css_urls[i];\n",
       "      const element = document.createElement(\"link\");\n",
       "      element.onload = on_load;\n",
       "      element.onerror = on_error.bind(null, url);\n",
       "      element.rel = \"stylesheet\";\n",
       "      element.type = \"text/css\";\n",
       "      element.href = url;\n",
       "      console.debug(\"Bokeh: injecting link tag for BokehJS stylesheet: \", url);\n",
       "      document.body.appendChild(element);\n",
       "    }\n",
       "\n",
       "    for (let i = 0; i < js_urls.length; i++) {\n",
       "      const url = js_urls[i];\n",
       "      const element = document.createElement('script');\n",
       "      element.onload = on_load;\n",
       "      element.onerror = on_error.bind(null, url);\n",
       "      element.async = false;\n",
       "      element.src = url;\n",
       "      console.debug(\"Bokeh: injecting script tag for BokehJS library: \", url);\n",
       "      document.head.appendChild(element);\n",
       "    }\n",
       "  };\n",
       "\n",
       "  function inject_raw_css(css) {\n",
       "    const element = document.createElement(\"style\");\n",
       "    element.appendChild(document.createTextNode(css));\n",
       "    document.body.appendChild(element);\n",
       "  }\n",
       "\n",
       "  const js_urls = [\"https://cdn.bokeh.org/bokeh/release/bokeh-3.6.3.min.js\", \"https://cdn.bokeh.org/bokeh/release/bokeh-gl-3.6.3.min.js\", \"https://cdn.bokeh.org/bokeh/release/bokeh-widgets-3.6.3.min.js\", \"https://cdn.bokeh.org/bokeh/release/bokeh-tables-3.6.3.min.js\", \"https://cdn.bokeh.org/bokeh/release/bokeh-mathjax-3.6.3.min.js\"];\n",
       "  const css_urls = [];\n",
       "\n",
       "  const inline_js = [    function(Bokeh) {\n",
       "      Bokeh.set_log_level(\"info\");\n",
       "    },\n",
       "function(Bokeh) {\n",
       "    }\n",
       "  ];\n",
       "\n",
       "  function run_inline_js() {\n",
       "    if (root.Bokeh !== undefined || force === true) {\n",
       "      try {\n",
       "            for (let i = 0; i < inline_js.length; i++) {\n",
       "      inline_js[i].call(root, root.Bokeh);\n",
       "    }\n",
       "\n",
       "      } catch (error) {display_loaded(error);throw error;\n",
       "      }if (force === true) {\n",
       "        display_loaded();\n",
       "      }} else if (Date.now() < root._bokeh_timeout) {\n",
       "      setTimeout(run_inline_js, 100);\n",
       "    } else if (!root._bokeh_failed_load) {\n",
       "      console.log(\"Bokeh: BokehJS failed to load within specified timeout.\");\n",
       "      root._bokeh_failed_load = true;\n",
       "    } else if (force !== true) {\n",
       "      const cell = $(document.getElementById(\"e2c19471-e04e-4a79-bfb4-e24d1661fd9a\")).parents('.cell').data().cell;\n",
       "      cell.output_area.append_execute_result(NB_LOAD_WARNING)\n",
       "    }\n",
       "  }\n",
       "\n",
       "  if (root._bokeh_is_loading === 0) {\n",
       "    console.debug(\"Bokeh: BokehJS loaded, going straight to plotting\");\n",
       "    run_inline_js();\n",
       "  } else {\n",
       "    load_libs(css_urls, js_urls, function() {\n",
       "      console.debug(\"Bokeh: BokehJS plotting callback run at\", now());\n",
       "      run_inline_js();\n",
       "    });\n",
       "  }\n",
       "}(window));"
      ],
      "application/vnd.bokehjs_load.v0+json": "'use strict';\n(function(root) {\n  function now() {\n    return new Date();\n  }\n\n  const force = true;\n\n  if (typeof root._bokeh_onload_callbacks === \"undefined\" || force === true) {\n    root._bokeh_onload_callbacks = [];\n    root._bokeh_is_loading = undefined;\n  }\n\n\n  if (typeof (root._bokeh_timeout) === \"undefined\" || force === true) {\n    root._bokeh_timeout = Date.now() + 5000;\n    root._bokeh_failed_load = false;\n  }\n\n  const NB_LOAD_WARNING = {'data': {'text/html':\n     \"<div style='background-color: #fdd'>\\n\"+\n     \"<p>\\n\"+\n     \"BokehJS does not appear to have successfully loaded. If loading BokehJS from CDN, this \\n\"+\n     \"may be due to a slow or bad network connection. Possible fixes:\\n\"+\n     \"</p>\\n\"+\n     \"<ul>\\n\"+\n     \"<li>re-rerun `output_notebook()` to attempt to load from CDN again, or</li>\\n\"+\n     \"<li>use INLINE resources instead, as so:</li>\\n\"+\n     \"</ul>\\n\"+\n     \"<code>\\n\"+\n     \"from bokeh.resources import INLINE\\n\"+\n     \"output_notebook(resources=INLINE)\\n\"+\n     \"</code>\\n\"+\n     \"</div>\"}};\n\n  function display_loaded(error = null) {\n    const el = document.getElementById(\"e2c19471-e04e-4a79-bfb4-e24d1661fd9a\");\n    if (el != null) {\n      const html = (() => {\n        if (typeof root.Bokeh === \"undefined\") {\n          if (error == null) {\n            return \"BokehJS is loading ...\";\n          } else {\n            return \"BokehJS failed to load.\";\n          }\n        } else {\n          const prefix = `BokehJS ${root.Bokeh.version}`;\n          if (error == null) {\n            return `${prefix} successfully loaded.`;\n          } else {\n            return `${prefix} <b>encountered errors</b> while loading and may not function as expected.`;\n          }\n        }\n      })();\n      el.innerHTML = html;\n\n      if (error != null) {\n        const wrapper = document.createElement(\"div\");\n        wrapper.style.overflow = \"auto\";\n        wrapper.style.height = \"5em\";\n        wrapper.style.resize = \"vertical\";\n        const content = document.createElement(\"div\");\n        content.style.fontFamily = \"monospace\";\n        content.style.whiteSpace = \"pre-wrap\";\n        content.style.backgroundColor = \"rgb(255, 221, 221)\";\n        content.textContent = error.stack ?? error.toString();\n        wrapper.append(content);\n        el.append(wrapper);\n      }\n    } else if (Date.now() < root._bokeh_timeout) {\n      setTimeout(() => display_loaded(error), 100);\n    }\n  }\n\n  function run_callbacks() {\n    try {\n      root._bokeh_onload_callbacks.forEach(function(callback) {\n        if (callback != null)\n          callback();\n      });\n    } finally {\n      delete root._bokeh_onload_callbacks\n    }\n    console.debug(\"Bokeh: all callbacks have finished\");\n  }\n\n  function load_libs(css_urls, js_urls, callback) {\n    if (css_urls == null) css_urls = [];\n    if (js_urls == null) js_urls = [];\n\n    root._bokeh_onload_callbacks.push(callback);\n    if (root._bokeh_is_loading > 0) {\n      console.debug(\"Bokeh: BokehJS is being loaded, scheduling callback at\", now());\n      return null;\n    }\n    if (js_urls == null || js_urls.length === 0) {\n      run_callbacks();\n      return null;\n    }\n    console.debug(\"Bokeh: BokehJS not loaded, scheduling load and callback at\", now());\n    root._bokeh_is_loading = css_urls.length + js_urls.length;\n\n    function on_load() {\n      root._bokeh_is_loading--;\n      if (root._bokeh_is_loading === 0) {\n        console.debug(\"Bokeh: all BokehJS libraries/stylesheets loaded\");\n        run_callbacks()\n      }\n    }\n\n    function on_error(url) {\n      console.error(\"failed to load \" + url);\n    }\n\n    for (let i = 0; i < css_urls.length; i++) {\n      const url = css_urls[i];\n      const element = document.createElement(\"link\");\n      element.onload = on_load;\n      element.onerror = on_error.bind(null, url);\n      element.rel = \"stylesheet\";\n      element.type = \"text/css\";\n      element.href = url;\n      console.debug(\"Bokeh: injecting link tag for BokehJS stylesheet: \", url);\n      document.body.appendChild(element);\n    }\n\n    for (let i = 0; i < js_urls.length; i++) {\n      const url = js_urls[i];\n      const element = document.createElement('script');\n      element.onload = on_load;\n      element.onerror = on_error.bind(null, url);\n      element.async = false;\n      element.src = url;\n      console.debug(\"Bokeh: injecting script tag for BokehJS library: \", url);\n      document.head.appendChild(element);\n    }\n  };\n\n  function inject_raw_css(css) {\n    const element = document.createElement(\"style\");\n    element.appendChild(document.createTextNode(css));\n    document.body.appendChild(element);\n  }\n\n  const js_urls = [\"https://cdn.bokeh.org/bokeh/release/bokeh-3.6.3.min.js\", \"https://cdn.bokeh.org/bokeh/release/bokeh-gl-3.6.3.min.js\", \"https://cdn.bokeh.org/bokeh/release/bokeh-widgets-3.6.3.min.js\", \"https://cdn.bokeh.org/bokeh/release/bokeh-tables-3.6.3.min.js\", \"https://cdn.bokeh.org/bokeh/release/bokeh-mathjax-3.6.3.min.js\"];\n  const css_urls = [];\n\n  const inline_js = [    function(Bokeh) {\n      Bokeh.set_log_level(\"info\");\n    },\nfunction(Bokeh) {\n    }\n  ];\n\n  function run_inline_js() {\n    if (root.Bokeh !== undefined || force === true) {\n      try {\n            for (let i = 0; i < inline_js.length; i++) {\n      inline_js[i].call(root, root.Bokeh);\n    }\n\n      } catch (error) {display_loaded(error);throw error;\n      }if (force === true) {\n        display_loaded();\n      }} else if (Date.now() < root._bokeh_timeout) {\n      setTimeout(run_inline_js, 100);\n    } else if (!root._bokeh_failed_load) {\n      console.log(\"Bokeh: BokehJS failed to load within specified timeout.\");\n      root._bokeh_failed_load = true;\n    } else if (force !== true) {\n      const cell = $(document.getElementById(\"e2c19471-e04e-4a79-bfb4-e24d1661fd9a\")).parents('.cell').data().cell;\n      cell.output_area.append_execute_result(NB_LOAD_WARNING)\n    }\n  }\n\n  if (root._bokeh_is_loading === 0) {\n    console.debug(\"Bokeh: BokehJS loaded, going straight to plotting\");\n    run_inline_js();\n  } else {\n    load_libs(css_urls, js_urls, function() {\n      console.debug(\"Bokeh: BokehJS plotting callback run at\", now());\n      run_inline_js();\n    });\n  }\n}(window));"
     },
     "metadata": {},
     "output_type": "display_data"
    }
   ],
   "source": [
    "import logging\n",
    "import seaborn as sns\n",
    "import pandas as pd\n",
    "import numpy as np\n",
    "from scipy import stats\n",
    "from collections import Counter\n",
    "from matplotlib import pyplot as plt\n",
    "from bokeh.plotting import show, figure, output_file, save, reset_output, output_notebook\n",
    "from bokeh.models import ColumnDataSource\n",
    "from tqdm.auto import tqdm\n",
    "\n",
    "from pysrc.config import PubtrendsConfig\n",
    "from pysrc.papers.db.pm_postgres_loader import PubmedPostgresLoader\n",
    "from pysrc.papers.utils import SORT_MOST_CITED\n",
    "\n",
    "SEARCH_SORT = SORT_MOST_CITED\n",
    "SEARCH_PAPERS = 10_000\n",
    "\n",
    "logging.basicConfig(level=logging.INFO, format='%(asctime)s %(levelname)s: %(message)s')\n",
    "logger = logging.getLogger('notebook')\n",
    "\n",
    "# Avoid info message about compilation flags\n",
    "# tf.get_logger().setLevel('ERROR')\n",
    "\n",
    "output_notebook()\n",
    "\n",
    "%matplotlib inline\n",
    "%config InlineBackend.figure_format='retina'"
   ]
  },
  {
   "cell_type": "markdown",
   "metadata": {},
   "source": [
    "# Papers lookup"
   ]
  },
  {
   "cell_type": "code",
   "execution_count": 2,
   "metadata": {},
   "outputs": [],
   "source": [
    "from pysrc.papers.analyzer import PapersAnalyzer\n",
    "\n",
    "config = PubtrendsConfig(test=False)\n",
    "loader = PubmedPostgresLoader(config)\n",
    "analyzer = PapersAnalyzer(loader, config)"
   ]
  },
  {
   "cell_type": "markdown",
   "metadata": {},
   "source": [
    "## By titles"
   ]
  },
  {
   "cell_type": "code",
   "execution_count": 3,
   "metadata": {},
   "outputs": [],
   "source": [
    "titles = [\n",
    "    \"Heterogeneity of Aging: Individual Risk Factors, Mechanisms, Patient Priorities, and Outcomes\",\n",
    "    \"A clinically meaningful metric of immune age derived from high-dimensional longitudinal monitoring\",\n",
    "    \"Establishing Simultaneous T Cell Receptor Excision Circles (TREC) and K-Deleting Recombination Excision Circles (KREC) Quantification Assays and Laboratory Reference Intervals in Healthy Individuals of Different Age Groups in Hong Kong\",\n",
    "    \"An analysis of the data collected by the status lymphaticus investigation committee\",\n",
    "    \"Immunological function of the thymus\",\n",
    "    \"Body computerized tomography and the thymus\",\n",
    "    \"The thymus: reexamination of age-related changes in size and shape\",\n",
    "    \"Age-stratified Patterns of Thymic Involution on Multidetector CT\",\n",
    "    \"Maintenance of peripheral naive T cells is sustained by thymus output in mice but not humans\",\n",
    "    \"Sparse production but preferential incorporation of recently produced naive T cells in the human peripheral pool\",\n",
    "    \"Single-cell atlas of healthy human blood unveils age-related loss of NKG2C+GZMB-CD8+ memory T cells and accumulation of type 2 memory T cells\",\n",
    "    \"Multiparameter flow cytometric analysis of CD4 and CD8 T cell subsets in young and old people\",\n",
    "    \"A very low thymus function identifies patients with substantial increased risk for long-term mortality after kidney transplantation\",\n",
    "    \"Effects of sex and aging on the immune cell landscape as assessed by single-cell transcriptomic analysis\",\n",
    "    \"A human circulating immune cell landscape in aging and COVID-19\",\n",
    "    \"Human PBMC scRNA-seq–based aging clocks reveal ribosome to inflammation balance as a single-cell aging hallmark and super longevity\",\n",
    "    \"Comprehensive Profiling of an Aging Immune System Reveals Clonal GZMK+ CD8+ T Cells as Conserved Hallmark of Inflammaging\",\n",
    "    \"The biology of recent thymic emigrants\",\n",
    "    \"Reinterpreting recent thymic emigrant function: defective or adaptive?\",\n",
    "    \"Reevaluation of T cell receptor excision circles as a measure of human recent thymic emigrants\",\n",
    "    \"Changes in thymic function with age and during the treatment of HIV infection\",\n",
    "    \"Two subsets of naive T helper cells with distinct T cell receptor excision circle content in human adult peripheral blood\",\n",
    "    \"Characterization of CD31 expression in CD4+ and CD8+T cell subpopulations in chronic untreated HIV infection\",\n",
    "    \"Neonatal thymectomy reveals differentiation and plasticity within human naive T cells\",\n",
    "    \"Human CD4+ T cell recent thymic emigrants are identified by protein tyrosine kinase 7 and have reduced immune function\",\n",
    "    \"Identification of a human recent thymic emigrant phenotype\",\n",
    "    \"Multidimensional profiling of human T cells reveals high CD38 expression, marking recent thymic emigrants and age-related naive T cell remodeling\",\n",
    "    \"Activation and functional capacity of human neonatal CD4 T-cells\",\n",
    "    \"CD Maps-Dynamic Profiling of CD1-CD100 Surface Expression on Human Leukocyte and Lymphocyte Subsets\",\n",
    "    \"Naïve T cell maintenance and function in human aging\",\n",
    "    \"Aging and cytomegalovirus (CMV) infection differentially and jointly affect distinct circulating T cell subsets in humans\",\n",
    "    \"Low-affinity TCR engagement drives IL-2-dependent post-thymic maintenance of naive CD4+ T cells in aged humans\",\n",
    "    \"IL-7-Induced Proliferation of Human Naive CD4 T-Cells Relies on Continued Thymic Activity\",\n",
    "    \"Administration of rhIL-7 in humans increases in vivo TCR repertoire diversity by preferential expansion of naive T cell subsets\",\n",
    "    \"Lymphopenia-driven homeostatic regulation of naive T cells in elderly and thymectomized young adults\",\n",
    "    \"PREX1 improves homeostatic proliferation to maintain a naive CD4+ T cell compartment in older age\",\n",
    "    \"Postthymic expansion in human CD4 naive T cells defined by expression of functional high-affinity IL-2 receptors\",\n",
    "    \"Aging-associated HELIOS deficiency in naive CD4+ T cells alters chromatin remodeling and promotes effector cell responses\",\n",
    "    \"Naive T cells in the elderly: are they still there?\",\n",
    "    \"Age-associated change in the frequency of memory CD4+ T cells impairs long term CD4+ T cell responses to influenza vaccine\",\n",
    "    \"Accumulation of memory T cells from childhood to old age: central and effector memory cells in CD4(+) versus effector memory and terminally differentiated memory cells in CD8(+) compartment\",\n",
    "    \"T cell subset-specific susceptibility to aging\",\n",
    "    \"Age related human T cell subset evolution and senescence\",\n",
    "    \"Aging and cytomegalovirus infection differentially and jointly affect distinct circulating T cell subsets in humans\",\n",
    "    \"Age-related differences in phenotype and function of CD4+ T cells are due to a phenotypic shift from naive to memory effector CD4+ T cells\",\n",
    "    \"Evidence for less marked potential signs of T-cell immunosenescence in centenarian offspring than in the general age-matched population\",\n",
    "    \"RNA-Seq Signatures Normalized by mRNA Abundance Allow Absolute Deconvolution of Human Immune Cell Types\",\n",
    "    \"Is ageing associated with a shift in the balance between Type 1 and Type 2 cytokines in humans?\",\n",
    "    \"Age-dependent modifications of Type 1 and Type 2 cytokines within virgin and memory CD4+ T cells in humans\",\n",
    "    \"Decline in miR-181a expression with age impairs T cell receptor sensitivity by increasing DUSP6 activity\",\n",
    "    \"Normal ageing is associated with an increase in Th2 cells, MCP-1 (CCL1) and RANTES (CCL5), with differences in sCD40L and PDGF-AA between sexes\",\n",
    "    \"Transcription factor networks in aged naïve CD4 T cells bias lineage differentiation\",\n",
    "    \"The number of human peripheral blood CD4+ CD25high regulatory T cells increases with age\",\n",
    "    \"Human CD4+ CD25hi Foxp3+ regulatory T cells are derived by rapid turnover of memory populations in vivo\",\n",
    "    \"Functional Regulatory T Cells Accumulate in Aged Hosts and Promote Chronic Infectious Disease Reactivation\",\n",
    "    \"Accelerated age-dependent transition of human regulatory T cells to effector memory phenotype\",\n",
    "    \"A high‐dimensional cytometry atlas of peripheral blood over the human life span\",\n",
    "    \"CCR4+ Regulatory T Cells Accumulate in the Very Elderly and Correlate With Superior 8-Year Survival\",\n",
    "    \"Aging and human CD4(+) regulatory T cells\",\n",
    "    \"Integrated single-cell sequencing analysis reveals peripheral immune landscape across the human lifespan\",\n",
    "    \"Multidimensional single-cell analysis of human peripheral blood reveals characteristic features of the immune system landscape in aging and frailty\",\n",
    "    \"Persistence of naive CD45RA+ regulatory T cells in adult life\",\n",
    "    \"Age-associated alteration in naive and memory Th17 cell response in humans\",\n",
    "    \"Disturbed Th17/Treg balance in patients with rheumatoid arthritis\",\n",
    "    \"Elevated Th17 cell frequencies and Th17/Treg ratio are associated with airway hyperresponsiveness in asthmatic children\",\n",
    "    \"Altered Th17/Treg Ratio in Peripheral Blood of Systemic Lupus Erythematosus but Not Primary Antiphospholipid Syndrome\",\n",
    "    \"Aging disturbs the balance between effector and regulatory CD4+ T cells\",\n",
    "    \"Centenarians Alleviate Inflammaging by Changing the Ratio and Secretory Phenotypes of T Helper 17 and Regulatory T Cells\",\n",
    "    \"The Th17/Treg balance is disturbed during aging\",\n",
    "    \"The effect of aging on the frequency, phenotype and cytokine production of human blood CD4 + CXCR5 + T follicular helper cells: comparison of aged and young subjects\",\n",
    "    \"Rejuvenating conventional dendritic cells and T follicular helper cell formation after vaccination\",\n",
    "    \"Circulating CXCR5+PD-1+ response predicts influenza vaccine antibody responses in young adults but not elderly adults\",\n",
    "    \"Vaccine-induced ICOS+CD38+ circulating Tfh are sensitive biosensors of age-related changes in inflammatory pathways\",\n",
    "    \"Impaired HA-specific T follicular helper cell and antibody responses to influenza vaccination are linked to inflammation in humans\",\n",
    "    \"Longitudinal Multi-omic Immune Profiling Reveals Age-Related Immune Cell Dynamics in Healthy Adults\",\n",
    "    \"Single-cell RNA sequencing reveals the molecular features of peripheral blood immune cells in children, adults and centenarians\",\n",
    "    \"Single-cell transcriptomics reveals expansion of cytotoxic CD4 T cells in supercentenarians\",\n",
    "    \"Single-cell analysis of human peripheral blood reveals high immune response activity in successful ageing individuals\",\n",
    "    \"Single-Cell Transcriptomics Reveals Longevity Immune Remodeling Features Shared by Centenarians and Their Offspring\",\n",
    "    \"Age-associated CD4+ T cells with B cell-promoting functions are regulated by ZEB2 in autoimmunity\",\n",
    "    \"Immunophenotypical changes of T lymphocytes in the elderly\",\n",
    "    \"Memory CD4 + T-Cells Expressing HLA-DR Contribute to HIV Persistence During Prolonged Antiretroviral Therapy\",\n",
    "    \"HLA-DR Marks Recently Divided Antigen-Specific Effector CD4 T Cells in Active Tuberculosis Patients\",\n",
    "    \"Aging of immune system: Immune signature from peripheral blood lymphocyte subsets in 1068 healthy adults\",\n",
    "    \"Age- and sex-related changes of the lymphocyte subsets in healthy individuals: an analysis by two-dimensional flow cytometry\",\n",
    "    \"Spatial map of human T cell compartmentalization and maintenance over decades of life\",\n",
    "    \"Age-associated changes in the frequency of naïve, memory and effector CD8+ T cells\",\n",
    "    \"Cellular and plasma proteomic determinants of COVID-19 and non-COVID-19 pulmonary diseases relative to healthy aging\",\n",
    "    \"Heterogeneity and transcriptome changes of human CD8+ T cells across nine decades of life\",\n",
    "    \"Sexual-dimorphism in human immune system aging\",\n",
    "    \"TRIB2 safeguards naive T cell homeostasis during aging\",\n",
    "    \"Human memory T cells with a naive phenotype accumulate with aging and respond to persistent viruses\",\n",
    "    \"CXCR3 Identifies Human Naive CD8+ T Cells with Enhanced Effector Differentiation Potential\",\n",
    "    \"CXCR3high CD8+ T cells with naïve phenotype and high capacity for IFN-γ production are generated during homeostatic T-cell proliferation\",\n",
    "    \"Analysis of T and NK cell subsets in the Sicilian population from young to supercentenarian: The role of age and gender\",\n",
    "    \"Distinct categories of immunologic changes in frail elderly\",\n",
    "    \"Postthymic development of CD28-CD8+ T cell subset: age-associated expansion and shift from memory to naive phenotype\",\n",
    "    \"Expansion of cytotoxic CD8+ CD28- T cells in healthy ageing people, including centenarians\",\n",
    "    \"CD8 T-cell immune phenotype of successful aging\",   \n",
    "    \"Progressive decrease of CD8high+ CD28+ CD57− cells with ageing\",\n",
    "    \"Aging-associated subpopulations of human CD8+ T-lymphocytes identified by their CD28 and CD57 phenotypes\",\n",
    "    \"CD8+ CD28− and CD8+ CD57+ T cells and their role in health and disease\",\n",
    "    \"Differential Effect of Cytomegalovirus Infection with Age on the Expression of CD57, CD300a, and CD161 on T-Cell Subpopulations\",\n",
    "    \"Reduced Ebola vaccine responses in CMV+ young adults is associated with expansion of CD57+KLRG1+ T cells\",\n",
    "    \"Differentiation of human CD8 T cells: implications for in vivo persistence of CD8+ CD28- cytotoxic effector clones\",\n",
    "    \"Expression of CD57 defines replicative senescence and antigen-induced apoptotic death of CD8+ T cells\",\n",
    "    \"The loss of telomerase activity in highly differentiated CD8+CD28-CD27- T cells is associated with decreased Akt (Ser473) phosphorylation\",\n",
    "    \"Granzyme K+ CD8 T cells form a core population in inflamed human tissue\",\n",
    "    \"Clonally expanded memory CD8+ T cells accumulate in atherosclerotic plaques and are pro-atherogenic in aged mice\",\n",
    "    \"Glioblastoma-Infiltrating CD8+ T Cells Are Predominantly a Clonally Expanded GZMK+ Effector Population\",\n",
    "    \"IL-4-producing CD8+ T cells with a CD62L++(bright) phenotype accumulate in a subgroup of older adults and are associated with the maintenance of intact humoral immunity in old age\",\n",
    "    \"Marked increase with age of type 1 cytokines within memory and effector/cytotoxic CD8+ T cells in humans: a contribution to understand the relationship between inflammation and immunosenescence\",\n",
    "    \"Age-associated changes in interferon-gamma and interleukin-4 secretion by purified human CD4+ and CD8+ T cells\",\n",
    "    \"Trimodal single-cell profiling reveals a novel pediatric CD8αα+ T cell subset and broad age-related molecular reprogramming across the T cell compartment\",\n",
    "    \"Single-cell profiling identifies a novel human polyclonal unconventional T cell lineage\",\n",
    "    \"CD8+HLADR+ Regulatory T Cells Change With Aging: They Increase in Number, but Lose Checkpoint Inhibitory Molecules and Suppressive Function\",\n",
    "    \"Expression of HLA-DR in Cytotoxic T Lymphocytes: A Validated Predictive Biomarker and a Potential Therapeutic Strategy in Breast Cancer\",\n",
    "    \"γδ T cells: origin and fate, subsets, diseases and immunotherapy\",\n",
    "    \"Age dependent differences in the kinetics of γδ T cells after influenza vaccination\",\n",
    "    \"Ageing and latent CMV infection impact on maturation, differentiation and exhaustion profiles of T-cell receptor gammadelta T-cells\",\n",
    "    \"Age-dependent frequency of unconventional T cells in a healthy adult Caucasian population: a combinational study of invariant natural killer T cells, γδ T cells, and mucosa-associated invariant T cells\",\n",
    "    \"γ/δ T cell subsets in human aging using the classical α/β T cell model\",\n",
    "    \"Differential impact of age and cytomegalovirus infection on the γδ T cell compartment\",\n",
    "    \"Numerical and functional alterations of circulating gammadelta T lymphocytes in aged people and centenarians\",\n",
    "    \"Cytomegalovirus drives Vδ2neg γδ T cell inflation in many healthy virus carriers with increasing age\",\n",
    "    \"Vδ2+ and α/Δ T cells show divergent trajectories during human aging\",\n",
    "    \"Age-associated alteration of γδ T-cell repertoire and different profiles of activation-induced death of Vδ1 and Vδ2 T cells\",\n",
    "    \"The human Vδ2+ T-cell compartment comprises distinct innate-like Vγ9+ and adaptive Vγ9- subsets\",\n",
    "    \"Sex-specific phenotypical and functional differences in peripheral human Vgamma9/Vdelta2 T cells\",\n",
    "    \"Age-associated alterations in γδ T-cells are present predominantly in individuals infected with Cytomegalovirus\",\n",
    "    \"Human γδ T cells in diverse tissues exhibit site-specific maturation dynamics across the life span\",\n",
    "    \"Fetal public Vγ9Vδ2 T cells expand and gain potent cytotoxic functions early after birth\",\n",
    "    \"Effector Vγ9Vδ2 T cells dominate the human fetal γδ T-cell repertoire\",\n",
    "    \"Clonal selection in the human Vδ1 T cell repertoire indicates γδ TCR-dependent adaptive immune surveillance\",\n",
    "    \"Peripheral blood T-cell signatures from high-resolution immune phenotyping of γδ and αβ T-cells in younger and older subjects in the Berlin Aging Study II\",\n",
    "    \"Early activation of gammadelta T lymphocytes in the elderly\",\n",
    "    \"Gamma/delta T lymphocytes are affected in the elderly\",\n",
    "    \"Natural killer cells in the late decades of human life\",\n",
    "    \"Age-related changes in natural killer cell receptors from childhood through old age\",\n",
    "    \"Human NK cells display major phenotypic and functional changes over the life span\",\n",
    "    \"NK phenotypic markers and IL2 response in NK cells from elderly people\",\n",
    "    \"Gene Regulatory Programs Conferring Phenotypic Identities to Human NK Cells\",\n",
    "    \"CD57 defines a functionally distinct population of mature NK cells in the human CD56dimCD16+ NK-cell subset\",\n",
    "    \"Effects of aging on human leukocytes (part I): immunophenotyping of innate immune cells\",\n",
    "    \"Successful ageing of nonagenarians is related to the sensitivity of NK cells to activation\",\n",
    "    \"Killer Cell Lectin-like Receptor G1 (KLRG1) inhibits NK cell function through activation of AMP-activated Protein Kinase\",\n",
    "    \"Reduced release and binding of perforin at the immunological synapse underlies the age-related decline in natural killer cell cytotoxicity\",\n",
    "    \"Ageing is associated with a decline in peripheral blood CD56bright NK cells\",\n",
    "    \"Evaluation of Lymphocyte Response to the Induced Oxidative Stress in a Cohort of Ageing Subjects, including Semisupercentenarians and Their Offspring\",\n",
    "        \"Variation of human natural killer cell phenotypes with age: identification of a unique KLRG1-negative subset\",\n",
    "    \"In vivo kinetics of human natural killer cells: the effects of ageing and acute and chronic viral infection\",\n",
    "    \"Preferential accumulation of mature NK cells during human immunosenescence\",\n",
    "    \"Adaptive natural killer cell expression in response to cytomegalovirus infection in blood and solid cancer\",\n",
    "    \"The expanded null cell compartment in ageing: increase in the number of natural killer cells and changes in T-cell and NK-cell subsets in human blood\",\n",
    "    \"Numerical and functional characteristics of lymphocyte subsets in centenarians\",\n",
    "    \"Age-associated alterations in human natural killer cells. 2. Increased frequency of selective NK subsets\",\n",
    "    \"CD56-negative NK cells with impaired effector function expand in CMV and EBV co-infected healthy donors with age\",\n",
    "    \"Effect of age and CMV on NK cell subpopulations\",\n",
    "    \"Association between natural killer cell activity and infection in immunologically normal elderly people\",\n",
    "    \"Deficient mitochondrial biogenesis in IL-2 activated NK cells correlates with impaired PGC1-α upregulation in elderly humans\",\n",
    "    \"Natural killing and antibody-dependent cytotoxicity by lymphocyte subpopulations in young and aging humans\",\n",
    "    \"Natural killer cell activity associated with aging and sex in humans\",\n",
    "    \"Effects of aging on natural killer cell activity and activation by interleukin-2 and IFN-alpha\",\n",
    "    \"Reciprocal age related change in natural killer cell receptors for MHC class I\",\n",
    "    \"Changes in immune cell subtypes during ageing\",\n",
    "    \"Functional alteration of granulocytes, NK cells, and natural killer T cells in centenarians\",\n",
    "    \"Effect of age and latent CMV infection on CD8+ CD56+ T cells (NKT-like) frequency and functionality\",\n",
    "    \"Peripheral blood IFN-gamma-secreting Valpha24+Vbeta11+ NKT cell numbers are decreased in cancer patients independent of tumor type or tumor load\",\n",
    "    \"Decreased frequency and proliferative response of invariant Valpha24Vbeta11 natural killer T (iNKT) cells in healthy elderly\",\n",
    "    \"Aging is associated with a rapid decline in frequency, alterations in subset composition, and enhanced Th2 response in CD1d-restricted NKT cells from human peripheral blood\",\n",
    "    \"Valpha24+ NKT cells are decreased in elderly humans\",\n",
    "    \"The decrease in number and change in phenotype of mucosal-associated invariant T cells in the elderly and differences in men and women of reproductive age\",\n",
    "    \"The Rise and Fall of MAIT Cells with Age\",\n",
    "    \"Impact of Aging on the Frequency, Phenotype, and Function of CD161-Expressing T Cells\",\n",
    "    \"Circulating mucosal-associated invariant T cell levels and their cytokine levels in healthy adults\",\n",
    "    \"Compartmentalized effects of aging on group 2 innate lymphoid cell development and function\",\n",
    "    \"IL-33 causes thermogenic failure in aging by expanding dysfunctional adipose ILC2\",\n",
    "    \"Age-Related Dynamics of Circulating Innate Lymphoid Cells in an African Population\",\n",
    "    \"Spatial and temporal mapping of human innate lymphoid cells reveals elements of tissue specificity\",\n",
    "    \"Human monocyte subtype expression of neuroinflammation- and regeneration-related genes is linked to age and sex\",\n",
    "    \"Circulating BPIFB4 Levels Associate With and Influence the Abundance of Reparative Monocytes and Macrophages in Long Living Individuals\",\n",
    "    \"Difference in Leukocyte Composition between Women before and after Menopausal Age, and Distinct Sexual Dimorphism\",\n",
    "    \"Enhanced epigenetic profiling of classical human monocytes reveals a specific signature of healthy aging in the DNA methylome\",\n",
    "    \"Age-dependent alterations of monocyte subsets and monocyte-related chemokine pathways in healthy adults\",\n",
    "    \"Peripheral blood dendritic cells and monocytes are differently regulated in the elderly\",\n",
    "    \"Age-related M1/M2 phenotype changes in circulating monocytes from healthy/unhealthy individuals\",\n",
    "    \"Phenotypic and functional alterations of monocyte subsets with aging\",\n",
    "    \"Monocyte subsets display age-dependent alterations at fasting and undergo non-age-dependent changes following consumption of a meal\",\n",
    "    \"Impaired Functions of Peripheral Blood Monocyte Subpopulations in Aged Humans\",\n",
    "    \"Age-dependent alterations of monocyte subsets and monocyte-related chemokine pathways in healthy adults\",\n",
    "    \"Distinct effect of age, sex, and CMV seropositivity on dendritic cells and monocytes in human blood\",\n",
    "    \"Aging is associated with chronic innate immune activation and dysregulation of monocyte phenotype and function\",\n",
    "    \"Senescent CD14+CD16+ monocytes exhibit proinflammatory and proatherosclerotic activity\",\n",
    "    \"Altered innate immune functioning of dendritic cells in elderly humans: a role of phosphoinositide 3-kinase-signaling pathway\",\n",
    "    \"Age-associated Decrease in Toll-like Receptor Function in Primary Human Dendritic Cells Predicts Influenza Vaccine Response\",\n",
    "    \"Aging is associated with a numerical and functional decline in plasmacytoid dendritic cells, whereas myeloid dendritic cells are relatively unaltered in human peripheral blood\",\n",
    "    \"Enumeration of human peripheral blood dendritic cells throughout the life\",\n",
    "    \"Plasmacytoid dendritic cells and their Toll-like receptor 9 expression selectively decrease with age\",\n",
    "    \"Reduced numbers of plasmacytoid dendritic cells in aged blood donors\",\n",
    "    \"Circulating, interferon-producing plasmacytoid dendritic cells decline during human ageing\",\n",
    "    \"Influenza-Induced Production of Interferon-Alpha is Defective in Geriatric Individuals\",\n",
    "    \"Human bone marrow hematopoietic stem cells are increased in frequency and myeloid-biased with age\",\n",
    "    \"Hematopoietic progenitors and aging: alterations in granulocytic precursors and responsiveness to recombinant human G-CSF, GM-CSF, and IL-3\",\n",
    "    \"Cytokine production and lymphocyte subpopulations in aged humans. An assessment during nocturnal sleep\",\n",
    "    \"Phenotypic and functional changes of circulating monocytes and polymorphonuclear leucocytes from elderly persons\",\n",
    "    \"Zinc supplementation reconstitutes the production of interferon-alpha by leukocytes from elderly persons\",\n",
    "    \"Quantitative Trait of Neutrophil Count Is Influenced By Variants in the Region of Gsdma and PSMD3-CSF3, aging, Cardiometabolic Comorbidities but Not By Chip\",\n",
    "    \"Neutrophil, lymphocyte count, and neutrophil to lymphocyte ratio predict multimorbidity and mortality—results from the Baltimore Longitudinal Study on Aging follow-up study\",\n",
    "    \"High neutrophil numbers in human carotid atherosclerotic plaques are associated with characteristics of rupture-prone lesions\",\n",
    "    \"Frailty is associated with elevated CRP trajectories and higher numbers of neutrophils and monocytes\",\n",
    "    \"Immunophenotypic characteristics of monocytes in elderly subjects\",\n",
    "    \"B lymphopoiesis is active throughout human life, but there are developmental age-related changes\",\n",
    "    \"B cells are generated throughout life in humans\",\n",
    "    \"Age-related changes in human hematopoietic stem/progenitor cells\",\n",
    "    \"Immunophenotypic analysis of hematogones (B-lymphocyte precursors) in 662 consecutive bone marrow specimens by 4-color flow cytometry\",\n",
    "    \"Age-associated distribution of normal B-cell and plasma cell subsets in peripheral blood\",\n",
    "    \"A novel B cell population revealed by a CD38/CD24 gating strategy: CD38−CD24− B cells in centenarian offspring and elderly people\",\n",
    "    \"Circulating human B and plasma cells. Age-associated changes in counts and detailed characterization of circulating normal CD138− and CD138+ plasma cells\",\n",
    "    \"Paradoxical aging in HIV: immune senescence of B Cells is most prominent in young age\",\n",
    "    \"Obesity decreases B cell responses in young and elderly individuals\",\n",
    "    \"An age-related numerical and functional deficit in CD19+CD24hiCD38hi B cells is associated with an increase in systemic autoimmunity\",\n",
    "    \"Human B-1 Cells and B-1 Cell Antibodies Change With Advancing Age\",\n",
    "    \"Altered memory B-cell homeostasis in human aging\",\n",
    "    \"CD27(+) (memory) B cell decrease and apoptosis-resistant CD27(-) (naive) B cell increase in aged humans: implications for age-related peripheral B cell developmental disturbances\",\n",
    "    \"Aging and lymphocyte subpopulations: whole-blood analysis of immune markers in a large population sample of healthy elderly individuals\",\n",
    "    \"Changes in circulating B cells and immunoglobulin classes and subclasses in a healthy aged population\",\n",
    "    \"Aging down-regulates the transcription factor E2A, activation-induced cytidine deaminase, and Ig class switch in human B cells\",\n",
    "    \"Aging effects on T-bet expression in human B cell subsets\",\n",
    "    \"Age effects on B cells and humoral immunity in humans\",\n",
    "    \"Human peripheral late/exhausted memory B cells express a senescent-associated secretory phenotype and preferentially utilize metabolic signaling pathways\",\n",
    "    \"Regulation of aged humoral immune defense against pneumococcal bacteria by IgM memory B cell\",\n",
    "    \"A double-negative (IgD-CD27-) B cell population is increased in the peripheral blood of elderly people\",\n",
    "    \"Age-Associated B Cells with Proinflammatory Characteristics Are Expanded in a Proportion of Multiple Sclerosis Patients\",\n",
    "    \"Enrichment of atypical memory double negative (CD27— IgD—) tumour infiltrating B cells following neoadjuvant chemotherapy for early-stage breast cancer\",\n",
    "    \"Toll-like receptor 7 (TLR7)-driven accumulation of a novel CD11c+ B-cell population is important for the development of autoimmunity\",\n",
    "    \"IL-21 drives expansion and plasma cell differentiation of autoreactive CD11chiT-bet+ B cells in SLE\",\n",
    "    \"Distinct effector B-cells induced by unregulated Toll-like receptor 7 contribute to pathogenic responses in Systemic Lupus Erythematosus\",\n",
    "    \"Complement receptor 2/CD21− human naive B cells contain mostly autoreactive unresponsive clones\",\n",
    "    \"Age-associated B cells predict impaired humoral immunity after COVID-19 vaccination in patients receiving immune checkpoint blockade\",\n",
    "    \"Metabolic requirements of human pro-inflammatory B cells in aging and obesity\",\n",
    "    \"Immunoglobulin secretion by B1 cells: Differential intensity and IRF4-dependence of spontaneous IgM secretion by peritoneal and splenic B1 cells\",\n",
    "    \"The nature of circulating CD27+CD43+ B cells\",\n",
    "    \"A human equivalent of mouse B-1 cells?\",\n",
    "    \"Human B1 cells in umbilical cord and adult peripheral blood express the novel phenotype CD20+CD27+CD43+CD70−\",\n",
    "    \"The double life of a B-1 cell: self-reactivity selects for protective effector functions\",\n",
    "    \"Antigen Receptor Specificity and Cell Location Influence the Diversification and Selection of the B-1a Cell Pool with Age\",\n",
    "    \"The ontogeny and functional characteristics of human B-1 (CD5+ B) cells\",\n",
    "    \"B cells in the aged: CD27, CD5, and CD40 expression\",\n",
    "    \"Limited efficacy of inactivated influenza vaccine in elderly individuals is associated with decreased production of vaccine-specific antibodies\",\n",
    "    \"Biology of immune responses to vaccines in elderly persons\",\n",
    "    \"Altered antibody response to influenza H1N1 vaccine in healthy elderly people as determined by HI, ELISA, and neutralization assay\",\n",
    "    \"Antibody response to influenza vaccination in the elderly: a quantitative review\",\n",
    "    \"A cell atlas of human thymic development defines T cell repertoire formation\",\n",
    "    \"Unraveling the spatial organization and development of human thymocytes through integration of spatial transcriptomics and single-cell multi-omics profiling\",\n",
    "    \"A spatial human thymus cell atlas mapped to a continuous tissue axis\",\n",
    "    \"Conventional and Computational Flow Cytometry Analyses Reveal Sustained Human Intrathymic T Cell Development From Birth Until Puberty\",\n",
    "    \"Uncovering perturbations in human hematopoiesis associated with healthy aging and myeloid malignancies at single-cell resolution\",\n",
    "    \"Impact of aging on bone, marrow and their interactions\",\n",
    "    \"The ageing haematopoietic stem cell compartment\",\n",
    "    \"Ageing-related bone and immunity changes: insights into the complex interplay between the skeleton and the immune system\",\n",
    "    \"Age-dependent changes in thymic macrophages and dendritic cells\",\n",
    "    \"Histologic and molecular assessment of human thymus\",\n",
    "    \"The thymus road to a T cell: migration, selection, and atrophy\",\n",
    "    \"Establishing a human bone marrow single cell reference atlas to study ageing and diseases\",\n",
    "    \"Age-related changes of the innate immune system of the palatine tonsil in a healthy cohort\",\n",
    "    \"Age-dependent altered proportions in subpopulations of tonsillar lymphocytes\",\n",
    "    \"Age-related differences in human palatine tonsillar B cell subsets and immunoglobulin isotypes\",\n",
    "    \"Lymphocyte subsets in human tonsils: the effect of age and infection\",\n",
    "    \"Age-associated changes in the cellular composition of the human adenoid\",\n",
    "    \"Diversity of the Ig repertoire is maintained with age in spite of reduced germinal centre cells in human tonsil lymphoid tissue\",\n",
    "    \"Multimodal profiling reveals tissue-directed signatures of human immune cells altered with age\",\n",
    "    \"Longterm maintenance of human naive T cells through in situ homeostasis in lymphoid tissue sites\",\n",
    "    \"Systematic memory B cell archiving and random display shape the human splenic marginal zone throughout life\",\n",
    "    \"The Splenic Marginal Zone in Children Is Characterized by a Subpopulation of CD27-Negative, Lowly IGHV-Mutated B Cells\",\n",
    "    \"Increased expression of PD1 and CD39 on CD3+ CD4+ skin T cells in the elderly\",\n",
    "    \"Human skeletal muscle aging atlas\",\n",
    "    \"Multimodal cell atlas of the ageing human skeletal muscle\",\n",
    "    \"Distinct aging profiles of CD8+ T cells in blood versus gastrointestinal mucosal compartments\",\n",
    "    \"Microanatomical dissection of human intestinal T-cell immunity reveals site-specific changes in gut-associated lymphoid tissues over life\",\n",
    "    \"Age-related decrease in TCR repertoire diversity measured with deep and normalized sequence profiling\",\n",
    "    \"Expanded CD4+ and CD8+ T cell clones in elderly humans\",\n",
    "    \"Diversity and clonal selection in the human T-cell repertoire\",\n",
    "    \"Longitudinal analysis reveals age-related changes in the T cell receptor repertoire of human T cell subsets\",\n",
    "    \"The Changing Landscape of Naive T Cell Receptor Repertoire With Human Aging\",\n",
    "    \"The influence of age on T cell generation and TCR diversity\",\n",
    "    \"Age-related modifications of the human alphabeta T cell repertoire due to different clonal expansions in the CD4+ and CD8+ subsets\",\n",
    "    \"Aging-related changes in human T-cell repertoire over 20years delineated by deep sequencing of peripheral T-cell receptors\",\n",
    "    \"Tissue determinants of the human T cell receptor repertoire\",\n",
    "    \"Next-Generation Sequencing Analysis of the Human TCRγδ+ T-Cell Repertoire Reveals Shifts in Vγ- and Vδ-Usage in Memory Populations upon Aging\",\n",
    "    \"Phylogenetic analysis of the human antibody repertoire reveals quantitative signatures of immune senescence and aging\",\n",
    "    \"Effects of aging, CMV infection, and EBV infection on human B cell repertoires\",\n",
    "    \"B-cell diversity decreases in old age and is correlated with poor health status\",\n",
    "    \"Lineage Structure of the Human Antibody Repertoire in Response to Influenza Vaccination\",\n",
    "    \"Ageing of the B-cell repertoire\",\n",
    "    \"Age‐related aspects of human IgM+ B cell heterogeneity\",\n",
    "    \"Evaluation of the Antigen-Experienced B-Cell Receptor Repertoire in Healthy Children and Adults\",\n",
    "    \"Single-cell whole-genome sequencing reveals the functional landscape of somatic mutations in B lymphocytes across the human lifespan\",\n",
    "    \"Sex-biased aging effects on immunoglobulin somatic hypermutation targeting\",\n",
    "    \"The effect of sex on immune cells in healthy aging: Elderly women have more robust natural killer lymphocytes than do elderly men\",\n",
    "    \"Single-cell analysis of human diversity in circulating immune cells\",\n",
    "    \"Cellular Senescence: Defining a Path Forward\",\n",
    "    \"Are immunosenescent T cells really senescent?\",\n",
    "    \"High content of nuclei-free low-quality cells in reference single-cell atlases: a call for more stringent quality control using nuclear fraction\"    \n",
    "]"
   ]
  },
  {
   "cell_type": "code",
   "execution_count": null,
   "metadata": {},
   "outputs": [
    {
     "data": {
      "application/vnd.jupyter.widget-view+json": {
       "model_id": "26fd30abd93b4aeebfaca2eb77e7dac4",
       "version_major": 2,
       "version_minor": 0
      },
      "text/plain": [
       "  0%|          | 0/303 [00:00<?, ?it/s]"
      ]
     },
     "metadata": {},
     "output_type": "display_data"
    },
    {
     "name": "stdout",
     "output_type": "stream",
     "text": [
      "NOT FOUND: An analysis of the data collected by the status lymphaticus investigation committee\n"
     ]
    }
   ],
   "source": [
    "import re\n",
    "from pysrc.papers.db.postgres_utils import preprocess_quotes, preprocess_search_query_for_postgres\n",
    "from pysrc.papers.utils import SORT_MOST_RECENT\n",
    "\n",
    "pmids = []\n",
    "for title in tqdm(titles):\n",
    "    paperids = loader.search_key_value('title', title)\n",
    "    if paperids:\n",
    "        pmids.extend(paperids)\n",
    "    else:\n",
    "        print(f'NOT FOUND: {title}')\n",
    "\n",
    "print('Found papers', len(pmids), 'of', len(titles))        "
   ]
  },
  {
   "cell_type": "markdown",
   "metadata": {},
   "source": [
    "## By DOI"
   ]
  },
  {
   "cell_type": "code",
   "execution_count": null,
   "metadata": {
    "scrolled": true
   },
   "outputs": [],
   "source": [
    "# from pysrc.papers.utils import cut_authors_list, crc32, \\\n",
    "#     preprocess_doi, preprocess_search_title, rgb2hex\n",
    "# dois = [preprocess_doi(d) for d in dois]\n",
    "# pmids = []\n",
    "# for doi in tqdm(dois):\n",
    "#    paperids = loader.find('doi', doi)\n",
    "#    if paperids:\n",
    "#        pmids.extend(paperids)\n",
    "#    else:\n",
    "#        print(doi)"
   ]
  },
  {
   "cell_type": "markdown",
   "metadata": {},
   "source": [
    "## With Pubmed syntax"
   ]
  },
  {
   "cell_type": "code",
   "execution_count": null,
   "metadata": {
    "pycharm": {
     "name": "#%%\n"
    }
   },
   "outputs": [],
   "source": [
    "# import os\n",
    "# from Bio import Entrez\n",
    "# Entrez.email = 'os@jetbrains.com'\n",
    "# QUERY = '((Aging) NOT (Review[Publication Type])) AND ((\"2015\"[Date - Publication] : \"2025\"[Date - Publication]))'\n",
    "# handle = Entrez.esearch(db='pubmed', retmax='1000', retmode='xml', term=QUERY)\n",
    "# pmids = Entrez.read(handle)['IdList']\n",
    "# print(f'Found {len(pmids)} papers')"
   ]
  },
  {
   "cell_type": "markdown",
   "metadata": {},
   "source": [
    "## Regular search"
   ]
  },
  {
   "cell_type": "code",
   "execution_count": null,
   "metadata": {},
   "outputs": [],
   "source": [
    "# try:\n",
    "#     pmids = analyzer.search_terms('Human Immune Aging', 1000, SORT_MOST_CITED)\n",
    "#     analyzer.analyze_papers(pmids, 'bci', 20)\n",
    "# finally:\n",
    "#     loader.close_connection()\n",
    "#     analyzer.teardown()"
   ]
  },
  {
   "cell_type": "markdown",
   "metadata": {},
   "source": [
    "# Analysis"
   ]
  },
  {
   "cell_type": "code",
   "execution_count": null,
   "metadata": {
    "scrolled": true
   },
   "outputs": [],
   "source": [
    "config.topic_min_size=5\n",
    "try:\n",
    "    analyzer.analyze_papers(pmids, 'Papers', 'Pubmed', SEARCH_PAPERS, SORT_MOST_RECENT, 10)\n",
    "finally:\n",
    "    loader.close_connection()\n",
    "    analyzer.teardown()"
   ]
  },
  {
   "cell_type": "code",
   "execution_count": null,
   "metadata": {},
   "outputs": [],
   "source": [
    "from pysrc.papers.plot.plotter import Plotter\n",
    "analyzer.search_ids = pmids\n",
    "plotter = Plotter(config, analyzer)"
   ]
  },
  {
   "cell_type": "code",
   "execution_count": null,
   "metadata": {},
   "outputs": [],
   "source": [
    "show(plotter.plot_papers_by_year())"
   ]
  },
  {
   "cell_type": "code",
   "execution_count": null,
   "metadata": {},
   "outputs": [],
   "source": [
    "show(plotter.plot_top_cited_papers())"
   ]
  },
  {
   "cell_type": "code",
   "execution_count": null,
   "metadata": {},
   "outputs": [],
   "source": [
    "show(plotter.plot_most_cited_per_year_papers())"
   ]
  },
  {
   "cell_type": "code",
   "execution_count": null,
   "metadata": {},
   "outputs": [],
   "source": [
    "show(plotter.plot_fastest_growth_per_year_papers())"
   ]
  },
  {
   "cell_type": "code",
   "execution_count": null,
   "metadata": {},
   "outputs": [],
   "source": [
    "from pysrc.papers.analysis.text import get_frequent_tokens\n",
    "from itertools import chain\n",
    "\n",
    "freq_kwds = get_frequent_tokens(chain(*chain(*plotter.data.corpus)))\n",
    "show(plotter.plot_keywords_frequencies(freq_kwds))"
   ]
  },
  {
   "cell_type": "code",
   "execution_count": null,
   "metadata": {},
   "outputs": [],
   "source": [
    "show(plotter.plot_papers_graph())"
   ]
  },
  {
   "cell_type": "code",
   "execution_count": null,
   "metadata": {},
   "outputs": [],
   "source": [
    "show(plotter.topics_hierarchy_with_keywords())"
   ]
  },
  {
   "cell_type": "markdown",
   "metadata": {
    "pycharm": {
     "name": "#%% md\n"
    }
   },
   "source": [
    "# Tokens embeddings"
   ]
  },
  {
   "cell_type": "code",
   "execution_count": null,
   "metadata": {
    "pycharm": {
     "name": "#%%\n"
    }
   },
   "outputs": [],
   "source": [
    "import numpy as np\n",
    "from pysrc.papers.analysis.text import texts_embeddings, vectorize_corpus, tokens_embeddings\n",
    "\n",
    "print('Compute global embeddings')\n",
    "embeddings = tokens_embeddings(analyzer.corpus, analyzer.corpus_tokens)\n",
    "analyzer.corpus_tokens = analyzer.corpus_tokens\n",
    "print(f'Embeddings shape {embeddings.shape}')\n",
    "\n",
    "from sklearn.decomposition import PCA\n",
    "from sklearn.manifold import TSNE\n",
    "from sklearn.preprocessing import StandardScaler\n",
    "\n",
    "logger.debug('Computing PCA projection')\n",
    "pca = PCA(n_components=15)\n",
    "t = StandardScaler().fit_transform(embeddings)\n",
    "pca_coords = pca.fit_transform(t)\n",
    "logger.debug(f'Explained variation {int(np.sum(pca.explained_variance_ratio_) * 100)}%')\n",
    "\n",
    "logger.debug('Apply TSNE transformation on papers PCA coords')\n",
    "tsne_embeddings_2d = TSNE(n_components=2, random_state=42).fit_transform(pca_coords)\n",
    "xs = tsne_embeddings_2d[:, 0]\n",
    "ys = tsne_embeddings_2d[:, 1]"
   ]
  },
  {
   "cell_type": "code",
   "execution_count": null,
   "metadata": {
    "pycharm": {
     "name": "#%%\n"
    }
   },
   "outputs": [],
   "source": [
    "plt.figure(figsize=(5, 5))\n",
    "plt.scatter(xs, ys, linewidths=0.1, color='black', alpha=0.1)\n",
    "plt.xlabel('tSNE1')\n",
    "plt.ylabel('tSNE2')\n",
    "plt.title('All tokens in global word embedding space')\n",
    "plt.show()"
   ]
  },
  {
   "cell_type": "code",
   "execution_count": null,
   "metadata": {
    "pycharm": {
     "name": "#%%\n"
    },
    "scrolled": true
   },
   "outputs": [],
   "source": [
    "from pysrc.papers.utils import factors_colormap\n",
    "import matplotlib.pyplot as plt\n",
    "from pysrc.papers.plot.plot_preprocessor import PlotPreprocessor\n",
    "from pysrc.papers.analysis.topics import get_topics_description\n",
    "from itertools import chain\n",
    "\n",
    "data = analyzer\n",
    "\n",
    "n = 10\n",
    "\n",
    "print('Show words for components')\n",
    "topics_description = get_topics_description(\n",
    "            data.df,\n",
    "            data.corpus, data.corpus_tokens, data.corpus_counts,\n",
    "            n_words=n\n",
    "        )\n",
    "kwd_df = PlotPreprocessor.compute_kwds(topics_description, n)\n",
    "words2show = PlotPreprocessor.topics_words(kwd_df, n)\n",
    "print(words2show)\n",
    "\n",
    "words = list(chain(*words2show.values()))\n",
    "print(f'Total words {len(words)}')"
   ]
  },
  {
   "cell_type": "code",
   "execution_count": null,
   "metadata": {},
   "outputs": [],
   "source": [
    "wxs = [xs[analyzer.corpus_tokens.index(w)] for w in words]\n",
    "wys = [ys[analyzer.corpus_tokens.index(w)] for w in words]\n",
    "\n",
    "cmap = factors_colormap(len(words2show))\n",
    "colors = []\n",
    "sizes = [analyzer.corpus_counts[:, analyzer.corpus_tokens.index(w)].sum() / len(analyzer.df) * 500\n",
    "         for w in words]\n",
    "for i, ws in words2show.items():\n",
    "    colors.extend([cmap(i)] * len(ws))\n",
    "\n",
    "plt.figure(figsize=(10, 10))\n",
    "plt.scatter(wxs, wys, sizes=sizes, color=colors, alpha=0.5)\n",
    "plt.xlabel('tSNE1')\n",
    "plt.ylabel('tSNE2')\n",
    "plt.title('Main keywords in global word embedding space')\n",
    "\n",
    "for word, x, y in zip(words, wxs, wys):\n",
    "    plt.annotate(word, xy=(x, y - 0.1), size=7)\n",
    "plt.show()"
   ]
  },
  {
   "cell_type": "markdown",
   "metadata": {
    "pycharm": {
     "name": "#%% md\n"
    }
   },
   "source": [
    "## Topics visualization in embedded space"
   ]
  },
  {
   "cell_type": "code",
   "execution_count": null,
   "metadata": {
    "pycharm": {
     "name": "#%%\n"
    }
   },
   "outputs": [],
   "source": [
    "comp_pids = analyzer.df[['id', 'comp']].groupby('comp')['id'].apply(list).to_dict()\n",
    "terms_freqs_per_comp = np.zeros(shape=(len(words2show), analyzer.corpus_counts.shape[1]), dtype=float)\n",
    "for comp, pids in comp_pids.items():\n",
    "    terms_freqs_per_comp[comp, :] = np.sum(analyzer.corpus_counts[np.flatnonzero(analyzer.df['id'].isin(pids)), :],\n",
    "                                           axis=0) / len(pids)\n",
    "print(terms_freqs_per_comp.shape)"
   ]
  },
  {
   "cell_type": "code",
   "execution_count": null,
   "metadata": {
    "pycharm": {
     "name": "#%%\n"
    }
   },
   "outputs": [],
   "source": [
    "import math\n",
    "\n",
    "n = 500\n",
    "\n",
    "ncols = 4\n",
    "nrows = int(math.ceil(len(comp_pids) / ncols))\n",
    "plt.subplots(nrows=nrows, ncols=ncols, figsize=(15, int(15 * nrows / ncols)))\n",
    "for comp, _ in comp_pids.items():\n",
    "    freqs = terms_freqs_per_comp[comp, :]\n",
    "    freq_keywords_indx = freqs.argsort()[-n:][::-1]\n",
    "    ax = plt.subplot(nrows, ncols, comp + 1)\n",
    "    wxs = [xs[i] for i in freq_keywords_indx]\n",
    "    wys = [ys[i] for i in freq_keywords_indx]\n",
    "    words = [analyzer.corpus_tokens[i] for i in freq_keywords_indx]\n",
    "    sizes = [freqs[i] * 50 for i in freq_keywords_indx]\n",
    "    ax.scatter(wxs, wys, marker='o', sizes=sizes, color=cmap(comp), alpha=0.5)\n",
    "#     plt.xlabel('tSNE1')\n",
    "#     plt.ylabel('tSNE2')\n",
    "#     plt.title(f'Topic {comp + 1} papers frequent keywords in global word embedding space')\n",
    "#     for word, x, y in zip(words, wxs, wys):\n",
    "#         plt.annotate(word, xy=(x, y-0.1))\n",
    "plt.show()"
   ]
  },
  {
   "cell_type": "markdown",
   "metadata": {
    "pycharm": {
     "name": "#%% md\n"
    }
   },
   "source": [
    "# Authors analysis"
   ]
  },
  {
   "cell_type": "code",
   "execution_count": null,
   "metadata": {
    "pycharm": {
     "name": "#%%\n"
    }
   },
   "outputs": [],
   "source": [
    "from pysrc.papers.utils import cut_authors_list, color_to_rgb\n",
    "\n",
    "\n",
    "def plot_embeddings(df, clusters):\n",
    "    cmap = factors_colormap(len(set(clusters)))\n",
    "    palette = dict(zip(sorted(set(clusters)), [color_to_rgb(cmap(i)).to_hex()\n",
    "                                               for i in range(len(set(clusters)))]))\n",
    "\n",
    "    df['size'] = 5 + df['total'] / df['total'].max() * 20\n",
    "\n",
    "    # Split authors\n",
    "    df['authors'] = df['authors'].apply(lambda authors: cut_authors_list(authors))\n",
    "\n",
    "    ds = ColumnDataSource(df)\n",
    "    # Add clusters coloring\n",
    "    ds.add([palette[c] for c in clusters], 'color')\n",
    "    p = figure(width=600, height=600,\n",
    "               tools=\"hover,pan,tap,wheel_zoom,box_zoom,reset,save\")\n",
    "    p.sizing_mode = 'stretch_width'\n",
    "    p.xaxis.axis_label = 'x'\n",
    "    p.yaxis.axis_label = 'y'\n",
    "\n",
    "    p.hover.tooltips = plotter._paper_html_tooltips([\n",
    "        (\"Author(s)\", '@authors'),\n",
    "        (\"Journal\", '@journal'),\n",
    "        (\"Year\", '@year'),\n",
    "        (\"Type\", '@type'),\n",
    "        (\"Cited by\", '@total paper(s) total'),\n",
    "        (\"Topic\", '@comp')])\n",
    "    p.scatter(x='x', y='y', fill_alpha=0.8, source=ds, size='size',\n",
    "             line_color='black', fill_color='color', legend_field='comp')\n",
    "    p.legend.visible = False\n",
    "    show(p)"
   ]
  },
  {
   "cell_type": "code",
   "execution_count": null,
   "metadata": {
    "pycharm": {
     "name": "#%%\n"
    }
   },
   "outputs": [],
   "source": [
    "def fa(authors, first_last_only=True):\n",
    "    return authors if len(authors) <= 2 or not first_last_only else [authors[0], authors[-1]]"
   ]
  },
  {
   "cell_type": "markdown",
   "metadata": {},
   "source": [
    "## Authors graph"
   ]
  },
  {
   "cell_type": "code",
   "execution_count": null,
   "metadata": {
    "pycharm": {
     "name": "#%%\n"
    }
   },
   "outputs": [],
   "source": [
    "def compute_authors_citations_and_papers(df):\n",
    "    logger.debug('Compute author citations')\n",
    "    author_citations = {}\n",
    "    for i, row in tqdm(df[['authors', 'total']].iterrows()):\n",
    "        authors = fa(row['authors'].split(', '))\n",
    "        for a in authors:\n",
    "            author_citations[a] = author_citations.get(a, 0) + row['total']\n",
    "\n",
    "    logger.debug('Compute number of papers per author')\n",
    "    author_papers = {}\n",
    "    for i, row in df[['id', 'title', 'authors']].iterrows():\n",
    "        pmid = row['id']\n",
    "        authors = fa(row['authors'].split(', '))\n",
    "        for a in authors:\n",
    "            if a not in author_papers:\n",
    "                author_papers[a] = []    \n",
    "            author_papers[a].append(pmid)\n",
    "\n",
    "    return author_citations, author_papers"
   ]
  },
  {
   "cell_type": "code",
   "execution_count": null,
   "metadata": {
    "pycharm": {
     "name": "#%%\n"
    }
   },
   "outputs": [],
   "source": [
    "logging.info(\"Analyzing top 20% of authors\")\n",
    "authors_citations, authors_papers = compute_authors_citations_and_papers(analyzer.df)\n",
    "logging.info(f\"Total first and last authors {len(authors_papers)}\")\n",
    "min_threshold = np.percentile([len(ps) for ps in authors_papers.values()], 80)\n",
    "logging.info(f'Min papers for author {min_threshold}')\n",
    "logging.info(f'Filtered authors: {sum(len(v) >= min_threshold for v in authors_papers.values())}')"
   ]
  },
  {
   "cell_type": "code",
   "execution_count": null,
   "metadata": {
    "pycharm": {
     "name": "#%%\n"
    }
   },
   "outputs": [],
   "source": [
    "import networkx as nx\n",
    "\n",
    "\n",
    "def build_authors_similarity_graph(df,\n",
    "                                   cocit_grouped_df, bibcoupling_df, cit_df,\n",
    "                                   check_author_func=lambda a: True):\n",
    "    logger.debug('Processing papers')\n",
    "    result = nx.Graph()\n",
    "    for _, row in tqdm(df[['authors']].iterrows()):\n",
    "        authors = fa(row[0].split(', '))\n",
    "        for i in range(len(authors)):\n",
    "            for j in range(i + 1, len(authors)):\n",
    "                a1 = authors[i]\n",
    "                a2 = authors[j]\n",
    "                if check_author_func(a1) and check_author_func(a2):\n",
    "                    update_edge(result, a1, a2, 'authorship', 1)\n",
    "\n",
    "    logger.debug('Processing co-citations')\n",
    "    for el in tqdm(cocit_grouped_df[['cited_1', 'cited_2', 'total']].values):\n",
    "        start, end, cocitation = str(el[0]), str(el[1]), float(el[2])\n",
    "        authors1 = fa(df.loc[df['id'] == start]['authors'].values[0].split(', '))\n",
    "        authors2 = fa(df.loc[df['id'] == end]['authors'].values[0].split(', '))\n",
    "        for a1, a2 in itertools.product(authors1, authors2):\n",
    "            if check_author_func(a1) and check_author_func(a2):\n",
    "                update_edge(result, a1, a2, 'cocitation', cocitation)\n",
    "\n",
    "    logger.debug('Bibliographic coupling')\n",
    "    if len(bibcoupling_df) > 0:\n",
    "        for el in tqdm(bibcoupling_df[['citing_1', 'citing_2', 'total']].values):\n",
    "            start, end, bibcoupling = str(el[0]), str(el[1]), float(el[2])\n",
    "            authors1 = fa(df.loc[df['id'] == start]['authors'].values[0].split(', '))\n",
    "            authors2 = fa(df.loc[df['id'] == end]['authors'].values[0].split(', '))\n",
    "            for a1, a2 in itertools.product(authors1, authors2):\n",
    "                if check_author_func(a1) and check_author_func(a2):\n",
    "                    update_edge(result, a1, a2, 'bibcoupling', bibcoupling)\n",
    "\n",
    "    logger.debug('Citations')\n",
    "    # Citations\n",
    "    for start, end in zip(cit_df['id_out'], cit_df['id_in']):\n",
    "        authors1 = fa(df.loc[df['id'] == start]['authors'].values[0].split(', '))\n",
    "        authors2 = fa(df.loc[df['id'] == end]['authors'].values[0].split(', '))\n",
    "        for a1, a2 in itertools.product(authors1, authors2):\n",
    "            if check_author_func(a1) and check_author_func(a2):\n",
    "                update_edge(result, a1, a2, 'citation', 1)\n",
    "\n",
    "    return result\n",
    "\n",
    "\n",
    "def update_edge(graph, a1, a2, name, value):\n",
    "    if a1 == a2:\n",
    "        return\n",
    "    if a1 > a2:\n",
    "        a1, a2 = a2, a1\n",
    "    if not graph.has_edge(a1, a2):\n",
    "        graph.add_edge(a1, a2)\n",
    "    edge = graph[a1][a2]\n",
    "    edge[name] = edge.get(name, 0) + value"
   ]
  },
  {
   "cell_type": "code",
   "execution_count": null,
   "metadata": {
    "pycharm": {
     "name": "#%%\n"
    }
   },
   "outputs": [],
   "source": [
    "import itertools\n",
    "\n",
    "logger = logging.getLogger('Test')\n",
    "\n",
    "authors_similarity_graph = build_authors_similarity_graph(\n",
    "    analyzer.df, analyzer.cocit_grouped_df,\n",
    "    analyzer.bibliographic_coupling_df,\n",
    "    analyzer.cit_df,\n",
    "    check_author_func=lambda a: len(authors_papers[a]) >= min_threshold\n",
    ")\n",
    "\n",
    "logging.info(f'Built authors graph - '\n",
    "             f'{len(authors_similarity_graph.nodes())} nodes and {len(authors_similarity_graph.edges())} edges')"
   ]
  },
  {
   "cell_type": "markdown",
   "metadata": {
    "pycharm": {
     "name": "#%% md\n"
    }
   },
   "source": [
    "## Node2vec embeddings for authors graph"
   ]
  },
  {
   "cell_type": "code",
   "execution_count": null,
   "metadata": {
    "pycharm": {
     "name": "#%%\n"
    },
    "scrolled": true
   },
   "outputs": [],
   "source": [
    "from pysrc.papers.analysis.node2vec import node2vec\n",
    "from pysrc.papers.analysis.graph import sparse_graph, similarity\n",
    "\n",
    "def to_weighted_graph(graph, weight_func, key='weight'):\n",
    "    logger.debug('Creating weighted graph')\n",
    "    g = nx.Graph()\n",
    "    for u, v, data in graph.edges(data=True):\n",
    "        w = weight_func(data)\n",
    "        if np.isnan(w):\n",
    "            raise Exception(f'Weight is NaN {w}')\n",
    "        elif w < 0:\n",
    "            raise Exception(f'Weight is < 0 {w}')\n",
    "        elif w != 0:\n",
    "            g.add_edge(u, v, **{key: w})\n",
    "    # Ensure all the nodes present\n",
    "    for v in graph.nodes:\n",
    "        if not g.has_node(v):\n",
    "            g.add_node(v)\n",
    "    return g\n",
    "\n",
    "\n",
    "logger.debug('Compute aggregated similarity using co-authorship')\n",
    "ga = to_weighted_graph(authors_similarity_graph,\n",
    "                       weight_func=lambda d: 100 * d.get('authorship', 0) + similarity(d))\n",
    "gs = sparse_graph(ga, 10)\n",
    "authors_node_ids = list(authors_similarity_graph.nodes)\n",
    "authors_weighted_node_embeddings = node2vec(authors_node_ids, gs)\n",
    "print(authors_weighted_node_embeddings.shape)"
   ]
  },
  {
   "cell_type": "markdown",
   "metadata": {},
   "source": [
    "## Authors papers embeddings"
   ]
  },
  {
   "cell_type": "code",
   "execution_count": null,
   "metadata": {
    "pycharm": {
     "name": "#%%\n"
    }
   },
   "outputs": [],
   "source": [
    "from pysrc.papers.analysis.text import texts_embeddings\n",
    "papers_text_embeddings = texts_embeddings(\n",
    "    analyzer.corpus_counts, analyzer.corpus_tokens_embedding\n",
    ")\n",
    "print(papers_text_embeddings.shape)"
   ]
  },
  {
   "cell_type": "code",
   "execution_count": null,
   "metadata": {},
   "outputs": [],
   "source": [
    "authors_node_ids = list(authors_similarity_graph.nodes)\n",
    "papers_idx = {pmid: idx for idx, pmid in enumerate(analyzer.df['id'])}\n",
    "authors_papers_embeddings = np.zeros((len(authors_node_ids), papers_text_embeddings.shape[1]))\n",
    "for i, a in enumerate(authors_node_ids):\n",
    "    for pmid in authors_papers[a]:\n",
    "        authors_papers_embeddings[i, :] += papers_text_embeddings[papers_idx[pmid], :]\n",
    "    authors_papers_embeddings[i, :] /= len(authors_papers[a])\n",
    "authors_papers_embeddings.shape"
   ]
  },
  {
   "cell_type": "markdown",
   "metadata": {},
   "source": [
    "## Merge embeddings"
   ]
  },
  {
   "cell_type": "code",
   "execution_count": null,
   "metadata": {},
   "outputs": [],
   "source": [
    "from pysrc.config import *\n",
    "authors_embeddings = (authors_weighted_node_embeddings * GRAPH_EMBEDDINGS_FACTOR +\n",
    "                      authors_papers_embeddings * TEXT_EMBEDDINGS_FACTOR\n",
    "                      ) / (GRAPH_EMBEDDINGS_FACTOR + TEXT_EMBEDDINGS_FACTOR)"
   ]
  },
  {
   "cell_type": "markdown",
   "metadata": {},
   "source": [
    "## Plot"
   ]
  },
  {
   "cell_type": "code",
   "execution_count": null,
   "metadata": {
    "pycharm": {
     "name": "#%%\n"
    }
   },
   "outputs": [],
   "source": [
    "from sklearn.manifold import TSNE\n",
    "\n",
    "logger.debug('Apply t-SNE transformation on node embeddings')\n",
    "authors_tsne = TSNE(n_components=2, random_state=42, perplexity=min(30, authors_embeddings.shape[0] - 1))\n",
    "authors_weighted_node_embeddings_2d = authors_tsne.fit_transform(authors_embeddings)"
   ]
  },
  {
   "cell_type": "code",
   "execution_count": null,
   "metadata": {
    "pycharm": {
     "name": "#%%\n"
    }
   },
   "outputs": [],
   "source": [
    "# Build dataframe combining information about authors and projected coordinates\n",
    "authors_df = pd.DataFrame(dict(author=authors_node_ids,\n",
    "                               x=authors_weighted_node_embeddings_2d[:, 0],\n",
    "                               y=authors_weighted_node_embeddings_2d[:, 1]))\n",
    "authors_df['cited'] = [authors_citations[a] for a in authors_df['author']]\n",
    "authors_df['papers'] = [authors_papers[a] for a in authors_df['author']]\n",
    "authors_df['size'] = [1 + 10 * np.log1p(authors_citations[a]) for a in authors_df['author']]\n",
    "# Limit max size\n",
    "authors_df['size'] = authors_df['size'] * 10 / authors_df['size'].max() + 3"
   ]
  },
  {
   "cell_type": "code",
   "execution_count": null,
   "metadata": {
    "pycharm": {
     "name": "#%%\n"
    }
   },
   "outputs": [],
   "source": [
    "from bokeh.models import LabelSet\n",
    "\n",
    "\n",
    "def plot_authors(authors_df, width=600, height=600):\n",
    "    clusters = set(authors_df['cluster'])\n",
    "    cmap = factors_colormap(len(clusters))\n",
    "    palette = dict(zip(sorted(clusters),\n",
    "                       [color_to_rgb(cmap(i)).to_hex() for i in range(len(clusters))]))\n",
    "    authors_df['color'] = [palette[c] for c in authors_df['cluster']]\n",
    "\n",
    "    ds = ColumnDataSource(authors_df)\n",
    "    del authors_df['color']\n",
    "    x = authors_df['x']\n",
    "    y = authors_df['y']\n",
    "    xrange = max(x) - min(x)\n",
    "    yrange = max(y) - min(y)\n",
    "    p = figure(width=width, height=height,\n",
    "               x_range=(min(x) - 0.05 * xrange, max(x) + 0.05 * xrange),\n",
    "               y_range=(min(y) - 0.05 * yrange, max(y) + 0.05 * yrange),\n",
    "               tools=\"hover,pan,tap,wheel_zoom,box_zoom,reset,save\",\n",
    "               tooltips=[(\"Author\", '@author'),\n",
    "                         (\"Papers\", '@papers'),\n",
    "                         (\"Cited by\", '@cited'),\n",
    "                         (\"Cluster\", '@cluster'),\n",
    "                         (\"Tags\", '@tags')])\n",
    "\n",
    "    p.xaxis.major_tick_line_color = None  # turn off x-axis major ticks\n",
    "    p.xaxis.minor_tick_line_color = None  # turn off x-axis minor ticks\n",
    "    p.yaxis.major_tick_line_color = None  # turn off y-axis major ticks\n",
    "    p.yaxis.minor_tick_line_color = None  # turn off y-axis minor ticks\n",
    "    p.xaxis.major_label_text_font_size = '0pt'  # preferred method for removing tick labels\n",
    "    p.yaxis.major_label_text_font_size = '0pt'  # preferred method for removing tick labels\n",
    "    p.grid.grid_line_color = None\n",
    "    p.outline_line_color = None\n",
    "    p.sizing_mode = 'stretch_width'\n",
    "\n",
    "    p.scatter(x='x', y='y', fill_alpha=0.8, source=ds, size='size',\n",
    "             line_color='black', fill_color='color')\n",
    "\n",
    "    lxs = [authors_df.loc[authors_df['cluster'] == c]['x'].mean() for c in sorted(clusters)]\n",
    "    lys = [authors_df.loc[authors_df['cluster'] == c]['y'].mean() for c in sorted(clusters)]\n",
    "    cluster_labels = [f'#{c}' for c in sorted(clusters)]\n",
    "    source = ColumnDataSource({'x': lxs, 'y': lys, 'name': cluster_labels})\n",
    "    labels = LabelSet(x='x', y='y', text='name', source=source,\n",
    "                      background_fill_color='white', text_font_size='11px', background_fill_alpha=.9)\n",
    "    p.renderers.append(labels)\n",
    "    return p"
   ]
  },
  {
   "cell_type": "code",
   "execution_count": null,
   "metadata": {
    "pycharm": {
     "name": "#%%\n"
    }
   },
   "outputs": [],
   "source": [
    "authors_df['cluster'] = 0\n",
    "authors_df['tags'] = 'n/a'\n",
    "show(plot_authors(authors_df))"
   ]
  },
  {
   "cell_type": "markdown",
   "metadata": {
    "pycharm": {
     "name": "#%% md\n"
    }
   },
   "source": [
    "## Authors clustering"
   ]
  },
  {
   "cell_type": "code",
   "execution_count": null,
   "metadata": {
    "pycharm": {
     "name": "#%%\n"
    }
   },
   "outputs": [],
   "source": [
    "from pysrc.papers.analysis.topics import cluster_and_sort\n",
    "\n",
    "author_clusters, _ = cluster_and_sort(authors_weighted_node_embeddings, 10, 10)\n",
    "authors_df['cluster'] = author_clusters\n",
    "\n",
    "print('Cluster sizes')\n",
    "t = pd.DataFrame({'cluster': author_clusters,\n",
    "                  'size': np.ones(len(author_clusters))}).groupby(['cluster']).sum().astype(int).reset_index()\n",
    "sns.barplot(data=t, x='cluster', y='size')\n",
    "plt.tight_layout()\n",
    "plt.show()"
   ]
  },
  {
   "cell_type": "code",
   "execution_count": null,
   "metadata": {},
   "outputs": [],
   "source": [
    "show(plot_authors(authors_df))"
   ]
  },
  {
   "cell_type": "markdown",
   "metadata": {
    "pycharm": {
     "name": "#%% md\n"
    }
   },
   "source": [
    "## Analyze authors group topics"
   ]
  },
  {
   "cell_type": "code",
   "execution_count": null,
   "metadata": {
    "pycharm": {
     "name": "#%%\n"
    },
    "scrolled": true
   },
   "outputs": [],
   "source": [
    "from sklearn.feature_extraction.text import TfidfTransformer\n",
    "\n",
    "\n",
    "def compute_tfidf(corpus_counts):\n",
    "    logger.debug('Compute TF-IDF on tokens counts')\n",
    "    tfidf_transformer = TfidfTransformer()\n",
    "    tfidf = tfidf_transformer.fit_transform(corpus_counts)\n",
    "    logger.debug(f'TFIDF shape {tfidf.shape}')\n",
    "    return tfidf\n",
    "\n",
    "\n",
    "def compute_groups_topics(authors_df):\n",
    "    logging.info('Computing groups of authors topics')\n",
    "    groups_counts = np.zeros(shape=(len(set(authors_df['cluster'])), analyzer.corpus_counts.shape[1]), dtype=np.float64)\n",
    "\n",
    "    part_sizes = Counter(authors_df['cluster'])\n",
    "    authors_clusters_map = dict(zip(authors_df['author'], authors_df['cluster']))\n",
    "\n",
    "    for i, row in tqdm(analyzer.df[['authors']].iterrows()):\n",
    "        for a in row[0].split(', '):\n",
    "            if a in authors_clusters_map:\n",
    "                group = authors_clusters_map[a]\n",
    "                groups_counts[group, :] += analyzer.corpus_counts[i, :] / part_sizes[group]\n",
    "\n",
    "    tfidf = compute_tfidf(groups_counts)\n",
    "\n",
    "    logging.info('Take terms with the largest tfidf for topics')\n",
    "    result = {}\n",
    "    for g in range(groups_counts.shape[0]):\n",
    "        counter = Counter()\n",
    "        for i, t in enumerate(analyzer.corpus_tokens):\n",
    "            counter[t] += tfidf[g, i]\n",
    "        # Ignore terms with insignificant frequencies\n",
    "        result[g] = [(t, f) for t, f in counter.most_common(10) if f > 0]\n",
    "    return result\n",
    "\n",
    "\n",
    "groups_topics = compute_groups_topics(authors_df)\n",
    "kwds = [(g, ','.join(f'{t}:{v:.3f}' for t, v in vs)) for g, vs in groups_topics.items()]\n",
    "logging.info('Description\\n' + '\\n'.join(f'{g}: {kwd}' for g, kwd in kwds))"
   ]
  },
  {
   "cell_type": "code",
   "execution_count": null,
   "metadata": {
    "pycharm": {
     "name": "#%%\n"
    }
   },
   "outputs": [],
   "source": [
    "groups_df = pd.DataFrame(columns=['group', 'authors', 'keywords'], dtype=object)\n",
    "for g in sorted(set(authors_df['cluster'])):\n",
    "    authors = ', '.join(authors_df.loc[authors_df['cluster'] == g]['author'])\n",
    "    groups_df.loc[len(groups_df)] = (g, authors, ','.join(t for t, _ in groups_topics[g]))\n",
    "\n",
    "display(groups_df)"
   ]
  },
  {
   "cell_type": "code",
   "execution_count": null,
   "metadata": {
    "pycharm": {
     "name": "#%%\n"
    }
   },
   "outputs": [],
   "source": [
    "logging.info('Saving groups of authors with keywords')\n",
    "groups_df.to_csv(f'~/groups.csv', index=False)"
   ]
  },
  {
   "cell_type": "code",
   "execution_count": null,
   "metadata": {
    "pycharm": {
     "name": "#%%\n"
    }
   },
   "outputs": [],
   "source": [
    "authors_df['tags'] = [', '.join(f'{t}:{v:.3f}' for t, v in groups_topics[c][:5]) for c in authors_df['cluster']]\n",
    "show(plot_authors(authors_df))"
   ]
  },
  {
   "cell_type": "code",
   "execution_count": null,
   "metadata": {},
   "outputs": [],
   "source": [
    "authors_df[authors_df['author'] == 'Artyomov MN']"
   ]
  },
  {
   "cell_type": "code",
   "execution_count": null,
   "metadata": {},
   "outputs": [],
   "source": [
    "logging.info('Saving authors and groups dataframes')\n",
    "authors_df.to_csv(f'~/authors.csv', index=False)"
   ]
  },
  {
   "cell_type": "code",
   "execution_count": null,
   "metadata": {
    "pycharm": {
     "name": "#%%\n"
    }
   },
   "outputs": [],
   "source": [
    "#logging.info('Saving author groups graph for bokeh')\n",
    "#output_file(filename=os.path.expanduser(\"~/authors.html\"), title=\"Authors similarity graph\")\n",
    "#save(plot_authors(authors_df, width=1600, height=1200))\n",
    "#reset_output()\n",
    "#output_notebook()"
   ]
  },
  {
   "cell_type": "markdown",
   "metadata": {
    "pycharm": {
     "name": "#%% md\n"
    }
   },
   "source": [
    "### Use ego-splitting to compute possible overlapping groups of authors\n",
    "Taken from https://github.com/benedekrozemberczki/EgoSplitting"
   ]
  },
  {
   "cell_type": "code",
   "execution_count": null,
   "metadata": {
    "pycharm": {
     "name": "#%%\n"
    }
   },
   "outputs": [],
   "source": [
    "import community\n",
    "from tqdm import tqdm\n",
    "\n",
    "\n",
    "class EgoNetSplitter(object):\n",
    "    \"\"\"An implementation of `\"Ego-Splitting\" see:\n",
    "    https://www.eecs.yorku.ca/course_archive/2017-18/F/6412/reading/kdd17p145.pdf\n",
    "    From the KDD '17 paper \"Ego-Splitting Framework: from Non-Overlapping to Overlapping Clusters\".\n",
    "    The tool first creates the egonets of nodes.\n",
    "    A persona-graph is created which is clustered by the Louvain method.\n",
    "    The resulting overlapping cluster memberships are stored as a dictionary.\n",
    "    Args:\n",
    "        resolution (float): Resolution parameter of Python Louvain. Default 1.0.\n",
    "    \"\"\"\n",
    "\n",
    "    def __init__(self, resolution=1.0):\n",
    "        self.resolution = resolution\n",
    "\n",
    "    def _create_egonet(self, node):\n",
    "        \"\"\"\n",
    "        Creating an ego net, extracting personas and partitioning it.\n",
    "\n",
    "        Args:\n",
    "            node: Node ID for egonet (ego node).\n",
    "        \"\"\"\n",
    "        ego_net_minus_ego = self.graph.subgraph(self.graph.neighbors(node))\n",
    "        components = {i: n for i, n in enumerate(nx.connected_components(ego_net_minus_ego))}\n",
    "        new_mapping = {}\n",
    "        personalities = []\n",
    "        for k, v in components.items():\n",
    "            personalities.append(self.index)\n",
    "            for other_node in v:\n",
    "                new_mapping[other_node] = self.index\n",
    "            self.index = self.index + 1\n",
    "        self.components[node] = new_mapping\n",
    "        self.personalities[node] = personalities\n",
    "\n",
    "    def _create_egonets(self):\n",
    "        \"\"\"\n",
    "        Creating an egonet for each node.\n",
    "        \"\"\"\n",
    "        self.components = {}\n",
    "        self.personalities = {}\n",
    "        self.index = 0\n",
    "        print(\"Creating egonets.\")\n",
    "        for node in tqdm(self.graph.nodes()):\n",
    "            self._create_egonet(node)\n",
    "\n",
    "    def _map_personalities(self):\n",
    "        \"\"\"\n",
    "        Mapping the personas to new nodes.\n",
    "        \"\"\"\n",
    "        self.personality_map = {p: n for n in self.graph.nodes() for p in self.personalities[n]}\n",
    "\n",
    "    def _get_new_edge_ids(self, edge):\n",
    "        \"\"\"\n",
    "        Getting the new edge identifiers.\n",
    "        Args:\n",
    "            edge: Edge being mapped to the new identifiers.\n",
    "        \"\"\"\n",
    "        return self.components[edge[0]][edge[1]], self.components[edge[1]][edge[0]]\n",
    "\n",
    "    def _create_persona_graph(self):\n",
    "        \"\"\"\n",
    "        Create a persona graph using the egonet components.\n",
    "        \"\"\"\n",
    "        print(\"Creating the persona graph.\")\n",
    "        self.persona_graph_edges = [self._get_new_edge_ids(e) for e in tqdm(self.graph.edges())]\n",
    "        self.persona_graph = nx.from_edgelist(self.persona_graph_edges)\n",
    "\n",
    "    def _create_partitions(self):\n",
    "        \"\"\"\n",
    "        Creating a non-overlapping clustering of nodes in the persona graph.\n",
    "        \"\"\"\n",
    "        print(\"Clustering the persona graph.\")\n",
    "        self.partitions = community.best_partition(self.persona_graph, resolution=self.resolution)\n",
    "        self.overlapping_partitions = {node: [] for node in self.graph.nodes()}\n",
    "        for node, membership in self.partitions.items():\n",
    "            self.overlapping_partitions[self.personality_map[node]].append(membership)\n",
    "\n",
    "    def fit(self, graph):\n",
    "        \"\"\"\n",
    "        Fitting an Ego-Splitter clustering model.\n",
    "\n",
    "        Arg types:\n",
    "            * **graph** *(NetworkX graph)* - The graph to be clustered.\n",
    "        \"\"\"\n",
    "        self.graph = graph\n",
    "        self._create_egonets()\n",
    "        self._map_personalities()\n",
    "        self._create_persona_graph()\n",
    "        self._create_partitions()\n",
    "\n",
    "    def get_memberships(self):\n",
    "        r\"\"\"Getting the cluster membership of nodes.\n",
    "        Return types:\n",
    "            * **memberships** *(dictionary of lists)* - Cluster memberships.\n",
    "        \"\"\"\n",
    "        return self.overlapping_partitions\n"
   ]
  },
  {
   "cell_type": "code",
   "execution_count": null,
   "metadata": {},
   "outputs": [],
   "source": [
    "splitter = EgoNetSplitter(0.8)\n",
    "splitter.fit(authors_similarity_graph)\n",
    "\n",
    "ego_clusters = []\n",
    "for a, cs in splitter.overlapping_partitions.items():\n",
    "    ego_clusters.extend(cs)\n",
    "print('Total clusters', len(set(ego_clusters)))\n",
    "print('Clusters', Counter(ego_clusters))\n",
    "print(len(authors_similarity_graph.nodes()))\n",
    "print(len(ego_clusters))"
   ]
  }
 ],
 "metadata": {
  "kernelspec": {
   "display_name": "Python 3 (ipykernel)",
   "language": "python",
   "name": "python3"
  },
  "language_info": {
   "codemirror_mode": {
    "name": "ipython",
    "version": 3
   },
   "file_extension": ".py",
   "mimetype": "text/x-python",
   "name": "python",
   "nbconvert_exporter": "python",
   "pygments_lexer": "ipython3",
   "version": "3.10.16"
  },
  "toc": {
   "base_numbering": 1,
   "nav_menu": {},
   "number_sections": true,
   "sideBar": true,
   "skip_h1_title": false,
   "title_cell": "Table of Contents",
   "title_sidebar": "Contents",
   "toc_cell": false,
   "toc_position": {},
   "toc_section_display": true,
   "toc_window_display": false
  }
 },
 "nbformat": 4,
 "nbformat_minor": 4
}
