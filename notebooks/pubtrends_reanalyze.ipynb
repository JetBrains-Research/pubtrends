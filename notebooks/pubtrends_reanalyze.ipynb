{
 "cells": [
  {
   "cell_type": "markdown",
   "metadata": {
    "pycharm": {
     "name": "#%% md\n"
    }
   },
   "source": [
    "# Reanalyze exported file\n"
   ]
  },
  {
   "cell_type": "code",
   "metadata": {
    "pycharm": {
     "name": "#%%\n"
    },
    "jupyter": {
     "is_executing": true
    }
   },
   "source": [
    "import gzip\n",
    "import json\n",
    "import logging\n",
    "import os\n",
    "\n",
    "from bokeh.plotting import output_notebook\n",
    "\n",
    "from pysrc.config import PubtrendsConfig\n",
    "from pysrc.papers.utils import SORT_MOST_CITED\n",
    "\n",
    "SEARCH_SORT = SORT_MOST_CITED\n",
    "SEARCH_PAPERS = 10_000\n",
    "\n",
    "logging.basicConfig(level=logging.DEBUG, format='%(asctime)s %(levelname)s: %(message)s')\n",
    "logger = logging.getLogger('notebook')\n",
    "\n",
    "output_notebook()\n",
    "\n",
    "%matplotlib inline\n",
    "%config InlineBackend.figure_format='retina'"
   ],
   "outputs": [],
   "execution_count": null
  },
  {
   "metadata": {},
   "cell_type": "markdown",
   "source": "# Load data"
  },
  {
   "cell_type": "code",
   "metadata": {},
   "source": [
    "from pysrc.papers.data import AnalysisData\n",
    "\n",
    "# path_data = os.path.expanduser('~/Downloads/pubmed-human-aging.json.gz')\n",
    "path_data = os.path.expanduser('~/Downloads/pubmed-human-aging-semantic.json.gz')\n",
    "with gzip.open(path_data, 'r') as f:\n",
    "    data = AnalysisData.from_json(json.loads(f.read().decode('utf-8')))\n",
    "data\n"
   ],
   "outputs": [],
   "execution_count": null
  },
  {
   "cell_type": "markdown",
   "metadata": {},
   "source": [
    "# Analysis"
   ]
  },
  {
   "metadata": {},
   "cell_type": "code",
   "source": [
    "from pysrc.papers.analysis.graph import build_papers_graph, similarity\n",
    "\n",
    "config = PubtrendsConfig(test=False)\n",
    "\n",
    "bibliographic_graph = build_papers_graph(\n",
    "    data.df, data.cit_df, data.cocit_grouped_df, data.bibliographic_coupling_df,\n",
    ")\n",
    "logger.debug(f'Bibliographic edges/nodes={bibliographic_graph.number_of_edges() / bibliographic_graph.number_of_nodes()}')"
   ],
   "outputs": [],
   "execution_count": null
  },
  {
   "metadata": {},
   "cell_type": "code",
   "source": [
    "from pysrc.papers.analysis.text import chunks_to_text_embeddings\n",
    "\n",
    "papers_text_embeddings = chunks_to_text_embeddings(data.df, data.chunks_embeddings, data.chunks_idx)"
   ],
   "outputs": [],
   "execution_count": null
  },
  {
   "metadata": {},
   "cell_type": "code",
   "source": [
    "from pysrc.papers.analysis.node2vec import node2vec\n",
    "from pysrc.config import NODE2VEC_GRAPH_EDGES, GRAPH_TEXT_SIMILARITY_EDGES\n",
    "from pysrc.papers.analysis.graph import sparse_graph, add_text_similarities_edges\n",
    "\n",
    "\n",
    "logger.debug('Adding text similarities edges')\n",
    "add_text_similarities_edges(data.df['id'], papers_text_embeddings, bibliographic_graph, GRAPH_TEXT_SIMILARITY_EDGES)\n",
    "logger.debug(f'Bibliographic+text edges/nodes={bibliographic_graph.number_of_edges() / bibliographic_graph.number_of_nodes()}')\n",
    "\n",
    "logger.debug('Prepare sparse graph of text + bibliographic edges for node2vec')\n",
    "for i, j in bibliographic_graph.edges():\n",
    "    bibliographic_graph[i][j]['similarity'] = similarity(bibliographic_graph.get_edge_data(i, j))\n",
    "analysis_graph = sparse_graph(bibliographic_graph, NODE2VEC_GRAPH_EDGES)\n"
   ],
   "outputs": [],
   "execution_count": null
  },
  {
   "metadata": {},
   "cell_type": "code",
   "source": [
    "graph_embeddings = node2vec(\n",
    "    data.df['id'],\n",
    "    analysis_graph,\n",
    "    key='similarity'\n",
    ")"
   ],
   "outputs": [],
   "execution_count": null
  },
  {
   "metadata": {},
   "cell_type": "code",
   "source": [
    "from pysrc.papers.analysis.clustering import cluster_and_sort\n",
    "\n",
    "data.clusters, data.dendrogram = cluster_and_sort(graph_embeddings, 10)\n",
    "data.df['comp'] = data.clusters"
   ],
   "outputs": [],
   "execution_count": null
  },
  {
   "metadata": {},
   "cell_type": "code",
   "source": [
    "from sklearn.manifold import TSNE\n",
    "from sklearn.preprocessing import StandardScaler\n",
    "from sklearn.decomposition import PCA\n",
    "from pysrc.config import PCA_VARIANCE\n",
    "\n",
    "t = StandardScaler().fit_transform(graph_embeddings)\n",
    "pca = PCA(n_components=PCA_VARIANCE, svd_solver=\"full\")\n",
    "pca_coords = pca.fit_transform(t)\n",
    "logger.debug('Apply transformation')\n",
    "tsne = TSNE(n_components=2, random_state=42, metric=\"cosine\", perplexity=min(30, len(data.df) - 1))\n",
    "coords = tsne.fit_transform(pca_coords)\n",
    "data.df['x'] = coords[:, 0]\n",
    "data.df['y'] = coords[:, 1]"
   ],
   "outputs": [],
   "execution_count": null
  },
  {
   "cell_type": "code",
   "metadata": {},
   "source": [
    "from pysrc.papers.plot.plotter import Plotter\n",
    "from bokeh.io import show\n",
    "\n",
    "plotter = Plotter(config, data)"
   ],
   "outputs": [],
   "execution_count": null
  },
  {
   "metadata": {},
   "cell_type": "code",
   "source": "show(plotter.plot_papers_graph())",
   "outputs": [],
   "execution_count": null
  },
  {
   "cell_type": "code",
   "metadata": {},
   "source": [
    "show(plotter.topics_hierarchy_with_keywords())"
   ],
   "outputs": [],
   "execution_count": null
  },
  {
   "metadata": {},
   "cell_type": "code",
   "source": "show(plotter.plot_papers_by_year())",
   "outputs": [],
   "execution_count": null
  },
  {
   "metadata": {},
   "cell_type": "code",
   "source": "show(plotter.plot_top_cited_papers())",
   "outputs": [],
   "execution_count": null
  },
  {
   "metadata": {},
   "cell_type": "code",
   "source": "show(plotter.plot_most_cited_per_year_papers())",
   "outputs": [],
   "execution_count": null
  },
  {
   "metadata": {},
   "cell_type": "code",
   "source": "show(plotter.plot_fastest_growth_per_year_papers())",
   "outputs": [],
   "execution_count": null
  },
  {
   "metadata": {},
   "cell_type": "code",
   "source": [
    "from pysrc.papers.analysis.text import get_frequent_tokens\n",
    "from itertools import chain\n",
    "\n",
    "freq_kwds = get_frequent_tokens(chain(*chain(*plotter.data.corpus)))\n",
    "show(plotter.plot_keywords_frequencies(freq_kwds))"
   ],
   "outputs": [],
   "execution_count": null
  },
  {
   "metadata": {},
   "cell_type": "code",
   "source": "",
   "outputs": [],
   "execution_count": null
  }
 ],
 "metadata": {
  "kernelspec": {
   "display_name": "Python 3 (ipykernel)",
   "language": "python",
   "name": "python3"
  },
  "language_info": {
   "codemirror_mode": {
    "name": "ipython",
    "version": 3
   },
   "file_extension": ".py",
   "mimetype": "text/x-python",
   "name": "python",
   "nbconvert_exporter": "python",
   "pygments_lexer": "ipython3",
   "version": "3.10.16"
  },
  "toc": {
   "base_numbering": 1,
   "nav_menu": {},
   "number_sections": true,
   "sideBar": true,
   "skip_h1_title": false,
   "title_cell": "Table of Contents",
   "title_sidebar": "Contents",
   "toc_cell": false,
   "toc_position": {},
   "toc_section_display": true,
   "toc_window_display": false
  }
 },
 "nbformat": 4,
 "nbformat_minor": 4
}
